{
 "cells": [
  {
   "cell_type": "code",
   "execution_count": 1,
   "id": "cf352cc5-1dc4-4fff-b4c3-c08bb9a7642c",
   "metadata": {},
   "outputs": [
    {
     "name": "stdout",
     "output_type": "stream",
     "text": [
      "Collecting lxml\n",
      "  Downloading lxml-5.3.1-cp311-cp311-win_amd64.whl (3.8 MB)\n",
      "                                              0.0/3.8 MB ? eta -:--:--\n",
      "                                              0.0/3.8 MB ? eta -:--:--\n",
      "                                              0.1/3.8 MB 975.2 kB/s eta 0:00:04\n",
      "     -                                        0.1/3.8 MB 1.2 MB/s eta 0:00:04\n",
      "     ---                                      0.3/3.8 MB 2.2 MB/s eta 0:00:02\n",
      "     ----                                     0.5/3.8 MB 2.7 MB/s eta 0:00:02\n",
      "     -------                                  0.7/3.8 MB 3.4 MB/s eta 0:00:01\n",
      "     -----------                              1.1/3.8 MB 4.8 MB/s eta 0:00:01\n",
      "     ---------------                          1.5/3.8 MB 5.2 MB/s eta 0:00:01\n",
      "     -----------------                        1.7/3.8 MB 5.4 MB/s eta 0:00:01\n",
      "     -------------------------------          3.0/3.8 MB 8.8 MB/s eta 0:00:01\n",
      "     ---------------------------------------  3.8/3.8 MB 10.1 MB/s eta 0:00:01\n",
      "     ---------------------------------------- 3.8/3.8 MB 9.0 MB/s eta 0:00:00\n",
      "Installing collected packages: lxml\n",
      "Successfully installed lxml-5.3.1\n",
      "Note: you may need to restart the kernel to use updated packages.\n"
     ]
    },
    {
     "name": "stderr",
     "output_type": "stream",
     "text": [
      "\n",
      "[notice] A new release of pip is available: 23.1.2 -> 25.0.1\n",
      "[notice] To update, run: python.exe -m pip install --upgrade pip\n"
     ]
    }
   ],
   "source": [
    "pip install lxml"
   ]
  },
  {
   "cell_type": "code",
   "execution_count": 2,
   "id": "a29bb56e-a72f-4668-8772-dcda01cacb1e",
   "metadata": {},
   "outputs": [],
   "source": [
    "from lxml import etree"
   ]
  },
  {
   "cell_type": "code",
   "execution_count": 3,
   "id": "bbeb49b5-1f3f-43d6-80ba-1392cd547f6c",
   "metadata": {},
   "outputs": [],
   "source": [
    "root = etree.Element(\"emps\")"
   ]
  },
  {
   "cell_type": "code",
   "execution_count": 4,
   "id": "cc2ce45a-a451-4753-933e-a60891fe8b03",
   "metadata": {},
   "outputs": [],
   "source": [
    "emp1 =etree.Element(\"emp\")"
   ]
  },
  {
   "cell_type": "code",
   "execution_count": 5,
   "id": "f00a6ead-d26a-4d93-8bdc-10f0523745ce",
   "metadata": {},
   "outputs": [],
   "source": [
    "id1 =etree.Element(\"id\")"
   ]
  },
  {
   "cell_type": "code",
   "execution_count": 7,
   "id": "361f1196-6fc1-40d1-addc-cb5a151db609",
   "metadata": {},
   "outputs": [],
   "source": [
    "id1.text=\"1\""
   ]
  },
  {
   "cell_type": "code",
   "execution_count": 8,
   "id": "33ac4b82-eaca-432d-a0d4-d3490b09f909",
   "metadata": {},
   "outputs": [],
   "source": [
    "name1=etree.Element(\"name\")"
   ]
  },
  {
   "cell_type": "code",
   "execution_count": 9,
   "id": "2878a5bc-ca32-481b-b38f-963c3ca37e7a",
   "metadata": {},
   "outputs": [],
   "source": [
    "name1.text=\"Raj\""
   ]
  },
  {
   "cell_type": "code",
   "execution_count": 10,
   "id": "4a6e0ab6-5090-4310-b333-775afa46dd2d",
   "metadata": {},
   "outputs": [],
   "source": [
    "emp1.append(id1)\n",
    "emp1.append(name1)"
   ]
  },
  {
   "cell_type": "code",
   "execution_count": 11,
   "id": "a21ff9c4-3d8e-4941-8167-341fc8ac8820",
   "metadata": {},
   "outputs": [],
   "source": [
    "root.append(emp1)"
   ]
  },
  {
   "cell_type": "code",
   "execution_count": 16,
   "id": "4bbe2678-3c74-46c7-a2d6-6e177960a8de",
   "metadata": {},
   "outputs": [
    {
     "name": "stdout",
     "output_type": "stream",
     "text": [
      "<emps><emp><id>1</id><name>Raj</name></emp></emps>\n"
     ]
    }
   ],
   "source": [
    "print(etree.tostring(root).decode('utf-8'))"
   ]
  },
  {
   "cell_type": "code",
   "execution_count": 17,
   "id": "cc8e5210-6ef0-4eb9-b535-3a8b90bfcb43",
   "metadata": {},
   "outputs": [],
   "source": [
    "with open(\"C://training//emp.xml\", \"w\") as op:\n",
    "    op.write(etree.tostring(root).decode('utf-8'))"
   ]
  },
  {
   "cell_type": "code",
   "execution_count": null,
   "id": "483a3f4f-a064-4503-b55c-89d9dd28ab50",
   "metadata": {},
   "outputs": [],
   "source": [
    "#read and write file\n",
    "\n",
    "#open file\n",
    "#read/write\n",
    "#close"
   ]
  },
  {
   "cell_type": "code",
   "execution_count": 18,
   "id": "aabd872a-a133-4589-aa2a-4333931021eb",
   "metadata": {},
   "outputs": [],
   "source": [
    "op =open(\"C://training//1.txt\",\"w\")\n",
    "op.write(\"Hello world \\n\")\n",
    "op.write(\"Welcome\")\n",
    "op.close()"
   ]
  },
  {
   "cell_type": "code",
   "execution_count": 19,
   "id": "14d61618-63af-4acf-bfa8-e165be62d541",
   "metadata": {},
   "outputs": [
    {
     "name": "stdout",
     "output_type": "stream",
     "text": [
      "Hello world \n",
      "Welcome\n"
     ]
    }
   ],
   "source": [
    "ip = open(\"C://training//1.txt\",\"r\")\n",
    "content = ip.read()\n",
    "ip.close()\n",
    "print(content)"
   ]
  },
  {
   "cell_type": "code",
   "execution_count": 20,
   "id": "2aaf500f-e10e-4bee-9897-24a04f8f7f44",
   "metadata": {},
   "outputs": [
    {
     "name": "stdout",
     "output_type": "stream",
     "text": [
      "Hello world \n",
      "\n",
      "Welcome\n"
     ]
    }
   ],
   "source": [
    "ip = open(\"C://training//1.txt\",\"r\")\n",
    "for line in ip:\n",
    "    print(line)\n",
    "ip.close()"
   ]
  },
  {
   "cell_type": "code",
   "execution_count": 21,
   "id": "5216e213-4841-495f-ae5c-525cf7b23048",
   "metadata": {},
   "outputs": [
    {
     "name": "stdout",
     "output_type": "stream",
     "text": [
      "Hello world \n",
      "\n",
      "Welcome\n"
     ]
    }
   ],
   "source": [
    "with open(\"C://training//1.txt\",\"r\") as ip:\n",
    "    for line in ip:\n",
    "        print(line)"
   ]
  },
  {
   "cell_type": "code",
   "execution_count": 25,
   "id": "6db9e45c-8c9d-4fca-9510-b03bee1a6afd",
   "metadata": {},
   "outputs": [
    {
     "name": "stdout",
     "output_type": "stream",
     "text": [
      "1\n",
      "Raj\n"
     ]
    }
   ],
   "source": [
    "with open(\"C://training/emp.xml\",'r') as ip:\n",
    "    xml= etree.parse(ip)\n",
    "    root= xml.getroot()\n",
    "    print(root.find(\"emp/id\").text)#Xpath\n",
    "    print(root.find(\"emp/name\").text)"
   ]
  },
  {
   "cell_type": "code",
   "execution_count": 28,
   "id": "15ddeac6-9cf6-450b-a2b7-2f6c8c73e01a",
   "metadata": {},
   "outputs": [],
   "source": [
    "sample = \"\"\" <emps>\n",
    "                <emp>\n",
    "                 <id>1</id>\n",
    "                 <name>Rj</name>\n",
    "                 </emp>\n",
    "                <emp>\n",
    "                 <id>2</id>\n",
    "                 <name>John</name>\n",
    "                 </emp>\n",
    "                 </emps>\n",
    "                 \"\"\"\n",
    "                 "
   ]
  },
  {
   "cell_type": "code",
   "execution_count": 30,
   "id": "c4c7fa0f-85b9-436c-977e-74d9422160eb",
   "metadata": {},
   "outputs": [],
   "source": [
    "xml = etree.fromstring(sample)"
   ]
  },
  {
   "cell_type": "code",
   "execution_count": 32,
   "id": "3f288407-19a2-4604-b7a4-c43f9144a27e",
   "metadata": {},
   "outputs": [
    {
     "name": "stdout",
     "output_type": "stream",
     "text": [
      "1 Rj\n",
      "2 John\n"
     ]
    }
   ],
   "source": [
    "for emp in xml.findall(\"emp\"):\n",
    "    print(emp.find(\"id\").text,emp.find(\"name\").text)"
   ]
  },
  {
   "cell_type": "code",
   "execution_count": 44,
   "id": "8a46d414-4068-4a4b-bfc9-86f3c3e63959",
   "metadata": {},
   "outputs": [
    {
     "data": {
      "text/plain": [
       "'Rj'"
      ]
     },
     "execution_count": 44,
     "metadata": {},
     "output_type": "execute_result"
    }
   ],
   "source": [
    "xml.findall(\"emp[id ='1']/name\")[0].text"
   ]
  },
  {
   "cell_type": "code",
   "execution_count": 46,
   "id": "16577af8-a3f2-4fb0-b8bf-2c76cd0f3348",
   "metadata": {},
   "outputs": [
    {
     "data": {
      "text/plain": [
       "'1'"
      ]
     },
     "execution_count": 46,
     "metadata": {},
     "output_type": "execute_result"
    }
   ],
   "source": [
    "xml.xpath(\"//*[text() = '1']\")[0].text\n"
   ]
  },
  {
   "cell_type": "code",
   "execution_count": 52,
   "id": "8386a124-3af4-4cef-8ee7-3a4fd6bf2b0d",
   "metadata": {
    "scrolled": true
   },
   "outputs": [
    {
     "data": {
      "text/plain": [
       "'Rj'"
      ]
     },
     "execution_count": 52,
     "metadata": {},
     "output_type": "execute_result"
    }
   ],
   "source": [
    "xml.xpath(\"/emps/emp[id ='1']/name\")[0].text"
   ]
  },
  {
   "cell_type": "code",
   "execution_count": 64,
   "id": "b9397d7d-d91c-47a8-b398-048c91984967",
   "metadata": {},
   "outputs": [],
   "source": [
    "with open(\"C://training/cd_catalog.xml\",\"r\") as xml:\n",
    "    with open(\"C://training//cdcatalog.xsl\",\"r\") as xslt:\n",
    "        xmlData= etree.parse(xml)\n",
    "        transform = etree.XSLT(etree.parse(xslt))\n",
    "        res = transform(xmlData)\n",
    "        with open(\"C://training//sample.html\",\"w\") as op:\n",
    "            op.write(etree.tostring(res).decode(\"utf-8\"))\n"
   ]
  },
  {
   "cell_type": "code",
   "execution_count": 70,
   "id": "4fe1ca07-689b-4f7c-ade5-207048062865",
   "metadata": {},
   "outputs": [
    {
     "ename": "SyntaxError",
     "evalue": "invalid syntax (952110411.py, line 1)",
     "output_type": "error",
     "traceback": [
      "  \u001b[36mCell\u001b[39m\u001b[36m \u001b[39m\u001b[32mIn[70]\u001b[39m\u001b[32m, line 1\u001b[39m\n\u001b[31m    \u001b[39m\u001b[31mpip install fsspec\u001b[39m\n        ^\n\u001b[31mSyntaxError\u001b[39m\u001b[31m:\u001b[39m invalid syntax\n"
     ]
    }
   ],
   "source": [
    "\n",
    "#pip install pandas"
   ]
  },
  {
   "cell_type": "code",
   "execution_count": 71,
   "id": "c04f3a5f-6d2e-41d2-be71-2ead0743e5ed",
   "metadata": {},
   "outputs": [
    {
     "name": "stdout",
     "output_type": "stream",
     "text": [
      "Collecting fsspec\n",
      "  Downloading fsspec-2025.2.0-py3-none-any.whl (184 kB)\n",
      "                                              0.0/184.5 kB ? eta -:--:--\n",
      "     ------                                  30.7/184.5 kB 1.4 MB/s eta 0:00:01\n",
      "     -------------------                     92.2/184.5 kB 1.1 MB/s eta 0:00:01\n",
      "     -------------------------------        153.6/184.5 kB 1.3 MB/s eta 0:00:01\n",
      "     -------------------------------------- 184.5/184.5 kB 1.4 MB/s eta 0:00:00\n",
      "Installing collected packages: fsspec\n",
      "Successfully installed fsspec-2025.2.0\n",
      "Note: you may need to restart the kernel to use updated packages.\n"
     ]
    },
    {
     "name": "stderr",
     "output_type": "stream",
     "text": [
      "\n",
      "[notice] A new release of pip is available: 23.1.2 -> 25.0.1\n",
      "[notice] To update, run: python.exe -m pip install --upgrade pip\n"
     ]
    }
   ],
   "source": [
    "pip install fsspec"
   ]
  },
  {
   "cell_type": "code",
   "execution_count": 67,
   "id": "7161634a-b8d9-459b-98b9-9b4e7caf3a22",
   "metadata": {},
   "outputs": [],
   "source": [
    "import pandas as pd"
   ]
  },
  {
   "cell_type": "code",
   "execution_count": 72,
   "id": "e042a93a-5e33-4e4f-8db8-57a2783cd0bb",
   "metadata": {},
   "outputs": [],
   "source": [
    "xmlData = pd.read_xml(\"C://training/cd_catalog.xml\")"
   ]
  },
  {
   "cell_type": "code",
   "execution_count": 73,
   "id": "33f55e27-5f84-4602-877b-f8ae4d8fa104",
   "metadata": {
    "scrolled": true
   },
   "outputs": [
    {
     "data": {
      "text/html": [
       "<div>\n",
       "<style scoped>\n",
       "    .dataframe tbody tr th:only-of-type {\n",
       "        vertical-align: middle;\n",
       "    }\n",
       "\n",
       "    .dataframe tbody tr th {\n",
       "        vertical-align: top;\n",
       "    }\n",
       "\n",
       "    .dataframe thead th {\n",
       "        text-align: right;\n",
       "    }\n",
       "</style>\n",
       "<table border=\"1\" class=\"dataframe\">\n",
       "  <thead>\n",
       "    <tr style=\"text-align: right;\">\n",
       "      <th></th>\n",
       "      <th>TITLE</th>\n",
       "      <th>ARTIST</th>\n",
       "      <th>COUNTRY</th>\n",
       "      <th>COMPANY</th>\n",
       "      <th>PRICE</th>\n",
       "      <th>YEAR</th>\n",
       "    </tr>\n",
       "  </thead>\n",
       "  <tbody>\n",
       "    <tr>\n",
       "      <th>0</th>\n",
       "      <td>Empire Burlesque</td>\n",
       "      <td>Bob Dylan</td>\n",
       "      <td>USA</td>\n",
       "      <td>Columbia</td>\n",
       "      <td>10.9</td>\n",
       "      <td>1985</td>\n",
       "    </tr>\n",
       "    <tr>\n",
       "      <th>1</th>\n",
       "      <td>Hide your heart</td>\n",
       "      <td>Bonnie Tyler</td>\n",
       "      <td>UK</td>\n",
       "      <td>CBS Records</td>\n",
       "      <td>9.9</td>\n",
       "      <td>1988</td>\n",
       "    </tr>\n",
       "    <tr>\n",
       "      <th>2</th>\n",
       "      <td>Greatest Hits</td>\n",
       "      <td>Dolly Parton</td>\n",
       "      <td>USA</td>\n",
       "      <td>RCA</td>\n",
       "      <td>9.9</td>\n",
       "      <td>1982</td>\n",
       "    </tr>\n",
       "    <tr>\n",
       "      <th>3</th>\n",
       "      <td>Still got the blues</td>\n",
       "      <td>Gary Moore</td>\n",
       "      <td>UK</td>\n",
       "      <td>Virgin records</td>\n",
       "      <td>10.2</td>\n",
       "      <td>1990</td>\n",
       "    </tr>\n",
       "    <tr>\n",
       "      <th>4</th>\n",
       "      <td>Eros</td>\n",
       "      <td>Eros Ramazzotti</td>\n",
       "      <td>EU</td>\n",
       "      <td>BMG</td>\n",
       "      <td>9.9</td>\n",
       "      <td>1997</td>\n",
       "    </tr>\n",
       "    <tr>\n",
       "      <th>5</th>\n",
       "      <td>One night only</td>\n",
       "      <td>Bee Gees</td>\n",
       "      <td>UK</td>\n",
       "      <td>Polydor</td>\n",
       "      <td>10.9</td>\n",
       "      <td>1998</td>\n",
       "    </tr>\n",
       "    <tr>\n",
       "      <th>6</th>\n",
       "      <td>Sylvias Mother</td>\n",
       "      <td>Dr.Hook</td>\n",
       "      <td>UK</td>\n",
       "      <td>CBS</td>\n",
       "      <td>8.1</td>\n",
       "      <td>1973</td>\n",
       "    </tr>\n",
       "    <tr>\n",
       "      <th>7</th>\n",
       "      <td>Maggie May</td>\n",
       "      <td>Rod Stewart</td>\n",
       "      <td>UK</td>\n",
       "      <td>Pickwick</td>\n",
       "      <td>8.5</td>\n",
       "      <td>1990</td>\n",
       "    </tr>\n",
       "    <tr>\n",
       "      <th>8</th>\n",
       "      <td>Romanza</td>\n",
       "      <td>Andrea Bocelli</td>\n",
       "      <td>EU</td>\n",
       "      <td>Polydor</td>\n",
       "      <td>10.8</td>\n",
       "      <td>1996</td>\n",
       "    </tr>\n",
       "    <tr>\n",
       "      <th>9</th>\n",
       "      <td>When a man loves a woman</td>\n",
       "      <td>Percy Sledge</td>\n",
       "      <td>USA</td>\n",
       "      <td>Atlantic</td>\n",
       "      <td>8.7</td>\n",
       "      <td>1987</td>\n",
       "    </tr>\n",
       "    <tr>\n",
       "      <th>10</th>\n",
       "      <td>Black angel</td>\n",
       "      <td>Savage Rose</td>\n",
       "      <td>EU</td>\n",
       "      <td>Mega</td>\n",
       "      <td>10.9</td>\n",
       "      <td>1995</td>\n",
       "    </tr>\n",
       "    <tr>\n",
       "      <th>11</th>\n",
       "      <td>1999 Grammy Nominees</td>\n",
       "      <td>Many</td>\n",
       "      <td>USA</td>\n",
       "      <td>Grammy</td>\n",
       "      <td>10.2</td>\n",
       "      <td>1999</td>\n",
       "    </tr>\n",
       "    <tr>\n",
       "      <th>12</th>\n",
       "      <td>For the good times</td>\n",
       "      <td>Kenny Rogers</td>\n",
       "      <td>UK</td>\n",
       "      <td>Mucik Master</td>\n",
       "      <td>8.7</td>\n",
       "      <td>1995</td>\n",
       "    </tr>\n",
       "    <tr>\n",
       "      <th>13</th>\n",
       "      <td>Big Willie style</td>\n",
       "      <td>Will Smith</td>\n",
       "      <td>USA</td>\n",
       "      <td>Columbia</td>\n",
       "      <td>9.9</td>\n",
       "      <td>1997</td>\n",
       "    </tr>\n",
       "    <tr>\n",
       "      <th>14</th>\n",
       "      <td>Tupelo Honey</td>\n",
       "      <td>Van Morrison</td>\n",
       "      <td>UK</td>\n",
       "      <td>Polydor</td>\n",
       "      <td>8.2</td>\n",
       "      <td>1971</td>\n",
       "    </tr>\n",
       "    <tr>\n",
       "      <th>15</th>\n",
       "      <td>Soulsville</td>\n",
       "      <td>Jorn Hoel</td>\n",
       "      <td>Norway</td>\n",
       "      <td>WEA</td>\n",
       "      <td>7.9</td>\n",
       "      <td>1996</td>\n",
       "    </tr>\n",
       "    <tr>\n",
       "      <th>16</th>\n",
       "      <td>The very best of</td>\n",
       "      <td>Cat Stevens</td>\n",
       "      <td>UK</td>\n",
       "      <td>Island</td>\n",
       "      <td>8.9</td>\n",
       "      <td>1990</td>\n",
       "    </tr>\n",
       "    <tr>\n",
       "      <th>17</th>\n",
       "      <td>Stop</td>\n",
       "      <td>Sam Brown</td>\n",
       "      <td>UK</td>\n",
       "      <td>A and M</td>\n",
       "      <td>8.9</td>\n",
       "      <td>1988</td>\n",
       "    </tr>\n",
       "    <tr>\n",
       "      <th>18</th>\n",
       "      <td>Bridge of Spies</td>\n",
       "      <td>T'Pau</td>\n",
       "      <td>UK</td>\n",
       "      <td>Siren</td>\n",
       "      <td>7.9</td>\n",
       "      <td>1987</td>\n",
       "    </tr>\n",
       "    <tr>\n",
       "      <th>19</th>\n",
       "      <td>Private Dancer</td>\n",
       "      <td>Tina Turner</td>\n",
       "      <td>UK</td>\n",
       "      <td>Capitol</td>\n",
       "      <td>8.9</td>\n",
       "      <td>1983</td>\n",
       "    </tr>\n",
       "    <tr>\n",
       "      <th>20</th>\n",
       "      <td>Midt om natten</td>\n",
       "      <td>Kim Larsen</td>\n",
       "      <td>EU</td>\n",
       "      <td>Medley</td>\n",
       "      <td>7.8</td>\n",
       "      <td>1983</td>\n",
       "    </tr>\n",
       "    <tr>\n",
       "      <th>21</th>\n",
       "      <td>Pavarotti Gala Concert</td>\n",
       "      <td>Luciano Pavarotti</td>\n",
       "      <td>UK</td>\n",
       "      <td>DECCA</td>\n",
       "      <td>9.9</td>\n",
       "      <td>1991</td>\n",
       "    </tr>\n",
       "    <tr>\n",
       "      <th>22</th>\n",
       "      <td>The dock of the bay</td>\n",
       "      <td>Otis Redding</td>\n",
       "      <td>USA</td>\n",
       "      <td>Stax Records</td>\n",
       "      <td>7.9</td>\n",
       "      <td>1968</td>\n",
       "    </tr>\n",
       "    <tr>\n",
       "      <th>23</th>\n",
       "      <td>Picture book</td>\n",
       "      <td>Simply Red</td>\n",
       "      <td>EU</td>\n",
       "      <td>Elektra</td>\n",
       "      <td>7.2</td>\n",
       "      <td>1985</td>\n",
       "    </tr>\n",
       "    <tr>\n",
       "      <th>24</th>\n",
       "      <td>Red</td>\n",
       "      <td>The Communards</td>\n",
       "      <td>UK</td>\n",
       "      <td>London</td>\n",
       "      <td>7.8</td>\n",
       "      <td>1987</td>\n",
       "    </tr>\n",
       "    <tr>\n",
       "      <th>25</th>\n",
       "      <td>Unchain my heart</td>\n",
       "      <td>Joe Cocker</td>\n",
       "      <td>USA</td>\n",
       "      <td>EMI</td>\n",
       "      <td>8.2</td>\n",
       "      <td>1987</td>\n",
       "    </tr>\n",
       "  </tbody>\n",
       "</table>\n",
       "</div>"
      ],
      "text/plain": [
       "                       TITLE             ARTIST COUNTRY         COMPANY  \\\n",
       "0           Empire Burlesque          Bob Dylan     USA        Columbia   \n",
       "1            Hide your heart       Bonnie Tyler      UK     CBS Records   \n",
       "2              Greatest Hits       Dolly Parton     USA             RCA   \n",
       "3        Still got the blues         Gary Moore      UK  Virgin records   \n",
       "4                       Eros    Eros Ramazzotti      EU             BMG   \n",
       "5             One night only           Bee Gees      UK         Polydor   \n",
       "6             Sylvias Mother            Dr.Hook      UK             CBS   \n",
       "7                 Maggie May        Rod Stewart      UK        Pickwick   \n",
       "8                    Romanza     Andrea Bocelli      EU         Polydor   \n",
       "9   When a man loves a woman       Percy Sledge     USA        Atlantic   \n",
       "10               Black angel        Savage Rose      EU            Mega   \n",
       "11      1999 Grammy Nominees               Many     USA          Grammy   \n",
       "12        For the good times       Kenny Rogers      UK    Mucik Master   \n",
       "13          Big Willie style         Will Smith     USA        Columbia   \n",
       "14              Tupelo Honey       Van Morrison      UK         Polydor   \n",
       "15                Soulsville          Jorn Hoel  Norway             WEA   \n",
       "16          The very best of        Cat Stevens      UK          Island   \n",
       "17                      Stop          Sam Brown      UK         A and M   \n",
       "18           Bridge of Spies              T'Pau      UK           Siren   \n",
       "19            Private Dancer        Tina Turner      UK         Capitol   \n",
       "20            Midt om natten         Kim Larsen      EU          Medley   \n",
       "21    Pavarotti Gala Concert  Luciano Pavarotti      UK           DECCA   \n",
       "22       The dock of the bay       Otis Redding     USA    Stax Records   \n",
       "23              Picture book         Simply Red      EU         Elektra   \n",
       "24                       Red     The Communards      UK          London   \n",
       "25          Unchain my heart         Joe Cocker     USA             EMI   \n",
       "\n",
       "    PRICE  YEAR  \n",
       "0    10.9  1985  \n",
       "1     9.9  1988  \n",
       "2     9.9  1982  \n",
       "3    10.2  1990  \n",
       "4     9.9  1997  \n",
       "5    10.9  1998  \n",
       "6     8.1  1973  \n",
       "7     8.5  1990  \n",
       "8    10.8  1996  \n",
       "9     8.7  1987  \n",
       "10   10.9  1995  \n",
       "11   10.2  1999  \n",
       "12    8.7  1995  \n",
       "13    9.9  1997  \n",
       "14    8.2  1971  \n",
       "15    7.9  1996  \n",
       "16    8.9  1990  \n",
       "17    8.9  1988  \n",
       "18    7.9  1987  \n",
       "19    8.9  1983  \n",
       "20    7.8  1983  \n",
       "21    9.9  1991  \n",
       "22    7.9  1968  \n",
       "23    7.2  1985  \n",
       "24    7.8  1987  \n",
       "25    8.2  1987  "
      ]
     },
     "execution_count": 73,
     "metadata": {},
     "output_type": "execute_result"
    }
   ],
   "source": [
    "xmlData"
   ]
  },
  {
   "cell_type": "code",
   "execution_count": 74,
   "id": "a2bdde07-51a4-49d7-ad0f-378c3142d0dc",
   "metadata": {},
   "outputs": [
    {
     "name": "stdout",
     "output_type": "stream",
     "text": [
      "Help on XSLT object:\n",
      "\n",
      "class XSLT(builtins.object)\n",
      " |  XSLT(self, xslt_input, extensions=None, regexp=True, access_control=None)\n",
      " |  \n",
      " |  Turn an XSL document into an XSLT object.\n",
      " |  \n",
      " |  Calling this object on a tree or Element will execute the XSLT::\n",
      " |  \n",
      " |      transform = etree.XSLT(xsl_tree)\n",
      " |      result = transform(xml_tree)\n",
      " |  \n",
      " |  Keyword arguments of the constructor:\n",
      " |  \n",
      " |  - extensions: a dict mapping ``(namespace, name)`` pairs to\n",
      " |    extension functions or extension elements\n",
      " |  - regexp: enable exslt regular expression support in XPath\n",
      " |    (default: True)\n",
      " |  - access_control: access restrictions for network or file\n",
      " |    system (see `XSLTAccessControl`)\n",
      " |  \n",
      " |  Keyword arguments of the XSLT call:\n",
      " |  \n",
      " |  - profile_run: enable XSLT profiling and make the profile available\n",
      " |    as XML document in ``result.xslt_profile`` (default: False)\n",
      " |  \n",
      " |  Other keyword arguments of the call are passed to the stylesheet\n",
      " |  as parameters.\n",
      " |  \n",
      " |  Methods defined here:\n",
      " |  \n",
      " |  __call__(...)\n",
      " |      __call__(self, _input, profile_run=False, **kw)\n",
      " |      \n",
      " |      Execute the XSL transformation on a tree or Element.\n",
      " |      \n",
      " |      Pass the ``profile_run`` option to get profile information\n",
      " |      about the XSLT.  The result of the XSLT will have a property\n",
      " |      xslt_profile that holds an XML tree with profiling data.\n",
      " |  \n",
      " |  __copy__(self)\n",
      " |  \n",
      " |  __deepcopy__(self, memo)\n",
      " |  \n",
      " |  __init__(self, /, *args, **kwargs)\n",
      " |      Initialize self.  See help(type(self)) for accurate signature.\n",
      " |  \n",
      " |  tostring(self, result_tree)\n",
      " |      tostring(self, result_tree)\n",
      " |      \n",
      " |      Save result doc to string based on stylesheet output method.\n",
      " |      \n",
      " |      :deprecated: use str(result_tree) instead.\n",
      " |  \n",
      " |  ----------------------------------------------------------------------\n",
      " |  Static methods defined here:\n",
      " |  \n",
      " |  __new__(*args, **kwargs) from builtins.type\n",
      " |      Create and return a new object.  See help(type) for accurate signature.\n",
      " |  \n",
      " |  set_global_max_depth(max_depth)\n",
      " |      set_global_max_depth(max_depth)\n",
      " |      \n",
      " |      The maximum traversal depth that the stylesheet engine will allow.\n",
      " |      This does not only count the template recursion depth but also takes\n",
      " |      the number of variables/parameters into account.  The required setting\n",
      " |      for a run depends on both the stylesheet and the input data.\n",
      " |      \n",
      " |      Example::\n",
      " |      \n",
      " |          XSLT.set_global_max_depth(5000)\n",
      " |      \n",
      " |      Note that this is currently a global, module-wide setting because\n",
      " |      libxslt does not support it at a per-stylesheet level.\n",
      " |  \n",
      " |  strparam(strval)\n",
      " |      strparam(strval)\n",
      " |      \n",
      " |      Mark an XSLT string parameter that requires quote escaping\n",
      " |      before passing it into the transformation.  Use it like this::\n",
      " |      \n",
      " |          result = transform(doc, some_strval = XSLT.strparam(\n",
      " |              '''it's \"Monty Python's\" ...'''))\n",
      " |      \n",
      " |      Escaped string parameters can be reused without restriction.\n",
      " |  \n",
      " |  ----------------------------------------------------------------------\n",
      " |  Data descriptors defined here:\n",
      " |  \n",
      " |  error_log\n",
      " |      The log of errors and warnings of an XSLT execution.\n",
      " |  \n",
      " |  ----------------------------------------------------------------------\n",
      " |  Data and other attributes defined here:\n",
      " |  \n",
      " |  __pyx_vtable__ = <capsule object NULL>\n",
      "\n"
     ]
    }
   ],
   "source": [
    "help(transform)"
   ]
  },
  {
   "cell_type": "code",
   "execution_count": null,
   "id": "f94e0845-b049-4691-9899-39df09ed4e2d",
   "metadata": {},
   "outputs": [],
   "source": [
    "#Python OOP "
   ]
  },
  {
   "cell_type": "code",
   "execution_count": 75,
   "id": "397a8baa-6b08-4f6f-9ab7-27634dd59f49",
   "metadata": {},
   "outputs": [
    {
     "name": "stdout",
     "output_type": "stream",
     "text": [
      "<class 'int'>\n"
     ]
    }
   ],
   "source": [
    "print(type(1))"
   ]
  },
  {
   "cell_type": "code",
   "execution_count": 77,
   "id": "65529c1f-8109-4a02-9624-b7480f2e3453",
   "metadata": {},
   "outputs": [],
   "source": [
    "class Emp:\n",
    "    #Constructor ---> __init__\n",
    "    def __init__(self,empId,empName):\n",
    "        self.empId =empId\n",
    "        self.empName = empName\n",
    "\n",
    "    def display(self):\n",
    "        print(\"Emp ID\",self.empId,\" Emp Name\",self.empName)"
   ]
  },
  {
   "cell_type": "code",
   "execution_count": 78,
   "id": "c276f3a9-03dc-403a-b071-48a24bc72b59",
   "metadata": {},
   "outputs": [],
   "source": [
    "e1 = Emp(1,\"John\")"
   ]
  },
  {
   "cell_type": "code",
   "execution_count": 79,
   "id": "196fd393-9815-4501-9eaf-03c96f6b741b",
   "metadata": {},
   "outputs": [
    {
     "data": {
      "text/plain": [
       "1"
      ]
     },
     "execution_count": 79,
     "metadata": {},
     "output_type": "execute_result"
    }
   ],
   "source": [
    "e1.empId"
   ]
  },
  {
   "cell_type": "code",
   "execution_count": 80,
   "id": "a178b619-c1c6-4a98-8743-e77c43e005af",
   "metadata": {},
   "outputs": [
    {
     "data": {
      "text/plain": [
       "'John'"
      ]
     },
     "execution_count": 80,
     "metadata": {},
     "output_type": "execute_result"
    }
   ],
   "source": [
    "e1.empName"
   ]
  },
  {
   "cell_type": "code",
   "execution_count": 81,
   "id": "9689e40d-a481-48dd-9c9c-f65ff3a7c848",
   "metadata": {},
   "outputs": [
    {
     "name": "stdout",
     "output_type": "stream",
     "text": [
      "Emp ID 1  Emp Name John\n"
     ]
    }
   ],
   "source": [
    "e1.display()"
   ]
  },
  {
   "cell_type": "code",
   "execution_count": 83,
   "id": "e50ec696-d2b1-4573-9345-147c4655d4a7",
   "metadata": {},
   "outputs": [],
   "source": [
    "class Calculator:\n",
    "\n",
    "    def __init__(self,n1,n2):\n",
    "        self.n1=n1\n",
    "        self.n2=n2\n",
    "        self.res =0\n",
    "\n",
    "    def add(self):\n",
    "        self.res = self.n1+self.n2\n",
    "    def sub(self):\n",
    "        self.res = self.n1-self.n2\n",
    "    def mul(self):\n",
    "        self.res =self.n1*self.n2"
   ]
  },
  {
   "cell_type": "code",
   "execution_count": 84,
   "id": "72585970-b5c8-4b50-8076-827f6db8d7a1",
   "metadata": {},
   "outputs": [],
   "source": [
    "c1 = Calculator(30,10)"
   ]
  },
  {
   "cell_type": "code",
   "execution_count": 85,
   "id": "1078b41f-7cd7-4946-b058-f51386fb62f1",
   "metadata": {},
   "outputs": [
    {
     "name": "stdout",
     "output_type": "stream",
     "text": [
      "40\n"
     ]
    }
   ],
   "source": [
    "c1.add()\n",
    "print(c1.res)"
   ]
  },
  {
   "cell_type": "code",
   "execution_count": 86,
   "id": "625302de-e045-4bed-ae06-a4188d1faf38",
   "metadata": {},
   "outputs": [],
   "source": [
    "class A:\n",
    "    def __init__(self,n1=20,n2=10):\n",
    "        self.n1=n1\n",
    "        self.n2=n2\n",
    "\n",
    "    def display(self):\n",
    "        print('n1',self.n1,'n2',self.n2)"
   ]
  },
  {
   "cell_type": "code",
   "execution_count": 87,
   "id": "13497937-9f07-47f7-a7fa-578e791e1708",
   "metadata": {},
   "outputs": [
    {
     "name": "stdout",
     "output_type": "stream",
     "text": [
      "n1 30 n2 40\n"
     ]
    }
   ],
   "source": [
    "a1 = A(30,40)\n",
    "a1.display()"
   ]
  },
  {
   "cell_type": "code",
   "execution_count": 88,
   "id": "cbb7cae3-329a-47c7-9d04-24bfb45974e8",
   "metadata": {},
   "outputs": [
    {
     "name": "stdout",
     "output_type": "stream",
     "text": [
      "n1 30 n2 10\n"
     ]
    }
   ],
   "source": [
    "a2 = A(30)\n",
    "a2.display()"
   ]
  },
  {
   "cell_type": "code",
   "execution_count": 89,
   "id": "58a13770-ed7d-4a07-a6a1-a3c49d289298",
   "metadata": {},
   "outputs": [
    {
     "name": "stdout",
     "output_type": "stream",
     "text": [
      "n1 20 n2 10\n"
     ]
    }
   ],
   "source": [
    "a3 = A()\n",
    "a3.display()"
   ]
  },
  {
   "cell_type": "code",
   "execution_count": 90,
   "id": "cedee4d5-12bc-47b7-92eb-9feaab5c2738",
   "metadata": {},
   "outputs": [],
   "source": [
    "class B:\n",
    "    def __init__(self,n1,n2):\n",
    "        self.n1=n1\n",
    "        self.n2=n2\n",
    "\n",
    "    def __str__(self):\n",
    "        return \"n1={} n2 = {}\".format(self.n1,self.n2)"
   ]
  },
  {
   "cell_type": "code",
   "execution_count": 91,
   "id": "ecbc3e64-5846-4f2f-acff-e600b0af5da1",
   "metadata": {},
   "outputs": [
    {
     "name": "stdout",
     "output_type": "stream",
     "text": [
      "n1=20 n2 = 30\n"
     ]
    }
   ],
   "source": [
    "b1 = B(20,30)\n",
    "print(b1)\n"
   ]
  },
  {
   "cell_type": "code",
   "execution_count": 92,
   "id": "4f5191d1-7284-46cf-8e7a-ccaed660c78e",
   "metadata": {},
   "outputs": [],
   "source": [
    "#Inheritance\n",
    "\n",
    "class Parent1:\n",
    "    def __init__(self,n1):\n",
    "        self.n1=n1\n",
    "    def display(self):\n",
    "        print(\"n1 from parent\",self.n1)"
   ]
  },
  {
   "cell_type": "code",
   "execution_count": 94,
   "id": "5551a0b8-d99b-42bb-9ec1-75951c0481ab",
   "metadata": {},
   "outputs": [],
   "source": [
    "class Child1(Parent1):\n",
    "    def __init__(self,n1,n2):\n",
    "        Parent1.__init__(self,n1)\n",
    "        self.n2=n2\n",
    "\n",
    "    def display(self):\n",
    "        print(\"n1 is \",self.n1)\n",
    "        print(\"n2 is \",self.n2)      "
   ]
  },
  {
   "cell_type": "code",
   "execution_count": 95,
   "id": "aa3ac36d-48ab-4b7c-92ac-30e4635a8d7d",
   "metadata": {},
   "outputs": [
    {
     "name": "stdout",
     "output_type": "stream",
     "text": [
      "n1 is  99\n",
      "n2 is  88\n"
     ]
    }
   ],
   "source": [
    "c1 = Child1(99,88)\n",
    "c1.display()"
   ]
  },
  {
   "cell_type": "code",
   "execution_count": 96,
   "id": "39458047-0e91-43a1-8fc7-42a122a75d4e",
   "metadata": {},
   "outputs": [],
   "source": [
    "class Parent2:\n",
    "    def __init__(self,n1):\n",
    "        self.n1=n1\n",
    "    def display(self):\n",
    "        print('n1',self.n1)\n",
    "class Child2(Parent2):\n",
    "    def __init__(self,n1,n2):\n",
    "        Parent2.__init__(self,n1)\n",
    "        self.n2=n2\n",
    "    def display(self):\n",
    "        print('n1',self.n1,'n2',self.n2)\n",
    "class GrandChild(Child2):\n",
    "    def __init__(self,n1,n2,n3):\n",
    "        Child2.__init__(self,n1,n2)\n",
    "        self.n3=n3\n",
    "     def display(self):\n",
    "        print('n1',self.n1,'n2',self.n2,'n3',self.n3)\n"
   ]
  },
  {
   "cell_type": "code",
   "execution_count": 97,
   "id": "474b6fd0-c32d-4bcc-884a-45b0f93ae559",
   "metadata": {},
   "outputs": [
    {
     "name": "stdout",
     "output_type": "stream",
     "text": [
      "n1 22 n2 33 n3 44\n"
     ]
    }
   ],
   "source": [
    "gc=GrandChild(22,33,44)\n",
    "gc.display()"
   ]
  },
  {
   "cell_type": "code",
   "execution_count": null,
   "id": "0eb68c73-82e1-4c21-8cbd-0ce6dd1d31fd",
   "metadata": {},
   "outputs": [],
   "source": []
  }
 ],
 "metadata": {
  "kernelspec": {
   "display_name": "Python 3 (ipykernel)",
   "language": "python",
   "name": "python3"
  },
  "language_info": {
   "codemirror_mode": {
    "name": "ipython",
    "version": 3
   },
   "file_extension": ".py",
   "mimetype": "text/x-python",
   "name": "python",
   "nbconvert_exporter": "python",
   "pygments_lexer": "ipython3",
   "version": "3.11.4"
  }
 },
 "nbformat": 4,
 "nbformat_minor": 5
}
