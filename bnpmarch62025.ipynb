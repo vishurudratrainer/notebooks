{
 "cells": [
  {
   "cell_type": "code",
   "execution_count": 1,
   "id": "ceb35fdd-8799-4d91-836f-793cdbad9c61",
   "metadata": {},
   "outputs": [],
   "source": [
    "class Student:\n",
    "    def __init__(self,rollNo,name):\n",
    "        self.rollNo = rollNo\n",
    "        self.name=name\n",
    "\n",
    "    def display(self):\n",
    "        print(\"Roll No is\",self.rollNo,\"Name is\",self.name)\n",
    "\n",
    "    def getName(self):\n",
    "        return self.name"
   ]
  },
  {
   "cell_type": "code",
   "execution_count": 2,
   "id": "17c120b4-6f88-42e1-9820-863713e48739",
   "metadata": {},
   "outputs": [],
   "source": [
    "s1 = Student(1,\"Rachael\")"
   ]
  },
  {
   "cell_type": "code",
   "execution_count": 3,
   "id": "4abfe6f0-1cbc-4e20-b863-35548618119b",
   "metadata": {},
   "outputs": [
    {
     "name": "stdout",
     "output_type": "stream",
     "text": [
      "Roll No is 1 Name is Rachael\n"
     ]
    }
   ],
   "source": [
    "s1.display()"
   ]
  },
  {
   "cell_type": "code",
   "execution_count": 4,
   "id": "4ac3697f-e526-41b8-9fd9-f3c7197756d8",
   "metadata": {},
   "outputs": [
    {
     "data": {
      "text/plain": [
       "'Rachael'"
      ]
     },
     "execution_count": 4,
     "metadata": {},
     "output_type": "execute_result"
    }
   ],
   "source": [
    "s1.getName()"
   ]
  },
  {
   "cell_type": "code",
   "execution_count": null,
   "id": "1b48597c-a203-4e1e-9187-dbeda724c533",
   "metadata": {},
   "outputs": [],
   "source": [
    "#Inheritance OOP--properties/functions"
   ]
  },
  {
   "cell_type": "code",
   "execution_count": 5,
   "id": "9048876a-6a7e-4ce8-8ba6-30a617a4e992",
   "metadata": {},
   "outputs": [],
   "source": [
    "class Parent1:\n",
    "    def __init__(self,p1):\n",
    "        self.p1 =p1\n",
    "    def display(self):\n",
    "        print(\"Value of p1 is\",self.p1)"
   ]
  },
  {
   "cell_type": "code",
   "execution_count": 7,
   "id": "78596a53-0d55-4e22-b81f-35e477354b50",
   "metadata": {},
   "outputs": [],
   "source": [
    "class Child1(Parent1):\n",
    "    def __init__(self,p1,p2):\n",
    "        Parent1.__init__(self,p1) #Parent class constructor called\n",
    "        self.p2=p2\n",
    "\n",
    "    def display(self):\n",
    "        print(\"p1 is\",self.p1,\"p2 is\",self.p2)"
   ]
  },
  {
   "cell_type": "code",
   "execution_count": 8,
   "id": "a2107c22-6263-4092-a705-0358b6916483",
   "metadata": {},
   "outputs": [
    {
     "name": "stdout",
     "output_type": "stream",
     "text": [
      "p1 is 22 p2 is 33\n"
     ]
    }
   ],
   "source": [
    "c1= Child1(22,33)\n",
    "c1.display()"
   ]
  },
  {
   "cell_type": "code",
   "execution_count": null,
   "id": "a84214af-e618-4b60-bbdb-21703e07778c",
   "metadata": {},
   "outputs": [],
   "source": [
    "#Python supports multiple inheritance\n",
    "#Parent3 --display\n",
    "#Parent4----display\n",
    "#Child"
   ]
  },
  {
   "cell_type": "code",
   "execution_count": 9,
   "id": "08bae2ab-0e14-4a46-8031-a765598cc9b4",
   "metadata": {},
   "outputs": [],
   "source": [
    "class Parent3:\n",
    "    def __init__(self,p1):\n",
    "        self.p1=p1\n",
    "    def display(self):\n",
    "        print(\"From Parent3 --->\",self.p1)\n",
    "\n",
    "class Parent4:\n",
    "    def __init__(self,p2):\n",
    "        self.p2=p2\n",
    "    def display(self):\n",
    "        print(\"From Parent4---->\",self.p2)\n",
    "\n",
    "class Child4(Parent3,Parent4):\n",
    "    def __init__(self,p1,p2):\n",
    "        Parent3.__init__(self,p1)\n",
    "        Parent4.__init__(self,p2)"
   ]
  },
  {
   "cell_type": "code",
   "execution_count": 10,
   "id": "f93b50e0-d2b6-491d-95b3-201dd4e98d71",
   "metadata": {},
   "outputs": [],
   "source": [
    "child1 = Child4(22,33)"
   ]
  },
  {
   "cell_type": "code",
   "execution_count": 11,
   "id": "21454af1-6d49-4cf2-a23b-2ce2e34700d4",
   "metadata": {},
   "outputs": [
    {
     "name": "stdout",
     "output_type": "stream",
     "text": [
      "From Parent3 ---> 22\n"
     ]
    }
   ],
   "source": [
    "child1.display()"
   ]
  },
  {
   "cell_type": "code",
   "execution_count": 12,
   "id": "f4a3b4c9-ccda-4da0-8729-8910058e0a3a",
   "metadata": {},
   "outputs": [],
   "source": [
    "class PrivateEg:\n",
    "    def __init__(self,p1,p2):\n",
    "        self.p1=p1\n",
    "        self.__p2=p2#two underscores indicates private\n",
    "\n",
    "    def display(self):\n",
    "        print(\"Private is\",self.__p2)\n",
    "        print(\"Public is \",self.p1)\n",
    "\n",
    "    def __private(self):\n",
    "        print(\"i am a private function\")"
   ]
  },
  {
   "cell_type": "code",
   "execution_count": 13,
   "id": "83ff4394-bdab-490d-9666-5460435d43be",
   "metadata": {},
   "outputs": [
    {
     "name": "stdout",
     "output_type": "stream",
     "text": [
      "Private is 22\n",
      "Public is  11\n"
     ]
    }
   ],
   "source": [
    "p1= PrivateEg(11,22)\n",
    "p1.display()"
   ]
  },
  {
   "cell_type": "code",
   "execution_count": 14,
   "id": "0a3525f1-78a0-45e4-9a2b-a1b0db5aceca",
   "metadata": {},
   "outputs": [
    {
     "data": {
      "text/plain": [
       "22"
      ]
     },
     "execution_count": 14,
     "metadata": {},
     "output_type": "execute_result"
    }
   ],
   "source": [
    "p1._PrivateEg__p2"
   ]
  },
  {
   "cell_type": "code",
   "execution_count": 15,
   "id": "27b33d6d-7166-4122-a230-4b78417204f1",
   "metadata": {},
   "outputs": [
    {
     "name": "stdout",
     "output_type": "stream",
     "text": [
      "i am a private function\n"
     ]
    }
   ],
   "source": [
    "p1._PrivateEg__private()"
   ]
  },
  {
   "cell_type": "code",
   "execution_count": 20,
   "id": "cb2ec0fc-0766-442d-ade2-9663774a59ea",
   "metadata": {},
   "outputs": [],
   "source": [
    "class SetterGetter:\n",
    "    def __init__(self):\n",
    "        self._age=0\n",
    "    @property\n",
    "    def age(self):\n",
    "        print(\"getter of age called\")\n",
    "        return self._age\n",
    "    @age.setter\n",
    "    def age(self,a):\n",
    "        print(\"setter of age called\")\n",
    "        self._age=a"
   ]
  },
  {
   "cell_type": "code",
   "execution_count": 24,
   "id": "928c86f3-d124-4339-9d72-cf82ec5d22f9",
   "metadata": {},
   "outputs": [],
   "source": [
    "s1 = SetterGetter()"
   ]
  },
  {
   "cell_type": "code",
   "execution_count": 25,
   "id": "3c2cad94-318b-4168-8f57-185d480648a0",
   "metadata": {},
   "outputs": [
    {
     "name": "stdout",
     "output_type": "stream",
     "text": [
      "setter of age called\n"
     ]
    }
   ],
   "source": [
    "s1.age = 22"
   ]
  },
  {
   "cell_type": "code",
   "execution_count": 26,
   "id": "15b0b8b2-1265-41cb-b75a-e50969bc045f",
   "metadata": {},
   "outputs": [
    {
     "name": "stdout",
     "output_type": "stream",
     "text": [
      "getter of age called\n"
     ]
    },
    {
     "data": {
      "text/plain": [
       "22"
      ]
     },
     "execution_count": 26,
     "metadata": {},
     "output_type": "execute_result"
    }
   ],
   "source": [
    "s1.age"
   ]
  },
  {
   "cell_type": "code",
   "execution_count": 27,
   "id": "2a152075-6701-4104-a1ef-08da93e4ff13",
   "metadata": {},
   "outputs": [],
   "source": [
    "class Example1:\n",
    "    def __init__(self,a,b):\n",
    "        self.a=a\n",
    "        self.b=b"
   ]
  },
  {
   "cell_type": "code",
   "execution_count": 28,
   "id": "fa04ea54-0b01-47f3-8cdd-75e708ae9c8a",
   "metadata": {},
   "outputs": [],
   "source": [
    "e1 = Example1(22,33)"
   ]
  },
  {
   "cell_type": "code",
   "execution_count": 29,
   "id": "0a082f67-cfcb-4a8e-81a1-8598bcd1bd3e",
   "metadata": {},
   "outputs": [
    {
     "data": {
      "text/plain": [
       "22"
      ]
     },
     "execution_count": 29,
     "metadata": {},
     "output_type": "execute_result"
    }
   ],
   "source": [
    "e1.a"
   ]
  },
  {
   "cell_type": "code",
   "execution_count": 30,
   "id": "0798677a-7480-4ece-9b03-376b008547c3",
   "metadata": {},
   "outputs": [
    {
     "data": {
      "text/plain": [
       "33"
      ]
     },
     "execution_count": 30,
     "metadata": {},
     "output_type": "execute_result"
    }
   ],
   "source": [
    "e1.b"
   ]
  },
  {
   "cell_type": "code",
   "execution_count": 31,
   "id": "414fc0ba-5308-4fba-b634-fda02ffbcb3c",
   "metadata": {},
   "outputs": [],
   "source": [
    "delattr(e1,\"b\")"
   ]
  },
  {
   "cell_type": "code",
   "execution_count": 32,
   "id": "8ca0954e-008a-4483-ae1a-c9fee4fb5aeb",
   "metadata": {},
   "outputs": [
    {
     "data": {
      "text/plain": [
       "22"
      ]
     },
     "execution_count": 32,
     "metadata": {},
     "output_type": "execute_result"
    }
   ],
   "source": [
    "e1.a"
   ]
  },
  {
   "cell_type": "code",
   "execution_count": 33,
   "id": "32dd1bc1-2535-42e6-a9e1-f00a7441576f",
   "metadata": {},
   "outputs": [
    {
     "ename": "AttributeError",
     "evalue": "'Example1' object has no attribute 'b'",
     "output_type": "error",
     "traceback": [
      "\u001b[31m---------------------------------------------------------------------------\u001b[39m",
      "\u001b[31mAttributeError\u001b[39m                            Traceback (most recent call last)",
      "\u001b[36mCell\u001b[39m\u001b[36m \u001b[39m\u001b[32mIn[33]\u001b[39m\u001b[32m, line 1\u001b[39m\n\u001b[32m----> \u001b[39m\u001b[32m1\u001b[39m \u001b[43me1\u001b[49m\u001b[43m.\u001b[49m\u001b[43mb\u001b[49m\n",
      "\u001b[31mAttributeError\u001b[39m: 'Example1' object has no attribute 'b'"
     ]
    }
   ],
   "source": [
    "e1.b"
   ]
  },
  {
   "cell_type": "code",
   "execution_count": 34,
   "id": "3a541414-e7a9-4ab7-8c64-3b5ae5fb57da",
   "metadata": {},
   "outputs": [],
   "source": [
    "del e1.a"
   ]
  },
  {
   "cell_type": "code",
   "execution_count": 35,
   "id": "9ca5c5ee-2b2b-43cc-a314-6dfcf9135353",
   "metadata": {},
   "outputs": [],
   "source": [
    "class DestructorEg:\n",
    "    def __init__(self,a):\n",
    "        self.a=a\n",
    "    def __del__(self):\n",
    "        del self.a\n",
    "        print(\"Cleaning up\")"
   ]
  },
  {
   "cell_type": "code",
   "execution_count": 36,
   "id": "bb8cea50-9692-4e29-afe8-65838bdde906",
   "metadata": {},
   "outputs": [],
   "source": [
    "obj1 = DestructorEg(22)\n"
   ]
  },
  {
   "cell_type": "code",
   "execution_count": 37,
   "id": "4eb8e14c-ff86-46c1-8f7e-3ea4996e9b75",
   "metadata": {},
   "outputs": [
    {
     "name": "stdout",
     "output_type": "stream",
     "text": [
      "Cleaning up\n"
     ]
    }
   ],
   "source": [
    "del obj1"
   ]
  },
  {
   "cell_type": "code",
   "execution_count": 42,
   "id": "ffb707cf-a281-4ed4-a944-be0b86bbd5b0",
   "metadata": {},
   "outputs": [],
   "source": [
    "class StringRepresentation:\n",
    "    def __init__(self,a,b):\n",
    "        self.a=a\n",
    "        self.b=b\n",
    "\n",
    "    def __repr__(self):\n",
    "        return f\"StringRepresentation('{self.a}','{self.b}')\"\n",
    "\n",
    "    def __str__(self):\n",
    "        return \"a={}, b={}\".format(self.a,self.b)"
   ]
  },
  {
   "cell_type": "code",
   "execution_count": 43,
   "id": "5ad6d618-f302-497d-a8f5-44cc56e3f783",
   "metadata": {},
   "outputs": [],
   "source": [
    "res = StringRepresentation(22,33)"
   ]
  },
  {
   "cell_type": "code",
   "execution_count": 44,
   "id": "e4ab946a-0ecf-4c34-9511-4fe886a5ed25",
   "metadata": {},
   "outputs": [
    {
     "name": "stdout",
     "output_type": "stream",
     "text": [
      "a=22, b=33\n"
     ]
    }
   ],
   "source": [
    "print(res)"
   ]
  },
  {
   "cell_type": "code",
   "execution_count": 45,
   "id": "1007c12b-9dcd-4a09-ab0b-3e825b7bdc59",
   "metadata": {},
   "outputs": [
    {
     "name": "stdout",
     "output_type": "stream",
     "text": [
      "a=22, b=33\n"
     ]
    }
   ],
   "source": [
    "print(str(res))"
   ]
  },
  {
   "cell_type": "code",
   "execution_count": 46,
   "id": "ccd7d7c3-843c-402b-a925-7de47798a32a",
   "metadata": {},
   "outputs": [
    {
     "name": "stdout",
     "output_type": "stream",
     "text": [
      "StringRepresentation('22','33')\n"
     ]
    }
   ],
   "source": [
    "print(repr(res))"
   ]
  },
  {
   "cell_type": "code",
   "execution_count": 51,
   "id": "9e18b949-8404-4520-a0a1-530e13c55dde",
   "metadata": {},
   "outputs": [],
   "source": [
    "class ObjectCmp:\n",
    "    def __init__(self,a,b):\n",
    "        self.a =a\n",
    "        self.b = b\n",
    "    def __eq__(self,other):\n",
    "        print(\"Object comparision\")\n",
    "        return (self.a==other.a and self.b ==other.b)"
   ]
  },
  {
   "cell_type": "code",
   "execution_count": 53,
   "id": "38e2a7c3-3455-4141-8893-c0f61afd35db",
   "metadata": {},
   "outputs": [
    {
     "name": "stdout",
     "output_type": "stream",
     "text": [
      "False\n",
      "True\n"
     ]
    }
   ],
   "source": [
    "c1 = ObjectCmp(22,33)\n",
    "c2 = ObjectCmp(22,33)\n",
    "print(c1==c2)\n",
    "print(c1==c1)"
   ]
  },
  {
   "cell_type": "code",
   "execution_count": 50,
   "id": "06251d9a-f370-4cc3-8f4f-20eeba86f583",
   "metadata": {},
   "outputs": [
    {
     "name": "stdout",
     "output_type": "stream",
     "text": [
      "Object comparision\n",
      "False\n"
     ]
    }
   ],
   "source": [
    "c3 = ObjectCmp(11,11)\n",
    "print(c3==c1)"
   ]
  },
  {
   "cell_type": "code",
   "execution_count": 57,
   "id": "57e98315-3659-4010-98ca-19a396e4f5ab",
   "metadata": {},
   "outputs": [],
   "source": [
    "class Point:\n",
    "    def __init__(self,x,y):\n",
    "        self.x = x\n",
    "        self.y = y\n",
    "\n",
    "    def __lt__(self,other):\n",
    "        print(\"Inside less\")\n",
    "        v1 = self.x * self.x +self.y *self.y\n",
    "        v2 = other.x*other.x+ other.y*other.y\n",
    "        return v1 < v2\n",
    "\n",
    "    def __gt__(self,other):\n",
    "        print(\"Inside greater\")\n",
    "        v1 = self.x * self.x +self.y *self.y\n",
    "        v2 = other.x*other.x+ other.y*other.y\n",
    "        return v1 > v2       "
   ]
  },
  {
   "cell_type": "code",
   "execution_count": 58,
   "id": "a014ebc1-08c4-42b2-99e7-03e27b28c798",
   "metadata": {},
   "outputs": [
    {
     "name": "stdout",
     "output_type": "stream",
     "text": [
      "Inside less\n",
      "True\n"
     ]
    }
   ],
   "source": [
    "p1 = Point(10,3)\n",
    "p2 = Point(11,1)\n",
    "print(p1<p2)"
   ]
  },
  {
   "cell_type": "code",
   "execution_count": 59,
   "id": "1209488c-3e5e-43a0-afe2-9aeeac6f6b78",
   "metadata": {},
   "outputs": [
    {
     "name": "stdout",
     "output_type": "stream",
     "text": [
      "Inside greater\n",
      "False\n"
     ]
    }
   ],
   "source": [
    "print(p1 > p2)"
   ]
  },
  {
   "cell_type": "code",
   "execution_count": 60,
   "id": "00ba908c-4b48-4767-b95d-74de3d72c081",
   "metadata": {},
   "outputs": [],
   "source": [
    "class Complex:\n",
    "    def __init__(self,real,img):\n",
    "        self.real =real\n",
    "        self.img=img\n",
    "    def __add__(self,other):\n",
    "        r1 = self.real + other.real\n",
    "        i1 = self.img + other.img\n",
    "        return Complex(r1,i1)\n",
    "\n",
    "    def __str__(self):\n",
    "        return \"Real {} Img {} \".format(self.real,self.img)"
   ]
  },
  {
   "cell_type": "code",
   "execution_count": 61,
   "id": "7131ea7b-2bfb-4175-8597-6eda506b553a",
   "metadata": {},
   "outputs": [],
   "source": [
    "c1 = Complex(11,22)\n",
    "c2 = Complex(1,3)"
   ]
  },
  {
   "cell_type": "code",
   "execution_count": 63,
   "id": "1ec7754b-a712-40db-9b53-3cf0cf5337b8",
   "metadata": {},
   "outputs": [],
   "source": [
    "c3 = c1 + c2"
   ]
  },
  {
   "cell_type": "code",
   "execution_count": 65,
   "id": "838cf91a-7849-436a-914d-c4a67a2da247",
   "metadata": {},
   "outputs": [
    {
     "name": "stdout",
     "output_type": "stream",
     "text": [
      "Real 12 Img 25 \n"
     ]
    }
   ],
   "source": [
    "print(c3)"
   ]
  },
  {
   "cell_type": "code",
   "execution_count": 66,
   "id": "64f1653d-f0be-4bb5-9973-12a3cc4bf44f",
   "metadata": {},
   "outputs": [],
   "source": [
    "import pickle"
   ]
  },
  {
   "cell_type": "code",
   "execution_count": 68,
   "id": "ebe796b1-7ac2-4da4-a399-9d5c94501a30",
   "metadata": {},
   "outputs": [],
   "source": [
    "with open (\"C://training//complex.ser\",\"wb\") as op:\n",
    "    pickle.dump(c3,op)"
   ]
  },
  {
   "cell_type": "code",
   "execution_count": 69,
   "id": "7d7d32d3-3920-4bc1-9163-1e849ca938ff",
   "metadata": {},
   "outputs": [
    {
     "name": "stdout",
     "output_type": "stream",
     "text": [
      "12\n",
      "25\n"
     ]
    }
   ],
   "source": [
    "with open(\"C://training//complex.ser\",\"rb\") as ip:\n",
    "    retrived = pickle.load(ip)\n",
    "    print(retrived.real)\n",
    "    print(retrived.img)"
   ]
  },
  {
   "cell_type": "code",
   "execution_count": 70,
   "id": "da980d8f-7fe0-4182-9a6c-079dbfb0ce58",
   "metadata": {},
   "outputs": [],
   "source": [
    "class ExampleDict:\n",
    "    def __init__(self,a,b):\n",
    "        self.a=a\n",
    "        self.b=b\n",
    "    def retrive(self,field):\n",
    "        return self.__dict__.get(field,'Attribute not found')"
   ]
  },
  {
   "cell_type": "code",
   "execution_count": 71,
   "id": "15519310-2c01-4d56-a5a0-46b0942f9261",
   "metadata": {},
   "outputs": [],
   "source": [
    "eg1 = ExampleDict(22,33)"
   ]
  },
  {
   "cell_type": "code",
   "execution_count": 72,
   "id": "60155699-1510-43de-aa41-a2e7ebfaa05a",
   "metadata": {},
   "outputs": [
    {
     "data": {
      "text/plain": [
       "22"
      ]
     },
     "execution_count": 72,
     "metadata": {},
     "output_type": "execute_result"
    }
   ],
   "source": [
    "eg1.retrive('a')"
   ]
  },
  {
   "cell_type": "code",
   "execution_count": 73,
   "id": "980201b6-95d5-41d0-929b-dde1beb253d2",
   "metadata": {},
   "outputs": [],
   "source": [
    "eg1.c = 32\n"
   ]
  },
  {
   "cell_type": "code",
   "execution_count": 74,
   "id": "8f5cc64c-8272-4984-a034-f084c99c1498",
   "metadata": {},
   "outputs": [
    {
     "data": {
      "text/plain": [
       "32"
      ]
     },
     "execution_count": 74,
     "metadata": {},
     "output_type": "execute_result"
    }
   ],
   "source": [
    "eg1.c"
   ]
  },
  {
   "cell_type": "code",
   "execution_count": 75,
   "id": "2956da51-8794-452c-8187-1a1df10531d4",
   "metadata": {},
   "outputs": [],
   "source": [
    "class Player:\n",
    "    __slots__ =['name','age']#isthe ensure no new properties other than one set is present\n",
    "    def __init__(self,name,age):\n",
    "        self.name=name\n",
    "        self.age = age"
   ]
  },
  {
   "cell_type": "code",
   "execution_count": 76,
   "id": "bee14d55-ec27-45a4-aba8-2f8e98aa1869",
   "metadata": {},
   "outputs": [],
   "source": [
    "p1 = Player(\"1234\",11)"
   ]
  },
  {
   "cell_type": "code",
   "execution_count": 77,
   "id": "4a4f8853-cfe9-4e80-b9f2-c4a00fd97627",
   "metadata": {},
   "outputs": [
    {
     "ename": "AttributeError",
     "evalue": "'Player' object has no attribute 'address'",
     "output_type": "error",
     "traceback": [
      "\u001b[31m---------------------------------------------------------------------------\u001b[39m",
      "\u001b[31mAttributeError\u001b[39m                            Traceback (most recent call last)",
      "\u001b[36mCell\u001b[39m\u001b[36m \u001b[39m\u001b[32mIn[77]\u001b[39m\u001b[32m, line 1\u001b[39m\n\u001b[32m----> \u001b[39m\u001b[32m1\u001b[39m \u001b[43mp1\u001b[49m\u001b[43m.\u001b[49m\u001b[43maddress\u001b[49m = \u001b[33m'\u001b[39m\u001b[33mLondon\u001b[39m\u001b[33m'\u001b[39m\n",
      "\u001b[31mAttributeError\u001b[39m: 'Player' object has no attribute 'address'"
     ]
    }
   ],
   "source": [
    "p1.address = 'London'"
   ]
  },
  {
   "cell_type": "code",
   "execution_count": 78,
   "id": "47711983-9245-4fe1-bb47-69d682bd7cae",
   "metadata": {},
   "outputs": [],
   "source": [
    "class StaticClass:\n",
    "    @staticmethod\n",
    "    def calcRadius(r):\n",
    "        return 3.14*r*r"
   ]
  },
  {
   "cell_type": "code",
   "execution_count": 79,
   "id": "5ab46b1a-4805-4561-805a-1a0bc6e62cc1",
   "metadata": {},
   "outputs": [
    {
     "data": {
      "text/plain": [
       "3419.46"
      ]
     },
     "execution_count": 79,
     "metadata": {},
     "output_type": "execute_result"
    }
   ],
   "source": [
    "StaticClass.calcRadius(33)"
   ]
  },
  {
   "cell_type": "code",
   "execution_count": null,
   "id": "f199ca14-2e20-4d9b-8020-c538033d1fbe",
   "metadata": {},
   "outputs": [],
   "source": [
    "#Pandas third party library\n",
    "#ETL\n",
    "#Excel sheet \n",
    "#Row Row\n",
    "#Column Series\n",
    "#Collection of series is known As Data frame\n"
   ]
  },
  {
   "cell_type": "code",
   "execution_count": 81,
   "id": "679e52b0-9c7b-4425-9a09-86d44257e046",
   "metadata": {},
   "outputs": [],
   "source": [
    "import pandas as pd\n",
    "s1= pd.Series([1,2,3,4])"
   ]
  },
  {
   "cell_type": "code",
   "execution_count": 82,
   "id": "cc05a493-33f2-4662-a328-14bf54b1bc1a",
   "metadata": {},
   "outputs": [
    {
     "data": {
      "text/plain": [
       "0    1\n",
       "1    2\n",
       "2    3\n",
       "3    4\n",
       "dtype: int64"
      ]
     },
     "execution_count": 82,
     "metadata": {},
     "output_type": "execute_result"
    }
   ],
   "source": [
    "s1"
   ]
  },
  {
   "cell_type": "code",
   "execution_count": 83,
   "id": "761d0bb6-4a93-4c08-bc85-f5db5e75687c",
   "metadata": {},
   "outputs": [
    {
     "data": {
      "text/plain": [
       "RangeIndex(start=0, stop=4, step=1)"
      ]
     },
     "execution_count": 83,
     "metadata": {},
     "output_type": "execute_result"
    }
   ],
   "source": [
    "s1.index"
   ]
  },
  {
   "cell_type": "code",
   "execution_count": 84,
   "id": "24e971a6-2b28-4834-ac56-dbdd361e5934",
   "metadata": {},
   "outputs": [
    {
     "data": {
      "text/plain": [
       "array([1, 2, 3, 4], dtype=int64)"
      ]
     },
     "execution_count": 84,
     "metadata": {},
     "output_type": "execute_result"
    }
   ],
   "source": [
    "s1.values"
   ]
  },
  {
   "cell_type": "code",
   "execution_count": 85,
   "id": "8cba5e0e-e291-4765-b4c5-691d004d689b",
   "metadata": {},
   "outputs": [],
   "source": [
    "s1 = pd.Series([1,2,3,4])\n",
    "s2 = pd.Series([22,33,44,55])"
   ]
  },
  {
   "cell_type": "code",
   "execution_count": 86,
   "id": "98ef897c-b0b5-4c43-8afb-f7567afa45c5",
   "metadata": {},
   "outputs": [],
   "source": [
    "df1 = pd.DataFrame({\"col1\":s1,\"col2\":s2})"
   ]
  },
  {
   "cell_type": "code",
   "execution_count": 87,
   "id": "0f8992a7-0b3c-4b9f-95c9-64b862f4008c",
   "metadata": {},
   "outputs": [
    {
     "data": {
      "text/html": [
       "<div>\n",
       "<style scoped>\n",
       "    .dataframe tbody tr th:only-of-type {\n",
       "        vertical-align: middle;\n",
       "    }\n",
       "\n",
       "    .dataframe tbody tr th {\n",
       "        vertical-align: top;\n",
       "    }\n",
       "\n",
       "    .dataframe thead th {\n",
       "        text-align: right;\n",
       "    }\n",
       "</style>\n",
       "<table border=\"1\" class=\"dataframe\">\n",
       "  <thead>\n",
       "    <tr style=\"text-align: right;\">\n",
       "      <th></th>\n",
       "      <th>col1</th>\n",
       "      <th>col2</th>\n",
       "    </tr>\n",
       "  </thead>\n",
       "  <tbody>\n",
       "    <tr>\n",
       "      <th>0</th>\n",
       "      <td>1</td>\n",
       "      <td>22</td>\n",
       "    </tr>\n",
       "    <tr>\n",
       "      <th>1</th>\n",
       "      <td>2</td>\n",
       "      <td>33</td>\n",
       "    </tr>\n",
       "    <tr>\n",
       "      <th>2</th>\n",
       "      <td>3</td>\n",
       "      <td>44</td>\n",
       "    </tr>\n",
       "    <tr>\n",
       "      <th>3</th>\n",
       "      <td>4</td>\n",
       "      <td>55</td>\n",
       "    </tr>\n",
       "  </tbody>\n",
       "</table>\n",
       "</div>"
      ],
      "text/plain": [
       "   col1  col2\n",
       "0     1    22\n",
       "1     2    33\n",
       "2     3    44\n",
       "3     4    55"
      ]
     },
     "execution_count": 87,
     "metadata": {},
     "output_type": "execute_result"
    }
   ],
   "source": [
    "df1"
   ]
  },
  {
   "cell_type": "code",
   "execution_count": 88,
   "id": "795ad250-2646-4bbc-a70f-a1333ad33f59",
   "metadata": {},
   "outputs": [],
   "source": [
    "iris=pd.read_csv(\"https://gist.githubusercontent.com/netj/8836201/raw/6f9306ad21398ea43cba4f7d537619d0e07d5ae3/iris.csv\")"
   ]
  },
  {
   "cell_type": "code",
   "execution_count": 89,
   "id": "af7340b8-8f64-47b1-8f7a-7fce729e1b62",
   "metadata": {},
   "outputs": [
    {
     "data": {
      "text/html": [
       "<div>\n",
       "<style scoped>\n",
       "    .dataframe tbody tr th:only-of-type {\n",
       "        vertical-align: middle;\n",
       "    }\n",
       "\n",
       "    .dataframe tbody tr th {\n",
       "        vertical-align: top;\n",
       "    }\n",
       "\n",
       "    .dataframe thead th {\n",
       "        text-align: right;\n",
       "    }\n",
       "</style>\n",
       "<table border=\"1\" class=\"dataframe\">\n",
       "  <thead>\n",
       "    <tr style=\"text-align: right;\">\n",
       "      <th></th>\n",
       "      <th>sepal.length</th>\n",
       "      <th>sepal.width</th>\n",
       "      <th>petal.length</th>\n",
       "      <th>petal.width</th>\n",
       "      <th>variety</th>\n",
       "    </tr>\n",
       "  </thead>\n",
       "  <tbody>\n",
       "    <tr>\n",
       "      <th>0</th>\n",
       "      <td>5.1</td>\n",
       "      <td>3.5</td>\n",
       "      <td>1.4</td>\n",
       "      <td>0.2</td>\n",
       "      <td>Setosa</td>\n",
       "    </tr>\n",
       "    <tr>\n",
       "      <th>1</th>\n",
       "      <td>4.9</td>\n",
       "      <td>3.0</td>\n",
       "      <td>1.4</td>\n",
       "      <td>0.2</td>\n",
       "      <td>Setosa</td>\n",
       "    </tr>\n",
       "    <tr>\n",
       "      <th>2</th>\n",
       "      <td>4.7</td>\n",
       "      <td>3.2</td>\n",
       "      <td>1.3</td>\n",
       "      <td>0.2</td>\n",
       "      <td>Setosa</td>\n",
       "    </tr>\n",
       "    <tr>\n",
       "      <th>3</th>\n",
       "      <td>4.6</td>\n",
       "      <td>3.1</td>\n",
       "      <td>1.5</td>\n",
       "      <td>0.2</td>\n",
       "      <td>Setosa</td>\n",
       "    </tr>\n",
       "    <tr>\n",
       "      <th>4</th>\n",
       "      <td>5.0</td>\n",
       "      <td>3.6</td>\n",
       "      <td>1.4</td>\n",
       "      <td>0.2</td>\n",
       "      <td>Setosa</td>\n",
       "    </tr>\n",
       "  </tbody>\n",
       "</table>\n",
       "</div>"
      ],
      "text/plain": [
       "   sepal.length  sepal.width  petal.length  petal.width variety\n",
       "0           5.1          3.5           1.4          0.2  Setosa\n",
       "1           4.9          3.0           1.4          0.2  Setosa\n",
       "2           4.7          3.2           1.3          0.2  Setosa\n",
       "3           4.6          3.1           1.5          0.2  Setosa\n",
       "4           5.0          3.6           1.4          0.2  Setosa"
      ]
     },
     "execution_count": 89,
     "metadata": {},
     "output_type": "execute_result"
    }
   ],
   "source": [
    "iris.head()"
   ]
  },
  {
   "cell_type": "code",
   "execution_count": 90,
   "id": "bc745917-c094-4ea3-b268-4113e31525b6",
   "metadata": {},
   "outputs": [
    {
     "data": {
      "text/html": [
       "<div>\n",
       "<style scoped>\n",
       "    .dataframe tbody tr th:only-of-type {\n",
       "        vertical-align: middle;\n",
       "    }\n",
       "\n",
       "    .dataframe tbody tr th {\n",
       "        vertical-align: top;\n",
       "    }\n",
       "\n",
       "    .dataframe thead th {\n",
       "        text-align: right;\n",
       "    }\n",
       "</style>\n",
       "<table border=\"1\" class=\"dataframe\">\n",
       "  <thead>\n",
       "    <tr style=\"text-align: right;\">\n",
       "      <th></th>\n",
       "      <th>sepal.length</th>\n",
       "      <th>sepal.width</th>\n",
       "      <th>petal.length</th>\n",
       "      <th>petal.width</th>\n",
       "      <th>variety</th>\n",
       "    </tr>\n",
       "  </thead>\n",
       "  <tbody>\n",
       "    <tr>\n",
       "      <th>145</th>\n",
       "      <td>6.7</td>\n",
       "      <td>3.0</td>\n",
       "      <td>5.2</td>\n",
       "      <td>2.3</td>\n",
       "      <td>Virginica</td>\n",
       "    </tr>\n",
       "    <tr>\n",
       "      <th>146</th>\n",
       "      <td>6.3</td>\n",
       "      <td>2.5</td>\n",
       "      <td>5.0</td>\n",
       "      <td>1.9</td>\n",
       "      <td>Virginica</td>\n",
       "    </tr>\n",
       "    <tr>\n",
       "      <th>147</th>\n",
       "      <td>6.5</td>\n",
       "      <td>3.0</td>\n",
       "      <td>5.2</td>\n",
       "      <td>2.0</td>\n",
       "      <td>Virginica</td>\n",
       "    </tr>\n",
       "    <tr>\n",
       "      <th>148</th>\n",
       "      <td>6.2</td>\n",
       "      <td>3.4</td>\n",
       "      <td>5.4</td>\n",
       "      <td>2.3</td>\n",
       "      <td>Virginica</td>\n",
       "    </tr>\n",
       "    <tr>\n",
       "      <th>149</th>\n",
       "      <td>5.9</td>\n",
       "      <td>3.0</td>\n",
       "      <td>5.1</td>\n",
       "      <td>1.8</td>\n",
       "      <td>Virginica</td>\n",
       "    </tr>\n",
       "  </tbody>\n",
       "</table>\n",
       "</div>"
      ],
      "text/plain": [
       "     sepal.length  sepal.width  petal.length  petal.width    variety\n",
       "145           6.7          3.0           5.2          2.3  Virginica\n",
       "146           6.3          2.5           5.0          1.9  Virginica\n",
       "147           6.5          3.0           5.2          2.0  Virginica\n",
       "148           6.2          3.4           5.4          2.3  Virginica\n",
       "149           5.9          3.0           5.1          1.8  Virginica"
      ]
     },
     "execution_count": 90,
     "metadata": {},
     "output_type": "execute_result"
    }
   ],
   "source": [
    "iris.tail()"
   ]
  },
  {
   "cell_type": "code",
   "execution_count": 91,
   "id": "d8937bd8-987d-4831-9467-f57b3ff845e5",
   "metadata": {},
   "outputs": [
    {
     "data": {
      "text/plain": [
       "(150, 5)"
      ]
     },
     "execution_count": 91,
     "metadata": {},
     "output_type": "execute_result"
    }
   ],
   "source": [
    "iris.shape"
   ]
  },
  {
   "cell_type": "code",
   "execution_count": 92,
   "id": "4403923e-016f-47ac-b008-214da03978c4",
   "metadata": {},
   "outputs": [
    {
     "data": {
      "text/plain": [
       "Index(['sepal.length', 'sepal.width', 'petal.length', 'petal.width',\n",
       "       'variety'],\n",
       "      dtype='object')"
      ]
     },
     "execution_count": 92,
     "metadata": {},
     "output_type": "execute_result"
    }
   ],
   "source": [
    "iris.columns"
   ]
  },
  {
   "cell_type": "code",
   "execution_count": 93,
   "id": "b5a6daab-336a-4ba0-959f-804aff29e4cf",
   "metadata": {},
   "outputs": [
    {
     "data": {
      "text/html": [
       "<div>\n",
       "<style scoped>\n",
       "    .dataframe tbody tr th:only-of-type {\n",
       "        vertical-align: middle;\n",
       "    }\n",
       "\n",
       "    .dataframe tbody tr th {\n",
       "        vertical-align: top;\n",
       "    }\n",
       "\n",
       "    .dataframe thead th {\n",
       "        text-align: right;\n",
       "    }\n",
       "</style>\n",
       "<table border=\"1\" class=\"dataframe\">\n",
       "  <thead>\n",
       "    <tr style=\"text-align: right;\">\n",
       "      <th></th>\n",
       "      <th>sepal.length</th>\n",
       "      <th>sepal.width</th>\n",
       "      <th>petal.length</th>\n",
       "      <th>petal.width</th>\n",
       "      <th>variety</th>\n",
       "    </tr>\n",
       "  </thead>\n",
       "  <tbody>\n",
       "    <tr>\n",
       "      <th>0</th>\n",
       "      <td>5.1</td>\n",
       "      <td>3.5</td>\n",
       "      <td>1.4</td>\n",
       "      <td>0.2</td>\n",
       "      <td>Setosa</td>\n",
       "    </tr>\n",
       "    <tr>\n",
       "      <th>1</th>\n",
       "      <td>4.9</td>\n",
       "      <td>3.0</td>\n",
       "      <td>1.4</td>\n",
       "      <td>0.2</td>\n",
       "      <td>Setosa</td>\n",
       "    </tr>\n",
       "    <tr>\n",
       "      <th>2</th>\n",
       "      <td>4.7</td>\n",
       "      <td>3.2</td>\n",
       "      <td>1.3</td>\n",
       "      <td>0.2</td>\n",
       "      <td>Setosa</td>\n",
       "    </tr>\n",
       "    <tr>\n",
       "      <th>3</th>\n",
       "      <td>4.6</td>\n",
       "      <td>3.1</td>\n",
       "      <td>1.5</td>\n",
       "      <td>0.2</td>\n",
       "      <td>Setosa</td>\n",
       "    </tr>\n",
       "    <tr>\n",
       "      <th>4</th>\n",
       "      <td>5.0</td>\n",
       "      <td>3.6</td>\n",
       "      <td>1.4</td>\n",
       "      <td>0.2</td>\n",
       "      <td>Setosa</td>\n",
       "    </tr>\n",
       "  </tbody>\n",
       "</table>\n",
       "</div>"
      ],
      "text/plain": [
       "   sepal.length  sepal.width  petal.length  petal.width variety\n",
       "0           5.1          3.5           1.4          0.2  Setosa\n",
       "1           4.9          3.0           1.4          0.2  Setosa\n",
       "2           4.7          3.2           1.3          0.2  Setosa\n",
       "3           4.6          3.1           1.5          0.2  Setosa\n",
       "4           5.0          3.6           1.4          0.2  Setosa"
      ]
     },
     "execution_count": 93,
     "metadata": {},
     "output_type": "execute_result"
    }
   ],
   "source": [
    "iris.head()"
   ]
  },
  {
   "cell_type": "code",
   "execution_count": 94,
   "id": "91a01071-90d7-48e7-a98f-02223e61a112",
   "metadata": {},
   "outputs": [
    {
     "data": {
      "text/plain": [
       "array(['Setosa', 'Versicolor', 'Virginica'], dtype=object)"
      ]
     },
     "execution_count": 94,
     "metadata": {},
     "output_type": "execute_result"
    }
   ],
   "source": [
    "iris['variety'].unique()"
   ]
  },
  {
   "cell_type": "code",
   "execution_count": 95,
   "id": "6bbfce35-8fbf-425b-93ea-27c14e18cc55",
   "metadata": {},
   "outputs": [
    {
     "data": {
      "text/plain": [
       "variety\n",
       "Setosa        50\n",
       "Versicolor    50\n",
       "Virginica     50\n",
       "Name: count, dtype: int64"
      ]
     },
     "execution_count": 95,
     "metadata": {},
     "output_type": "execute_result"
    }
   ],
   "source": [
    "iris['variety'].value_counts()"
   ]
  },
  {
   "cell_type": "code",
   "execution_count": 96,
   "id": "e9ed4672-47e7-4b73-acea-8d229f67087f",
   "metadata": {},
   "outputs": [],
   "source": [
    "iris.to_csv(\"C://training//iris.csv\")"
   ]
  },
  {
   "cell_type": "code",
   "execution_count": 97,
   "id": "8b1382a4-0182-4bf8-9863-9daf5a7c3a71",
   "metadata": {},
   "outputs": [],
   "source": [
    "iris.to_csv(\"C://training//iris.csv\",index=False)"
   ]
  },
  {
   "cell_type": "code",
   "execution_count": 98,
   "id": "54822950-a9d5-4240-8a74-3ab62b45c539",
   "metadata": {},
   "outputs": [],
   "source": [
    "iris.to_excel(\"C://training//iris.xlsx\")"
   ]
  },
  {
   "cell_type": "code",
   "execution_count": 99,
   "id": "f773ad4f-75d2-4db2-9475-49c6030aff13",
   "metadata": {},
   "outputs": [],
   "source": [
    "iris.to_json(\"C://training//iris.json\")"
   ]
  },
  {
   "cell_type": "code",
   "execution_count": 101,
   "id": "4128c10d-7776-4b73-a14f-938a0d372722",
   "metadata": {},
   "outputs": [],
   "source": [
    "jsonData=pd.read_json(\"https://jsonplaceholder.typicode.com/todos\")"
   ]
  },
  {
   "cell_type": "code",
   "execution_count": 102,
   "id": "68b10fe0-4045-4845-9ebb-fae31f51a940",
   "metadata": {},
   "outputs": [
    {
     "data": {
      "text/html": [
       "<div>\n",
       "<style scoped>\n",
       "    .dataframe tbody tr th:only-of-type {\n",
       "        vertical-align: middle;\n",
       "    }\n",
       "\n",
       "    .dataframe tbody tr th {\n",
       "        vertical-align: top;\n",
       "    }\n",
       "\n",
       "    .dataframe thead th {\n",
       "        text-align: right;\n",
       "    }\n",
       "</style>\n",
       "<table border=\"1\" class=\"dataframe\">\n",
       "  <thead>\n",
       "    <tr style=\"text-align: right;\">\n",
       "      <th></th>\n",
       "      <th>userId</th>\n",
       "      <th>id</th>\n",
       "      <th>title</th>\n",
       "      <th>completed</th>\n",
       "    </tr>\n",
       "  </thead>\n",
       "  <tbody>\n",
       "    <tr>\n",
       "      <th>0</th>\n",
       "      <td>1</td>\n",
       "      <td>1</td>\n",
       "      <td>delectus aut autem</td>\n",
       "      <td>False</td>\n",
       "    </tr>\n",
       "    <tr>\n",
       "      <th>1</th>\n",
       "      <td>1</td>\n",
       "      <td>2</td>\n",
       "      <td>quis ut nam facilis et officia qui</td>\n",
       "      <td>False</td>\n",
       "    </tr>\n",
       "    <tr>\n",
       "      <th>2</th>\n",
       "      <td>1</td>\n",
       "      <td>3</td>\n",
       "      <td>fugiat veniam minus</td>\n",
       "      <td>False</td>\n",
       "    </tr>\n",
       "    <tr>\n",
       "      <th>3</th>\n",
       "      <td>1</td>\n",
       "      <td>4</td>\n",
       "      <td>et porro tempora</td>\n",
       "      <td>True</td>\n",
       "    </tr>\n",
       "    <tr>\n",
       "      <th>4</th>\n",
       "      <td>1</td>\n",
       "      <td>5</td>\n",
       "      <td>laboriosam mollitia et enim quasi adipisci qui...</td>\n",
       "      <td>False</td>\n",
       "    </tr>\n",
       "    <tr>\n",
       "      <th>...</th>\n",
       "      <td>...</td>\n",
       "      <td>...</td>\n",
       "      <td>...</td>\n",
       "      <td>...</td>\n",
       "    </tr>\n",
       "    <tr>\n",
       "      <th>195</th>\n",
       "      <td>10</td>\n",
       "      <td>196</td>\n",
       "      <td>consequuntur aut ut fugit similique</td>\n",
       "      <td>True</td>\n",
       "    </tr>\n",
       "    <tr>\n",
       "      <th>196</th>\n",
       "      <td>10</td>\n",
       "      <td>197</td>\n",
       "      <td>dignissimos quo nobis earum saepe</td>\n",
       "      <td>True</td>\n",
       "    </tr>\n",
       "    <tr>\n",
       "      <th>197</th>\n",
       "      <td>10</td>\n",
       "      <td>198</td>\n",
       "      <td>quis eius est sint explicabo</td>\n",
       "      <td>True</td>\n",
       "    </tr>\n",
       "    <tr>\n",
       "      <th>198</th>\n",
       "      <td>10</td>\n",
       "      <td>199</td>\n",
       "      <td>numquam repellendus a magnam</td>\n",
       "      <td>True</td>\n",
       "    </tr>\n",
       "    <tr>\n",
       "      <th>199</th>\n",
       "      <td>10</td>\n",
       "      <td>200</td>\n",
       "      <td>ipsam aperiam voluptates qui</td>\n",
       "      <td>False</td>\n",
       "    </tr>\n",
       "  </tbody>\n",
       "</table>\n",
       "<p>200 rows × 4 columns</p>\n",
       "</div>"
      ],
      "text/plain": [
       "     userId   id                                              title  completed\n",
       "0         1    1                                 delectus aut autem      False\n",
       "1         1    2                 quis ut nam facilis et officia qui      False\n",
       "2         1    3                                fugiat veniam minus      False\n",
       "3         1    4                                   et porro tempora       True\n",
       "4         1    5  laboriosam mollitia et enim quasi adipisci qui...      False\n",
       "..      ...  ...                                                ...        ...\n",
       "195      10  196                consequuntur aut ut fugit similique       True\n",
       "196      10  197                  dignissimos quo nobis earum saepe       True\n",
       "197      10  198                       quis eius est sint explicabo       True\n",
       "198      10  199                       numquam repellendus a magnam       True\n",
       "199      10  200                       ipsam aperiam voluptates qui      False\n",
       "\n",
       "[200 rows x 4 columns]"
      ]
     },
     "execution_count": 102,
     "metadata": {},
     "output_type": "execute_result"
    }
   ],
   "source": [
    "jsonData"
   ]
  },
  {
   "cell_type": "code",
   "execution_count": 103,
   "id": "628243bc-77f8-4c3b-9f7b-1c77d8d94781",
   "metadata": {},
   "outputs": [
    {
     "data": {
      "text/html": [
       "<div>\n",
       "<style scoped>\n",
       "    .dataframe tbody tr th:only-of-type {\n",
       "        vertical-align: middle;\n",
       "    }\n",
       "\n",
       "    .dataframe tbody tr th {\n",
       "        vertical-align: top;\n",
       "    }\n",
       "\n",
       "    .dataframe thead th {\n",
       "        text-align: right;\n",
       "    }\n",
       "</style>\n",
       "<table border=\"1\" class=\"dataframe\">\n",
       "  <thead>\n",
       "    <tr style=\"text-align: right;\">\n",
       "      <th></th>\n",
       "      <th>sepal.length</th>\n",
       "      <th>sepal.width</th>\n",
       "      <th>petal.length</th>\n",
       "      <th>petal.width</th>\n",
       "      <th>variety</th>\n",
       "    </tr>\n",
       "  </thead>\n",
       "  <tbody>\n",
       "    <tr>\n",
       "      <th>0</th>\n",
       "      <td>5.1</td>\n",
       "      <td>3.5</td>\n",
       "      <td>1.4</td>\n",
       "      <td>0.2</td>\n",
       "      <td>Setosa</td>\n",
       "    </tr>\n",
       "    <tr>\n",
       "      <th>1</th>\n",
       "      <td>4.9</td>\n",
       "      <td>3.0</td>\n",
       "      <td>1.4</td>\n",
       "      <td>0.2</td>\n",
       "      <td>Setosa</td>\n",
       "    </tr>\n",
       "    <tr>\n",
       "      <th>2</th>\n",
       "      <td>4.7</td>\n",
       "      <td>3.2</td>\n",
       "      <td>1.3</td>\n",
       "      <td>0.2</td>\n",
       "      <td>Setosa</td>\n",
       "    </tr>\n",
       "    <tr>\n",
       "      <th>3</th>\n",
       "      <td>4.6</td>\n",
       "      <td>3.1</td>\n",
       "      <td>1.5</td>\n",
       "      <td>0.2</td>\n",
       "      <td>Setosa</td>\n",
       "    </tr>\n",
       "    <tr>\n",
       "      <th>4</th>\n",
       "      <td>5.0</td>\n",
       "      <td>3.6</td>\n",
       "      <td>1.4</td>\n",
       "      <td>0.2</td>\n",
       "      <td>Setosa</td>\n",
       "    </tr>\n",
       "    <tr>\n",
       "      <th>...</th>\n",
       "      <td>...</td>\n",
       "      <td>...</td>\n",
       "      <td>...</td>\n",
       "      <td>...</td>\n",
       "      <td>...</td>\n",
       "    </tr>\n",
       "    <tr>\n",
       "      <th>145</th>\n",
       "      <td>6.7</td>\n",
       "      <td>3.0</td>\n",
       "      <td>5.2</td>\n",
       "      <td>2.3</td>\n",
       "      <td>Virginica</td>\n",
       "    </tr>\n",
       "    <tr>\n",
       "      <th>146</th>\n",
       "      <td>6.3</td>\n",
       "      <td>2.5</td>\n",
       "      <td>5.0</td>\n",
       "      <td>1.9</td>\n",
       "      <td>Virginica</td>\n",
       "    </tr>\n",
       "    <tr>\n",
       "      <th>147</th>\n",
       "      <td>6.5</td>\n",
       "      <td>3.0</td>\n",
       "      <td>5.2</td>\n",
       "      <td>2.0</td>\n",
       "      <td>Virginica</td>\n",
       "    </tr>\n",
       "    <tr>\n",
       "      <th>148</th>\n",
       "      <td>6.2</td>\n",
       "      <td>3.4</td>\n",
       "      <td>5.4</td>\n",
       "      <td>2.3</td>\n",
       "      <td>Virginica</td>\n",
       "    </tr>\n",
       "    <tr>\n",
       "      <th>149</th>\n",
       "      <td>5.9</td>\n",
       "      <td>3.0</td>\n",
       "      <td>5.1</td>\n",
       "      <td>1.8</td>\n",
       "      <td>Virginica</td>\n",
       "    </tr>\n",
       "  </tbody>\n",
       "</table>\n",
       "<p>150 rows × 5 columns</p>\n",
       "</div>"
      ],
      "text/plain": [
       "     sepal.length  sepal.width  petal.length  petal.width    variety\n",
       "0             5.1          3.5           1.4          0.2     Setosa\n",
       "1             4.9          3.0           1.4          0.2     Setosa\n",
       "2             4.7          3.2           1.3          0.2     Setosa\n",
       "3             4.6          3.1           1.5          0.2     Setosa\n",
       "4             5.0          3.6           1.4          0.2     Setosa\n",
       "..            ...          ...           ...          ...        ...\n",
       "145           6.7          3.0           5.2          2.3  Virginica\n",
       "146           6.3          2.5           5.0          1.9  Virginica\n",
       "147           6.5          3.0           5.2          2.0  Virginica\n",
       "148           6.2          3.4           5.4          2.3  Virginica\n",
       "149           5.9          3.0           5.1          1.8  Virginica\n",
       "\n",
       "[150 rows x 5 columns]"
      ]
     },
     "execution_count": 103,
     "metadata": {},
     "output_type": "execute_result"
    }
   ],
   "source": [
    "iris"
   ]
  },
  {
   "cell_type": "code",
   "execution_count": 104,
   "id": "976e29d4-ce37-4164-817c-edddf6f88a70",
   "metadata": {},
   "outputs": [
    {
     "data": {
      "text/plain": [
       "876.5"
      ]
     },
     "execution_count": 104,
     "metadata": {},
     "output_type": "execute_result"
    }
   ],
   "source": [
    "iris['sepal.length'].sum()"
   ]
  },
  {
   "cell_type": "code",
   "execution_count": 105,
   "id": "110a1d1a-c705-4434-a57e-0c329c589221",
   "metadata": {},
   "outputs": [
    {
     "data": {
      "text/plain": [
       "5.843333333333334"
      ]
     },
     "execution_count": 105,
     "metadata": {},
     "output_type": "execute_result"
    }
   ],
   "source": [
    "iris['sepal.length'].mean()"
   ]
  },
  {
   "cell_type": "code",
   "execution_count": 106,
   "id": "87694498-6920-45ce-842c-f1833edb358f",
   "metadata": {},
   "outputs": [
    {
     "data": {
      "text/plain": [
       "0.828066127977863"
      ]
     },
     "execution_count": 106,
     "metadata": {},
     "output_type": "execute_result"
    }
   ],
   "source": [
    "iris['sepal.length'].std()"
   ]
  },
  {
   "cell_type": "code",
   "execution_count": 107,
   "id": "9acd0f6e-1e88-42c4-9aba-8a8186f2d717",
   "metadata": {},
   "outputs": [
    {
     "data": {
      "text/plain": [
       "0.828066127977863"
      ]
     },
     "execution_count": 107,
     "metadata": {},
     "output_type": "execute_result"
    }
   ],
   "source": [
    "iris['sepal.length'].std()"
   ]
  },
  {
   "cell_type": "code",
   "execution_count": 108,
   "id": "02c6b2c8-199e-464d-bb81-4125a5ebaf2d",
   "metadata": {},
   "outputs": [
    {
     "data": {
      "text/plain": [
       "sepal.length    876.5\n",
       "sepal.width     458.6\n",
       "dtype: float64"
      ]
     },
     "execution_count": 108,
     "metadata": {},
     "output_type": "execute_result"
    }
   ],
   "source": [
    "iris[['sepal.length','sepal.width']].sum()"
   ]
  },
  {
   "cell_type": "code",
   "execution_count": 109,
   "id": "99d6815e-1687-4815-8f68-182af85207a5",
   "metadata": {},
   "outputs": [
    {
     "data": {
      "text/html": [
       "<div>\n",
       "<style scoped>\n",
       "    .dataframe tbody tr th:only-of-type {\n",
       "        vertical-align: middle;\n",
       "    }\n",
       "\n",
       "    .dataframe tbody tr th {\n",
       "        vertical-align: top;\n",
       "    }\n",
       "\n",
       "    .dataframe thead th {\n",
       "        text-align: right;\n",
       "    }\n",
       "</style>\n",
       "<table border=\"1\" class=\"dataframe\">\n",
       "  <thead>\n",
       "    <tr style=\"text-align: right;\">\n",
       "      <th></th>\n",
       "      <th>sepal.length</th>\n",
       "      <th>sepal.width</th>\n",
       "      <th>petal.length</th>\n",
       "      <th>petal.width</th>\n",
       "    </tr>\n",
       "  </thead>\n",
       "  <tbody>\n",
       "    <tr>\n",
       "      <th>count</th>\n",
       "      <td>150.000000</td>\n",
       "      <td>150.000000</td>\n",
       "      <td>150.000000</td>\n",
       "      <td>150.000000</td>\n",
       "    </tr>\n",
       "    <tr>\n",
       "      <th>mean</th>\n",
       "      <td>5.843333</td>\n",
       "      <td>3.057333</td>\n",
       "      <td>3.758000</td>\n",
       "      <td>1.199333</td>\n",
       "    </tr>\n",
       "    <tr>\n",
       "      <th>std</th>\n",
       "      <td>0.828066</td>\n",
       "      <td>0.435866</td>\n",
       "      <td>1.765298</td>\n",
       "      <td>0.762238</td>\n",
       "    </tr>\n",
       "    <tr>\n",
       "      <th>min</th>\n",
       "      <td>4.300000</td>\n",
       "      <td>2.000000</td>\n",
       "      <td>1.000000</td>\n",
       "      <td>0.100000</td>\n",
       "    </tr>\n",
       "    <tr>\n",
       "      <th>25%</th>\n",
       "      <td>5.100000</td>\n",
       "      <td>2.800000</td>\n",
       "      <td>1.600000</td>\n",
       "      <td>0.300000</td>\n",
       "    </tr>\n",
       "    <tr>\n",
       "      <th>50%</th>\n",
       "      <td>5.800000</td>\n",
       "      <td>3.000000</td>\n",
       "      <td>4.350000</td>\n",
       "      <td>1.300000</td>\n",
       "    </tr>\n",
       "    <tr>\n",
       "      <th>75%</th>\n",
       "      <td>6.400000</td>\n",
       "      <td>3.300000</td>\n",
       "      <td>5.100000</td>\n",
       "      <td>1.800000</td>\n",
       "    </tr>\n",
       "    <tr>\n",
       "      <th>max</th>\n",
       "      <td>7.900000</td>\n",
       "      <td>4.400000</td>\n",
       "      <td>6.900000</td>\n",
       "      <td>2.500000</td>\n",
       "    </tr>\n",
       "  </tbody>\n",
       "</table>\n",
       "</div>"
      ],
      "text/plain": [
       "       sepal.length  sepal.width  petal.length  petal.width\n",
       "count    150.000000   150.000000    150.000000   150.000000\n",
       "mean       5.843333     3.057333      3.758000     1.199333\n",
       "std        0.828066     0.435866      1.765298     0.762238\n",
       "min        4.300000     2.000000      1.000000     0.100000\n",
       "25%        5.100000     2.800000      1.600000     0.300000\n",
       "50%        5.800000     3.000000      4.350000     1.300000\n",
       "75%        6.400000     3.300000      5.100000     1.800000\n",
       "max        7.900000     4.400000      6.900000     2.500000"
      ]
     },
     "execution_count": 109,
     "metadata": {},
     "output_type": "execute_result"
    }
   ],
   "source": [
    "iris.describe()"
   ]
  },
  {
   "cell_type": "code",
   "execution_count": 110,
   "id": "d5410a2d-7482-4255-8865-b9e0de3759f4",
   "metadata": {},
   "outputs": [
    {
     "data": {
      "text/html": [
       "<div>\n",
       "<style scoped>\n",
       "    .dataframe tbody tr th:only-of-type {\n",
       "        vertical-align: middle;\n",
       "    }\n",
       "\n",
       "    .dataframe tbody tr th {\n",
       "        vertical-align: top;\n",
       "    }\n",
       "\n",
       "    .dataframe thead th {\n",
       "        text-align: right;\n",
       "    }\n",
       "</style>\n",
       "<table border=\"1\" class=\"dataframe\">\n",
       "  <thead>\n",
       "    <tr style=\"text-align: right;\">\n",
       "      <th></th>\n",
       "      <th>sepal.width</th>\n",
       "      <th>petal.length</th>\n",
       "    </tr>\n",
       "  </thead>\n",
       "  <tbody>\n",
       "    <tr>\n",
       "      <th>2</th>\n",
       "      <td>3.2</td>\n",
       "      <td>1.3</td>\n",
       "    </tr>\n",
       "    <tr>\n",
       "      <th>3</th>\n",
       "      <td>3.1</td>\n",
       "      <td>1.5</td>\n",
       "    </tr>\n",
       "    <tr>\n",
       "      <th>4</th>\n",
       "      <td>3.6</td>\n",
       "      <td>1.4</td>\n",
       "    </tr>\n",
       "  </tbody>\n",
       "</table>\n",
       "</div>"
      ],
      "text/plain": [
       "   sepal.width  petal.length\n",
       "2          3.2           1.3\n",
       "3          3.1           1.5\n",
       "4          3.6           1.4"
      ]
     },
     "execution_count": 110,
     "metadata": {},
     "output_type": "execute_result"
    }
   ],
   "source": [
    "iris.iloc[2:5,1:3]"
   ]
  },
  {
   "cell_type": "code",
   "execution_count": 111,
   "id": "e8a477ea-4309-494e-87b6-d4e0ae94ca0e",
   "metadata": {},
   "outputs": [],
   "source": [
    "iris['variety_new'] = iris['variety'].str.upper()"
   ]
  },
  {
   "cell_type": "code",
   "execution_count": 112,
   "id": "727d0b2b-e31a-40af-87be-f8cdf175116d",
   "metadata": {},
   "outputs": [
    {
     "data": {
      "text/html": [
       "<div>\n",
       "<style scoped>\n",
       "    .dataframe tbody tr th:only-of-type {\n",
       "        vertical-align: middle;\n",
       "    }\n",
       "\n",
       "    .dataframe tbody tr th {\n",
       "        vertical-align: top;\n",
       "    }\n",
       "\n",
       "    .dataframe thead th {\n",
       "        text-align: right;\n",
       "    }\n",
       "</style>\n",
       "<table border=\"1\" class=\"dataframe\">\n",
       "  <thead>\n",
       "    <tr style=\"text-align: right;\">\n",
       "      <th></th>\n",
       "      <th>sepal.length</th>\n",
       "      <th>sepal.width</th>\n",
       "      <th>petal.length</th>\n",
       "      <th>petal.width</th>\n",
       "      <th>variety</th>\n",
       "      <th>variety_new</th>\n",
       "    </tr>\n",
       "  </thead>\n",
       "  <tbody>\n",
       "    <tr>\n",
       "      <th>0</th>\n",
       "      <td>5.1</td>\n",
       "      <td>3.5</td>\n",
       "      <td>1.4</td>\n",
       "      <td>0.2</td>\n",
       "      <td>Setosa</td>\n",
       "      <td>SETOSA</td>\n",
       "    </tr>\n",
       "    <tr>\n",
       "      <th>1</th>\n",
       "      <td>4.9</td>\n",
       "      <td>3.0</td>\n",
       "      <td>1.4</td>\n",
       "      <td>0.2</td>\n",
       "      <td>Setosa</td>\n",
       "      <td>SETOSA</td>\n",
       "    </tr>\n",
       "    <tr>\n",
       "      <th>2</th>\n",
       "      <td>4.7</td>\n",
       "      <td>3.2</td>\n",
       "      <td>1.3</td>\n",
       "      <td>0.2</td>\n",
       "      <td>Setosa</td>\n",
       "      <td>SETOSA</td>\n",
       "    </tr>\n",
       "    <tr>\n",
       "      <th>3</th>\n",
       "      <td>4.6</td>\n",
       "      <td>3.1</td>\n",
       "      <td>1.5</td>\n",
       "      <td>0.2</td>\n",
       "      <td>Setosa</td>\n",
       "      <td>SETOSA</td>\n",
       "    </tr>\n",
       "    <tr>\n",
       "      <th>4</th>\n",
       "      <td>5.0</td>\n",
       "      <td>3.6</td>\n",
       "      <td>1.4</td>\n",
       "      <td>0.2</td>\n",
       "      <td>Setosa</td>\n",
       "      <td>SETOSA</td>\n",
       "    </tr>\n",
       "  </tbody>\n",
       "</table>\n",
       "</div>"
      ],
      "text/plain": [
       "   sepal.length  sepal.width  petal.length  petal.width variety variety_new\n",
       "0           5.1          3.5           1.4          0.2  Setosa      SETOSA\n",
       "1           4.9          3.0           1.4          0.2  Setosa      SETOSA\n",
       "2           4.7          3.2           1.3          0.2  Setosa      SETOSA\n",
       "3           4.6          3.1           1.5          0.2  Setosa      SETOSA\n",
       "4           5.0          3.6           1.4          0.2  Setosa      SETOSA"
      ]
     },
     "execution_count": 112,
     "metadata": {},
     "output_type": "execute_result"
    }
   ],
   "source": [
    "iris.head()"
   ]
  },
  {
   "cell_type": "code",
   "execution_count": null,
   "id": "ae59884a-8750-42f3-af1c-7a38954fa3a8",
   "metadata": {},
   "outputs": [],
   "source": []
  }
 ],
 "metadata": {
  "kernelspec": {
   "display_name": "Python 3 (ipykernel)",
   "language": "python",
   "name": "python3"
  },
  "language_info": {
   "codemirror_mode": {
    "name": "ipython",
    "version": 3
   },
   "file_extension": ".py",
   "mimetype": "text/x-python",
   "name": "python",
   "nbconvert_exporter": "python",
   "pygments_lexer": "ipython3",
   "version": "3.11.4"
  }
 },
 "nbformat": 4,
 "nbformat_minor": 5
}
