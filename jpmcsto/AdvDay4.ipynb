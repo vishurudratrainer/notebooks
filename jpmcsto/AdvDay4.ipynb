{
 "cells": [
  {
   "cell_type": "code",
   "execution_count": 1,
   "id": "2105ba10",
   "metadata": {},
   "outputs": [],
   "source": [
    "import requests"
   ]
  },
  {
   "cell_type": "code",
   "execution_count": 1,
   "id": "867a70eb",
   "metadata": {},
   "outputs": [
    {
     "name": "stdout",
     "output_type": "stream",
     "text": [
      "<!doctype html><html itemscope=\"\" itemtype=\"http://schema.org/WebPage\" lang=\"en-IN\"><head><meta content=\"text/html; charset=UTF-8\" http-equiv=\"Content-Type\"><meta content=\"/images/branding/googleg/1x/googleg_standard_color_128dp.png\" itemprop=\"image\"><title>Google</title><script nonce=\"gA9IHL86ZsiYEEUbvVklJw\">(function(){var _g={kEI:'c22eZaf3H7XXkPIP4raEoAc',kEXPI:'0,18167,780063,3,567235,206,2414,2390,896,1131174,870536,327170,303256,77529,16114,19397,9287,23792,12311,17588,4998,17075,38444,2872,2891,4139,4210,3405,606,30668,27619,18738,1014,1,16916,2652,4,59617,27002,6675,7593,1,42154,2,16737,23024,5679,1020,31123,4567,6253,23424,1252,33064,2,2,1,24626,2006,8155,23350,6431,2,2270,11804,7,1922,9779,12415,30044,20198,6050,14101,82,13332,39614,3030,11151,4665,1804,7734,29948,11035,8840,4652,951,3691,22248,15977,5210139,2,226,70,1147,143,5991518,651,1210,2806666,31560,7443905,19269717,1270287,16673,43886,3,1603,3,262,3,234,3,2121276,2585,23029351,8163,10336,2709,8027,873,7766,3383,7982,1656,3609,819,10576,5874,2,2,14606,8776,1723,1,5886,9213,2,1296,2052,27,6,5,14,266,1390,3442,703,663,209,2869,1022,1449,4189,962,1080,5,2269,1083,6433,37,170,435,6046,108,853,149,105,1965,977,627,4,1448,2,82,1,6,2587,15,213,553,3583,1543,1791,4,443,218,3,308,1036,715,92,164,310,2271,210,378,752,3366,5,1442,722,88,2105,51,586,1,6,1295,910,316,1313,3,670,1607,228,24,1233,274,714,295,167,274,606,591,281,839,1144,622,3,725,1424,2646,310,1242,390,205,107,1166,523,7,304,192,658,9,78,1243,333,605,230,1,1,730,20,1,125,1595,132,217,831,1463,4,112,1210,4,606,3,100,204,1604,566,53,168,560,81,286,2,6,2,138,468,14,259,2837,212,68,95,2,77,128,136,9,1324,107,1,344,493,21,1,6,1296,299,3,2,613,785,546,371,250,3,233,723,78,402,283,691,97,250,70,423,529,495,2078,21725839,218,507,1113,3,2662,1213',kBL:'yiBR',kOPI:89978449};(function(){var a;(null==(a=window.google)?0:a.stvsc)?google.kEI=_g.kEI:window.google=_g;}).call(this);})();(function(){google.sn='webhp';google.kHL='en-IN';})();(function(){\n",
      "var h=this||self;function l(){return void 0!==window.google&&void 0!==window.google.kOPI&&0!==window.google.kOPI?window.google.kOPI:null};var m,n=[];function p(a){for(var b;a&&(!a.getAttribute||!(b=a.getAttribute(\"eid\")));)a=a.parentNode;return b||m}function q(a){for(var b=null;a&&(!a.getAttribute||!(b=a.getAttribute(\"leid\")));)a=a.parentNode;return b}function r(a){/^http:/i.test(a)&&\"https:\"===window.location.protocol&&(google.ml&&google.ml(Error(\"a\"),!1,{src:a,glmm:1}),a=\"\");return a}\n",
      "function t(a,b,c,d,k){var e=\"\";-1===b.search(\"&ei=\")&&(e=\"&ei=\"+p(d),-1===b.search(\"&lei=\")&&(d=q(d))&&(e+=\"&lei=\"+d));d=\"\";var g=-1===b.search(\"&cshid=\")&&\"slh\"!==a,f=[];f.push([\"zx\",Date.now().toString()]);h._cshid&&g&&f.push([\"cshid\",h._cshid]);c=c();null!=c&&f.push([\"opi\",c.toString()]);for(c=0;c<f.length;c++){if(0===c||0<c)d+=\"&\";d+=f[c][0]+\"=\"+f[c][1]}return\"/\"+(k||\"gen_204\")+\"?atyp=i&ct=\"+String(a)+\"&cad=\"+(b+e+d)};m=google.kEI;google.getEI=p;google.getLEI=q;google.ml=function(){return null};google.log=function(a,b,c,d,k,e){e=void 0===e?l:e;c||(c=t(a,b,e,d,k));if(c=r(c)){a=new Image;var g=n.length;n[g]=a;a.onerror=a.onload=a.onabort=function(){delete n[g]};a.src=c}};google.logUrl=function(a,b){b=void 0===b?l:b;return t(\"\",a,b)};}).call(this);(function(){google.y={};google.sy=[];google.x=function(a,b){if(a)var c=a.id;else{do c=Math.random();while(google.y[c])}google.y[c]=[a,b];return!1};google.sx=function(a){google.sy.push(a)};google.lm=[];google.plm=function(a){google.lm.push.apply(google.lm,a)};google.lq=[];google.load=function(a,b,c){google.lq.push([[a],b,c])};google.loadAll=function(a,b){google.lq.push([a,b])};google.bx=!1;google.lx=function(){};var d=[];google.fce=function(a,b,c,e){d.push([a,b,c,e])};google.qce=d;}).call(this);google.f={};(function(){\n",
      "document.documentElement.addEventListener(\"submit\",function(b){var a;if(a=b.target){var c=a.getAttribute(\"data-submitfalse\");a=\"1\"===c||\"q\"===c&&!a.elements.q.value?!0:!1}else a=!1;a&&(b.preventDefault(),b.stopPropagation())},!0);document.documentElement.addEventListener(\"click\",function(b){var a;a:{for(a=b.target;a&&a!==document.documentElement;a=a.parentElement)if(\"A\"===a.tagName){a=\"1\"===a.getAttribute(\"data-nohref\");break a}a=!1}a&&b.preventDefault()},!0);}).call(this);</script><style>#gbar,#guser{font-size:13px;padding-top:1px !important;}#gbar{height:22px}#guser{padding-bottom:7px !important;text-align:right}.gbh,.gbd{border-top:1px solid #c9d7f1;font-size:1px}.gbh{height:0;position:absolute;top:24px;width:100%}@media all{.gb1{height:22px;margin-right:.5em;vertical-align:top}#gbar{float:left}}a.gb1,a.gb4{text-decoration:underline !important}a.gb1,a.gb4{color:#00c !important}.gbi .gb4{color:#dd8e27 !important}.gbf .gb4{color:#900 !important}\n",
      "</style><style>body,td,a,p,.h{font-family:arial,sans-serif}body{margin:0;overflow-y:scroll}#gog{padding:3px 8px 0}td{line-height:.8em}.gac_m td{line-height:17px}form{margin-bottom:20px}.h{color:#1967d2}em{font-weight:bold;font-style:normal}.lst{height:25px;width:496px}.gsfi,.lst{font:18px arial,sans-serif}.gsfs{font:17px arial,sans-serif}.ds{display:inline-box;display:inline-block;margin:3px 0 4px;margin-left:4px}input{font-family:inherit}body{background:#fff;color:#000}a{color:#681da8;text-decoration:none}a:hover,a:active{text-decoration:underline}.fl a{color:#1967d2}a:visited{color:#681da8}.sblc{padding-top:5px}.sblc a{display:block;margin:2px 0;margin-left:13px;font-size:11px}.lsbb{background:#f8f9fa;border:solid 1px;border-color:#dadce0 #70757a #70757a #dadce0;height:30px}.lsbb{display:block}#WqQANb a{display:inline-block;margin:0 12px}.lsb{background:url(/images/nav_logo229.png) 0 -261px repeat-x;color:#000;border:none;cursor:pointer;height:30px;margin:0;outline:0;font:15px arial,sans-serif;vertical-align:top}.lsb:active{background:#dadce0}.lst:focus{outline:none}</style><script nonce=\"gA9IHL86ZsiYEEUbvVklJw\">(function(){window.google.erd={jsr:1,bv:1933,de:true};\n",
      "var h=this||self;var k,l=null!=(k=h.mei)?k:1,n,p=null!=(n=h.sdo)?n:!0,q=0,r,t=google.erd,v=t.jsr;google.ml=function(a,b,d,m,e){e=void 0===e?2:e;b&&(r=a&&a.message);void 0===d&&(d={});d.cad=\"ple_\"+google.ple+\".aple_\"+google.aple;if(google.dl)return google.dl(a,e,d),null;b=d;if(0>v){window.console&&console.error(a,b);if(-2===v)throw a;b=!1}else b=!a||!a.message||\"Error loading script\"===a.message||q>=l&&!m?!1:!0;if(!b)return null;q++;d=d||{};b=encodeURIComponent;var c=\"/gen_204?atyp=i&ei=\"+b(google.kEI);google.kEXPI&&(c+=\"&jexpid=\"+b(google.kEXPI));c+=\"&srcpg=\"+b(google.sn)+\"&jsr=\"+b(t.jsr)+\"&bver=\"+\n",
      "b(t.bv);var f=a.lineNumber;void 0!==f&&(c+=\"&line=\"+f);var g=a.fileName;g&&(0<g.indexOf(\"-extension:/\")&&(e=3),c+=\"&script=\"+b(g),f&&g===window.location.href&&(f=document.documentElement.outerHTML.split(\"\\n\")[f],c+=\"&cad=\"+b(f?f.substring(0,300):\"No script found.\")));google.ple&&1===google.ple&&(e=2);c+=\"&jsel=\"+e;for(var u in d)c+=\"&\",c+=b(u),c+=\"=\",c+=b(d[u]);c=c+\"&emsg=\"+b(a.name+\": \"+a.message);c=c+\"&jsst=\"+b(a.stack||\"N/A\");12288<=c.length&&(c=c.substr(0,12288));a=c;m||google.log(0,\"\",a);return a};window.onerror=function(a,b,d,m,e){r!==a&&(a=e instanceof Error?e:Error(a),void 0===d||\"lineNumber\"in a||(a.lineNumber=d),void 0===b||\"fileName\"in a||(a.fileName=b),google.ml(a,!1,void 0,!1,\"SyntaxError\"===a.name||\"SyntaxError\"===a.message.substring(0,11)||-1!==a.message.indexOf(\"Script error\")?3:0));r=null;p&&q>=l&&(window.onerror=null)};})();</script></head><body bgcolor=\"#fff\"><script nonce=\"gA9IHL86ZsiYEEUbvVklJw\">(function(){var src='/images/nav_logo229.png';var iesg=false;document.body.onload = function(){window.n && window.n();if (document.images){new Image().src=src;}\n",
      "if (!iesg){document.f&&document.f.q.focus();document.gbqf&&document.gbqf.q.focus();}\n",
      "}\n",
      "})();</script><div id=\"mngb\"><div id=gbar><nobr><b class=gb1>Search</b> <a class=gb1 href=\"https://www.google.com/imghp?hl=en&tab=wi\">Images</a> <a class=gb1 href=\"http://maps.google.co.in/maps?hl=en&tab=wl\">Maps</a> <a class=gb1 href=\"https://play.google.com/?hl=en&tab=w8\">Play</a> <a class=gb1 href=\"https://www.youtube.com/?tab=w1\">YouTube</a> <a class=gb1 href=\"https://news.google.com/?tab=wn\">News</a> <a class=gb1 href=\"https://mail.google.com/mail/?tab=wm\">Gmail</a> <a class=gb1 href=\"https://drive.google.com/?tab=wo\">Drive</a> <a class=gb1 style=\"text-decoration:none\" href=\"https://www.google.co.in/intl/en/about/products?tab=wh\"><u>More</u> &raquo;</a></nobr></div><div id=guser width=100%><nobr><span id=gbn class=gbi></span><span id=gbf class=gbf></span><span id=gbe></span><a href=\"http://www.google.co.in/history/optout?hl=en\" class=gb4>Web History</a> | <a  href=\"/preferences?hl=en\" class=gb4>Settings</a> | <a target=_top id=gb_70 href=\"https://accounts.google.com/ServiceLogin?hl=en&passive=true&continue=http://www.google.com/&ec=GAZAAQ\" class=gb4>Sign in</a></nobr></div><div class=gbh style=left:0></div><div class=gbh style=right:0></div></div><center><br clear=\"all\" id=\"lgpd\"><div id=\"lga\"><img alt=\"Google\" height=\"92\" src=\"/images/branding/googlelogo/1x/googlelogo_white_background_color_272x92dp.png\" style=\"padding:28px 0 14px\" width=\"272\" id=\"hplogo\"><br><br></div><form action=\"/search\" name=\"f\"><table cellpadding=\"0\" cellspacing=\"0\"><tr valign=\"top\"><td width=\"25%\">&nbsp;</td><td align=\"center\" nowrap=\"\"><input name=\"ie\" value=\"ISO-8859-1\" type=\"hidden\"><input value=\"en-IN\" name=\"hl\" type=\"hidden\"><input name=\"source\" type=\"hidden\" value=\"hp\"><input name=\"biw\" type=\"hidden\"><input name=\"bih\" type=\"hidden\"><div class=\"ds\" style=\"height:32px;margin:4px 0\"><input class=\"lst\" style=\"margin:0;padding:5px 8px 0 6px;vertical-align:top;color:#000\" autocomplete=\"off\" value=\"\" title=\"Google Search\" maxlength=\"2048\" name=\"q\" size=\"57\"></div><br style=\"line-height:0\"><span class=\"ds\"><span class=\"lsbb\"><input class=\"lsb\" value=\"Google Search\" name=\"btnG\" type=\"submit\"></span></span><span class=\"ds\"><span class=\"lsbb\"><input class=\"lsb\" id=\"tsuid_1\" value=\"I'm Feeling Lucky\" name=\"btnI\" type=\"submit\"><script nonce=\"gA9IHL86ZsiYEEUbvVklJw\">(function(){var id='tsuid_1';document.getElementById(id).onclick = function(){if (this.form.q.value){this.checked = 1;if (this.form.iflsig)this.form.iflsig.disabled = false;}\n",
      "else top.location='/doodles/';};})();</script><input value=\"ANes7DEAAAAAZZ57g2Ly_tZXmuA7OjKDnCiTahM3DHo2\" name=\"iflsig\" type=\"hidden\"></span></span></td><td class=\"fl sblc\" align=\"left\" nowrap=\"\" width=\"25%\"><a href=\"/advanced_search?hl=en-IN&amp;authuser=0\">Advanced search</a></td></tr></table><input id=\"gbv\" name=\"gbv\" type=\"hidden\" value=\"1\"><script nonce=\"gA9IHL86ZsiYEEUbvVklJw\">(function(){var a,b=\"1\";if(document&&document.getElementById)if(\"undefined\"!=typeof XMLHttpRequest)b=\"2\";else if(\"undefined\"!=typeof ActiveXObject){var c,d,e=[\"MSXML2.XMLHTTP.6.0\",\"MSXML2.XMLHTTP.3.0\",\"MSXML2.XMLHTTP\",\"Microsoft.XMLHTTP\"];for(c=0;d=e[c++];)try{new ActiveXObject(d),b=\"2\"}catch(h){}}a=b;if(\"2\"==a&&-1==location.search.indexOf(\"&gbv=2\")){var f=google.gbvu,g=document.getElementById(\"gbv\");g&&(g.value=a);f&&window.setTimeout(function(){location.href=f},0)};}).call(this);</script></form><div id=\"gac_scont\"></div><div style=\"font-size:83%;min-height:3.5em\"><br><div id=\"gws-output-pages-elements-homepage_additional_languages__als\"><style>#gws-output-pages-elements-homepage_additional_languages__als{font-size:small;margin-bottom:24px}#SIvCob{color:#3c4043;display:inline-block;line-height:28px;}#SIvCob a{padding:0 3px;}.H6sW5{display:inline-block;margin:0 2px;white-space:nowrap}.z4hgWe{display:inline-block;margin:0 2px}</style><div id=\"SIvCob\">Google offered in:  <a href=\"http://www.google.com/setprefs?sig=0_BtFYi15ylpfBT4wqdevJDZrbEXg%3D&amp;hl=hi&amp;source=homepage&amp;sa=X&amp;ved=0ahUKEwjn_N_MytKDAxW1K0QIHWIbAXQQ2ZgBCAU\">&#2361;&#2367;&#2344;&#2381;&#2342;&#2368;</a>    <a href=\"http://www.google.com/setprefs?sig=0_BtFYi15ylpfBT4wqdevJDZrbEXg%3D&amp;hl=bn&amp;source=homepage&amp;sa=X&amp;ved=0ahUKEwjn_N_MytKDAxW1K0QIHWIbAXQQ2ZgBCAY\">&#2476;&#2494;&#2434;&#2482;&#2494;</a>    <a href=\"http://www.google.com/setprefs?sig=0_BtFYi15ylpfBT4wqdevJDZrbEXg%3D&amp;hl=te&amp;source=homepage&amp;sa=X&amp;ved=0ahUKEwjn_N_MytKDAxW1K0QIHWIbAXQQ2ZgBCAc\">&#3108;&#3142;&#3122;&#3137;&#3095;&#3137;</a>    <a href=\"http://www.google.com/setprefs?sig=0_BtFYi15ylpfBT4wqdevJDZrbEXg%3D&amp;hl=mr&amp;source=homepage&amp;sa=X&amp;ved=0ahUKEwjn_N_MytKDAxW1K0QIHWIbAXQQ2ZgBCAg\">&#2350;&#2352;&#2366;&#2336;&#2368;</a>    <a href=\"http://www.google.com/setprefs?sig=0_BtFYi15ylpfBT4wqdevJDZrbEXg%3D&amp;hl=ta&amp;source=homepage&amp;sa=X&amp;ved=0ahUKEwjn_N_MytKDAxW1K0QIHWIbAXQQ2ZgBCAk\">&#2980;&#2990;&#3007;&#2996;&#3021;</a>    <a href=\"http://www.google.com/setprefs?sig=0_BtFYi15ylpfBT4wqdevJDZrbEXg%3D&amp;hl=gu&amp;source=homepage&amp;sa=X&amp;ved=0ahUKEwjn_N_MytKDAxW1K0QIHWIbAXQQ2ZgBCAo\">&#2711;&#2753;&#2716;&#2736;&#2750;&#2724;&#2752;</a>    <a href=\"http://www.google.com/setprefs?sig=0_BtFYi15ylpfBT4wqdevJDZrbEXg%3D&amp;hl=kn&amp;source=homepage&amp;sa=X&amp;ved=0ahUKEwjn_N_MytKDAxW1K0QIHWIbAXQQ2ZgBCAs\">&#3221;&#3240;&#3277;&#3240;&#3233;</a>    <a href=\"http://www.google.com/setprefs?sig=0_BtFYi15ylpfBT4wqdevJDZrbEXg%3D&amp;hl=ml&amp;source=homepage&amp;sa=X&amp;ved=0ahUKEwjn_N_MytKDAxW1K0QIHWIbAXQQ2ZgBCAw\">&#3374;&#3378;&#3375;&#3390;&#3379;&#3330;</a>    <a href=\"http://www.google.com/setprefs?sig=0_BtFYi15ylpfBT4wqdevJDZrbEXg%3D&amp;hl=pa&amp;source=homepage&amp;sa=X&amp;ved=0ahUKEwjn_N_MytKDAxW1K0QIHWIbAXQQ2ZgBCA0\">&#2602;&#2672;&#2588;&#2622;&#2604;&#2624;</a>  </div></div></div><span id=\"footer\"><div style=\"font-size:10pt\"><div style=\"margin:19px auto;text-align:center\" id=\"WqQANb\"><a href=\"/intl/en/ads/\">Advertising</a><a href=\"http://www.google.co.in/services/\">Business Solutions</a><a href=\"/intl/en/about.html\">About Google</a><a href=\"http://www.google.com/setprefdomain?prefdom=IN&amp;prev=http://www.google.co.in/&amp;sig=K_U9DLzuyUbQ7soZ_LMmx48b7BlRc%3D\">Google.co.in</a></div></div><p style=\"font-size:8pt;color:#70757a\">&copy; 2024 - <a href=\"/intl/en/policies/privacy/\">Privacy</a> - <a href=\"/intl/en/policies/terms/\">Terms</a></p></span></center><script nonce=\"gA9IHL86ZsiYEEUbvVklJw\">(function(){window.google.cdo={height:757,width:1440};(function(){var a=window.innerWidth,b=window.innerHeight;if(!a||!b){var c=window.document,d=\"CSS1Compat\"==c.compatMode?c.documentElement:c.body;a=d.clientWidth;b=d.clientHeight}\n",
      "if(a&&b&&(a!=google.cdo.width||b!=google.cdo.height)){var e=google,f=e.log,g=\"/client_204?&atyp=i&biw=\"+a+\"&bih=\"+b+\"&ei=\"+google.kEI,h=\"\",k=[],l=void 0!==window.google&&void 0!==window.google.kOPI&&0!==window.google.kOPI?window.google.kOPI:null;null!=l&&k.push([\"opi\",l.toString()]);for(var m=0;m<k.length;m++){if(0===m||0<m)h+=\"&\";h+=k[m][0]+\"=\"+k[m][1]}f.call(e,\"\",\"\",g+h)};}).call(this);})();</script> <script nonce=\"gA9IHL86ZsiYEEUbvVklJw\">(function(){google.xjs={ck:'xjs.hp.RoftOKtFr0A.L.X.O',combam:'AAAAAAAAAAAAAAAAAAAAAAAAAAACAAAAAAAcAACAAAgAAACAAQAAAAAAAIAAAAfREQAMwBEAAF4',cs:'ACT90oGtgnEF_7msCLxxAatWTtnkaKtQ_A',cssam:'AAAAAAAAAAAAAAAAAAAAAAAAAAAAAAAAAAAAAACAAAgAAAAAAAAAAAAAAIAAAAAB',cssopt:false,csss:'ACT90oFnFusGmDVh0D4OMMH-CEqbEr-5CA',excm:[],sepam:false,sepcss:false};})();</script>     <script nonce=\"gA9IHL86ZsiYEEUbvVklJw\">(function(){var u='/xjs/_/js/k\\x3dxjs.hp.en.jV9KZBzNSiY.O/am\\x3dAAAAAAAAAAAAAAAAAAAAAAAAAAACAAAAAAAcAACAAAgAAACAAQAAAAAAAIAAAAfREQAMwBEAAF4/d\\x3d1/ed\\x3d1/rs\\x3dACT90oFgPZJWC0ffJU7Sx9YbB1kJ8Xq9Bg/m\\x3dsb_he,d';var amd=0;\n",
      "var e=this||self,f=function(a){return a};var g;var h=function(a){this.g=a};h.prototype.toString=function(){return this.g+\"\"};var k={};var l=function(){var a=document;var b=\"SCRIPT\";\"application/xhtml+xml\"===a.contentType&&(b=b.toLowerCase());return a.createElement(b)};\n",
      "function m(a,b){a.src=b instanceof h&&b.constructor===h?b.g:\"type_error:TrustedResourceUrl\";var c,d;(c=(b=null==(d=(c=(a.ownerDocument&&a.ownerDocument.defaultView||window).document).querySelector)?void 0:d.call(c,\"script[nonce]\"))?b.nonce||b.getAttribute(\"nonce\")||\"\":\"\")&&a.setAttribute(\"nonce\",c)};function n(a){a=null===a?\"null\":void 0===a?\"undefined\":a;if(void 0===g){var b=null;var c=e.trustedTypes;if(c&&c.createPolicy){try{b=c.createPolicy(\"goog#html\",{createHTML:f,createScript:f,createScriptURL:f})}catch(d){e.console&&e.console.error(d.message)}g=b}else g=b}a=(b=g)?b.createScriptURL(a):a;return new h(a,k)};void 0===google.ps&&(google.ps=[]);function p(){var a=u,b=function(){};google.lx=google.stvsc?b:function(){q(a);google.lx=b};google.bx||google.lx()}function r(a,b){b&&m(a,n(b));var c=a.onload;a.onload=function(d){c&&c(d);google.ps=google.ps.filter(function(t){return a!==t})};google.ps.push(a);document.body.appendChild(a)}google.as=r;function q(a){google.timers&&google.timers.load&&google.tick&&google.tick(\"load\",\"xjsls\");var b=l();b.onerror=function(){google.ple=1};b.onload=function(){google.ple=0};google.xjsus=void 0;r(b,a);google.aple=-1;google.psa=!0};google.xjsu=u;e._F_jsUrl=u;setTimeout(function(){0<amd?google.caft(function(){return p()},amd):p()},0);})();window._ = window._ || {};window._DumpException = _._DumpException = function(e){throw e;};window._s = window._s || {};_s._DumpException = _._DumpException;window._qs = window._qs || {};_qs._DumpException = _._DumpException;(function(){var t=[1,0,0,0,0,2560,0,536872967,264192,67502080,16777216,2097152,298911488,118501376,98566145];window._F_toggles = window._xjs_toggles = t;})();function _F_installCss(c){}\n",
      "(function(){google.jl={blt:'none',chnk:0,dw:false,dwu:true,emtn:0,end:0,ico:false,ikb:0,ine:false,injs:'none',injt:0,injth:0,injv2:false,lls:'default',pdt:0,rep:0,snet:true,strt:0,ubm:false,uwp:true};})();(function(){var pmc='{\\x22d\\x22:{},\\x22sb_he\\x22:{\\x22agen\\x22:false,\\x22cgen\\x22:false,\\x22client\\x22:\\x22heirloom-hp\\x22,\\x22dh\\x22:true,\\x22ds\\x22:\\x22\\x22,\\x22fl\\x22:true,\\x22host\\x22:\\x22google.com\\x22,\\x22jsonp\\x22:true,\\x22msgs\\x22:{\\x22cibl\\x22:\\x22Clear Search\\x22,\\x22dym\\x22:\\x22Did you mean:\\x22,\\x22lcky\\x22:\\x22I\\\\u0026#39;m Feeling Lucky\\x22,\\x22lml\\x22:\\x22Learn more\\x22,\\x22psrc\\x22:\\x22This search was removed from your \\\\u003Ca href\\x3d\\\\\\x22/history\\\\\\x22\\\\u003EWeb History\\\\u003C/a\\\\u003E\\x22,\\x22psrl\\x22:\\x22Remove\\x22,\\x22sbit\\x22:\\x22Search by image\\x22,\\x22srch\\x22:\\x22Google Search\\x22},\\x22ovr\\x22:{},\\x22pq\\x22:\\x22\\x22,\\x22rfs\\x22:[],\\x22sbas\\x22:\\x220 3px 8px 0 rgba(0,0,0,0.2),0 0 0 1px rgba(0,0,0,0.08)\\x22,\\x22stok\\x22:\\x222VpEf_BdYx_Cl08_qTcaqg3ROGE\\x22}}';google.pmc=JSON.parse(pmc);})();(function(){var b=function(a){var c=0;return function(){return c<a.length?{done:!1,value:a[c++]}:{done:!0}}};\n",
      "var e=this||self;var g,h;a:{for(var k=[\"CLOSURE_FLAGS\"],l=e,n=0;n<k.length;n++)if(l=l[k[n]],null==l){h=null;break a}h=l}var p=h&&h[610401301];g=null!=p?p:!1;var q,r=e.navigator;q=r?r.userAgentData||null:null;function t(a){return g?q?q.brands.some(function(c){return(c=c.brand)&&-1!=c.indexOf(a)}):!1:!1}function u(a){var c;a:{if(c=e.navigator)if(c=c.userAgent)break a;c=\"\"}return-1!=c.indexOf(a)};function v(){return g?!!q&&0<q.brands.length:!1}function w(){return u(\"Safari\")&&!(x()||(v()?0:u(\"Coast\"))||(v()?0:u(\"Opera\"))||(v()?0:u(\"Edge\"))||(v()?t(\"Microsoft Edge\"):u(\"Edg/\"))||(v()?t(\"Opera\"):u(\"OPR\"))||u(\"Firefox\")||u(\"FxiOS\")||u(\"Silk\")||u(\"Android\"))}function x(){return v()?t(\"Chromium\"):(u(\"Chrome\")||u(\"CriOS\"))&&!(v()?0:u(\"Edge\"))||u(\"Silk\")}function y(){return u(\"Android\")&&!(x()||u(\"Firefox\")||u(\"FxiOS\")||(v()?0:u(\"Opera\"))||u(\"Silk\"))};var z=v()?!1:u(\"Trident\")||u(\"MSIE\");y();x();w();Object.freeze(new function(){});Object.freeze(new function(){});var A=!z&&!w(),D=function(a){if(/-[a-z]/.test(\"ved\"))return null;if(A&&a.dataset){if(y()&&!(\"ved\"in a.dataset))return null;a=a.dataset.ved;return void 0===a?null:a}return a.getAttribute(\"data-\"+\"ved\".replace(/([A-Z])/g,\"-$1\").toLowerCase())};var E=[],F=null;function G(a){a=a.target;var c=performance.now(),f=[],H=f.concat,d=E;if(!(d instanceof Array)){var m=\"undefined\"!=typeof Symbol&&Symbol.iterator&&d[Symbol.iterator];if(m)d=m.call(d);else if(\"number\"==typeof d.length)d={next:b(d)};else throw Error(\"a`\"+String(d));for(var B=[];!(m=d.next()).done;)B.push(m.value);d=B}E=H.call(f,d,[c]);if(a&&a instanceof HTMLElement)if(a===F){if(c=4<=E.length)c=5>(E[E.length-1]-E[E.length-4])/1E3;if(c){c=google.getEI(a);a.hasAttribute(\"data-ved\")?f=a?D(a)||\"\":\"\":f=(f=\n",
      "a.closest(\"[data-ved]\"))?D(f)||\"\":\"\";f=f||\"\";if(a.hasAttribute(\"jsname\"))a=a.getAttribute(\"jsname\");else{var C;a=null==(C=a.closest(\"[jsname]\"))?void 0:C.getAttribute(\"jsname\")}google.log(\"rcm\",\"&ei=\"+c+\"&ved=\"+f+\"&jsname=\"+(a||\"\"))}}else F=a,E=[c]}window.document.addEventListener(\"DOMContentLoaded\",function(){document.body.addEventListener(\"click\",G)});}).call(this);</script></body></html>\n"
     ]
    }
   ],
   "source": [
    "import requests\n",
    "\n",
    "url = \"http://www.google.com\"\n",
    "\n",
    "payload={}\n",
    "headers = {\n",
    "  'Cookie': 'NID=511=Ywu6Cipgl7tlcTfZ6PzVYPc-2HJAc3iJFcIN5_cctAAhEO599KfQND04G0oLTTCfHdpiOZvTp606_j3vfQps93vEsh_rse5pb44iHXe14ILjoq2pr2lAN6r_t0pvhf4h2LnoBu5GVuJ4dHOtkPdERE0VnauuVUuOoUNZJlzKYGM'\n",
    "}\n",
    "\n",
    "response = requests.request(\"GET\", url, headers=headers, data=payload,)\n",
    "\n",
    "print(response.text)\n"
   ]
  },
  {
   "cell_type": "code",
   "execution_count": 3,
   "id": "2d0309e7",
   "metadata": {},
   "outputs": [
    {
     "name": "stdout",
     "output_type": "stream",
     "text": [
      "True\n",
      "{\"status\":\"success\",\"data\":[{\"id\":1,\"employee_name\":\"Tiger Nixon\",\"employee_salary\":320800,\"employee_age\":61,\"profile_image\":\"\"},{\"id\":2,\"employee_name\":\"Garrett Winters\",\"employee_salary\":170750,\"employee_age\":63,\"profile_image\":\"\"},{\"id\":3,\"employee_name\":\"Ashton Cox\",\"employee_salary\":86000,\"employee_age\":66,\"profile_image\":\"\"},{\"id\":4,\"employee_name\":\"Cedric Kelly\",\"employee_salary\":433060,\"employee_age\":22,\"profile_image\":\"\"},{\"id\":5,\"employee_name\":\"Airi Satou\",\"employee_salary\":162700,\"employee_age\":33,\"profile_image\":\"\"},{\"id\":6,\"employee_name\":\"Brielle Williamson\",\"employee_salary\":372000,\"employee_age\":61,\"profile_image\":\"\"},{\"id\":7,\"employee_name\":\"Herrod Chandler\",\"employee_salary\":137500,\"employee_age\":59,\"profile_image\":\"\"},{\"id\":8,\"employee_name\":\"Rhona Davidson\",\"employee_salary\":327900,\"employee_age\":55,\"profile_image\":\"\"},{\"id\":9,\"employee_name\":\"Colleen Hurst\",\"employee_salary\":205500,\"employee_age\":39,\"profile_image\":\"\"},{\"id\":10,\"employee_name\":\"Sonya Frost\",\"employee_salary\":103600,\"employee_age\":23,\"profile_image\":\"\"},{\"id\":11,\"employee_name\":\"Jena Gaines\",\"employee_salary\":90560,\"employee_age\":30,\"profile_image\":\"\"},{\"id\":12,\"employee_name\":\"Quinn Flynn\",\"employee_salary\":342000,\"employee_age\":22,\"profile_image\":\"\"},{\"id\":13,\"employee_name\":\"Charde Marshall\",\"employee_salary\":470600,\"employee_age\":36,\"profile_image\":\"\"},{\"id\":14,\"employee_name\":\"Haley Kennedy\",\"employee_salary\":313500,\"employee_age\":43,\"profile_image\":\"\"},{\"id\":15,\"employee_name\":\"Tatyana Fitzpatrick\",\"employee_salary\":385750,\"employee_age\":19,\"profile_image\":\"\"},{\"id\":16,\"employee_name\":\"Michael Silva\",\"employee_salary\":198500,\"employee_age\":66,\"profile_image\":\"\"},{\"id\":17,\"employee_name\":\"Paul Byrd\",\"employee_salary\":725000,\"employee_age\":64,\"profile_image\":\"\"},{\"id\":18,\"employee_name\":\"Gloria Little\",\"employee_salary\":237500,\"employee_age\":59,\"profile_image\":\"\"},{\"id\":19,\"employee_name\":\"Bradley Greer\",\"employee_salary\":132000,\"employee_age\":41,\"profile_image\":\"\"},{\"id\":20,\"employee_name\":\"Dai Rios\",\"employee_salary\":217500,\"employee_age\":35,\"profile_image\":\"\"},{\"id\":21,\"employee_name\":\"Jenette Caldwell\",\"employee_salary\":345000,\"employee_age\":30,\"profile_image\":\"\"},{\"id\":22,\"employee_name\":\"Yuri Berry\",\"employee_salary\":675000,\"employee_age\":40,\"profile_image\":\"\"},{\"id\":23,\"employee_name\":\"Caesar Vance\",\"employee_salary\":106450,\"employee_age\":21,\"profile_image\":\"\"},{\"id\":24,\"employee_name\":\"Doris Wilder\",\"employee_salary\":85600,\"employee_age\":23,\"profile_image\":\"\"}],\"message\":\"Successfully! All records has been fetched.\"}\n"
     ]
    }
   ],
   "source": [
    "response=requests.get(\"https://dummy.restapiexample.com/api/v1/employees\")\n",
    "print(response.ok)\n",
    "print(response.text)"
   ]
  },
  {
   "cell_type": "code",
   "execution_count": 2,
   "id": "3763fb4b",
   "metadata": {},
   "outputs": [],
   "source": [
    "response=requests.get('https://www.google.com')"
   ]
  },
  {
   "cell_type": "code",
   "execution_count": null,
   "id": "1b76256d",
   "metadata": {},
   "outputs": [],
   "source": []
  },
  {
   "cell_type": "code",
   "execution_count": 3,
   "id": "a71e18fb",
   "metadata": {},
   "outputs": [
    {
     "name": "stdout",
     "output_type": "stream",
     "text": [
      "b'<!doctype html><html itemscope=\"\" itemtype=\"http://schema.org/WebPage\" lang=\"en-IN\"><head><meta content=\"text/html; charset=UTF-8\" http-equiv=\"Content-Type\"><meta content=\"/images/branding/googleg/1x/googleg_standard_color_128dp.png\" itemprop=\"image\"><title>Google</title><script nonce=\"oUKHqKPGb1fnWtbX_iMMRA\">(function(){window.google={kEI:\\'ua1IZNHuH4XK1sQP1PassAE\\',kEXPI:\\'0,1359409,6059,206,4804,2316,383,246,5,1129120,1197723,671,380096,16115,19397,9287,22431,1361,12319,17580,4998,13228,3847,38444,2872,2891,4140,7614,606,30668,30022,15756,3,346,230,1014,1,16916,2652,4,1528,2304,29062,9871,3192,13660,21223,5788,2569,4094,7596,1,42154,2,14022,2715,23024,5679,1020,25048,6074,4569,6258,23418,1249,5838,12141,2827,4332,8,7476,445,2,2,1,26632,8155,6682,699,2,1477,14490,873,6578,13056,7,1922,9779,22902,13252,2523,3782,2007,1134,17057,1340,18797,14,82,13333,6873,3371,699,4307,3787,15173,5403,2265,765,6111,3225,1321,494,4665,1804,7734,2738,1853,423,609,7160,2757,957,2177,6689,5780,1641,1407,2130,1851,514,1138,776,179,87,114,1098,17,1059,3633,2,1868,6,268,892,2523,1056,1439,1128,5903,1440,428,243,620,1077,2002,744,620,804,1189,3130,83,92,118,342,129,67,594,2,1542,1654,356,70,31,225,1,362,265,443,2,817,208,28,888,124,45,2299,261,10,169,504,465,514,102,5,583,578,220,3,3,9,1936,683,738,37,115,588,961,45,209,387,86,2,172,308,9,519,257,202,129,22,120,256,434,194,375,206,2,10,39,3,374,118,121,1822,223,5206474,189,2,70,412,149,5993208,2805074,3311,141,795,19735,1,1,346,5007,8,13,10,19,34,2,2,25,9,5,7,16,2,7,41,5,81,15,1,89,38,58,2,2,2,2,4,2,23944977,2862026,1180116,1964,5415,8883,2375,2893,6250,14996,744,1725,303,741,1412287,146986,57980,23554986,84,94,134,816,126,629,2,437,20,45,1,238,1,27,730,60,20,2,344,179,709,2,1509,62,877,2,1382,958,294,405,4,439\\',kBL:\\'s1qM\\',kOPI:89978449};google.sn=\\'webhp\\';google.kHL=\\'en-IN\\';})();(function(){\\nvar h=this||self;function l(){return void 0!==window.google&&void 0!==window.google.kOPI&&0!==window.google.kOPI?window.google.kOPI:null};var m,n=[];function p(a){for(var b;a&&(!a.getAttribute||!(b=a.getAttribute(\"eid\")));)a=a.parentNode;return b||m}function q(a){for(var b=null;a&&(!a.getAttribute||!(b=a.getAttribute(\"leid\")));)a=a.parentNode;return b}function r(a){/^http:/i.test(a)&&\"https:\"===window.location.protocol&&(google.ml&&google.ml(Error(\"a\"),!1,{src:a,glmm:1}),a=\"\");return a}\\nfunction t(a,b,c,d,k){var e=\"\";-1===b.search(\"&ei=\")&&(e=\"&ei=\"+p(d),-1===b.search(\"&lei=\")&&(d=q(d))&&(e+=\"&lei=\"+d));d=\"\";var g=-1===b.search(\"&cshid=\")&&\"slh\"!==a,f=[];f.push([\"zx\",Date.now().toString()]);h._cshid&&g&&f.push([\"cshid\",h._cshid]);c=c();null!=c&&f.push([\"opi\",c.toString()]);for(c=0;c<f.length;c++){if(0===c||0<c)d+=\"&\";d+=f[c][0]+\"=\"+f[c][1]}return\"/\"+(k||\"gen_204\")+\"?atyp=i&ct=\"+String(a)+\"&cad=\"+(b+e+d)};m=google.kEI;google.getEI=p;google.getLEI=q;google.ml=function(){return null};google.log=function(a,b,c,d,k,e){e=void 0===e?l:e;c||(c=t(a,b,e,d,k));if(c=r(c)){a=new Image;var g=n.length;n[g]=a;a.onerror=a.onload=a.onabort=function(){delete n[g]};a.src=c}};google.logUrl=function(a,b){b=void 0===b?l:b;return t(\"\",a,b)};}).call(this);(function(){google.y={};google.sy=[];google.x=function(a,b){if(a)var c=a.id;else{do c=Math.random();while(google.y[c])}google.y[c]=[a,b];return!1};google.sx=function(a){google.sy.push(a)};google.lm=[];google.plm=function(a){google.lm.push.apply(google.lm,a)};google.lq=[];google.load=function(a,b,c){google.lq.push([[a],b,c])};google.loadAll=function(a,b){google.lq.push([a,b])};google.bx=!1;google.lx=function(){};}).call(this);google.f={};(function(){\\ndocument.documentElement.addEventListener(\"submit\",function(b){var a;if(a=b.target){var c=a.getAttribute(\"data-submitfalse\");a=\"1\"===c||\"q\"===c&&!a.elements.q.value?!0:!1}else a=!1;a&&(b.preventDefault(),b.stopPropagation())},!0);document.documentElement.addEventListener(\"click\",function(b){var a;a:{for(a=b.target;a&&a!==document.documentElement;a=a.parentElement)if(\"A\"===a.tagName){a=\"1\"===a.getAttribute(\"data-nohref\");break a}a=!1}a&&b.preventDefault()},!0);}).call(this);</script><style>#gbar,#guser{font-size:13px;padding-top:1px !important;}#gbar{height:22px}#guser{padding-bottom:7px !important;text-align:right}.gbh,.gbd{border-top:1px solid #c9d7f1;font-size:1px}.gbh{height:0;position:absolute;top:24px;width:100%}@media all{.gb1{height:22px;margin-right:.5em;vertical-align:top}#gbar{float:left}}a.gb1,a.gb4{text-decoration:underline !important}a.gb1,a.gb4{color:#00c !important}.gbi .gb4{color:#dd8e27 !important}.gbf .gb4{color:#900 !important}\\n</style><style>body,td,a,p,.h{font-family:arial,sans-serif}body{margin:0;overflow-y:scroll}#gog{padding:3px 8px 0}td{line-height:.8em}.gac_m td{line-height:17px}form{margin-bottom:20px}.h{color:#1558d6}em{font-weight:bold;font-style:normal}.lst{height:25px;width:496px}.gsfi,.lst{font:18px arial,sans-serif}.gsfs{font:17px arial,sans-serif}.ds{display:inline-box;display:inline-block;margin:3px 0 4px;margin-left:4px}input{font-family:inherit}body{background:#fff;color:#000}a{color:#4b11a8;text-decoration:none}a:hover,a:active{text-decoration:underline}.fl a{color:#1558d6}a:visited{color:#4b11a8}.sblc{padding-top:5px}.sblc a{display:block;margin:2px 0;margin-left:13px;font-size:11px}.lsbb{background:#f8f9fa;border:solid 1px;border-color:#dadce0 #70757a #70757a #dadce0;height:30px}.lsbb{display:block}#WqQANb a{display:inline-block;margin:0 12px}.lsb{background:url(/images/nav_logo229.png) 0 -261px repeat-x;border:none;color:#000;cursor:pointer;height:30px;margin:0;outline:0;font:15px arial,sans-serif;vertical-align:top}.lsb:active{background:#dadce0}.lst:focus{outline:none}</style><script nonce=\"oUKHqKPGb1fnWtbX_iMMRA\">(function(){window.google.erd={jsr:1,bv:1783,de:true};\\nvar h=this||self;var k,l=null!=(k=h.mei)?k:1,n,p=null!=(n=h.sdo)?n:!0,q=0,r,t=google.erd,v=t.jsr;google.ml=function(a,b,d,m,e){e=void 0===e?2:e;b&&(r=a&&a.message);if(google.dl)return google.dl(a,e,d),null;if(0>v){window.console&&console.error(a,d);if(-2===v)throw a;b=!1}else b=!a||!a.message||\"Error loading script\"===a.message||q>=l&&!m?!1:!0;if(!b)return null;q++;d=d||{};b=encodeURIComponent;var c=\"/gen_204?atyp=i&ei=\"+b(google.kEI);google.kEXPI&&(c+=\"&jexpid=\"+b(google.kEXPI));c+=\"&srcpg=\"+b(google.sn)+\"&jsr=\"+b(t.jsr)+\"&bver=\"+b(t.bv);var f=a.lineNumber;void 0!==f&&(c+=\"&line=\"+f);var g=\\na.fileName;g&&(0<g.indexOf(\"-extension:/\")&&(e=3),c+=\"&script=\"+b(g),f&&g===window.location.href&&(f=document.documentElement.outerHTML.split(\"\\\\n\")[f],c+=\"&cad=\"+b(f?f.substring(0,300):\"No script found.\")));c+=\"&jsel=\"+e;for(var u in d)c+=\"&\",c+=b(u),c+=\"=\",c+=b(d[u]);c=c+\"&emsg=\"+b(a.name+\": \"+a.message);c=c+\"&jsst=\"+b(a.stack||\"N/A\");12288<=c.length&&(c=c.substr(0,12288));a=c;m||google.log(0,\"\",a);return a};window.onerror=function(a,b,d,m,e){r!==a&&(a=e instanceof Error?e:Error(a),void 0===d||\"lineNumber\"in a||(a.lineNumber=d),void 0===b||\"fileName\"in a||(a.fileName=b),google.ml(a,!1,void 0,!1,\"SyntaxError\"===a.name||\"SyntaxError\"===a.message.substring(0,11)||-1!==a.message.indexOf(\"Script error\")?3:0));r=null;p&&q>=l&&(window.onerror=null)};})();</script></head><body bgcolor=\"#fff\"><script nonce=\"oUKHqKPGb1fnWtbX_iMMRA\">(function(){var src=\\'/images/nav_logo229.png\\';var iesg=false;document.body.onload = function(){window.n && window.n();if (document.images){new Image().src=src;}\\nif (!iesg){document.f&&document.f.q.focus();document.gbqf&&document.gbqf.q.focus();}\\n}\\n})();</script><div id=\"mngb\"><div id=gbar><nobr><b class=gb1>Search</b> <a class=gb1 href=\"https://www.google.co.in/imghp?hl=en&tab=wi\">Images</a> <a class=gb1 href=\"https://maps.google.co.in/maps?hl=en&tab=wl\">Maps</a> <a class=gb1 href=\"https://play.google.com/?hl=en&tab=w8\">Play</a> <a class=gb1 href=\"https://www.youtube.com/?tab=w1\">YouTube</a> <a class=gb1 href=\"https://news.google.com/?tab=wn\">News</a> <a class=gb1 href=\"https://mail.google.com/mail/?tab=wm\">Gmail</a> <a class=gb1 href=\"https://drive.google.com/?tab=wo\">Drive</a> <a class=gb1 style=\"text-decoration:none\" href=\"https://www.google.co.in/intl/en/about/products?tab=wh\"><u>More</u> &raquo;</a></nobr></div><div id=guser width=100%><nobr><span id=gbn class=gbi></span><span id=gbf class=gbf></span><span id=gbe></span><a href=\"http://www.google.co.in/history/optout?hl=en\" class=gb4>Web History</a> | <a  href=\"/preferences?hl=en\" class=gb4>Settings</a> | <a target=_top id=gb_70 href=\"https://accounts.google.com/ServiceLogin?hl=en&passive=true&continue=https://www.google.com/&ec=GAZAAQ\" class=gb4>Sign in</a></nobr></div><div class=gbh style=left:0></div><div class=gbh style=right:0></div></div><center><br clear=\"all\" id=\"lgpd\"><div id=\"lga\"><img alt=\"Google\" height=\"92\" src=\"/images/branding/googlelogo/1x/googlelogo_white_background_color_272x92dp.png\" style=\"padding:28px 0 14px\" width=\"272\" id=\"hplogo\"><br><br></div><form action=\"/search\" name=\"f\"><table cellpadding=\"0\" cellspacing=\"0\"><tr valign=\"top\"><td width=\"25%\">&nbsp;</td><td align=\"center\" nowrap=\"\"><input name=\"ie\" value=\"ISO-8859-1\" type=\"hidden\"><input value=\"en-IN\" name=\"hl\" type=\"hidden\"><input name=\"source\" type=\"hidden\" value=\"hp\"><input name=\"biw\" type=\"hidden\"><input name=\"bih\" type=\"hidden\"><div class=\"ds\" style=\"height:32px;margin:4px 0\"><input class=\"lst\" style=\"margin:0;padding:5px 8px 0 6px;vertical-align:top;color:#000\" autocomplete=\"off\" value=\"\" title=\"Google Search\" maxlength=\"2048\" name=\"q\" size=\"57\"></div><br style=\"line-height:0\"><span class=\"ds\"><span class=\"lsbb\"><input class=\"lsb\" value=\"Google Search\" name=\"btnG\" type=\"submit\"></span></span><span class=\"ds\"><span class=\"lsbb\"><input class=\"lsb\" id=\"tsuid_1\" value=\"I\\'m Feeling Lucky\" name=\"btnI\" type=\"submit\"><script nonce=\"oUKHqKPGb1fnWtbX_iMMRA\">(function(){var id=\\'tsuid_1\\';document.getElementById(id).onclick = function(){if (this.form.q.value){this.checked = 1;if (this.form.iflsig)this.form.iflsig.disabled = false;}\\nelse top.location=\\'/doodles/\\';};})();</script><input value=\"AOEireoAAAAAZEi7yZm-565tafdWCQoU-YYU2HBJFiit\" name=\"iflsig\" type=\"hidden\"></span></span></td><td class=\"fl sblc\" align=\"left\" nowrap=\"\" width=\"25%\"><a href=\"/advanced_search?hl=en-IN&amp;authuser=0\">Advanced search</a></td></tr></table><input id=\"gbv\" name=\"gbv\" type=\"hidden\" value=\"1\"><script nonce=\"oUKHqKPGb1fnWtbX_iMMRA\">(function(){var a,b=\"1\";if(document&&document.getElementById)if(\"undefined\"!=typeof XMLHttpRequest)b=\"2\";else if(\"undefined\"!=typeof ActiveXObject){var c,d,e=[\"MSXML2.XMLHTTP.6.0\",\"MSXML2.XMLHTTP.3.0\",\"MSXML2.XMLHTTP\",\"Microsoft.XMLHTTP\"];for(c=0;d=e[c++];)try{new ActiveXObject(d),b=\"2\"}catch(h){}}a=b;if(\"2\"==a&&-1==location.search.indexOf(\"&gbv=2\")){var f=google.gbvu,g=document.getElementById(\"gbv\");g&&(g.value=a);f&&window.setTimeout(function(){location.href=f},0)};}).call(this);</script></form><div id=\"gac_scont\"></div><div style=\"font-size:83%;min-height:3.5em\"><br><div id=\"gws-output-pages-elements-homepage_additional_languages__als\"><style>#gws-output-pages-elements-homepage_additional_languages__als{font-size:small;margin-bottom:24px}#SIvCob{color:#3c4043;display:inline-block;line-height:28px;}#SIvCob a{padding:0 3px;}.H6sW5{display:inline-block;margin:0 2px;white-space:nowrap}.z4hgWe{display:inline-block;margin:0 2px}</style><div id=\"SIvCob\">Google offered in:  <a href=\"https://www.google.com/setprefs?sig=0_ErwATWI909zNtldVGIVkb9u80R4%3D&amp;hl=hi&amp;source=homepage&amp;sa=X&amp;ved=0ahUKEwiRr9Dm38b-AhUFpZUCHVQ7CxYQ2ZgBCAU\">&#2361;&#2367;&#2344;&#2381;&#2342;&#2368;</a>    <a href=\"https://www.google.com/setprefs?sig=0_ErwATWI909zNtldVGIVkb9u80R4%3D&amp;hl=bn&amp;source=homepage&amp;sa=X&amp;ved=0ahUKEwiRr9Dm38b-AhUFpZUCHVQ7CxYQ2ZgBCAY\">&#2476;&#2494;&#2434;&#2482;&#2494;</a>    <a href=\"https://www.google.com/setprefs?sig=0_ErwATWI909zNtldVGIVkb9u80R4%3D&amp;hl=te&amp;source=homepage&amp;sa=X&amp;ved=0ahUKEwiRr9Dm38b-AhUFpZUCHVQ7CxYQ2ZgBCAc\">&#3108;&#3142;&#3122;&#3137;&#3095;&#3137;</a>    <a href=\"https://www.google.com/setprefs?sig=0_ErwATWI909zNtldVGIVkb9u80R4%3D&amp;hl=mr&amp;source=homepage&amp;sa=X&amp;ved=0ahUKEwiRr9Dm38b-AhUFpZUCHVQ7CxYQ2ZgBCAg\">&#2350;&#2352;&#2366;&#2336;&#2368;</a>    <a href=\"https://www.google.com/setprefs?sig=0_ErwATWI909zNtldVGIVkb9u80R4%3D&amp;hl=ta&amp;source=homepage&amp;sa=X&amp;ved=0ahUKEwiRr9Dm38b-AhUFpZUCHVQ7CxYQ2ZgBCAk\">&#2980;&#2990;&#3007;&#2996;&#3021;</a>    <a href=\"https://www.google.com/setprefs?sig=0_ErwATWI909zNtldVGIVkb9u80R4%3D&amp;hl=gu&amp;source=homepage&amp;sa=X&amp;ved=0ahUKEwiRr9Dm38b-AhUFpZUCHVQ7CxYQ2ZgBCAo\">&#2711;&#2753;&#2716;&#2736;&#2750;&#2724;&#2752;</a>    <a href=\"https://www.google.com/setprefs?sig=0_ErwATWI909zNtldVGIVkb9u80R4%3D&amp;hl=kn&amp;source=homepage&amp;sa=X&amp;ved=0ahUKEwiRr9Dm38b-AhUFpZUCHVQ7CxYQ2ZgBCAs\">&#3221;&#3240;&#3277;&#3240;&#3233;</a>    <a href=\"https://www.google.com/setprefs?sig=0_ErwATWI909zNtldVGIVkb9u80R4%3D&amp;hl=ml&amp;source=homepage&amp;sa=X&amp;ved=0ahUKEwiRr9Dm38b-AhUFpZUCHVQ7CxYQ2ZgBCAw\">&#3374;&#3378;&#3375;&#3390;&#3379;&#3330;</a>    <a href=\"https://www.google.com/setprefs?sig=0_ErwATWI909zNtldVGIVkb9u80R4%3D&amp;hl=pa&amp;source=homepage&amp;sa=X&amp;ved=0ahUKEwiRr9Dm38b-AhUFpZUCHVQ7CxYQ2ZgBCA0\">&#2602;&#2672;&#2588;&#2622;&#2604;&#2624;</a>  </div></div></div><span id=\"footer\"><div style=\"font-size:10pt\"><div style=\"margin:19px auto;text-align:center\" id=\"WqQANb\"><a href=\"/intl/en/ads/\">Advertising</a><a href=\"http://www.google.co.in/services/\">Business Solutions</a><a href=\"/intl/en/about.html\">About Google</a><a href=\"https://www.google.com/setprefdomain?prefdom=IN&amp;prev=https://www.google.co.in/&amp;sig=K_1ZwhE2c6qUNp957dnL8R593xukQ%3D\">Google.co.in</a></div></div><p style=\"font-size:8pt;color:#70757a\">&copy; 2023 - <a href=\"/intl/en/policies/privacy/\">Privacy</a> - <a href=\"/intl/en/policies/terms/\">Terms</a></p></span></center><script nonce=\"oUKHqKPGb1fnWtbX_iMMRA\">(function(){window.google.cdo={height:757,width:1440};(function(){var a=window.innerWidth,b=window.innerHeight;if(!a||!b){var c=window.document,d=\"CSS1Compat\"==c.compatMode?c.documentElement:c.body;a=d.clientWidth;b=d.clientHeight}a&&b&&(a!=google.cdo.width||b!=google.cdo.height)&&google.log(\"\",\"\",\"/client_204?&atyp=i&biw=\"+a+\"&bih=\"+b+\"&ei=\"+google.kEI);}).call(this);})();</script> <script nonce=\"oUKHqKPGb1fnWtbX_iMMRA\">(function(){google.xjs={ck:\\'xjs.hp.zL4QsZl0WMA.L.X.O\\',cs:\\'ACT90oHMk1ndK0F6yXR82dj7FsuO-eTshg\\',excm:[]};})();</script>  <script nonce=\"oUKHqKPGb1fnWtbX_iMMRA\">(function(){var u=\\'/xjs/_/js/k\\\\x3dxjs.hp.en.cM1vRoPEZMs.O/am\\\\x3dAAAAdAIAKACw/d\\\\x3d1/ed\\\\x3d1/rs\\\\x3dACT90oFbDER4xZzYsQnAxvVVi7mFAAFIwA/m\\\\x3dsb_he,d\\';var amd=0;\\nvar e=this||self,f=function(c){return c};var h;var n=function(c,g){this.g=g===l?c:\"\"};n.prototype.toString=function(){return this.g+\"\"};var l={};\\nfunction p(){var c=u,g=function(){};google.lx=google.stvsc?g:function(){google.timers&&google.timers.load&&google.tick&&google.tick(\"load\",\"xjsls\");var a=document;var b=\"SCRIPT\";\"application/xhtml+xml\"===a.contentType&&(b=b.toLowerCase());b=a.createElement(b);a=null===c?\"null\":void 0===c?\"undefined\":c;if(void 0===h){var d=null;var m=e.trustedTypes;if(m&&m.createPolicy){try{d=m.createPolicy(\"goog#html\",{createHTML:f,createScript:f,createScriptURL:f})}catch(r){e.console&&e.console.error(r.message)}h=\\nd}else h=d}a=(d=h)?d.createScriptURL(a):a;a=new n(a,l);b.src=a instanceof n&&a.constructor===n?a.g:\"type_error:TrustedResourceUrl\";var k,q;(k=(a=null==(q=(k=(b.ownerDocument&&b.ownerDocument.defaultView||window).document).querySelector)?void 0:q.call(k,\"script[nonce]\"))?a.nonce||a.getAttribute(\"nonce\")||\"\":\"\")&&b.setAttribute(\"nonce\",k);document.body.appendChild(b);google.psa=!0;google.lx=g};google.bx||google.lx()};google.xjsu=u;e._F_jsUrl=u;setTimeout(function(){0<amd?google.caft(function(){return p()},amd):p()},0);})();window._ = window._ || {};window._DumpException = _._DumpException = function(e){throw e;};window._s = window._s || {};_s._DumpException = _._DumpException;window._qs = window._qs || {};_qs._DumpException = _._DumpException;function _F_installCss(c){}\\n(function(){google.jl={blt:\\'none\\',chnk:0,dw:false,dwu:true,emtn:0,end:0,ico:false,ikb:0,ine:false,injs:\\'none\\',injt:0,injth:0,injv2:false,lls:\\'default\\',pdt:0,rep:0,snet:true,strt:0,ubm:false,uwp:true};})();(function(){var pmc=\\'{\\\\x22d\\\\x22:{},\\\\x22sb_he\\\\x22:{\\\\x22agen\\\\x22:true,\\\\x22cgen\\\\x22:true,\\\\x22client\\\\x22:\\\\x22heirloom-hp\\\\x22,\\\\x22dh\\\\x22:true,\\\\x22ds\\\\x22:\\\\x22\\\\x22,\\\\x22fl\\\\x22:true,\\\\x22host\\\\x22:\\\\x22google.com\\\\x22,\\\\x22jsonp\\\\x22:true,\\\\x22msgs\\\\x22:{\\\\x22cibl\\\\x22:\\\\x22Clear Search\\\\x22,\\\\x22dym\\\\x22:\\\\x22Did you mean:\\\\x22,\\\\x22lcky\\\\x22:\\\\x22I\\\\\\\\u0026#39;m Feeling Lucky\\\\x22,\\\\x22lml\\\\x22:\\\\x22Learn more\\\\x22,\\\\x22psrc\\\\x22:\\\\x22This search was removed from your \\\\\\\\u003Ca href\\\\x3d\\\\\\\\\\\\x22/history\\\\\\\\\\\\x22\\\\\\\\u003EWeb History\\\\\\\\u003C/a\\\\\\\\u003E\\\\x22,\\\\x22psrl\\\\x22:\\\\x22Remove\\\\x22,\\\\x22sbit\\\\x22:\\\\x22Search by image\\\\x22,\\\\x22srch\\\\x22:\\\\x22Google Search\\\\x22},\\\\x22ovr\\\\x22:{},\\\\x22pq\\\\x22:\\\\x22\\\\x22,\\\\x22rfs\\\\x22:[],\\\\x22sbas\\\\x22:\\\\x220 3px 8px 0 rgba(0,0,0,0.2),0 0 0 1px rgba(0,0,0,0.08)\\\\x22,\\\\x22stok\\\\x22:\\\\x22oZ6rtXhtOEQiXQHcWyo9CBAzcic\\\\x22}}\\';google.pmc=JSON.parse(pmc);})();</script>       </body></html>'\n"
     ]
    }
   ],
   "source": [
    "print(response.content)"
   ]
  },
  {
   "cell_type": "code",
   "execution_count": 4,
   "id": "155ad815",
   "metadata": {},
   "outputs": [],
   "source": [
    "response=requests.get('https://jsonplaceholder.typicode.com/todos')"
   ]
  },
  {
   "cell_type": "code",
   "execution_count": 5,
   "id": "ccc02b10",
   "metadata": {},
   "outputs": [],
   "source": [
    "dataLst=response.json()"
   ]
  },
  {
   "cell_type": "code",
   "execution_count": 6,
   "id": "3fbb82c9",
   "metadata": {},
   "outputs": [
    {
     "name": "stdout",
     "output_type": "stream",
     "text": [
      "{'userId': 1, 'id': 1, 'title': 'delectus aut autem', 'completed': False}\n",
      "{'userId': 1, 'id': 2, 'title': 'quis ut nam facilis et officia qui', 'completed': False}\n",
      "{'userId': 1, 'id': 3, 'title': 'fugiat veniam minus', 'completed': False}\n",
      "{'userId': 1, 'id': 4, 'title': 'et porro tempora', 'completed': True}\n",
      "{'userId': 1, 'id': 5, 'title': 'laboriosam mollitia et enim quasi adipisci quia provident illum', 'completed': False}\n",
      "{'userId': 1, 'id': 6, 'title': 'qui ullam ratione quibusdam voluptatem quia omnis', 'completed': False}\n",
      "{'userId': 1, 'id': 7, 'title': 'illo expedita consequatur quia in', 'completed': False}\n",
      "{'userId': 1, 'id': 8, 'title': 'quo adipisci enim quam ut ab', 'completed': True}\n",
      "{'userId': 1, 'id': 9, 'title': 'molestiae perspiciatis ipsa', 'completed': False}\n",
      "{'userId': 1, 'id': 10, 'title': 'illo est ratione doloremque quia maiores aut', 'completed': True}\n",
      "{'userId': 1, 'id': 11, 'title': 'vero rerum temporibus dolor', 'completed': True}\n",
      "{'userId': 1, 'id': 12, 'title': 'ipsa repellendus fugit nisi', 'completed': True}\n",
      "{'userId': 1, 'id': 13, 'title': 'et doloremque nulla', 'completed': False}\n",
      "{'userId': 1, 'id': 14, 'title': 'repellendus sunt dolores architecto voluptatum', 'completed': True}\n",
      "{'userId': 1, 'id': 15, 'title': 'ab voluptatum amet voluptas', 'completed': True}\n",
      "{'userId': 1, 'id': 16, 'title': 'accusamus eos facilis sint et aut voluptatem', 'completed': True}\n",
      "{'userId': 1, 'id': 17, 'title': 'quo laboriosam deleniti aut qui', 'completed': True}\n",
      "{'userId': 1, 'id': 18, 'title': 'dolorum est consequatur ea mollitia in culpa', 'completed': False}\n",
      "{'userId': 1, 'id': 19, 'title': 'molestiae ipsa aut voluptatibus pariatur dolor nihil', 'completed': True}\n",
      "{'userId': 1, 'id': 20, 'title': 'ullam nobis libero sapiente ad optio sint', 'completed': True}\n",
      "{'userId': 2, 'id': 21, 'title': 'suscipit repellat esse quibusdam voluptatem incidunt', 'completed': False}\n",
      "{'userId': 2, 'id': 22, 'title': 'distinctio vitae autem nihil ut molestias quo', 'completed': True}\n",
      "{'userId': 2, 'id': 23, 'title': 'et itaque necessitatibus maxime molestiae qui quas velit', 'completed': False}\n",
      "{'userId': 2, 'id': 24, 'title': 'adipisci non ad dicta qui amet quaerat doloribus ea', 'completed': False}\n",
      "{'userId': 2, 'id': 25, 'title': 'voluptas quo tenetur perspiciatis explicabo natus', 'completed': True}\n",
      "{'userId': 2, 'id': 26, 'title': 'aliquam aut quasi', 'completed': True}\n",
      "{'userId': 2, 'id': 27, 'title': 'veritatis pariatur delectus', 'completed': True}\n",
      "{'userId': 2, 'id': 28, 'title': 'nesciunt totam sit blanditiis sit', 'completed': False}\n",
      "{'userId': 2, 'id': 29, 'title': 'laborum aut in quam', 'completed': False}\n",
      "{'userId': 2, 'id': 30, 'title': 'nemo perspiciatis repellat ut dolor libero commodi blanditiis omnis', 'completed': True}\n",
      "{'userId': 2, 'id': 31, 'title': 'repudiandae totam in est sint facere fuga', 'completed': False}\n",
      "{'userId': 2, 'id': 32, 'title': 'earum doloribus ea doloremque quis', 'completed': False}\n",
      "{'userId': 2, 'id': 33, 'title': 'sint sit aut vero', 'completed': False}\n",
      "{'userId': 2, 'id': 34, 'title': 'porro aut necessitatibus eaque distinctio', 'completed': False}\n",
      "{'userId': 2, 'id': 35, 'title': 'repellendus veritatis molestias dicta incidunt', 'completed': True}\n",
      "{'userId': 2, 'id': 36, 'title': 'excepturi deleniti adipisci voluptatem et neque optio illum ad', 'completed': True}\n",
      "{'userId': 2, 'id': 37, 'title': 'sunt cum tempora', 'completed': False}\n",
      "{'userId': 2, 'id': 38, 'title': 'totam quia non', 'completed': False}\n",
      "{'userId': 2, 'id': 39, 'title': 'doloremque quibusdam asperiores libero corrupti illum qui omnis', 'completed': False}\n",
      "{'userId': 2, 'id': 40, 'title': 'totam atque quo nesciunt', 'completed': True}\n",
      "{'userId': 3, 'id': 41, 'title': 'aliquid amet impedit consequatur aspernatur placeat eaque fugiat suscipit', 'completed': False}\n",
      "{'userId': 3, 'id': 42, 'title': 'rerum perferendis error quia ut eveniet', 'completed': False}\n",
      "{'userId': 3, 'id': 43, 'title': 'tempore ut sint quis recusandae', 'completed': True}\n",
      "{'userId': 3, 'id': 44, 'title': 'cum debitis quis accusamus doloremque ipsa natus sapiente omnis', 'completed': True}\n",
      "{'userId': 3, 'id': 45, 'title': 'velit soluta adipisci molestias reiciendis harum', 'completed': False}\n",
      "{'userId': 3, 'id': 46, 'title': 'vel voluptatem repellat nihil placeat corporis', 'completed': False}\n",
      "{'userId': 3, 'id': 47, 'title': 'nam qui rerum fugiat accusamus', 'completed': False}\n",
      "{'userId': 3, 'id': 48, 'title': 'sit reprehenderit omnis quia', 'completed': False}\n",
      "{'userId': 3, 'id': 49, 'title': 'ut necessitatibus aut maiores debitis officia blanditiis velit et', 'completed': False}\n",
      "{'userId': 3, 'id': 50, 'title': 'cupiditate necessitatibus ullam aut quis dolor voluptate', 'completed': True}\n",
      "{'userId': 3, 'id': 51, 'title': 'distinctio exercitationem ab doloribus', 'completed': False}\n",
      "{'userId': 3, 'id': 52, 'title': 'nesciunt dolorum quis recusandae ad pariatur ratione', 'completed': False}\n",
      "{'userId': 3, 'id': 53, 'title': 'qui labore est occaecati recusandae aliquid quam', 'completed': False}\n",
      "{'userId': 3, 'id': 54, 'title': 'quis et est ut voluptate quam dolor', 'completed': True}\n",
      "{'userId': 3, 'id': 55, 'title': 'voluptatum omnis minima qui occaecati provident nulla voluptatem ratione', 'completed': True}\n",
      "{'userId': 3, 'id': 56, 'title': 'deleniti ea temporibus enim', 'completed': True}\n",
      "{'userId': 3, 'id': 57, 'title': 'pariatur et magnam ea doloribus similique voluptatem rerum quia', 'completed': False}\n",
      "{'userId': 3, 'id': 58, 'title': 'est dicta totam qui explicabo doloribus qui dignissimos', 'completed': False}\n",
      "{'userId': 3, 'id': 59, 'title': 'perspiciatis velit id laborum placeat iusto et aliquam odio', 'completed': False}\n",
      "{'userId': 3, 'id': 60, 'title': 'et sequi qui architecto ut adipisci', 'completed': True}\n",
      "{'userId': 4, 'id': 61, 'title': 'odit optio omnis qui sunt', 'completed': True}\n",
      "{'userId': 4, 'id': 62, 'title': 'et placeat et tempore aspernatur sint numquam', 'completed': False}\n",
      "{'userId': 4, 'id': 63, 'title': 'doloremque aut dolores quidem fuga qui nulla', 'completed': True}\n",
      "{'userId': 4, 'id': 64, 'title': 'voluptas consequatur qui ut quia magnam nemo esse', 'completed': False}\n",
      "{'userId': 4, 'id': 65, 'title': 'fugiat pariatur ratione ut asperiores necessitatibus magni', 'completed': False}\n",
      "{'userId': 4, 'id': 66, 'title': 'rerum eum molestias autem voluptatum sit optio', 'completed': False}\n",
      "{'userId': 4, 'id': 67, 'title': 'quia voluptatibus voluptatem quos similique maiores repellat', 'completed': False}\n",
      "{'userId': 4, 'id': 68, 'title': 'aut id perspiciatis voluptatem iusto', 'completed': False}\n",
      "{'userId': 4, 'id': 69, 'title': 'doloribus sint dolorum ab adipisci itaque dignissimos aliquam suscipit', 'completed': False}\n",
      "{'userId': 4, 'id': 70, 'title': 'ut sequi accusantium et mollitia delectus sunt', 'completed': False}\n",
      "{'userId': 4, 'id': 71, 'title': 'aut velit saepe ullam', 'completed': False}\n",
      "{'userId': 4, 'id': 72, 'title': 'praesentium facilis facere quis harum voluptatibus voluptatem eum', 'completed': False}\n",
      "{'userId': 4, 'id': 73, 'title': 'sint amet quia totam corporis qui exercitationem commodi', 'completed': True}\n",
      "{'userId': 4, 'id': 74, 'title': 'expedita tempore nobis eveniet laborum maiores', 'completed': False}\n",
      "{'userId': 4, 'id': 75, 'title': 'occaecati adipisci est possimus totam', 'completed': False}\n",
      "{'userId': 4, 'id': 76, 'title': 'sequi dolorem sed', 'completed': True}\n",
      "{'userId': 4, 'id': 77, 'title': 'maiores aut nesciunt delectus exercitationem vel assumenda eligendi at', 'completed': False}\n",
      "{'userId': 4, 'id': 78, 'title': 'reiciendis est magnam amet nemo iste recusandae impedit quaerat', 'completed': False}\n",
      "{'userId': 4, 'id': 79, 'title': 'eum ipsa maxime ut', 'completed': True}\n",
      "{'userId': 4, 'id': 80, 'title': 'tempore molestias dolores rerum sequi voluptates ipsum consequatur', 'completed': True}\n",
      "{'userId': 5, 'id': 81, 'title': 'suscipit qui totam', 'completed': True}\n",
      "{'userId': 5, 'id': 82, 'title': 'voluptates eum voluptas et dicta', 'completed': False}\n",
      "{'userId': 5, 'id': 83, 'title': 'quidem at rerum quis ex aut sit quam', 'completed': True}\n",
      "{'userId': 5, 'id': 84, 'title': 'sunt veritatis ut voluptate', 'completed': False}\n",
      "{'userId': 5, 'id': 85, 'title': 'et quia ad iste a', 'completed': True}\n",
      "{'userId': 5, 'id': 86, 'title': 'incidunt ut saepe autem', 'completed': True}\n",
      "{'userId': 5, 'id': 87, 'title': 'laudantium quae eligendi consequatur quia et vero autem', 'completed': True}\n",
      "{'userId': 5, 'id': 88, 'title': 'vitae aut excepturi laboriosam sint aliquam et et accusantium', 'completed': False}\n",
      "{'userId': 5, 'id': 89, 'title': 'sequi ut omnis et', 'completed': True}\n",
      "{'userId': 5, 'id': 90, 'title': 'molestiae nisi accusantium tenetur dolorem et', 'completed': True}\n",
      "{'userId': 5, 'id': 91, 'title': 'nulla quis consequatur saepe qui id expedita', 'completed': True}\n",
      "{'userId': 5, 'id': 92, 'title': 'in omnis laboriosam', 'completed': True}\n",
      "{'userId': 5, 'id': 93, 'title': 'odio iure consequatur molestiae quibusdam necessitatibus quia sint', 'completed': True}\n",
      "{'userId': 5, 'id': 94, 'title': 'facilis modi saepe mollitia', 'completed': False}\n",
      "{'userId': 5, 'id': 95, 'title': 'vel nihil et molestiae iusto assumenda nemo quo ut', 'completed': True}\n",
      "{'userId': 5, 'id': 96, 'title': 'nobis suscipit ducimus enim asperiores voluptas', 'completed': False}\n",
      "{'userId': 5, 'id': 97, 'title': 'dolorum laboriosam eos qui iure aliquam', 'completed': False}\n",
      "{'userId': 5, 'id': 98, 'title': 'debitis accusantium ut quo facilis nihil quis sapiente necessitatibus', 'completed': True}\n",
      "{'userId': 5, 'id': 99, 'title': 'neque voluptates ratione', 'completed': False}\n",
      "{'userId': 5, 'id': 100, 'title': 'excepturi a et neque qui expedita vel voluptate', 'completed': False}\n",
      "{'userId': 6, 'id': 101, 'title': 'explicabo enim cumque porro aperiam occaecati minima', 'completed': False}\n",
      "{'userId': 6, 'id': 102, 'title': 'sed ab consequatur', 'completed': False}\n",
      "{'userId': 6, 'id': 103, 'title': 'non sunt delectus illo nulla tenetur enim omnis', 'completed': False}\n",
      "{'userId': 6, 'id': 104, 'title': 'excepturi non laudantium quo', 'completed': False}\n",
      "{'userId': 6, 'id': 105, 'title': 'totam quia dolorem et illum repellat voluptas optio', 'completed': True}\n",
      "{'userId': 6, 'id': 106, 'title': 'ad illo quis voluptatem temporibus', 'completed': True}\n",
      "{'userId': 6, 'id': 107, 'title': 'praesentium facilis omnis laudantium fugit ad iusto nihil nesciunt', 'completed': False}\n",
      "{'userId': 6, 'id': 108, 'title': 'a eos eaque nihil et exercitationem incidunt delectus', 'completed': True}\n",
      "{'userId': 6, 'id': 109, 'title': 'autem temporibus harum quisquam in culpa', 'completed': True}\n",
      "{'userId': 6, 'id': 110, 'title': 'aut aut ea corporis', 'completed': True}\n",
      "{'userId': 6, 'id': 111, 'title': 'magni accusantium labore et id quis provident', 'completed': False}\n",
      "{'userId': 6, 'id': 112, 'title': 'consectetur impedit quisquam qui deserunt non rerum consequuntur eius', 'completed': False}\n",
      "{'userId': 6, 'id': 113, 'title': 'quia atque aliquam sunt impedit voluptatum rerum assumenda nisi', 'completed': False}\n",
      "{'userId': 6, 'id': 114, 'title': 'cupiditate quos possimus corporis quisquam exercitationem beatae', 'completed': False}\n",
      "{'userId': 6, 'id': 115, 'title': 'sed et ea eum', 'completed': False}\n",
      "{'userId': 6, 'id': 116, 'title': 'ipsa dolores vel facilis ut', 'completed': True}\n",
      "{'userId': 6, 'id': 117, 'title': 'sequi quae est et qui qui eveniet asperiores', 'completed': False}\n",
      "{'userId': 6, 'id': 118, 'title': 'quia modi consequatur vero fugiat', 'completed': False}\n",
      "{'userId': 6, 'id': 119, 'title': 'corporis ducimus ea perspiciatis iste', 'completed': False}\n",
      "{'userId': 6, 'id': 120, 'title': 'dolorem laboriosam vel voluptas et aliquam quasi', 'completed': False}\n",
      "{'userId': 7, 'id': 121, 'title': 'inventore aut nihil minima laudantium hic qui omnis', 'completed': True}\n",
      "{'userId': 7, 'id': 122, 'title': 'provident aut nobis culpa', 'completed': True}\n",
      "{'userId': 7, 'id': 123, 'title': 'esse et quis iste est earum aut impedit', 'completed': False}\n",
      "{'userId': 7, 'id': 124, 'title': 'qui consectetur id', 'completed': False}\n",
      "{'userId': 7, 'id': 125, 'title': 'aut quasi autem iste tempore illum possimus', 'completed': False}\n",
      "{'userId': 7, 'id': 126, 'title': 'ut asperiores perspiciatis veniam ipsum rerum saepe', 'completed': True}\n",
      "{'userId': 7, 'id': 127, 'title': 'voluptatem libero consectetur rerum ut', 'completed': True}\n",
      "{'userId': 7, 'id': 128, 'title': 'eius omnis est qui voluptatem autem', 'completed': False}\n",
      "{'userId': 7, 'id': 129, 'title': 'rerum culpa quis harum', 'completed': False}\n",
      "{'userId': 7, 'id': 130, 'title': 'nulla aliquid eveniet harum laborum libero alias ut unde', 'completed': True}\n",
      "{'userId': 7, 'id': 131, 'title': 'qui ea incidunt quis', 'completed': False}\n",
      "{'userId': 7, 'id': 132, 'title': 'qui molestiae voluptatibus velit iure harum quisquam', 'completed': True}\n",
      "{'userId': 7, 'id': 133, 'title': 'et labore eos enim rerum consequatur sunt', 'completed': True}\n",
      "{'userId': 7, 'id': 134, 'title': 'molestiae doloribus et laborum quod ea', 'completed': False}\n",
      "{'userId': 7, 'id': 135, 'title': 'facere ipsa nam eum voluptates reiciendis vero qui', 'completed': False}\n",
      "{'userId': 7, 'id': 136, 'title': 'asperiores illo tempora fuga sed ut quasi adipisci', 'completed': False}\n",
      "{'userId': 7, 'id': 137, 'title': 'qui sit non', 'completed': False}\n",
      "{'userId': 7, 'id': 138, 'title': 'placeat minima consequatur rem qui ut', 'completed': True}\n",
      "{'userId': 7, 'id': 139, 'title': 'consequatur doloribus id possimus voluptas a voluptatem', 'completed': False}\n",
      "{'userId': 7, 'id': 140, 'title': 'aut consectetur in blanditiis deserunt quia sed laboriosam', 'completed': True}\n",
      "{'userId': 8, 'id': 141, 'title': 'explicabo consectetur debitis voluptates quas quae culpa rerum non', 'completed': True}\n",
      "{'userId': 8, 'id': 142, 'title': 'maiores accusantium architecto necessitatibus reiciendis ea aut', 'completed': True}\n",
      "{'userId': 8, 'id': 143, 'title': 'eum non recusandae cupiditate animi', 'completed': False}\n",
      "{'userId': 8, 'id': 144, 'title': 'ut eum exercitationem sint', 'completed': False}\n",
      "{'userId': 8, 'id': 145, 'title': 'beatae qui ullam incidunt voluptatem non nisi aliquam', 'completed': False}\n",
      "{'userId': 8, 'id': 146, 'title': 'molestiae suscipit ratione nihil odio libero impedit vero totam', 'completed': True}\n",
      "{'userId': 8, 'id': 147, 'title': 'eum itaque quod reprehenderit et facilis dolor autem ut', 'completed': True}\n",
      "{'userId': 8, 'id': 148, 'title': 'esse quas et quo quasi exercitationem', 'completed': False}\n",
      "{'userId': 8, 'id': 149, 'title': 'animi voluptas quod perferendis est', 'completed': False}\n",
      "{'userId': 8, 'id': 150, 'title': 'eos amet tempore laudantium fugit a', 'completed': False}\n",
      "{'userId': 8, 'id': 151, 'title': 'accusamus adipisci dicta qui quo ea explicabo sed vero', 'completed': True}\n",
      "{'userId': 8, 'id': 152, 'title': 'odit eligendi recusandae doloremque cumque non', 'completed': False}\n",
      "{'userId': 8, 'id': 153, 'title': 'ea aperiam consequatur qui repellat eos', 'completed': False}\n",
      "{'userId': 8, 'id': 154, 'title': 'rerum non ex sapiente', 'completed': True}\n",
      "{'userId': 8, 'id': 155, 'title': 'voluptatem nobis consequatur et assumenda magnam', 'completed': True}\n",
      "{'userId': 8, 'id': 156, 'title': 'nam quia quia nulla repellat assumenda quibusdam sit nobis', 'completed': True}\n",
      "{'userId': 8, 'id': 157, 'title': 'dolorem veniam quisquam deserunt repellendus', 'completed': True}\n",
      "{'userId': 8, 'id': 158, 'title': 'debitis vitae delectus et harum accusamus aut deleniti a', 'completed': True}\n",
      "{'userId': 8, 'id': 159, 'title': 'debitis adipisci quibusdam aliquam sed dolore ea praesentium nobis', 'completed': True}\n",
      "{'userId': 8, 'id': 160, 'title': 'et praesentium aliquam est', 'completed': False}\n",
      "{'userId': 9, 'id': 161, 'title': 'ex hic consequuntur earum omnis alias ut occaecati culpa', 'completed': True}\n",
      "{'userId': 9, 'id': 162, 'title': 'omnis laboriosam molestias animi sunt dolore', 'completed': True}\n",
      "{'userId': 9, 'id': 163, 'title': 'natus corrupti maxime laudantium et voluptatem laboriosam odit', 'completed': False}\n",
      "{'userId': 9, 'id': 164, 'title': 'reprehenderit quos aut aut consequatur est sed', 'completed': False}\n",
      "{'userId': 9, 'id': 165, 'title': 'fugiat perferendis sed aut quidem', 'completed': False}\n",
      "{'userId': 9, 'id': 166, 'title': 'quos quo possimus suscipit minima ut', 'completed': False}\n",
      "{'userId': 9, 'id': 167, 'title': 'et quis minus quo a asperiores molestiae', 'completed': False}\n",
      "{'userId': 9, 'id': 168, 'title': 'recusandae quia qui sunt libero', 'completed': False}\n",
      "{'userId': 9, 'id': 169, 'title': 'ea odio perferendis officiis', 'completed': True}\n",
      "{'userId': 9, 'id': 170, 'title': 'quisquam aliquam quia doloribus aut', 'completed': False}\n",
      "{'userId': 9, 'id': 171, 'title': 'fugiat aut voluptatibus corrupti deleniti velit iste odio', 'completed': True}\n",
      "{'userId': 9, 'id': 172, 'title': 'et provident amet rerum consectetur et voluptatum', 'completed': False}\n",
      "{'userId': 9, 'id': 173, 'title': 'harum ad aperiam quis', 'completed': False}\n",
      "{'userId': 9, 'id': 174, 'title': 'similique aut quo', 'completed': False}\n",
      "{'userId': 9, 'id': 175, 'title': 'laudantium eius officia perferendis provident perspiciatis asperiores', 'completed': True}\n",
      "{'userId': 9, 'id': 176, 'title': 'magni soluta corrupti ut maiores rem quidem', 'completed': False}\n",
      "{'userId': 9, 'id': 177, 'title': 'et placeat temporibus voluptas est tempora quos quibusdam', 'completed': False}\n",
      "{'userId': 9, 'id': 178, 'title': 'nesciunt itaque commodi tempore', 'completed': True}\n",
      "{'userId': 9, 'id': 179, 'title': 'omnis consequuntur cupiditate impedit itaque ipsam quo', 'completed': True}\n",
      "{'userId': 9, 'id': 180, 'title': 'debitis nisi et dolorem repellat et', 'completed': True}\n",
      "{'userId': 10, 'id': 181, 'title': 'ut cupiditate sequi aliquam fuga maiores', 'completed': False}\n",
      "{'userId': 10, 'id': 182, 'title': 'inventore saepe cumque et aut illum enim', 'completed': True}\n",
      "{'userId': 10, 'id': 183, 'title': 'omnis nulla eum aliquam distinctio', 'completed': True}\n",
      "{'userId': 10, 'id': 184, 'title': 'molestias modi perferendis perspiciatis', 'completed': False}\n",
      "{'userId': 10, 'id': 185, 'title': 'voluptates dignissimos sed doloribus animi quaerat aut', 'completed': False}\n",
      "{'userId': 10, 'id': 186, 'title': 'explicabo odio est et', 'completed': False}\n",
      "{'userId': 10, 'id': 187, 'title': 'consequuntur animi possimus', 'completed': False}\n",
      "{'userId': 10, 'id': 188, 'title': 'vel non beatae est', 'completed': True}\n",
      "{'userId': 10, 'id': 189, 'title': 'culpa eius et voluptatem et', 'completed': True}\n",
      "{'userId': 10, 'id': 190, 'title': 'accusamus sint iusto et voluptatem exercitationem', 'completed': True}\n",
      "{'userId': 10, 'id': 191, 'title': 'temporibus atque distinctio omnis eius impedit tempore molestias pariatur', 'completed': True}\n",
      "{'userId': 10, 'id': 192, 'title': 'ut quas possimus exercitationem sint voluptates', 'completed': False}\n",
      "{'userId': 10, 'id': 193, 'title': 'rerum debitis voluptatem qui eveniet tempora distinctio a', 'completed': True}\n",
      "{'userId': 10, 'id': 194, 'title': 'sed ut vero sit molestiae', 'completed': False}\n",
      "{'userId': 10, 'id': 195, 'title': 'rerum ex veniam mollitia voluptatibus pariatur', 'completed': True}\n",
      "{'userId': 10, 'id': 196, 'title': 'consequuntur aut ut fugit similique', 'completed': True}\n",
      "{'userId': 10, 'id': 197, 'title': 'dignissimos quo nobis earum saepe', 'completed': True}\n",
      "{'userId': 10, 'id': 198, 'title': 'quis eius est sint explicabo', 'completed': True}\n",
      "{'userId': 10, 'id': 199, 'title': 'numquam repellendus a magnam', 'completed': True}\n",
      "{'userId': 10, 'id': 200, 'title': 'ipsam aperiam voluptates qui', 'completed': False}\n"
     ]
    }
   ],
   "source": [
    "for data in dataLst:\n",
    "    print(data)"
   ]
  },
  {
   "cell_type": "code",
   "execution_count": 8,
   "id": "ac4a44bb",
   "metadata": {},
   "outputs": [],
   "source": [
    "response=requests.post('https://jsonplaceholder.typicode.com/posts',json={ 'title': 'foo',\n",
    "    'body': 'bar',\n",
    "    'userId': 1})"
   ]
  },
  {
   "cell_type": "code",
   "execution_count": 9,
   "id": "f6e2ae1d",
   "metadata": {},
   "outputs": [
    {
     "data": {
      "text/plain": [
       "{'title': 'foo', 'body': 'bar', 'userId': 1, 'id': 101}"
      ]
     },
     "execution_count": 9,
     "metadata": {},
     "output_type": "execute_result"
    }
   ],
   "source": [
    "response.json()"
   ]
  },
  {
   "cell_type": "code",
   "execution_count": 12,
   "id": "c9d189bc",
   "metadata": {},
   "outputs": [],
   "source": [
    "from bs4 import BeautifulSoup"
   ]
  },
  {
   "cell_type": "code",
   "execution_count": 10,
   "id": "ec90ce16",
   "metadata": {},
   "outputs": [
    {
     "name": "stdout",
     "output_type": "stream",
     "text": [
      "Collecting bs4\n",
      "  Downloading bs4-0.0.1.tar.gz (1.1 kB)\n",
      "Requirement already satisfied: beautifulsoup4 in c:\\users\\asus\\anaconda3\\lib\\site-packages (from bs4) (4.9.3)\n",
      "Requirement already satisfied: soupsieve>1.2 in c:\\users\\asus\\anaconda3\\lib\\site-packages (from beautifulsoup4->bs4) (2.2.1)\n",
      "Building wheels for collected packages: bs4\n",
      "  Building wheel for bs4 (setup.py): started\n",
      "  Building wheel for bs4 (setup.py): finished with status 'done'\n",
      "  Created wheel for bs4: filename=bs4-0.0.1-py3-none-any.whl size=1273 sha256=da062b110a57cccfe0740e52b0c61afb6028018eb2d8f377abac6193791e28dd\n",
      "  Stored in directory: c:\\users\\asus\\appdata\\local\\pip\\cache\\wheels\\75\\78\\21\\68b124549c9bdc94f822c02fb9aa3578a669843f9767776bca\n",
      "Successfully built bs4\n",
      "Installing collected packages: bs4\n",
      "Successfully installed bs4-0.0.1\n",
      "Note: you may need to restart the kernel to use updated packages.\n"
     ]
    }
   ],
   "source": [
    "pip install bs4"
   ]
  },
  {
   "cell_type": "code",
   "execution_count": 3,
   "id": "2ef702db",
   "metadata": {},
   "outputs": [
    {
     "name": "stdout",
     "output_type": "stream",
     "text": [
      "<title>Google</title>\n"
     ]
    }
   ],
   "source": [
    "import requests\n",
    "from bs4 import BeautifulSoup\n",
    "url=\"https://www.google.com\"\n",
    "data =requests.get(url)\n",
    "soupdata=BeautifulSoup(data.text,'html.parser')\n",
    "print(soupdata.title)"
   ]
  },
  {
   "cell_type": "code",
   "execution_count": 4,
   "id": "bbfb4bfb",
   "metadata": {},
   "outputs": [
    {
     "name": "stdout",
     "output_type": "stream",
     "text": [
      "['html', <html itemscope=\"\" itemtype=\"http://schema.org/WebPage\" lang=\"en-IN\"><head><meta content=\"text/html; charset=utf-8\" http-equiv=\"Content-Type\"/><meta content=\"/images/branding/googleg/1x/googleg_standard_color_128dp.png\" itemprop=\"image\"/><title>Google</title><script nonce=\"tp-a6FDXCbgnl_Em5AB4iw\">(function(){var _g={kEI:'5H-eZejsNJGv0PEP47WFiAU',kEXPI:'0,798230,3,567234,207,4804,1132070,1827,868709,327174,380781,16114,28684,23792,12312,4752,12835,4998,17075,38444,2872,2891,561,3578,7615,606,29880,788,32636,13491,230,1014,1,16916,2652,4,57402,29262,6627,7596,1,42154,2,16737,23024,5679,1021,31122,4568,6255,23420,1253,30151,2913,2,2,1,26632,8155,23350,20507,7,1922,9779,12415,30044,20199,20150,82,13332,34789,4825,3030,15816,1804,7734,15103,24721,1159,8840,31542,15977,5203198,6229,712,2,297,1137,152,16,5993363,2807465,30761,7443905,16496294,2769771,1273939,16673,43886,3,563,1040,3,262,3,234,3,2121276,2585,23029351,6869,1294,3394,6942,2709,8027,8639,13021,4428,10576,5874,2,2,14606,8781,1718,1,5886,9213,2,1296,2052,27,6,5,15,265,1390,3442,703,662,210,2765,107,2468,5120,332,779,5,1990,279,1043,6680,435,1894,1014,3138,108,853,149,105,2942,627,4,1532,1,6,2587,228,553,511,3071,1545,1785,4,386,62,218,3,2060,91,475,2270,211,1129,3372,5,1159,2,994,1991,4,255,597,1,6,1281,1236,198,1121,3,654,1859,1507,714,301,161,274,270,86,250,591,283,1980,1350,4071,310,1343,289,206,104,4,1164,278,2,6,2,542,850,12,78,1245,332,604,231,1,1,876,1729,23,192,496,2,739,1331,411,1,954,296,3,100,205,46,298,2046,560,81,468,2,2,4,426,14,260,3081,130,2,77,128,262,1206,967,1,6,1371,842,1706,246,3,953,483,837,392,94,332,682,501,2078,583,6,21364607,360643,218,4284,1215',kBL:'fyZ2',kOPI:89978449};(function(){var a;(null==(a=window.google)?0:a.stvsc)?google.kEI=_g.kEI:window.google=_g;}).call(this);})();(function(){google.sn='webhp';google.kHL='en-IN';})();(function(){\n",
      "var h=this||self;function l(){return void 0!==window.google&&void 0!==window.google.kOPI&&0!==window.google.kOPI?window.google.kOPI:null};var m,n=[];function p(a){for(var b;a&&(!a.getAttribute||!(b=a.getAttribute(\"eid\")));)a=a.parentNode;return b||m}function q(a){for(var b=null;a&&(!a.getAttribute||!(b=a.getAttribute(\"leid\")));)a=a.parentNode;return b}function r(a){/^http:/i.test(a)&&\"https:\"===window.location.protocol&&(google.ml&&google.ml(Error(\"a\"),!1,{src:a,glmm:1}),a=\"\");return a}\n",
      "function t(a,b,c,d,k){var e=\"\";-1===b.search(\"&ei=\")&&(e=\"&ei=\"+p(d),-1===b.search(\"&lei=\")&&(d=q(d))&&(e+=\"&lei=\"+d));d=\"\";var g=-1===b.search(\"&cshid=\")&&\"slh\"!==a,f=[];f.push([\"zx\",Date.now().toString()]);h._cshid&&g&&f.push([\"cshid\",h._cshid]);c=c();null!=c&&f.push([\"opi\",c.toString()]);for(c=0;c<f.length;c++){if(0===c||0<c)d+=\"&\";d+=f[c][0]+\"=\"+f[c][1]}return\"/\"+(k||\"gen_204\")+\"?atyp=i&ct=\"+String(a)+\"&cad=\"+(b+e+d)};m=google.kEI;google.getEI=p;google.getLEI=q;google.ml=function(){return null};google.log=function(a,b,c,d,k,e){e=void 0===e?l:e;c||(c=t(a,b,e,d,k));if(c=r(c)){a=new Image;var g=n.length;n[g]=a;a.onerror=a.onload=a.onabort=function(){delete n[g]};a.src=c}};google.logUrl=function(a,b){b=void 0===b?l:b;return t(\"\",a,b)};}).call(this);(function(){google.y={};google.sy=[];google.x=function(a,b){if(a)var c=a.id;else{do c=Math.random();while(google.y[c])}google.y[c]=[a,b];return!1};google.sx=function(a){google.sy.push(a)};google.lm=[];google.plm=function(a){google.lm.push.apply(google.lm,a)};google.lq=[];google.load=function(a,b,c){google.lq.push([[a],b,c])};google.loadAll=function(a,b){google.lq.push([a,b])};google.bx=!1;google.lx=function(){};var d=[];google.fce=function(a,b,c,e){d.push([a,b,c,e])};google.qce=d;}).call(this);google.f={};(function(){\n",
      "document.documentElement.addEventListener(\"submit\",function(b){var a;if(a=b.target){var c=a.getAttribute(\"data-submitfalse\");a=\"1\"===c||\"q\"===c&&!a.elements.q.value?!0:!1}else a=!1;a&&(b.preventDefault(),b.stopPropagation())},!0);document.documentElement.addEventListener(\"click\",function(b){var a;a:{for(a=b.target;a&&a!==document.documentElement;a=a.parentElement)if(\"A\"===a.tagName){a=\"1\"===a.getAttribute(\"data-nohref\");break a}a=!1}a&&b.preventDefault()},!0);}).call(this);</script><style>#gbar,#guser{font-size:13px;padding-top:1px !important;}#gbar{height:22px}#guser{padding-bottom:7px !important;text-align:right}.gbh,.gbd{border-top:1px solid #c9d7f1;font-size:1px}.gbh{height:0;position:absolute;top:24px;width:100%}@media all{.gb1{height:22px;margin-right:.5em;vertical-align:top}#gbar{float:left}}a.gb1,a.gb4{text-decoration:underline !important}a.gb1,a.gb4{color:#00c !important}.gbi .gb4{color:#dd8e27 !important}.gbf .gb4{color:#900 !important}\n",
      "</style><style>body,td,a,p,.h{font-family:arial,sans-serif}body{margin:0;overflow-y:scroll}#gog{padding:3px 8px 0}td{line-height:.8em}.gac_m td{line-height:17px}form{margin-bottom:20px}.h{color:#1967d2}em{font-weight:bold;font-style:normal}.lst{height:25px;width:496px}.gsfi,.lst{font:18px arial,sans-serif}.gsfs{font:17px arial,sans-serif}.ds{display:inline-box;display:inline-block;margin:3px 0 4px;margin-left:4px}input{font-family:inherit}body{background:#fff;color:#000}a{color:#681da8;text-decoration:none}a:hover,a:active{text-decoration:underline}.fl a{color:#1967d2}a:visited{color:#681da8}.sblc{padding-top:5px}.sblc a{display:block;margin:2px 0;margin-left:13px;font-size:11px}.lsbb{background:#f8f9fa;border:solid 1px;border-color:#dadce0 #70757a #70757a #dadce0;height:30px}.lsbb{display:block}#WqQANb a{display:inline-block;margin:0 12px}.lsb{background:url(/images/nav_logo229.png) 0 -261px repeat-x;color:#000;border:none;cursor:pointer;height:30px;margin:0;outline:0;font:15px arial,sans-serif;vertical-align:top}.lsb:active{background:#dadce0}.lst:focus{outline:none}</style><script nonce=\"tp-a6FDXCbgnl_Em5AB4iw\">(function(){window.google.erd={jsr:1,bv:1934,de:true};\n",
      "var h=this||self;var k,l=null!=(k=h.mei)?k:1,n,p=null!=(n=h.sdo)?n:!0,q=0,r,t=google.erd,v=t.jsr;google.ml=function(a,b,d,m,e){e=void 0===e?2:e;b&&(r=a&&a.message);void 0===d&&(d={});d.cad=\"ple_\"+google.ple+\".aple_\"+google.aple;if(google.dl)return google.dl(a,e,d),null;b=d;if(0>v){window.console&&console.error(a,b);if(-2===v)throw a;b=!1}else b=!a||!a.message||\"Error loading script\"===a.message||q>=l&&!m?!1:!0;if(!b)return null;q++;d=d||{};b=encodeURIComponent;var c=\"/gen_204?atyp=i&ei=\"+b(google.kEI);google.kEXPI&&(c+=\"&jexpid=\"+b(google.kEXPI));c+=\"&srcpg=\"+b(google.sn)+\"&jsr=\"+b(t.jsr)+\"&bver=\"+\n",
      "b(t.bv);var f=a.lineNumber;void 0!==f&&(c+=\"&line=\"+f);var g=a.fileName;g&&(0<g.indexOf(\"-extension:/\")&&(e=3),c+=\"&script=\"+b(g),f&&g===window.location.href&&(f=document.documentElement.outerHTML.split(\"\\n\")[f],c+=\"&cad=\"+b(f?f.substring(0,300):\"No script found.\")));google.ple&&1===google.ple&&(e=2);c+=\"&jsel=\"+e;for(var u in d)c+=\"&\",c+=b(u),c+=\"=\",c+=b(d[u]);c=c+\"&emsg=\"+b(a.name+\": \"+a.message);c=c+\"&jsst=\"+b(a.stack||\"N/A\");12288<=c.length&&(c=c.substr(0,12288));a=c;m||google.log(0,\"\",a);return a};window.onerror=function(a,b,d,m,e){r!==a&&(a=e instanceof Error?e:Error(a),void 0===d||\"lineNumber\"in a||(a.lineNumber=d),void 0===b||\"fileName\"in a||(a.fileName=b),google.ml(a,!1,void 0,!1,\"SyntaxError\"===a.name||\"SyntaxError\"===a.message.substring(0,11)||-1!==a.message.indexOf(\"Script error\")?3:0));r=null;p&&q>=l&&(window.onerror=null)};})();</script></head><body bgcolor=\"#fff\"><script nonce=\"tp-a6FDXCbgnl_Em5AB4iw\">(function(){var src='/images/nav_logo229.png';var iesg=false;document.body.onload = function(){window.n && window.n();if (document.images){new Image().src=src;}\n",
      "if (!iesg){document.f&&document.f.q.focus();document.gbqf&&document.gbqf.q.focus();}\n",
      "}\n",
      "})();</script><div id=\"mngb\"><div id=\"gbar\"><nobr><b class=\"gb1\">Search</b> <a class=\"gb1\" href=\"https://www.google.com/imghp?hl=en&amp;tab=wi\">Images</a> <a class=\"gb1\" href=\"https://maps.google.co.in/maps?hl=en&amp;tab=wl\">Maps</a> <a class=\"gb1\" href=\"https://play.google.com/?hl=en&amp;tab=w8\">Play</a> <a class=\"gb1\" href=\"https://www.youtube.com/?tab=w1\">YouTube</a> <a class=\"gb1\" href=\"https://news.google.com/?tab=wn\">News</a> <a class=\"gb1\" href=\"https://mail.google.com/mail/?tab=wm\">Gmail</a> <a class=\"gb1\" href=\"https://drive.google.com/?tab=wo\">Drive</a> <a class=\"gb1\" href=\"https://www.google.co.in/intl/en/about/products?tab=wh\" style=\"text-decoration:none\"><u>More</u> »</a></nobr></div><div id=\"guser\" width=\"100%\"><nobr><span class=\"gbi\" id=\"gbn\"></span><span class=\"gbf\" id=\"gbf\"></span><span id=\"gbe\"></span><a class=\"gb4\" href=\"http://www.google.co.in/history/optout?hl=en\">Web History</a> | <a class=\"gb4\" href=\"/preferences?hl=en\">Settings</a> | <a class=\"gb4\" href=\"https://accounts.google.com/ServiceLogin?hl=en&amp;passive=true&amp;continue=https://www.google.com/&amp;ec=GAZAAQ\" id=\"gb_70\" target=\"_top\">Sign in</a></nobr></div><div class=\"gbh\" style=\"left:0\"></div><div class=\"gbh\" style=\"right:0\"></div></div><center><br clear=\"all\" id=\"lgpd\"/><div id=\"lga\"><img alt=\"Google\" height=\"92\" id=\"hplogo\" src=\"/images/branding/googlelogo/1x/googlelogo_white_background_color_272x92dp.png\" style=\"padding:28px 0 14px\" width=\"272\"/><br/><br/></div><form action=\"/search\" name=\"f\"><table cellpadding=\"0\" cellspacing=\"0\"><tr valign=\"top\"><td width=\"25%\"> </td><td align=\"center\" nowrap=\"\"><input name=\"ie\" type=\"hidden\" value=\"ISO-8859-1\"/><input name=\"hl\" type=\"hidden\" value=\"en-IN\"/><input name=\"source\" type=\"hidden\" value=\"hp\"/><input name=\"biw\" type=\"hidden\"/><input name=\"bih\" type=\"hidden\"/><div class=\"ds\" style=\"height:32px;margin:4px 0\"><input autocomplete=\"off\" class=\"lst\" maxlength=\"2048\" name=\"q\" size=\"57\" style=\"margin:0;padding:5px 8px 0 6px;vertical-align:top;color:#000\" title=\"Google Search\" value=\"\"/></div><br style=\"line-height:0\"/><span class=\"ds\"><span class=\"lsbb\"><input class=\"lsb\" name=\"btnG\" type=\"submit\" value=\"Google Search\"/></span></span><span class=\"ds\"><span class=\"lsbb\"><input class=\"lsb\" id=\"tsuid_1\" name=\"btnI\" type=\"submit\" value=\"I'm Feeling Lucky\"/><script nonce=\"tp-a6FDXCbgnl_Em5AB4iw\">(function(){var id='tsuid_1';document.getElementById(id).onclick = function(){if (this.form.q.value){this.checked = 1;if (this.form.iflsig)this.form.iflsig.disabled = false;}\n",
      "else top.location='/doodles/';};})();</script><input name=\"iflsig\" type=\"hidden\" value=\"ANes7DEAAAAAZZ6N9Mj4TqK6AURB91JK0u94lTkPFR6J\"/></span></span></td><td align=\"left\" class=\"fl sblc\" nowrap=\"\" width=\"25%\"><a href=\"/advanced_search?hl=en-IN&amp;authuser=0\">Advanced search</a></td></tr></table><input id=\"gbv\" name=\"gbv\" type=\"hidden\" value=\"1\"/><script nonce=\"tp-a6FDXCbgnl_Em5AB4iw\">(function(){var a,b=\"1\";if(document&&document.getElementById)if(\"undefined\"!=typeof XMLHttpRequest)b=\"2\";else if(\"undefined\"!=typeof ActiveXObject){var c,d,e=[\"MSXML2.XMLHTTP.6.0\",\"MSXML2.XMLHTTP.3.0\",\"MSXML2.XMLHTTP\",\"Microsoft.XMLHTTP\"];for(c=0;d=e[c++];)try{new ActiveXObject(d),b=\"2\"}catch(h){}}a=b;if(\"2\"==a&&-1==location.search.indexOf(\"&gbv=2\")){var f=google.gbvu,g=document.getElementById(\"gbv\");g&&(g.value=a);f&&window.setTimeout(function(){location.href=f},0)};}).call(this);</script></form><div id=\"gac_scont\"></div><div style=\"font-size:83%;min-height:3.5em\"><br/><div id=\"gws-output-pages-elements-homepage_additional_languages__als\"><style>#gws-output-pages-elements-homepage_additional_languages__als{font-size:small;margin-bottom:24px}#SIvCob{color:#3c4043;display:inline-block;line-height:28px;}#SIvCob a{padding:0 3px;}.H6sW5{display:inline-block;margin:0 2px;white-space:nowrap}.z4hgWe{display:inline-block;margin:0 2px}</style><div id=\"SIvCob\">Google offered in:  <a href=\"https://www.google.com/setprefs?sig=0_6mlwzC4bYoxQxwarqN6Co2ijd1U%3D&amp;hl=hi&amp;source=homepage&amp;sa=X&amp;ved=0ahUKEwjo7oeY3NKDAxWRFzQIHeNaAVEQ2ZgBCAU\">हिन्दी</a> <a href=\"https://www.google.com/setprefs?sig=0_6mlwzC4bYoxQxwarqN6Co2ijd1U%3D&amp;hl=bn&amp;source=homepage&amp;sa=X&amp;ved=0ahUKEwjo7oeY3NKDAxWRFzQIHeNaAVEQ2ZgBCAY\">বাংলা</a> <a href=\"https://www.google.com/setprefs?sig=0_6mlwzC4bYoxQxwarqN6Co2ijd1U%3D&amp;hl=te&amp;source=homepage&amp;sa=X&amp;ved=0ahUKEwjo7oeY3NKDAxWRFzQIHeNaAVEQ2ZgBCAc\">తెలుగు</a> <a href=\"https://www.google.com/setprefs?sig=0_6mlwzC4bYoxQxwarqN6Co2ijd1U%3D&amp;hl=mr&amp;source=homepage&amp;sa=X&amp;ved=0ahUKEwjo7oeY3NKDAxWRFzQIHeNaAVEQ2ZgBCAg\">मराठी</a> <a href=\"https://www.google.com/setprefs?sig=0_6mlwzC4bYoxQxwarqN6Co2ijd1U%3D&amp;hl=ta&amp;source=homepage&amp;sa=X&amp;ved=0ahUKEwjo7oeY3NKDAxWRFzQIHeNaAVEQ2ZgBCAk\">தமிழ்</a> <a href=\"https://www.google.com/setprefs?sig=0_6mlwzC4bYoxQxwarqN6Co2ijd1U%3D&amp;hl=gu&amp;source=homepage&amp;sa=X&amp;ved=0ahUKEwjo7oeY3NKDAxWRFzQIHeNaAVEQ2ZgBCAo\">ગુજરાતી</a> <a href=\"https://www.google.com/setprefs?sig=0_6mlwzC4bYoxQxwarqN6Co2ijd1U%3D&amp;hl=kn&amp;source=homepage&amp;sa=X&amp;ved=0ahUKEwjo7oeY3NKDAxWRFzQIHeNaAVEQ2ZgBCAs\">ಕನ್ನಡ</a> <a href=\"https://www.google.com/setprefs?sig=0_6mlwzC4bYoxQxwarqN6Co2ijd1U%3D&amp;hl=ml&amp;source=homepage&amp;sa=X&amp;ved=0ahUKEwjo7oeY3NKDAxWRFzQIHeNaAVEQ2ZgBCAw\">മലയാളം</a> <a href=\"https://www.google.com/setprefs?sig=0_6mlwzC4bYoxQxwarqN6Co2ijd1U%3D&amp;hl=pa&amp;source=homepage&amp;sa=X&amp;ved=0ahUKEwjo7oeY3NKDAxWRFzQIHeNaAVEQ2ZgBCA0\">ਪੰਜਾਬੀ</a> </div></div></div><span id=\"footer\"><div style=\"font-size:10pt\"><div id=\"WqQANb\" style=\"margin:19px auto;text-align:center\"><a href=\"/intl/en/ads/\">Advertising</a><a href=\"http://www.google.co.in/services/\">Business Solutions</a><a href=\"/intl/en/about.html\">About Google</a><a href=\"https://www.google.com/setprefdomain?prefdom=IN&amp;prev=https://www.google.co.in/&amp;sig=K_1qKNStyx9qdhUAIZdkLHZhl4p-E%3D\">Google.co.in</a></div></div><p style=\"font-size:8pt;color:#70757a\">© 2024 - <a href=\"/intl/en/policies/privacy/\">Privacy</a> - <a href=\"/intl/en/policies/terms/\">Terms</a></p></span></center><script nonce=\"tp-a6FDXCbgnl_Em5AB4iw\">(function(){window.google.cdo={height:757,width:1440};(function(){var a=window.innerWidth,b=window.innerHeight;if(!a||!b){var c=window.document,d=\"CSS1Compat\"==c.compatMode?c.documentElement:c.body;a=d.clientWidth;b=d.clientHeight}\n",
      "if(a&&b&&(a!=google.cdo.width||b!=google.cdo.height)){var e=google,f=e.log,g=\"/client_204?&atyp=i&biw=\"+a+\"&bih=\"+b+\"&ei=\"+google.kEI,h=\"\",k=[],l=void 0!==window.google&&void 0!==window.google.kOPI&&0!==window.google.kOPI?window.google.kOPI:null;null!=l&&k.push([\"opi\",l.toString()]);for(var m=0;m<k.length;m++){if(0===m||0<m)h+=\"&\";h+=k[m][0]+\"=\"+k[m][1]}f.call(e,\"\",\"\",g+h)};}).call(this);})();</script> <script nonce=\"tp-a6FDXCbgnl_Em5AB4iw\">(function(){google.xjs={ck:'xjs.hp.fXkd6dGbtVU.L.X.O',combam:'AAAAAAAAAAAAAAAAAAAAAAAAAAAEAAAAAAA4AAAAARAAAAAAAwAAAAAAAAABAA6iIwAYgCMAALw',cs:'ACT90oGnne78Wid4TCclEuR8ARTxT9-ERA',cssam:'AAAAAAAAAAAAAAAAAAAAAAAAAAAAAAAAAAAAAAAAARAAAAAAAAAAAAAAAAABAAAC',cssopt:false,csss:'ACT90oFMRwBWjsz4otk2Ae3U1DzluTE_NA',excm:[],sepam:false,sepcss:false};})();</script> <script nonce=\"tp-a6FDXCbgnl_Em5AB4iw\">(function(){var u='/xjs/_/js/k\\x3dxjs.hp.en.mvQ1OLZAVAs.O/am\\x3dAAAAAAAAAAAAAAAAAAAAAAAAAAAEAAAAAAA4AAAAARAAAAAAAwAAAAAAAAABAA6iIwAYgCMAALw/d\\x3d1/ed\\x3d1/rs\\x3dACT90oH6FKn4flgZeuVmYWXLy6CdN5cQIg/m\\x3dsb_he,d';var amd=0;\n",
      "var e=this||self,f=function(a){return a};var g;var h=function(a){this.g=a};h.prototype.toString=function(){return this.g+\"\"};var k={};var l=function(){var a=document;var b=\"SCRIPT\";\"application/xhtml+xml\"===a.contentType&&(b=b.toLowerCase());return a.createElement(b)};\n",
      "function m(a,b){a.src=b instanceof h&&b.constructor===h?b.g:\"type_error:TrustedResourceUrl\";var c,d;(c=(b=null==(d=(c=(a.ownerDocument&&a.ownerDocument.defaultView||window).document).querySelector)?void 0:d.call(c,\"script[nonce]\"))?b.nonce||b.getAttribute(\"nonce\")||\"\":\"\")&&a.setAttribute(\"nonce\",c)};function n(a){a=null===a?\"null\":void 0===a?\"undefined\":a;if(void 0===g){var b=null;var c=e.trustedTypes;if(c&&c.createPolicy){try{b=c.createPolicy(\"goog#html\",{createHTML:f,createScript:f,createScriptURL:f})}catch(d){e.console&&e.console.error(d.message)}g=b}else g=b}a=(b=g)?b.createScriptURL(a):a;return new h(a,k)};void 0===google.ps&&(google.ps=[]);function p(){var a=u,b=function(){};google.lx=google.stvsc?b:function(){q(a);google.lx=b};google.bx||google.lx()}function r(a,b){b&&m(a,n(b));var c=a.onload;a.onload=function(d){c&&c(d);google.ps=google.ps.filter(function(t){return a!==t})};google.ps.push(a);document.body.appendChild(a)}google.as=r;function q(a){google.timers&&google.timers.load&&google.tick&&google.tick(\"load\",\"xjsls\");var b=l();b.onerror=function(){google.ple=1};b.onload=function(){google.ple=0};google.xjsus=void 0;r(b,a);google.aple=-1;google.psa=!0};google.xjsu=u;e._F_jsUrl=u;setTimeout(function(){0<amd?google.caft(function(){return p()},amd):p()},0);})();window._ = window._ || {};window._DumpException = _._DumpException = function(e){throw e;};window._s = window._s || {};_s._DumpException = _._DumpException;window._qs = window._qs || {};_qs._DumpException = _._DumpException;(function(){var t=[1,0,0,0,0,5120,0,4110,528385,135004160,33554432,4194304,597822976,237002752,197132290];window._F_toggles = window._xjs_toggles = t;})();function _F_installCss(c){}\n",
      "(function(){google.jl={blt:'none',chnk:0,dw:false,dwu:true,emtn:0,end:0,ico:false,ikb:0,ine:false,injs:'none',injt:0,injth:0,injv2:false,lls:'default',pdt:0,rep:0,snet:true,strt:0,ubm:false,uwp:true};})();(function(){var pmc='{\\x22d\\x22:{},\\x22sb_he\\x22:{\\x22agen\\x22:false,\\x22cgen\\x22:false,\\x22client\\x22:\\x22heirloom-hp\\x22,\\x22dh\\x22:true,\\x22ds\\x22:\\x22\\x22,\\x22fl\\x22:true,\\x22host\\x22:\\x22google.com\\x22,\\x22jsonp\\x22:true,\\x22msgs\\x22:{\\x22cibl\\x22:\\x22Clear Search\\x22,\\x22dym\\x22:\\x22Did you mean:\\x22,\\x22lcky\\x22:\\x22I\\\\u0026#39;m Feeling Lucky\\x22,\\x22lml\\x22:\\x22Learn more\\x22,\\x22psrc\\x22:\\x22This search was removed from your \\\\u003Ca href\\x3d\\\\\\x22/history\\\\\\x22\\\\u003EWeb History\\\\u003C/a\\\\u003E\\x22,\\x22psrl\\x22:\\x22Remove\\x22,\\x22sbit\\x22:\\x22Search by image\\x22,\\x22srch\\x22:\\x22Google Search\\x22},\\x22ovr\\x22:{},\\x22pq\\x22:\\x22\\x22,\\x22rfs\\x22:[],\\x22sbas\\x22:\\x220 3px 8px 0 rgba(0,0,0,0.2),0 0 0 1px rgba(0,0,0,0.08)\\x22,\\x22stok\\x22:\\x22rlJ18Xwrwe19_PVMu0iYVTFFqis\\x22}}';google.pmc=JSON.parse(pmc);})();(function(){var b=function(a){var c=0;return function(){return c<a.length?{done:!1,value:a[c++]}:{done:!0}}};\n",
      "var e=this||self;var g,h;a:{for(var k=[\"CLOSURE_FLAGS\"],l=e,n=0;n<k.length;n++)if(l=l[k[n]],null==l){h=null;break a}h=l}var p=h&&h[610401301];g=null!=p?p:!1;var q,r=e.navigator;q=r?r.userAgentData||null:null;function t(a){return g?q?q.brands.some(function(c){return(c=c.brand)&&-1!=c.indexOf(a)}):!1:!1}function u(a){var c;a:{if(c=e.navigator)if(c=c.userAgent)break a;c=\"\"}return-1!=c.indexOf(a)};function v(){return g?!!q&&0<q.brands.length:!1}function w(){return u(\"Safari\")&&!(x()||(v()?0:u(\"Coast\"))||(v()?0:u(\"Opera\"))||(v()?0:u(\"Edge\"))||(v()?t(\"Microsoft Edge\"):u(\"Edg/\"))||(v()?t(\"Opera\"):u(\"OPR\"))||u(\"Firefox\")||u(\"FxiOS\")||u(\"Silk\")||u(\"Android\"))}function x(){return v()?t(\"Chromium\"):(u(\"Chrome\")||u(\"CriOS\"))&&!(v()?0:u(\"Edge\"))||u(\"Silk\")}function y(){return u(\"Android\")&&!(x()||u(\"Firefox\")||u(\"FxiOS\")||(v()?0:u(\"Opera\"))||u(\"Silk\"))};var z=v()?!1:u(\"Trident\")||u(\"MSIE\");y();x();w();Object.freeze(new function(){});Object.freeze(new function(){});var A=!z&&!w(),D=function(a){if(/-[a-z]/.test(\"ved\"))return null;if(A&&a.dataset){if(y()&&!(\"ved\"in a.dataset))return null;a=a.dataset.ved;return void 0===a?null:a}return a.getAttribute(\"data-\"+\"ved\".replace(/([A-Z])/g,\"-$1\").toLowerCase())};var E=[],F=null;function G(a){a=a.target;var c=performance.now(),f=[],H=f.concat,d=E;if(!(d instanceof Array)){var m=\"undefined\"!=typeof Symbol&&Symbol.iterator&&d[Symbol.iterator];if(m)d=m.call(d);else if(\"number\"==typeof d.length)d={next:b(d)};else throw Error(\"a`\"+String(d));for(var B=[];!(m=d.next()).done;)B.push(m.value);d=B}E=H.call(f,d,[c]);if(a&&a instanceof HTMLElement)if(a===F){if(c=4<=E.length)c=5>(E[E.length-1]-E[E.length-4])/1E3;if(c){c=google.getEI(a);a.hasAttribute(\"data-ved\")?f=a?D(a)||\"\":\"\":f=(f=\n",
      "a.closest(\"[data-ved]\"))?D(f)||\"\":\"\";f=f||\"\";if(a.hasAttribute(\"jsname\"))a=a.getAttribute(\"jsname\");else{var C;a=null==(C=a.closest(\"[jsname]\"))?void 0:C.getAttribute(\"jsname\")}google.log(\"rcm\",\"&ei=\"+c+\"&ved=\"+f+\"&jsname=\"+(a||\"\"))}}else F=a,E=[c]}window.document.addEventListener(\"DOMContentLoaded\",function(){document.body.addEventListener(\"click\",G)});}).call(this);</script></body></html>]\n"
     ]
    }
   ],
   "source": [
    "print(soupdata.contents)"
   ]
  },
  {
   "cell_type": "code",
   "execution_count": 5,
   "id": "5255aac3",
   "metadata": {},
   "outputs": [
    {
     "data": {
      "text/plain": [
       "[<a class=\"gb1\" href=\"https://www.google.com/imghp?hl=en&amp;tab=wi\">Images</a>,\n",
       " <a class=\"gb1\" href=\"https://maps.google.co.in/maps?hl=en&amp;tab=wl\">Maps</a>,\n",
       " <a class=\"gb1\" href=\"https://play.google.com/?hl=en&amp;tab=w8\">Play</a>,\n",
       " <a class=\"gb1\" href=\"https://www.youtube.com/?tab=w1\">YouTube</a>,\n",
       " <a class=\"gb1\" href=\"https://news.google.com/?tab=wn\">News</a>,\n",
       " <a class=\"gb1\" href=\"https://mail.google.com/mail/?tab=wm\">Gmail</a>,\n",
       " <a class=\"gb1\" href=\"https://drive.google.com/?tab=wo\">Drive</a>,\n",
       " <a class=\"gb1\" href=\"https://www.google.co.in/intl/en/about/products?tab=wh\" style=\"text-decoration:none\"><u>More</u> »</a>,\n",
       " <a class=\"gb4\" href=\"http://www.google.co.in/history/optout?hl=en\">Web History</a>,\n",
       " <a class=\"gb4\" href=\"/preferences?hl=en\">Settings</a>,\n",
       " <a class=\"gb4\" href=\"https://accounts.google.com/ServiceLogin?hl=en&amp;passive=true&amp;continue=https://www.google.com/&amp;ec=GAZAAQ\" id=\"gb_70\" target=\"_top\">Sign in</a>,\n",
       " <a href=\"/advanced_search?hl=en-IN&amp;authuser=0\">Advanced search</a>,\n",
       " <a href=\"https://www.google.com/setprefs?sig=0_6mlwzC4bYoxQxwarqN6Co2ijd1U%3D&amp;hl=hi&amp;source=homepage&amp;sa=X&amp;ved=0ahUKEwjo7oeY3NKDAxWRFzQIHeNaAVEQ2ZgBCAU\">हिन्दी</a>,\n",
       " <a href=\"https://www.google.com/setprefs?sig=0_6mlwzC4bYoxQxwarqN6Co2ijd1U%3D&amp;hl=bn&amp;source=homepage&amp;sa=X&amp;ved=0ahUKEwjo7oeY3NKDAxWRFzQIHeNaAVEQ2ZgBCAY\">বাংলা</a>,\n",
       " <a href=\"https://www.google.com/setprefs?sig=0_6mlwzC4bYoxQxwarqN6Co2ijd1U%3D&amp;hl=te&amp;source=homepage&amp;sa=X&amp;ved=0ahUKEwjo7oeY3NKDAxWRFzQIHeNaAVEQ2ZgBCAc\">తెలుగు</a>,\n",
       " <a href=\"https://www.google.com/setprefs?sig=0_6mlwzC4bYoxQxwarqN6Co2ijd1U%3D&amp;hl=mr&amp;source=homepage&amp;sa=X&amp;ved=0ahUKEwjo7oeY3NKDAxWRFzQIHeNaAVEQ2ZgBCAg\">मराठी</a>,\n",
       " <a href=\"https://www.google.com/setprefs?sig=0_6mlwzC4bYoxQxwarqN6Co2ijd1U%3D&amp;hl=ta&amp;source=homepage&amp;sa=X&amp;ved=0ahUKEwjo7oeY3NKDAxWRFzQIHeNaAVEQ2ZgBCAk\">தமிழ்</a>,\n",
       " <a href=\"https://www.google.com/setprefs?sig=0_6mlwzC4bYoxQxwarqN6Co2ijd1U%3D&amp;hl=gu&amp;source=homepage&amp;sa=X&amp;ved=0ahUKEwjo7oeY3NKDAxWRFzQIHeNaAVEQ2ZgBCAo\">ગુજરાતી</a>,\n",
       " <a href=\"https://www.google.com/setprefs?sig=0_6mlwzC4bYoxQxwarqN6Co2ijd1U%3D&amp;hl=kn&amp;source=homepage&amp;sa=X&amp;ved=0ahUKEwjo7oeY3NKDAxWRFzQIHeNaAVEQ2ZgBCAs\">ಕನ್ನಡ</a>,\n",
       " <a href=\"https://www.google.com/setprefs?sig=0_6mlwzC4bYoxQxwarqN6Co2ijd1U%3D&amp;hl=ml&amp;source=homepage&amp;sa=X&amp;ved=0ahUKEwjo7oeY3NKDAxWRFzQIHeNaAVEQ2ZgBCAw\">മലയാളം</a>,\n",
       " <a href=\"https://www.google.com/setprefs?sig=0_6mlwzC4bYoxQxwarqN6Co2ijd1U%3D&amp;hl=pa&amp;source=homepage&amp;sa=X&amp;ved=0ahUKEwjo7oeY3NKDAxWRFzQIHeNaAVEQ2ZgBCA0\">ਪੰਜਾਬੀ</a>,\n",
       " <a href=\"/intl/en/ads/\">Advertising</a>,\n",
       " <a href=\"http://www.google.co.in/services/\">Business Solutions</a>,\n",
       " <a href=\"/intl/en/about.html\">About Google</a>,\n",
       " <a href=\"https://www.google.com/setprefdomain?prefdom=IN&amp;prev=https://www.google.co.in/&amp;sig=K_1qKNStyx9qdhUAIZdkLHZhl4p-E%3D\">Google.co.in</a>,\n",
       " <a href=\"/intl/en/policies/privacy/\">Privacy</a>,\n",
       " <a href=\"/intl/en/policies/terms/\">Terms</a>]"
      ]
     },
     "execution_count": 5,
     "metadata": {},
     "output_type": "execute_result"
    }
   ],
   "source": [
    "soupdata.find_all('a')"
   ]
  },
  {
   "cell_type": "code",
   "execution_count": 8,
   "id": "62f71a84",
   "metadata": {},
   "outputs": [],
   "source": [
    "sampleData='<html><head><title>mytitle</title></head><body><p class=\"big black\">Data</p></body></html>'"
   ]
  },
  {
   "cell_type": "code",
   "execution_count": 9,
   "id": "031b7230",
   "metadata": {},
   "outputs": [],
   "source": [
    "soupData=BeautifulSoup(sampleData,'html.parser')"
   ]
  },
  {
   "cell_type": "code",
   "execution_count": 10,
   "id": "60566226",
   "metadata": {},
   "outputs": [
    {
     "data": {
      "text/plain": [
       "<title>mytitle</title>"
      ]
     },
     "execution_count": 10,
     "metadata": {},
     "output_type": "execute_result"
    }
   ],
   "source": [
    "soupData.title"
   ]
  },
  {
   "cell_type": "code",
   "execution_count": 11,
   "id": "b3921954",
   "metadata": {},
   "outputs": [
    {
     "data": {
      "text/plain": [
       "['mytitle']"
      ]
     },
     "execution_count": 11,
     "metadata": {},
     "output_type": "execute_result"
    }
   ],
   "source": [
    "soupData.title.contents"
   ]
  },
  {
   "cell_type": "code",
   "execution_count": 12,
   "id": "9efda306",
   "metadata": {},
   "outputs": [
    {
     "data": {
      "text/plain": [
       "'mytitle'"
      ]
     },
     "execution_count": 12,
     "metadata": {},
     "output_type": "execute_result"
    }
   ],
   "source": [
    "soupData.title.contents[0]"
   ]
  },
  {
   "cell_type": "code",
   "execution_count": 13,
   "id": "fabfc263",
   "metadata": {},
   "outputs": [
    {
     "data": {
      "text/plain": [
       "[<html><head><title>mytitle</title></head><body><p class=\"big black\">Data</p></body></html>]"
      ]
     },
     "execution_count": 13,
     "metadata": {},
     "output_type": "execute_result"
    }
   ],
   "source": [
    "soupData.contents"
   ]
  },
  {
   "cell_type": "code",
   "execution_count": 14,
   "id": "130b6c11",
   "metadata": {},
   "outputs": [
    {
     "data": {
      "text/plain": [
       "<body><p class=\"big black\">Data</p></body>"
      ]
     },
     "execution_count": 14,
     "metadata": {},
     "output_type": "execute_result"
    }
   ],
   "source": [
    "soupData.find('body')"
   ]
  },
  {
   "cell_type": "code",
   "execution_count": 15,
   "id": "b3f5a0b2",
   "metadata": {},
   "outputs": [
    {
     "data": {
      "text/plain": [
       "<p class=\"big black\">Data</p>"
      ]
     },
     "execution_count": 15,
     "metadata": {},
     "output_type": "execute_result"
    }
   ],
   "source": [
    "soupData.find('body').find('p')"
   ]
  },
  {
   "cell_type": "code",
   "execution_count": 16,
   "id": "c0c7118b",
   "metadata": {},
   "outputs": [
    {
     "data": {
      "text/plain": [
       "['Data']"
      ]
     },
     "execution_count": 16,
     "metadata": {},
     "output_type": "execute_result"
    }
   ],
   "source": [
    "soupData.find('body').find('p').contents"
   ]
  },
  {
   "cell_type": "code",
   "execution_count": 17,
   "id": "b4535a96",
   "metadata": {},
   "outputs": [
    {
     "data": {
      "text/plain": [
       "<body><p class=\"big black\">Data</p></body>"
      ]
     },
     "execution_count": 17,
     "metadata": {},
     "output_type": "execute_result"
    }
   ],
   "source": [
    "soupData.body"
   ]
  },
  {
   "cell_type": "code",
   "execution_count": 18,
   "id": "0f1898c9",
   "metadata": {},
   "outputs": [
    {
     "data": {
      "text/plain": [
       "['Data']"
      ]
     },
     "execution_count": 18,
     "metadata": {},
     "output_type": "execute_result"
    }
   ],
   "source": [
    "soupData.body.p.contents"
   ]
  },
  {
   "cell_type": "code",
   "execution_count": 26,
   "id": "969ed43f",
   "metadata": {},
   "outputs": [
    {
     "data": {
      "text/plain": [
       "['big', 'black']"
      ]
     },
     "execution_count": 26,
     "metadata": {},
     "output_type": "execute_result"
    }
   ],
   "source": [
    "soupData.body.p['class']"
   ]
  },
  {
   "cell_type": "code",
   "execution_count": 27,
   "id": "2d26c684",
   "metadata": {},
   "outputs": [
    {
     "data": {
      "text/plain": [
       "['big', 'black']"
      ]
     },
     "execution_count": 27,
     "metadata": {},
     "output_type": "execute_result"
    }
   ],
   "source": [
    "soupData.body.p.get_attribute_list('class')"
   ]
  },
  {
   "cell_type": "code",
   "execution_count": 29,
   "id": "b4644e96",
   "metadata": {},
   "outputs": [],
   "source": [
    "data='<html><head><title>sample</title></head><body><p>First text</p><p>Second test</p></body></html>'"
   ]
  },
  {
   "cell_type": "code",
   "execution_count": 30,
   "id": "1e788f5c",
   "metadata": {},
   "outputs": [],
   "source": [
    "soupData=BeautifulSoup(data,'html.parser')"
   ]
  },
  {
   "cell_type": "code",
   "execution_count": 31,
   "id": "a85e64ff",
   "metadata": {},
   "outputs": [
    {
     "data": {
      "text/plain": [
       "[<p>First text</p>, <p>Second test</p>]"
      ]
     },
     "execution_count": 31,
     "metadata": {},
     "output_type": "execute_result"
    }
   ],
   "source": [
    "soupData.find_all('p')"
   ]
  },
  {
   "cell_type": "code",
   "execution_count": 33,
   "id": "d761af30",
   "metadata": {},
   "outputs": [
    {
     "name": "stdout",
     "output_type": "stream",
     "text": [
      "['First text']\n",
      "['Second test']\n"
     ]
    }
   ],
   "source": [
    "for p in soupData.find_all('p'):\n",
    "    print(p.contents)"
   ]
  },
  {
   "cell_type": "code",
   "execution_count": 23,
   "id": "0e09aadc",
   "metadata": {},
   "outputs": [],
   "source": [
    "content =\"<html><head><title> Sampel text</title></head><body><p class='class1'>Class 1 content </p><p class='class2'>Class 2 content </p><p class='class1'>Class 3 content </p></body></html>\""
   ]
  },
  {
   "cell_type": "code",
   "execution_count": 30,
   "id": "89f71af1",
   "metadata": {},
   "outputs": [],
   "source": [
    "soupData=BeautifulSoup(content,'html.parser')"
   ]
  },
  {
   "cell_type": "code",
   "execution_count": 31,
   "id": "8ed27670",
   "metadata": {
    "scrolled": true
   },
   "outputs": [
    {
     "name": "stdout",
     "output_type": "stream",
     "text": [
      "<p class=\"class1\">Class 1 content </p>\n",
      "<p class=\"class1\">Class 3 content </p>\n"
     ]
    }
   ],
   "source": [
    "for data in soupData.select('p[class=\"class1\"]'):\n",
    "    print(data)"
   ]
  },
  {
   "cell_type": "code",
   "execution_count": 32,
   "id": "cbc4b6e1",
   "metadata": {},
   "outputs": [],
   "source": [
    "content=\"<html><head><title> Sampel text</title></head><body><p class='class1'>Class 1 content </p><p class='class2'>Class 2 content </p><p class='class1'>Class 3 content </p><div class='class1'>Div1 data</div></body></html>\""
   ]
  },
  {
   "cell_type": "code",
   "execution_count": 33,
   "id": "5e9ed7e0",
   "metadata": {},
   "outputs": [],
   "source": [
    "soupData=BeautifulSoup(content,'html.parser')"
   ]
  },
  {
   "cell_type": "code",
   "execution_count": 34,
   "id": "22e3d0de",
   "metadata": {},
   "outputs": [
    {
     "name": "stdout",
     "output_type": "stream",
     "text": [
      "<p class=\"class1\">Class 1 content </p>\n",
      "<p class=\"class1\">Class 3 content </p>\n",
      "<div class=\"class1\">Div1 data</div>\n"
     ]
    }
   ],
   "source": [
    "for tag in soupData.find_all(class_='class1'):\n",
    "    print(tag)"
   ]
  },
  {
   "cell_type": "code",
   "execution_count": 35,
   "id": "a8712391",
   "metadata": {},
   "outputs": [],
   "source": [
    "response = requests.get('https://en.wikipedia.org/wiki/India')\n",
    "soupData=BeautifulSoup(response.text,'html.parser')"
   ]
  },
  {
   "cell_type": "code",
   "execution_count": 56,
   "id": "51cfec97",
   "metadata": {},
   "outputs": [],
   "source": [
    "from lxml import etree"
   ]
  },
  {
   "cell_type": "code",
   "execution_count": 57,
   "id": "efb5c275",
   "metadata": {},
   "outputs": [],
   "source": [
    "dom = etree.HTML(str(soupData))"
   ]
  },
  {
   "cell_type": "code",
   "execution_count": 58,
   "id": "c8fdc3a5",
   "metadata": {},
   "outputs": [
    {
     "name": "stdout",
     "output_type": "stream",
     "text": [
      "[<Element h1 at 0x1ff4a7f4fc0>]\n"
     ]
    }
   ],
   "source": [
    "h1=dom.xpath('//*[@id=\"firstHeading\"]')\n",
    "print(h1)"
   ]
  },
  {
   "cell_type": "code",
   "execution_count": 55,
   "id": "7f6079e6",
   "metadata": {},
   "outputs": [
    {
     "name": "stdout",
     "output_type": "stream",
     "text": [
      "India\n"
     ]
    }
   ],
   "source": [
    "print(h1[0].find('span').text)"
   ]
  },
  {
   "cell_type": "code",
   "execution_count": 61,
   "id": "19e4603a",
   "metadata": {},
   "outputs": [],
   "source": [
    "ip= open(\"C://data/samplehtml.html\",\"r\",encoding=\"utf8\")\n",
    "content =ip.read()\n",
    "ip.close()"
   ]
  },
  {
   "cell_type": "code",
   "execution_count": 62,
   "id": "83fb95c3",
   "metadata": {},
   "outputs": [],
   "source": [
    "soupData=BeautifulSoup(content,'html.parser')"
   ]
  },
  {
   "cell_type": "code",
   "execution_count": 63,
   "id": "e9fb1b1e",
   "metadata": {},
   "outputs": [],
   "source": [
    "a = dom.xpath('/html/body/div[2]/div/div[3]/main/div[3]/div[3]/div[1]/div[3]/a')"
   ]
  },
  {
   "cell_type": "code",
   "execution_count": 65,
   "id": "0b758622",
   "metadata": {},
   "outputs": [
    {
     "data": {
      "text/plain": [
       "'Bharat'"
      ]
     },
     "execution_count": 65,
     "metadata": {},
     "output_type": "execute_result"
    }
   ],
   "source": [
    "a[0].text"
   ]
  },
  {
   "cell_type": "code",
   "execution_count": 66,
   "id": "b9371835",
   "metadata": {},
   "outputs": [],
   "source": [
    "table = dom.xpath(\"/html/body/div[2]/div/div[3]/main/div[3]/div[3]/div[1]/table[1]\")"
   ]
  },
  {
   "cell_type": "code",
   "execution_count": 67,
   "id": "2a3b35be",
   "metadata": {},
   "outputs": [
    {
     "data": {
      "text/plain": [
       "<Element table at 0x1ff4c8e2a40>"
      ]
     },
     "execution_count": 67,
     "metadata": {},
     "output_type": "execute_result"
    }
   ],
   "source": [
    "table[0]"
   ]
  },
  {
   "cell_type": "code",
   "execution_count": 84,
   "id": "349776ea",
   "metadata": {},
   "outputs": [
    {
     "name": "stdout",
     "output_type": "stream",
     "text": [
      "None\n"
     ]
    }
   ],
   "source": [
    "print( table[0].find('tbody').find('tr'))\n"
   ]
  },
  {
   "cell_type": "code",
   "execution_count": 87,
   "id": "b3fc17b5",
   "metadata": {},
   "outputs": [],
   "source": [
    "table = dom.xpath(\"/html/body/div[2]/div/div[3]/main/div[3]/div[3]/div[1]/table[1]/tbody/tr/child::*\")"
   ]
  },
  {
   "cell_type": "code",
   "execution_count": 88,
   "id": "0524a393",
   "metadata": {},
   "outputs": [
    {
     "name": "stdout",
     "output_type": "stream",
     "text": [
      "[<Element th at 0x1ff4c8ff4c0>, <Element td at 0x1ff4c8ff040>, <Element td at 0x1ff4c8ff380>, <Element td at 0x1ff4c8ff340>, <Element td at 0x1ff4c8ff300>, <Element td at 0x1ff4c8ff200>, <Element th at 0x1ff4c8ff1c0>, <Element td at 0x1ff4c8ff0c0>, <Element th at 0x1ff4c8ff140>, <Element td at 0x1ff4c8ff280>, <Element th at 0x1ff4c8ff100>, <Element td at 0x1ff4c8ff080>, <Element th at 0x1ff4c8ff180>, <Element td at 0x1ff4c8f94c0>, <Element th at 0x1ff4c8f9ec0>, <Element td at 0x1ff4c8f9fc0>, <Element th at 0x1ff4c8f9e00>, <Element td at 0x1ff4c8f9f40>, <Element th at 0x1ff4c8f9f00>, <Element td at 0x1ff4c8f9e80>, <Element th at 0x1ff4c8f98c0>, <Element td at 0x1ff4c8f9e40>, <Element th at 0x1ff4c8f9dc0>, <Element td at 0x1ff4c8f9740>, <Element td at 0x1ff4c8f9c40>, <Element th at 0x1ff4c8f9cc0>, <Element td at 0x1ff4c8f9880>, <Element th at 0x1ff4c8f9d80>, <Element td at 0x1ff4c8f9d00>, <Element th at 0x1ff4c8f9bc0>, <Element td at 0x1ff4c8f9840>, <Element th at 0x1ff4c8f9440>, <Element td at 0x1ff4c8f97c0>, <Element th at 0x1ff4c8f9780>, <Element td at 0x1ff4c8f96c0>, <Element td at 0x1ff4c8f95c0>, <Element th at 0x1ff4c8f9680>, <Element td at 0x1ff4c8f9180>, <Element th at 0x1ff4c8f9600>, <Element td at 0x1ff4c8f9700>, <Element th at 0x1ff4c8f9580>, <Element td at 0x1ff4c8f9500>, <Element th at 0x1ff4c8f9540>, <Element td at 0x1ff4c8f9400>, <Element th at 0x1ff4c8f7b40>, <Element td at 0x1ff4c8f7100>, <Element th at 0x1ff4c8f7180>, <Element td at 0x1ff4c8f7fc0>, <Element th at 0x1ff4c8f7f80>, <Element td at 0x1ff4c8f7900>, <Element td at 0x1ff4c8f7e00>, <Element th at 0x1ff4c8f7680>, <Element th at 0x1ff4c8f7e40>, <Element td at 0x1ff4c8f7700>, <Element th at 0x1ff4c8f79c0>, <Element td at 0x1ff4c8f7d80>, <Element th at 0x1ff4c8f7d00>, <Element th at 0x1ff4c8f7a00>, <Element td at 0x1ff4c8f7cc0>, <Element th at 0x1ff4c8f7c80>, <Element td at 0x1ff4c8f7bc0>, <Element th at 0x1ff4c8f7b80>, <Element td at 0x1ff4c8f7c00>, <Element th at 0x1ff4c8f7b00>, <Element td at 0x1ff4c8f7c40>, <Element th at 0x1ff4c8f7a80>, <Element td at 0x1ff4c8f7840>, <Element th at 0x1ff4c8f7a40>, <Element td at 0x1ff4c8f7940>, <Element th at 0x1ff4c8f78c0>, <Element td at 0x1ff4c8f7540>, <Element th at 0x1ff4c8f7280>, <Element td at 0x1ff4c8f77c0>, <Element th at 0x1ff4c8f7780>, <Element td at 0x1ff4c8f7080>, <Element th at 0x1ff4c8f7600>, <Element td at 0x1ff4c8f76c0>, <Element th at 0x1ff4c8f7200>, <Element td at 0x1ff4c8f7640>, <Element th at 0x1ff4c8f7740>, <Element td at 0x1ff4c8f7500>, <Element th at 0x1ff4c8f75c0>, <Element td at 0x1ff4c8f7580>, <Element th at 0x1ff4c8f7440>, <Element td at 0x1ff4c8f7400>, <Element th at 0x1ff4c8f7300>, <Element td at 0x1ff4c8f73c0>, <Element th at 0x1ff4c8f7380>, <Element td at 0x1ff4c8f7340>, <Element th at 0x1ff4c8f72c0>, <Element td at 0x1ff4718ef80>, <Element th at 0x1ff4c8f5f80>, <Element td at 0x1ff4c8f5f00>, <Element th at 0x1ff4c8f51c0>, <Element td at 0x1ff4c8f5b40>]\n"
     ]
    }
   ],
   "source": [
    "print(table)"
   ]
  },
  {
   "cell_type": "code",
   "execution_count": 91,
   "id": "c5110614",
   "metadata": {
    "scrolled": true
   },
   "outputs": [
    {
     "name": "stdout",
     "output_type": "stream",
     "text": [
      "th Capital\n",
      "th Largest city\n",
      "th Official languages\n",
      "td None\n",
      "th Native languages\n",
      "th Religion \n",
      "td \n",
      "\n",
      "th Legislature\n",
      "td \n",
      "\n",
      "td 3,287,263\n",
      "td 9.6\n",
      "td 1,210,854,977\n",
      "td 419.9/km\n",
      "td 2023 estimate\n",
      "td 2023 estimate\n",
      "td 35.7\n",
      "th Currency\n",
      "th Time zone\n",
      "th Date format\n",
      "td left\n"
     ]
    }
   ],
   "source": [
    "for child in table:\n",
    "    if child.text != None:\n",
    "        print(child.tag,child.text)"
   ]
  },
  {
   "cell_type": "code",
   "execution_count": null,
   "id": "189f4ed1",
   "metadata": {},
   "outputs": [],
   "source": []
  },
  {
   "cell_type": "code",
   "execution_count": null,
   "id": "b0ac0e00",
   "metadata": {},
   "outputs": [
    {
     "name": "stdout",
     "output_type": "stream",
     "text": [
      " * Serving Flask app \"__main__\" (lazy loading)\n",
      " * Environment: production\n",
      "   WARNING: This is a development server. Do not use it in a production deployment.\n",
      "   Use a production WSGI server instead.\n",
      " * Debug mode: off\n"
     ]
    },
    {
     "name": "stderr",
     "output_type": "stream",
     "text": [
      " * Running on http://127.0.0.1:5000/ (Press CTRL+C to quit)\n",
      "127.0.0.1 - - [24/Feb/2023 12:50:40] \"\u001b[37mGET /finduser/Raj HTTP/1.1\u001b[0m\" 200 -\n"
     ]
    },
    {
     "name": "stdout",
     "output_type": "stream",
     "text": [
      "  name  age\n",
      "0  Raj   45\n"
     ]
    },
    {
     "name": "stderr",
     "output_type": "stream",
     "text": [
      "127.0.0.1 - - [24/Feb/2023 12:50:44] \"\u001b[37mGET /finduser/Raj1 HTTP/1.1\u001b[0m\" 200 -\n"
     ]
    },
    {
     "name": "stdout",
     "output_type": "stream",
     "text": [
      "Empty DataFrame\n",
      "Columns: [name, age]\n",
      "Index: []\n"
     ]
    }
   ],
   "source": [
    "from flask import Flask\n",
    "from flask import Flask, request, render_template,jsonify\n",
    "import pandas as pd\n",
    "app = Flask(__name__)\n",
    "usersFilePath=\"C://data//users.csv\"\n",
    "\n",
    "@app.errorhandler(404)\n",
    "def notfound(e):\n",
    "    return jsonify({\"page\":\"absent\"})\n",
    "\n",
    "@app.route('/user',methods=['GET','POST'])\n",
    "def user():\n",
    "    if request.method  == 'POST':\n",
    "        userData=request.get_json()\n",
    "        series = pd.DataFrame(userData)\n",
    "        print(series)\n",
    "        df= pd.read_csv(usersFilePath)\n",
    "        df=pd.concat([df,series])\n",
    "        print(df)\n",
    "        df.to_csv(usersFilePath,index=False)\n",
    "        return {\"success\":True}\n",
    "    else:\n",
    "        return jsonify(usersList)\n",
    "\n",
    "@app.route('/finduser/<name>',methods=['GET'])\n",
    "def findUser(name):\n",
    "    df= pd.read_csv(usersFilePath)\n",
    "    data=df[df['name']==name]  \n",
    "    print(data)\n",
    "    return data.to_dict()\n",
    "        \n",
    "\n",
    "if __name__ == '__main__':\n",
    "    app.run()\n"
   ]
  },
  {
   "cell_type": "code",
   "execution_count": null,
   "id": "3255862e",
   "metadata": {},
   "outputs": [],
   "source": [
    "wit"
   ]
  },
  {
   "cell_type": "code",
   "execution_count": 46,
   "id": "c9634f7c",
   "metadata": {},
   "outputs": [
    {
     "ename": "NameError",
     "evalue": "name 'df' is not defined",
     "output_type": "error",
     "traceback": [
      "\u001b[1;31m---------------------------------------------------------------------------\u001b[0m",
      "\u001b[1;31mNameError\u001b[0m                                 Traceback (most recent call last)",
      "\u001b[1;32m<ipython-input-46-d1fb23cf7b0d>\u001b[0m in \u001b[0;36m<module>\u001b[1;34m\u001b[0m\n\u001b[1;32m----> 1\u001b[1;33m \u001b[0mhelp\u001b[0m\u001b[1;33m(\u001b[0m\u001b[0mdf\u001b[0m\u001b[1;33m.\u001b[0m\u001b[0mto_csv\u001b[0m\u001b[1;33m)\u001b[0m\u001b[1;33m\u001b[0m\u001b[1;33m\u001b[0m\u001b[0m\n\u001b[0m",
      "\u001b[1;31mNameError\u001b[0m: name 'df' is not defined"
     ]
    }
   ],
   "source": [
    "help(df.to_csv)"
   ]
  },
  {
   "cell_type": "code",
   "execution_count": 57,
   "id": "7d8edf42",
   "metadata": {},
   "outputs": [],
   "source": [
    "df =pd.read_csv(\"C://data//users.csv\")"
   ]
  },
  {
   "cell_type": "code",
   "execution_count": 62,
   "id": "cd1d4b12",
   "metadata": {},
   "outputs": [
    {
     "data": {
      "text/html": [
       "<div>\n",
       "<style scoped>\n",
       "    .dataframe tbody tr th:only-of-type {\n",
       "        vertical-align: middle;\n",
       "    }\n",
       "\n",
       "    .dataframe tbody tr th {\n",
       "        vertical-align: top;\n",
       "    }\n",
       "\n",
       "    .dataframe thead th {\n",
       "        text-align: right;\n",
       "    }\n",
       "</style>\n",
       "<table border=\"1\" class=\"dataframe\">\n",
       "  <thead>\n",
       "    <tr style=\"text-align: right;\">\n",
       "      <th></th>\n",
       "      <th>name</th>\n",
       "      <th>age</th>\n",
       "    </tr>\n",
       "  </thead>\n",
       "  <tbody>\n",
       "    <tr>\n",
       "      <th>0</th>\n",
       "      <td>Raj</td>\n",
       "      <td>45</td>\n",
       "    </tr>\n",
       "  </tbody>\n",
       "</table>\n",
       "</div>"
      ],
      "text/plain": [
       "  name  age\n",
       "0  Raj   45"
      ]
     },
     "execution_count": 62,
     "metadata": {},
     "output_type": "execute_result"
    }
   ],
   "source": [
    "df[df['name']=='Raj']"
   ]
  },
  {
   "cell_type": "code",
   "execution_count": 65,
   "id": "a4d42d3d",
   "metadata": {},
   "outputs": [
    {
     "data": {
      "text/plain": [
       "{'name': {0: 'Raj'}, 'age': {0: 45}}"
      ]
     },
     "execution_count": 65,
     "metadata": {},
     "output_type": "execute_result"
    }
   ],
   "source": [
    "df.to_dict()"
   ]
  },
  {
   "cell_type": "code",
   "execution_count": 92,
   "id": "4d84ebe8",
   "metadata": {},
   "outputs": [],
   "source": [
    "import pandas as pd"
   ]
  },
  {
   "cell_type": "code",
   "execution_count": 94,
   "id": "0c9b0786",
   "metadata": {},
   "outputs": [],
   "source": [
    "response = requests.get('https://int.soccerway.com/teams/rankings/fifa/')"
   ]
  },
  {
   "cell_type": "code",
   "execution_count": 93,
   "id": "7246b8de",
   "metadata": {},
   "outputs": [
    {
     "ename": "HTTPError",
     "evalue": "HTTP Error 403: Forbidden",
     "output_type": "error",
     "traceback": [
      "\u001b[1;31m---------------------------------------------------------------------------\u001b[0m",
      "\u001b[1;31mHTTPError\u001b[0m                                 Traceback (most recent call last)",
      "\u001b[1;32m<ipython-input-93-9dbfdcab0e29>\u001b[0m in \u001b[0;36m<module>\u001b[1;34m\u001b[0m\n\u001b[1;32m----> 1\u001b[1;33m \u001b[0mdf\u001b[0m \u001b[1;33m=\u001b[0m \u001b[0mpd\u001b[0m\u001b[1;33m.\u001b[0m\u001b[0mread_html\u001b[0m\u001b[1;33m(\u001b[0m\u001b[1;34m\"https://int.soccerway.com/teams/rankings/fifa/\"\u001b[0m\u001b[1;33m)\u001b[0m\u001b[1;33m\u001b[0m\u001b[1;33m\u001b[0m\u001b[0m\n\u001b[0m",
      "\u001b[1;32m~\\anaconda3\\lib\\site-packages\\pandas\\util\\_decorators.py\u001b[0m in \u001b[0;36mwrapper\u001b[1;34m(*args, **kwargs)\u001b[0m\n\u001b[0;32m    309\u001b[0m                     \u001b[0mstacklevel\u001b[0m\u001b[1;33m=\u001b[0m\u001b[0mstacklevel\u001b[0m\u001b[1;33m,\u001b[0m\u001b[1;33m\u001b[0m\u001b[1;33m\u001b[0m\u001b[0m\n\u001b[0;32m    310\u001b[0m                 )\n\u001b[1;32m--> 311\u001b[1;33m             \u001b[1;32mreturn\u001b[0m \u001b[0mfunc\u001b[0m\u001b[1;33m(\u001b[0m\u001b[1;33m*\u001b[0m\u001b[0margs\u001b[0m\u001b[1;33m,\u001b[0m \u001b[1;33m**\u001b[0m\u001b[0mkwargs\u001b[0m\u001b[1;33m)\u001b[0m\u001b[1;33m\u001b[0m\u001b[1;33m\u001b[0m\u001b[0m\n\u001b[0m\u001b[0;32m    312\u001b[0m \u001b[1;33m\u001b[0m\u001b[0m\n\u001b[0;32m    313\u001b[0m         \u001b[1;32mreturn\u001b[0m \u001b[0mwrapper\u001b[0m\u001b[1;33m\u001b[0m\u001b[1;33m\u001b[0m\u001b[0m\n",
      "\u001b[1;32m~\\anaconda3\\lib\\site-packages\\pandas\\io\\html.py\u001b[0m in \u001b[0;36mread_html\u001b[1;34m(io, match, flavor, header, index_col, skiprows, attrs, parse_dates, thousands, encoding, decimal, converters, na_values, keep_default_na, displayed_only)\u001b[0m\n\u001b[0;32m   1096\u001b[0m     \u001b[0mio\u001b[0m \u001b[1;33m=\u001b[0m \u001b[0mstringify_path\u001b[0m\u001b[1;33m(\u001b[0m\u001b[0mio\u001b[0m\u001b[1;33m)\u001b[0m\u001b[1;33m\u001b[0m\u001b[1;33m\u001b[0m\u001b[0m\n\u001b[0;32m   1097\u001b[0m \u001b[1;33m\u001b[0m\u001b[0m\n\u001b[1;32m-> 1098\u001b[1;33m     return _parse(\n\u001b[0m\u001b[0;32m   1099\u001b[0m         \u001b[0mflavor\u001b[0m\u001b[1;33m=\u001b[0m\u001b[0mflavor\u001b[0m\u001b[1;33m,\u001b[0m\u001b[1;33m\u001b[0m\u001b[1;33m\u001b[0m\u001b[0m\n\u001b[0;32m   1100\u001b[0m         \u001b[0mio\u001b[0m\u001b[1;33m=\u001b[0m\u001b[0mio\u001b[0m\u001b[1;33m,\u001b[0m\u001b[1;33m\u001b[0m\u001b[1;33m\u001b[0m\u001b[0m\n",
      "\u001b[1;32m~\\anaconda3\\lib\\site-packages\\pandas\\io\\html.py\u001b[0m in \u001b[0;36m_parse\u001b[1;34m(flavor, io, match, attrs, encoding, displayed_only, **kwargs)\u001b[0m\n\u001b[0;32m    904\u001b[0m \u001b[1;33m\u001b[0m\u001b[0m\n\u001b[0;32m    905\u001b[0m         \u001b[1;32mtry\u001b[0m\u001b[1;33m:\u001b[0m\u001b[1;33m\u001b[0m\u001b[1;33m\u001b[0m\u001b[0m\n\u001b[1;32m--> 906\u001b[1;33m             \u001b[0mtables\u001b[0m \u001b[1;33m=\u001b[0m \u001b[0mp\u001b[0m\u001b[1;33m.\u001b[0m\u001b[0mparse_tables\u001b[0m\u001b[1;33m(\u001b[0m\u001b[1;33m)\u001b[0m\u001b[1;33m\u001b[0m\u001b[1;33m\u001b[0m\u001b[0m\n\u001b[0m\u001b[0;32m    907\u001b[0m         \u001b[1;32mexcept\u001b[0m \u001b[0mValueError\u001b[0m \u001b[1;32mas\u001b[0m \u001b[0mcaught\u001b[0m\u001b[1;33m:\u001b[0m\u001b[1;33m\u001b[0m\u001b[1;33m\u001b[0m\u001b[0m\n\u001b[0;32m    908\u001b[0m             \u001b[1;31m# if `io` is an io-like object, check if it's seekable\u001b[0m\u001b[1;33m\u001b[0m\u001b[1;33m\u001b[0m\u001b[1;33m\u001b[0m\u001b[0m\n",
      "\u001b[1;32m~\\anaconda3\\lib\\site-packages\\pandas\\io\\html.py\u001b[0m in \u001b[0;36mparse_tables\u001b[1;34m(self)\u001b[0m\n\u001b[0;32m    220\u001b[0m         \u001b[0mlist\u001b[0m \u001b[0mof\u001b[0m \u001b[0mparsed\u001b[0m \u001b[1;33m(\u001b[0m\u001b[0mheader\u001b[0m\u001b[1;33m,\u001b[0m \u001b[0mbody\u001b[0m\u001b[1;33m,\u001b[0m \u001b[0mfooter\u001b[0m\u001b[1;33m)\u001b[0m \u001b[0mtuples\u001b[0m \u001b[1;32mfrom\u001b[0m \u001b[0mtables\u001b[0m\u001b[1;33m.\u001b[0m\u001b[1;33m\u001b[0m\u001b[1;33m\u001b[0m\u001b[0m\n\u001b[0;32m    221\u001b[0m         \"\"\"\n\u001b[1;32m--> 222\u001b[1;33m         \u001b[0mtables\u001b[0m \u001b[1;33m=\u001b[0m \u001b[0mself\u001b[0m\u001b[1;33m.\u001b[0m\u001b[0m_parse_tables\u001b[0m\u001b[1;33m(\u001b[0m\u001b[0mself\u001b[0m\u001b[1;33m.\u001b[0m\u001b[0m_build_doc\u001b[0m\u001b[1;33m(\u001b[0m\u001b[1;33m)\u001b[0m\u001b[1;33m,\u001b[0m \u001b[0mself\u001b[0m\u001b[1;33m.\u001b[0m\u001b[0mmatch\u001b[0m\u001b[1;33m,\u001b[0m \u001b[0mself\u001b[0m\u001b[1;33m.\u001b[0m\u001b[0mattrs\u001b[0m\u001b[1;33m)\u001b[0m\u001b[1;33m\u001b[0m\u001b[1;33m\u001b[0m\u001b[0m\n\u001b[0m\u001b[0;32m    223\u001b[0m         \u001b[1;32mreturn\u001b[0m \u001b[1;33m(\u001b[0m\u001b[0mself\u001b[0m\u001b[1;33m.\u001b[0m\u001b[0m_parse_thead_tbody_tfoot\u001b[0m\u001b[1;33m(\u001b[0m\u001b[0mtable\u001b[0m\u001b[1;33m)\u001b[0m \u001b[1;32mfor\u001b[0m \u001b[0mtable\u001b[0m \u001b[1;32min\u001b[0m \u001b[0mtables\u001b[0m\u001b[1;33m)\u001b[0m\u001b[1;33m\u001b[0m\u001b[1;33m\u001b[0m\u001b[0m\n\u001b[0;32m    224\u001b[0m \u001b[1;33m\u001b[0m\u001b[0m\n",
      "\u001b[1;32m~\\anaconda3\\lib\\site-packages\\pandas\\io\\html.py\u001b[0m in \u001b[0;36m_build_doc\u001b[1;34m(self)\u001b[0m\n\u001b[0;32m    743\u001b[0m                     \u001b[1;32mpass\u001b[0m\u001b[1;33m\u001b[0m\u001b[1;33m\u001b[0m\u001b[0m\n\u001b[0;32m    744\u001b[0m             \u001b[1;32melse\u001b[0m\u001b[1;33m:\u001b[0m\u001b[1;33m\u001b[0m\u001b[1;33m\u001b[0m\u001b[0m\n\u001b[1;32m--> 745\u001b[1;33m                 \u001b[1;32mraise\u001b[0m \u001b[0me\u001b[0m\u001b[1;33m\u001b[0m\u001b[1;33m\u001b[0m\u001b[0m\n\u001b[0m\u001b[0;32m    746\u001b[0m         \u001b[1;32melse\u001b[0m\u001b[1;33m:\u001b[0m\u001b[1;33m\u001b[0m\u001b[1;33m\u001b[0m\u001b[0m\n\u001b[0;32m    747\u001b[0m             \u001b[1;32mif\u001b[0m \u001b[1;32mnot\u001b[0m \u001b[0mhasattr\u001b[0m\u001b[1;33m(\u001b[0m\u001b[0mr\u001b[0m\u001b[1;33m,\u001b[0m \u001b[1;34m\"text_content\"\u001b[0m\u001b[1;33m)\u001b[0m\u001b[1;33m:\u001b[0m\u001b[1;33m\u001b[0m\u001b[1;33m\u001b[0m\u001b[0m\n",
      "\u001b[1;32m~\\anaconda3\\lib\\site-packages\\pandas\\io\\html.py\u001b[0m in \u001b[0;36m_build_doc\u001b[1;34m(self)\u001b[0m\n\u001b[0;32m    724\u001b[0m         \u001b[1;32mtry\u001b[0m\u001b[1;33m:\u001b[0m\u001b[1;33m\u001b[0m\u001b[1;33m\u001b[0m\u001b[0m\n\u001b[0;32m    725\u001b[0m             \u001b[1;32mif\u001b[0m \u001b[0mis_url\u001b[0m\u001b[1;33m(\u001b[0m\u001b[0mself\u001b[0m\u001b[1;33m.\u001b[0m\u001b[0mio\u001b[0m\u001b[1;33m)\u001b[0m\u001b[1;33m:\u001b[0m\u001b[1;33m\u001b[0m\u001b[1;33m\u001b[0m\u001b[0m\n\u001b[1;32m--> 726\u001b[1;33m                 \u001b[1;32mwith\u001b[0m \u001b[0murlopen\u001b[0m\u001b[1;33m(\u001b[0m\u001b[0mself\u001b[0m\u001b[1;33m.\u001b[0m\u001b[0mio\u001b[0m\u001b[1;33m)\u001b[0m \u001b[1;32mas\u001b[0m \u001b[0mf\u001b[0m\u001b[1;33m:\u001b[0m\u001b[1;33m\u001b[0m\u001b[1;33m\u001b[0m\u001b[0m\n\u001b[0m\u001b[0;32m    727\u001b[0m                     \u001b[0mr\u001b[0m \u001b[1;33m=\u001b[0m \u001b[0mparse\u001b[0m\u001b[1;33m(\u001b[0m\u001b[0mf\u001b[0m\u001b[1;33m,\u001b[0m \u001b[0mparser\u001b[0m\u001b[1;33m=\u001b[0m\u001b[0mparser\u001b[0m\u001b[1;33m)\u001b[0m\u001b[1;33m\u001b[0m\u001b[1;33m\u001b[0m\u001b[0m\n\u001b[0;32m    728\u001b[0m             \u001b[1;32melse\u001b[0m\u001b[1;33m:\u001b[0m\u001b[1;33m\u001b[0m\u001b[1;33m\u001b[0m\u001b[0m\n",
      "\u001b[1;32m~\\anaconda3\\lib\\site-packages\\pandas\\io\\common.py\u001b[0m in \u001b[0;36murlopen\u001b[1;34m(*args, **kwargs)\u001b[0m\n\u001b[0;32m    209\u001b[0m     \u001b[1;32mimport\u001b[0m \u001b[0murllib\u001b[0m\u001b[1;33m.\u001b[0m\u001b[0mrequest\u001b[0m\u001b[1;33m\u001b[0m\u001b[1;33m\u001b[0m\u001b[0m\n\u001b[0;32m    210\u001b[0m \u001b[1;33m\u001b[0m\u001b[0m\n\u001b[1;32m--> 211\u001b[1;33m     \u001b[1;32mreturn\u001b[0m \u001b[0murllib\u001b[0m\u001b[1;33m.\u001b[0m\u001b[0mrequest\u001b[0m\u001b[1;33m.\u001b[0m\u001b[0murlopen\u001b[0m\u001b[1;33m(\u001b[0m\u001b[1;33m*\u001b[0m\u001b[0margs\u001b[0m\u001b[1;33m,\u001b[0m \u001b[1;33m**\u001b[0m\u001b[0mkwargs\u001b[0m\u001b[1;33m)\u001b[0m\u001b[1;33m\u001b[0m\u001b[1;33m\u001b[0m\u001b[0m\n\u001b[0m\u001b[0;32m    212\u001b[0m \u001b[1;33m\u001b[0m\u001b[0m\n\u001b[0;32m    213\u001b[0m \u001b[1;33m\u001b[0m\u001b[0m\n",
      "\u001b[1;32m~\\anaconda3\\lib\\urllib\\request.py\u001b[0m in \u001b[0;36murlopen\u001b[1;34m(url, data, timeout, cafile, capath, cadefault, context)\u001b[0m\n\u001b[0;32m    220\u001b[0m     \u001b[1;32melse\u001b[0m\u001b[1;33m:\u001b[0m\u001b[1;33m\u001b[0m\u001b[1;33m\u001b[0m\u001b[0m\n\u001b[0;32m    221\u001b[0m         \u001b[0mopener\u001b[0m \u001b[1;33m=\u001b[0m \u001b[0m_opener\u001b[0m\u001b[1;33m\u001b[0m\u001b[1;33m\u001b[0m\u001b[0m\n\u001b[1;32m--> 222\u001b[1;33m     \u001b[1;32mreturn\u001b[0m \u001b[0mopener\u001b[0m\u001b[1;33m.\u001b[0m\u001b[0mopen\u001b[0m\u001b[1;33m(\u001b[0m\u001b[0murl\u001b[0m\u001b[1;33m,\u001b[0m \u001b[0mdata\u001b[0m\u001b[1;33m,\u001b[0m \u001b[0mtimeout\u001b[0m\u001b[1;33m)\u001b[0m\u001b[1;33m\u001b[0m\u001b[1;33m\u001b[0m\u001b[0m\n\u001b[0m\u001b[0;32m    223\u001b[0m \u001b[1;33m\u001b[0m\u001b[0m\n\u001b[0;32m    224\u001b[0m \u001b[1;32mdef\u001b[0m \u001b[0minstall_opener\u001b[0m\u001b[1;33m(\u001b[0m\u001b[0mopener\u001b[0m\u001b[1;33m)\u001b[0m\u001b[1;33m:\u001b[0m\u001b[1;33m\u001b[0m\u001b[1;33m\u001b[0m\u001b[0m\n",
      "\u001b[1;32m~\\anaconda3\\lib\\urllib\\request.py\u001b[0m in \u001b[0;36mopen\u001b[1;34m(self, fullurl, data, timeout)\u001b[0m\n\u001b[0;32m    529\u001b[0m         \u001b[1;32mfor\u001b[0m \u001b[0mprocessor\u001b[0m \u001b[1;32min\u001b[0m \u001b[0mself\u001b[0m\u001b[1;33m.\u001b[0m\u001b[0mprocess_response\u001b[0m\u001b[1;33m.\u001b[0m\u001b[0mget\u001b[0m\u001b[1;33m(\u001b[0m\u001b[0mprotocol\u001b[0m\u001b[1;33m,\u001b[0m \u001b[1;33m[\u001b[0m\u001b[1;33m]\u001b[0m\u001b[1;33m)\u001b[0m\u001b[1;33m:\u001b[0m\u001b[1;33m\u001b[0m\u001b[1;33m\u001b[0m\u001b[0m\n\u001b[0;32m    530\u001b[0m             \u001b[0mmeth\u001b[0m \u001b[1;33m=\u001b[0m \u001b[0mgetattr\u001b[0m\u001b[1;33m(\u001b[0m\u001b[0mprocessor\u001b[0m\u001b[1;33m,\u001b[0m \u001b[0mmeth_name\u001b[0m\u001b[1;33m)\u001b[0m\u001b[1;33m\u001b[0m\u001b[1;33m\u001b[0m\u001b[0m\n\u001b[1;32m--> 531\u001b[1;33m             \u001b[0mresponse\u001b[0m \u001b[1;33m=\u001b[0m \u001b[0mmeth\u001b[0m\u001b[1;33m(\u001b[0m\u001b[0mreq\u001b[0m\u001b[1;33m,\u001b[0m \u001b[0mresponse\u001b[0m\u001b[1;33m)\u001b[0m\u001b[1;33m\u001b[0m\u001b[1;33m\u001b[0m\u001b[0m\n\u001b[0m\u001b[0;32m    532\u001b[0m \u001b[1;33m\u001b[0m\u001b[0m\n\u001b[0;32m    533\u001b[0m         \u001b[1;32mreturn\u001b[0m \u001b[0mresponse\u001b[0m\u001b[1;33m\u001b[0m\u001b[1;33m\u001b[0m\u001b[0m\n",
      "\u001b[1;32m~\\anaconda3\\lib\\urllib\\request.py\u001b[0m in \u001b[0;36mhttp_response\u001b[1;34m(self, request, response)\u001b[0m\n\u001b[0;32m    638\u001b[0m         \u001b[1;31m# request was successfully received, understood, and accepted.\u001b[0m\u001b[1;33m\u001b[0m\u001b[1;33m\u001b[0m\u001b[1;33m\u001b[0m\u001b[0m\n\u001b[0;32m    639\u001b[0m         \u001b[1;32mif\u001b[0m \u001b[1;32mnot\u001b[0m \u001b[1;33m(\u001b[0m\u001b[1;36m200\u001b[0m \u001b[1;33m<=\u001b[0m \u001b[0mcode\u001b[0m \u001b[1;33m<\u001b[0m \u001b[1;36m300\u001b[0m\u001b[1;33m)\u001b[0m\u001b[1;33m:\u001b[0m\u001b[1;33m\u001b[0m\u001b[1;33m\u001b[0m\u001b[0m\n\u001b[1;32m--> 640\u001b[1;33m             response = self.parent.error(\n\u001b[0m\u001b[0;32m    641\u001b[0m                 'http', request, response, code, msg, hdrs)\n\u001b[0;32m    642\u001b[0m \u001b[1;33m\u001b[0m\u001b[0m\n",
      "\u001b[1;32m~\\anaconda3\\lib\\urllib\\request.py\u001b[0m in \u001b[0;36merror\u001b[1;34m(self, proto, *args)\u001b[0m\n\u001b[0;32m    567\u001b[0m         \u001b[1;32mif\u001b[0m \u001b[0mhttp_err\u001b[0m\u001b[1;33m:\u001b[0m\u001b[1;33m\u001b[0m\u001b[1;33m\u001b[0m\u001b[0m\n\u001b[0;32m    568\u001b[0m             \u001b[0margs\u001b[0m \u001b[1;33m=\u001b[0m \u001b[1;33m(\u001b[0m\u001b[0mdict\u001b[0m\u001b[1;33m,\u001b[0m \u001b[1;34m'default'\u001b[0m\u001b[1;33m,\u001b[0m \u001b[1;34m'http_error_default'\u001b[0m\u001b[1;33m)\u001b[0m \u001b[1;33m+\u001b[0m \u001b[0morig_args\u001b[0m\u001b[1;33m\u001b[0m\u001b[1;33m\u001b[0m\u001b[0m\n\u001b[1;32m--> 569\u001b[1;33m             \u001b[1;32mreturn\u001b[0m \u001b[0mself\u001b[0m\u001b[1;33m.\u001b[0m\u001b[0m_call_chain\u001b[0m\u001b[1;33m(\u001b[0m\u001b[1;33m*\u001b[0m\u001b[0margs\u001b[0m\u001b[1;33m)\u001b[0m\u001b[1;33m\u001b[0m\u001b[1;33m\u001b[0m\u001b[0m\n\u001b[0m\u001b[0;32m    570\u001b[0m \u001b[1;33m\u001b[0m\u001b[0m\n\u001b[0;32m    571\u001b[0m \u001b[1;31m# XXX probably also want an abstract factory that knows when it makes\u001b[0m\u001b[1;33m\u001b[0m\u001b[1;33m\u001b[0m\u001b[1;33m\u001b[0m\u001b[0m\n",
      "\u001b[1;32m~\\anaconda3\\lib\\urllib\\request.py\u001b[0m in \u001b[0;36m_call_chain\u001b[1;34m(self, chain, kind, meth_name, *args)\u001b[0m\n\u001b[0;32m    500\u001b[0m         \u001b[1;32mfor\u001b[0m \u001b[0mhandler\u001b[0m \u001b[1;32min\u001b[0m \u001b[0mhandlers\u001b[0m\u001b[1;33m:\u001b[0m\u001b[1;33m\u001b[0m\u001b[1;33m\u001b[0m\u001b[0m\n\u001b[0;32m    501\u001b[0m             \u001b[0mfunc\u001b[0m \u001b[1;33m=\u001b[0m \u001b[0mgetattr\u001b[0m\u001b[1;33m(\u001b[0m\u001b[0mhandler\u001b[0m\u001b[1;33m,\u001b[0m \u001b[0mmeth_name\u001b[0m\u001b[1;33m)\u001b[0m\u001b[1;33m\u001b[0m\u001b[1;33m\u001b[0m\u001b[0m\n\u001b[1;32m--> 502\u001b[1;33m             \u001b[0mresult\u001b[0m \u001b[1;33m=\u001b[0m \u001b[0mfunc\u001b[0m\u001b[1;33m(\u001b[0m\u001b[1;33m*\u001b[0m\u001b[0margs\u001b[0m\u001b[1;33m)\u001b[0m\u001b[1;33m\u001b[0m\u001b[1;33m\u001b[0m\u001b[0m\n\u001b[0m\u001b[0;32m    503\u001b[0m             \u001b[1;32mif\u001b[0m \u001b[0mresult\u001b[0m \u001b[1;32mis\u001b[0m \u001b[1;32mnot\u001b[0m \u001b[1;32mNone\u001b[0m\u001b[1;33m:\u001b[0m\u001b[1;33m\u001b[0m\u001b[1;33m\u001b[0m\u001b[0m\n\u001b[0;32m    504\u001b[0m                 \u001b[1;32mreturn\u001b[0m \u001b[0mresult\u001b[0m\u001b[1;33m\u001b[0m\u001b[1;33m\u001b[0m\u001b[0m\n",
      "\u001b[1;32m~\\anaconda3\\lib\\urllib\\request.py\u001b[0m in \u001b[0;36mhttp_error_default\u001b[1;34m(self, req, fp, code, msg, hdrs)\u001b[0m\n\u001b[0;32m    647\u001b[0m \u001b[1;32mclass\u001b[0m \u001b[0mHTTPDefaultErrorHandler\u001b[0m\u001b[1;33m(\u001b[0m\u001b[0mBaseHandler\u001b[0m\u001b[1;33m)\u001b[0m\u001b[1;33m:\u001b[0m\u001b[1;33m\u001b[0m\u001b[1;33m\u001b[0m\u001b[0m\n\u001b[0;32m    648\u001b[0m     \u001b[1;32mdef\u001b[0m \u001b[0mhttp_error_default\u001b[0m\u001b[1;33m(\u001b[0m\u001b[0mself\u001b[0m\u001b[1;33m,\u001b[0m \u001b[0mreq\u001b[0m\u001b[1;33m,\u001b[0m \u001b[0mfp\u001b[0m\u001b[1;33m,\u001b[0m \u001b[0mcode\u001b[0m\u001b[1;33m,\u001b[0m \u001b[0mmsg\u001b[0m\u001b[1;33m,\u001b[0m \u001b[0mhdrs\u001b[0m\u001b[1;33m)\u001b[0m\u001b[1;33m:\u001b[0m\u001b[1;33m\u001b[0m\u001b[1;33m\u001b[0m\u001b[0m\n\u001b[1;32m--> 649\u001b[1;33m         \u001b[1;32mraise\u001b[0m \u001b[0mHTTPError\u001b[0m\u001b[1;33m(\u001b[0m\u001b[0mreq\u001b[0m\u001b[1;33m.\u001b[0m\u001b[0mfull_url\u001b[0m\u001b[1;33m,\u001b[0m \u001b[0mcode\u001b[0m\u001b[1;33m,\u001b[0m \u001b[0mmsg\u001b[0m\u001b[1;33m,\u001b[0m \u001b[0mhdrs\u001b[0m\u001b[1;33m,\u001b[0m \u001b[0mfp\u001b[0m\u001b[1;33m)\u001b[0m\u001b[1;33m\u001b[0m\u001b[1;33m\u001b[0m\u001b[0m\n\u001b[0m\u001b[0;32m    650\u001b[0m \u001b[1;33m\u001b[0m\u001b[0m\n\u001b[0;32m    651\u001b[0m \u001b[1;32mclass\u001b[0m \u001b[0mHTTPRedirectHandler\u001b[0m\u001b[1;33m(\u001b[0m\u001b[0mBaseHandler\u001b[0m\u001b[1;33m)\u001b[0m\u001b[1;33m:\u001b[0m\u001b[1;33m\u001b[0m\u001b[1;33m\u001b[0m\u001b[0m\n",
      "\u001b[1;31mHTTPError\u001b[0m: HTTP Error 403: Forbidden"
     ]
    }
   ],
   "source": [
    "df = pd.read_html(\"https://int.soccerway.com/teams/rankings/fifa/\")"
   ]
  },
  {
   "cell_type": "code",
   "execution_count": 95,
   "id": "37b33aad",
   "metadata": {},
   "outputs": [
    {
     "data": {
      "text/plain": [
       "'<HTML><HEAD>\\n<TITLE>Access Denied</TITLE>\\n</HEAD><BODY>\\n<H1>Access Denied</H1>\\n \\nYou don\\'t have permission to access \"http&#58;&#47;&#47;int&#46;soccerway&#46;com&#47;teams&#47;rankings&#47;fifa&#47;\" on this server.<P>\\nReference&#32;&#35;18&#46;5653e17&#46;1682496820&#46;1f74a2d1\\n</BODY>\\n</HTML>\\n'"
      ]
     },
     "execution_count": 95,
     "metadata": {},
     "output_type": "execute_result"
    }
   ],
   "source": [
    "response.text"
   ]
  },
  {
   "cell_type": "code",
   "execution_count": 103,
   "id": "99c999c2",
   "metadata": {},
   "outputs": [],
   "source": [
    "ip = open(\"C://data/fif.html\",\"r\",encoding='utf-8')"
   ]
  },
  {
   "cell_type": "code",
   "execution_count": 104,
   "id": "1b4e8d4a",
   "metadata": {},
   "outputs": [],
   "source": [
    "content = ip.read()"
   ]
  },
  {
   "cell_type": "code",
   "execution_count": 105,
   "id": "176348dc",
   "metadata": {},
   "outputs": [],
   "source": [
    "ip.close()"
   ]
  },
  {
   "cell_type": "code",
   "execution_count": 106,
   "id": "9155d11b",
   "metadata": {},
   "outputs": [],
   "source": [
    "df = pd.read_html(content)"
   ]
  },
  {
   "cell_type": "code",
   "execution_count": 107,
   "id": "464538d6",
   "metadata": {},
   "outputs": [
    {
     "data": {
      "text/plain": [
       "[       #                    Team   Points  Unnamed: 3 Change\n",
       " 0      1               Argentina  1840.93         NaN      -\n",
       " 1      2                  France  1838.45         NaN      -\n",
       " 2      3                  Brazil  1834.21         NaN      -\n",
       " 3      4                 Belgium  1792.53         NaN      -\n",
       " 4      5                 England  1792.43         NaN      -\n",
       " ..   ...                     ...      ...         ...    ...\n",
       " 206  207               Sri Lanka   825.25         NaN      -\n",
       " 207  208       US Virgin Islands   816.59         NaN      -\n",
       " 208  209  British Virgin Islands   804.11         NaN      -\n",
       " 209  210                Anguilla   785.69         NaN      -\n",
       " 210  211              San Marino   759.12         NaN      -\n",
       " \n",
       " [211 rows x 5 columns]]"
      ]
     },
     "execution_count": 107,
     "metadata": {},
     "output_type": "execute_result"
    }
   ],
   "source": [
    "df"
   ]
  },
  {
   "cell_type": "code",
   "execution_count": 110,
   "id": "80d52832",
   "metadata": {},
   "outputs": [],
   "source": [
    "population=pd.read_html(\"https://en.wikipedia.org/wiki/Demographics_of_India\")"
   ]
  },
  {
   "cell_type": "code",
   "execution_count": 112,
   "id": "1aa2d87f",
   "metadata": {},
   "outputs": [
    {
     "data": {
      "text/html": [
       "<div>\n",
       "<style scoped>\n",
       "    .dataframe tbody tr th:only-of-type {\n",
       "        vertical-align: middle;\n",
       "    }\n",
       "\n",
       "    .dataframe tbody tr th {\n",
       "        vertical-align: top;\n",
       "    }\n",
       "\n",
       "    .dataframe thead th {\n",
       "        text-align: right;\n",
       "    }\n",
       "</style>\n",
       "<table border=\"1\" class=\"dataframe\">\n",
       "  <thead>\n",
       "    <tr style=\"text-align: right;\">\n",
       "      <th></th>\n",
       "      <th>Demographics of India</th>\n",
       "      <th>Demographics of India.1</th>\n",
       "    </tr>\n",
       "  </thead>\n",
       "  <tbody>\n",
       "    <tr>\n",
       "      <th>0</th>\n",
       "      <td>India population pyramid in 2020</td>\n",
       "      <td>India population pyramid in 2020</td>\n",
       "    </tr>\n",
       "    <tr>\n",
       "      <th>1</th>\n",
       "      <td>Population</td>\n",
       "      <td>1,407,563,842[1] (2023 est.)</td>\n",
       "    </tr>\n",
       "    <tr>\n",
       "      <th>2</th>\n",
       "      <td>Density</td>\n",
       "      <td>473.42 people per.km2 (2021 est.)[1]</td>\n",
       "    </tr>\n",
       "    <tr>\n",
       "      <th>3</th>\n",
       "      <td>Growth rate</td>\n",
       "      <td>0.68% (2022 est.)[1]</td>\n",
       "    </tr>\n",
       "    <tr>\n",
       "      <th>4</th>\n",
       "      <td>Birth rate</td>\n",
       "      <td>16.42 births/1,000 population (2021 est.)[1]</td>\n",
       "    </tr>\n",
       "    <tr>\n",
       "      <th>5</th>\n",
       "      <td>Death rate</td>\n",
       "      <td>9.42 deaths/1,000 population (2021 est.)[1]</td>\n",
       "    </tr>\n",
       "    <tr>\n",
       "      <th>6</th>\n",
       "      <td>Life expectancy</td>\n",
       "      <td>67.7 years (2022 est.)[1]</td>\n",
       "    </tr>\n",
       "    <tr>\n",
       "      <th>7</th>\n",
       "      <td>• male</td>\n",
       "      <td>65.8 years (2021 est.)</td>\n",
       "    </tr>\n",
       "    <tr>\n",
       "      <th>8</th>\n",
       "      <td>• female</td>\n",
       "      <td>68.9 years (2020 est.)</td>\n",
       "    </tr>\n",
       "    <tr>\n",
       "      <th>9</th>\n",
       "      <td>Fertility rate</td>\n",
       "      <td>2.03 children born per woman (2021)[1]</td>\n",
       "    </tr>\n",
       "    <tr>\n",
       "      <th>10</th>\n",
       "      <td>Infant mortality rate</td>\n",
       "      <td>29.94 deaths/1,000 live births (2018)[2]</td>\n",
       "    </tr>\n",
       "    <tr>\n",
       "      <th>11</th>\n",
       "      <td>Age structure</td>\n",
       "      <td>Age structure</td>\n",
       "    </tr>\n",
       "    <tr>\n",
       "      <th>12</th>\n",
       "      <td>0–14 years</td>\n",
       "      <td>28.6% (male 190,075,427/female 172,799,553)[3]</td>\n",
       "    </tr>\n",
       "    <tr>\n",
       "      <th>13</th>\n",
       "      <td>15–64 years</td>\n",
       "      <td>63.6% (male 381,446,079/female 359,802,209) (2...</td>\n",
       "    </tr>\n",
       "    <tr>\n",
       "      <th>14</th>\n",
       "      <td>65 and over</td>\n",
       "      <td>5.3% (male 29,364,920/female 32,591,030) (2009...</td>\n",
       "    </tr>\n",
       "    <tr>\n",
       "      <th>15</th>\n",
       "      <td>Sex ratio</td>\n",
       "      <td>Sex ratio</td>\n",
       "    </tr>\n",
       "    <tr>\n",
       "      <th>16</th>\n",
       "      <td>Total</td>\n",
       "      <td>1.06 male(s)/female (2023)[4]</td>\n",
       "    </tr>\n",
       "    <tr>\n",
       "      <th>17</th>\n",
       "      <td>At birth</td>\n",
       "      <td>1.1 male(s)/female (2023)[4]</td>\n",
       "    </tr>\n",
       "    <tr>\n",
       "      <th>18</th>\n",
       "      <td>Under 15</td>\n",
       "      <td>1.11 male(s)/female (2023)[4]</td>\n",
       "    </tr>\n",
       "    <tr>\n",
       "      <th>19</th>\n",
       "      <td>15–64 years</td>\n",
       "      <td>1.07 male(s)/female (2023 est.)</td>\n",
       "    </tr>\n",
       "    <tr>\n",
       "      <th>20</th>\n",
       "      <td>65 and over</td>\n",
       "      <td>0.85 male(s)/female (2023)[4]</td>\n",
       "    </tr>\n",
       "    <tr>\n",
       "      <th>21</th>\n",
       "      <td>Nationality</td>\n",
       "      <td>Nationality</td>\n",
       "    </tr>\n",
       "    <tr>\n",
       "      <th>22</th>\n",
       "      <td>Major ethnic</td>\n",
       "      <td>See Ethnic groups of India</td>\n",
       "    </tr>\n",
       "    <tr>\n",
       "      <th>23</th>\n",
       "      <td>Language</td>\n",
       "      <td>Language</td>\n",
       "    </tr>\n",
       "    <tr>\n",
       "      <th>24</th>\n",
       "      <td>Official</td>\n",
       "      <td>See Languages of India</td>\n",
       "    </tr>\n",
       "    <tr>\n",
       "      <th>25</th>\n",
       "      <td>Spoken</td>\n",
       "      <td>.mw-parser-output .plainlist ol,.mw-parser-out...</td>\n",
       "    </tr>\n",
       "  </tbody>\n",
       "</table>\n",
       "</div>"
      ],
      "text/plain": [
       "               Demographics of India  \\\n",
       "0   India population pyramid in 2020   \n",
       "1                         Population   \n",
       "2                            Density   \n",
       "3                        Growth rate   \n",
       "4                         Birth rate   \n",
       "5                         Death rate   \n",
       "6                    Life expectancy   \n",
       "7                             • male   \n",
       "8                           • female   \n",
       "9                     Fertility rate   \n",
       "10             Infant mortality rate   \n",
       "11                     Age structure   \n",
       "12                        0–14 years   \n",
       "13                       15–64 years   \n",
       "14                       65 and over   \n",
       "15                         Sex ratio   \n",
       "16                             Total   \n",
       "17                          At birth   \n",
       "18                          Under 15   \n",
       "19                       15–64 years   \n",
       "20                       65 and over   \n",
       "21                       Nationality   \n",
       "22                      Major ethnic   \n",
       "23                          Language   \n",
       "24                          Official   \n",
       "25                            Spoken   \n",
       "\n",
       "                              Demographics of India.1  \n",
       "0                    India population pyramid in 2020  \n",
       "1                        1,407,563,842[1] (2023 est.)  \n",
       "2                473.42 people per.km2 (2021 est.)[1]  \n",
       "3                                0.68% (2022 est.)[1]  \n",
       "4        16.42 births/1,000 population (2021 est.)[1]  \n",
       "5         9.42 deaths/1,000 population (2021 est.)[1]  \n",
       "6                           67.7 years (2022 est.)[1]  \n",
       "7                              65.8 years (2021 est.)  \n",
       "8                              68.9 years (2020 est.)  \n",
       "9              2.03 children born per woman (2021)[1]  \n",
       "10           29.94 deaths/1,000 live births (2018)[2]  \n",
       "11                                      Age structure  \n",
       "12     28.6% (male 190,075,427/female 172,799,553)[3]  \n",
       "13  63.6% (male 381,446,079/female 359,802,209) (2...  \n",
       "14  5.3% (male 29,364,920/female 32,591,030) (2009...  \n",
       "15                                          Sex ratio  \n",
       "16                      1.06 male(s)/female (2023)[4]  \n",
       "17                       1.1 male(s)/female (2023)[4]  \n",
       "18                      1.11 male(s)/female (2023)[4]  \n",
       "19                    1.07 male(s)/female (2023 est.)  \n",
       "20                      0.85 male(s)/female (2023)[4]  \n",
       "21                                        Nationality  \n",
       "22                         See Ethnic groups of India  \n",
       "23                                           Language  \n",
       "24                             See Languages of India  \n",
       "25  .mw-parser-output .plainlist ol,.mw-parser-out...  "
      ]
     },
     "execution_count": 112,
     "metadata": {},
     "output_type": "execute_result"
    }
   ],
   "source": [
    "population[0]"
   ]
  },
  {
   "cell_type": "code",
   "execution_count": 113,
   "id": "85590de5",
   "metadata": {},
   "outputs": [
    {
     "data": {
      "text/html": [
       "<div>\n",
       "<style scoped>\n",
       "    .dataframe tbody tr th:only-of-type {\n",
       "        vertical-align: middle;\n",
       "    }\n",
       "\n",
       "    .dataframe tbody tr th {\n",
       "        vertical-align: top;\n",
       "    }\n",
       "\n",
       "    .dataframe thead tr th {\n",
       "        text-align: left;\n",
       "    }\n",
       "</style>\n",
       "<table border=\"1\" class=\"dataframe\">\n",
       "  <thead>\n",
       "    <tr>\n",
       "      <th></th>\n",
       "      <th>Year</th>\n",
       "      <th colspan=\"2\" halign=\"left\">Aggregate average</th>\n",
       "      <th>Period</th>\n",
       "      <th>Average % growth / century</th>\n",
       "    </tr>\n",
       "    <tr>\n",
       "      <th></th>\n",
       "      <th>Year</th>\n",
       "      <th>Population</th>\n",
       "      <th>% of World population</th>\n",
       "      <th>Period</th>\n",
       "      <th>Average % growth / century</th>\n",
       "    </tr>\n",
       "  </thead>\n",
       "  <tbody>\n",
       "    <tr>\n",
       "      <th>0</th>\n",
       "      <td>10,000 BC</td>\n",
       "      <td>1000</td>\n",
       "      <td>0.83%</td>\n",
       "      <td>Stone Age</td>\n",
       "      <td>30.28</td>\n",
       "    </tr>\n",
       "    <tr>\n",
       "      <th>1</th>\n",
       "      <td>4000 BC</td>\n",
       "      <td>1000000</td>\n",
       "      <td>30.83%</td>\n",
       "      <td>Stone Age</td>\n",
       "      <td>30.28</td>\n",
       "    </tr>\n",
       "    <tr>\n",
       "      <th>2</th>\n",
       "      <td>2000 BC</td>\n",
       "      <td>13000000</td>\n",
       "      <td>37.143%</td>\n",
       "      <td>Bronze Age</td>\n",
       "      <td>26.25</td>\n",
       "    </tr>\n",
       "    <tr>\n",
       "      <th>3</th>\n",
       "      <td>500 BC</td>\n",
       "      <td>25000000</td>\n",
       "      <td>41.70%</td>\n",
       "      <td>Iron Age</td>\n",
       "      <td>NaN</td>\n",
       "    </tr>\n",
       "    <tr>\n",
       "      <th>4</th>\n",
       "      <td>400 BC</td>\n",
       "      <td>26000000</td>\n",
       "      <td>43.96%</td>\n",
       "      <td>Iron Age</td>\n",
       "      <td>NaN</td>\n",
       "    </tr>\n",
       "    <tr>\n",
       "      <th>5</th>\n",
       "      <td>200 BC</td>\n",
       "      <td>31000000</td>\n",
       "      <td>47.63%</td>\n",
       "      <td>Maurya era</td>\n",
       "      <td>NaN</td>\n",
       "    </tr>\n",
       "    <tr>\n",
       "      <th>6</th>\n",
       "      <td>1 AD</td>\n",
       "      <td>35000000</td>\n",
       "      <td>35.56%</td>\n",
       "      <td>Classical era</td>\n",
       "      <td>NaN</td>\n",
       "    </tr>\n",
       "    <tr>\n",
       "      <th>7</th>\n",
       "      <td>200</td>\n",
       "      <td>41000000</td>\n",
       "      <td>36.15%</td>\n",
       "      <td>Classical era</td>\n",
       "      <td>NaN</td>\n",
       "    </tr>\n",
       "    <tr>\n",
       "      <th>8</th>\n",
       "      <td>400</td>\n",
       "      <td>47000000</td>\n",
       "      <td>40%</td>\n",
       "      <td>Classical era</td>\n",
       "      <td>NaN</td>\n",
       "    </tr>\n",
       "    <tr>\n",
       "      <th>9</th>\n",
       "      <td>500</td>\n",
       "      <td>50000000</td>\n",
       "      <td>43.58%</td>\n",
       "      <td>Classical era</td>\n",
       "      <td>NaN</td>\n",
       "    </tr>\n",
       "    <tr>\n",
       "      <th>10</th>\n",
       "      <td>600</td>\n",
       "      <td>53000000</td>\n",
       "      <td>48.83%</td>\n",
       "      <td>Early medieval era</td>\n",
       "      <td>NaN</td>\n",
       "    </tr>\n",
       "    <tr>\n",
       "      <th>11</th>\n",
       "      <td>700</td>\n",
       "      <td>60000000</td>\n",
       "      <td>56.67%</td>\n",
       "      <td>Early medieval era</td>\n",
       "      <td>NaN</td>\n",
       "    </tr>\n",
       "    <tr>\n",
       "      <th>12</th>\n",
       "      <td>800</td>\n",
       "      <td>64000000</td>\n",
       "      <td>55%</td>\n",
       "      <td>Early medieval era</td>\n",
       "      <td>NaN</td>\n",
       "    </tr>\n",
       "    <tr>\n",
       "      <th>13</th>\n",
       "      <td>900</td>\n",
       "      <td>70000000</td>\n",
       "      <td>53.34%</td>\n",
       "      <td>Early medieval era</td>\n",
       "      <td>NaN</td>\n",
       "    </tr>\n",
       "    <tr>\n",
       "      <th>14</th>\n",
       "      <td>1000</td>\n",
       "      <td>79000000</td>\n",
       "      <td>30%</td>\n",
       "      <td>Early medieval era</td>\n",
       "      <td>NaN</td>\n",
       "    </tr>\n",
       "    <tr>\n",
       "      <th>15</th>\n",
       "      <td>1100</td>\n",
       "      <td>83000000</td>\n",
       "      <td>35%</td>\n",
       "      <td>Late medieval era</td>\n",
       "      <td>NaN</td>\n",
       "    </tr>\n",
       "    <tr>\n",
       "      <th>16</th>\n",
       "      <td>1200</td>\n",
       "      <td>86000000</td>\n",
       "      <td>36.67%</td>\n",
       "      <td>Late medieval era</td>\n",
       "      <td>NaN</td>\n",
       "    </tr>\n",
       "    <tr>\n",
       "      <th>17</th>\n",
       "      <td>1300</td>\n",
       "      <td>91000000</td>\n",
       "      <td>38.34%</td>\n",
       "      <td>Late medieval era</td>\n",
       "      <td>NaN</td>\n",
       "    </tr>\n",
       "    <tr>\n",
       "      <th>18</th>\n",
       "      <td>1400</td>\n",
       "      <td>97000000</td>\n",
       "      <td>30%</td>\n",
       "      <td>Late medieval era</td>\n",
       "      <td>NaN</td>\n",
       "    </tr>\n",
       "    <tr>\n",
       "      <th>19</th>\n",
       "      <td>1500</td>\n",
       "      <td>105000000</td>\n",
       "      <td>21.67%</td>\n",
       "      <td>Late medieval era</td>\n",
       "      <td>NaN</td>\n",
       "    </tr>\n",
       "    <tr>\n",
       "      <th>20</th>\n",
       "      <td>1600</td>\n",
       "      <td>140000000</td>\n",
       "      <td>23.33%</td>\n",
       "      <td>Early modern era</td>\n",
       "      <td>NaN</td>\n",
       "    </tr>\n",
       "    <tr>\n",
       "      <th>21</th>\n",
       "      <td>1650</td>\n",
       "      <td>170000000</td>\n",
       "      <td>26.15%</td>\n",
       "      <td>Early modern era</td>\n",
       "      <td>NaN</td>\n",
       "    </tr>\n",
       "    <tr>\n",
       "      <th>22</th>\n",
       "      <td>1700</td>\n",
       "      <td>140000000</td>\n",
       "      <td>20%</td>\n",
       "      <td>Early modern era</td>\n",
       "      <td>NaN</td>\n",
       "    </tr>\n",
       "    <tr>\n",
       "      <th>23</th>\n",
       "      <td>1750</td>\n",
       "      <td>183000000</td>\n",
       "      <td>21.53%</td>\n",
       "      <td>Early modern era</td>\n",
       "      <td>NaN</td>\n",
       "    </tr>\n",
       "    <tr>\n",
       "      <th>24</th>\n",
       "      <td>1800</td>\n",
       "      <td>200000000</td>\n",
       "      <td>20%</td>\n",
       "      <td>Early modern era</td>\n",
       "      <td>NaN</td>\n",
       "    </tr>\n",
       "    <tr>\n",
       "      <th>25</th>\n",
       "      <td>1820</td>\n",
       "      <td>210000000</td>\n",
       "      <td>19.09%</td>\n",
       "      <td>Early modern era</td>\n",
       "      <td>NaN</td>\n",
       "    </tr>\n",
       "  </tbody>\n",
       "</table>\n",
       "</div>"
      ],
      "text/plain": [
       "         Year Aggregate average                                    Period  \\\n",
       "         Year        Population % of World population              Period   \n",
       "0   10,000 BC              1000                 0.83%           Stone Age   \n",
       "1     4000 BC           1000000                30.83%           Stone Age   \n",
       "2     2000 BC          13000000               37.143%          Bronze Age   \n",
       "3      500 BC          25000000                41.70%            Iron Age   \n",
       "4      400 BC          26000000                43.96%            Iron Age   \n",
       "5      200 BC          31000000                47.63%          Maurya era   \n",
       "6        1 AD          35000000                35.56%       Classical era   \n",
       "7         200          41000000                36.15%       Classical era   \n",
       "8         400          47000000                   40%       Classical era   \n",
       "9         500          50000000                43.58%       Classical era   \n",
       "10        600          53000000                48.83%  Early medieval era   \n",
       "11        700          60000000                56.67%  Early medieval era   \n",
       "12        800          64000000                   55%  Early medieval era   \n",
       "13        900          70000000                53.34%  Early medieval era   \n",
       "14       1000          79000000                   30%  Early medieval era   \n",
       "15       1100          83000000                   35%   Late medieval era   \n",
       "16       1200          86000000                36.67%   Late medieval era   \n",
       "17       1300          91000000                38.34%   Late medieval era   \n",
       "18       1400          97000000                   30%   Late medieval era   \n",
       "19       1500         105000000                21.67%   Late medieval era   \n",
       "20       1600         140000000                23.33%    Early modern era   \n",
       "21       1650         170000000                26.15%    Early modern era   \n",
       "22       1700         140000000                   20%    Early modern era   \n",
       "23       1750         183000000                21.53%    Early modern era   \n",
       "24       1800         200000000                   20%    Early modern era   \n",
       "25       1820         210000000                19.09%    Early modern era   \n",
       "\n",
       "   Average % growth / century  \n",
       "   Average % growth / century  \n",
       "0                       30.28  \n",
       "1                       30.28  \n",
       "2                       26.25  \n",
       "3                         NaN  \n",
       "4                         NaN  \n",
       "5                         NaN  \n",
       "6                         NaN  \n",
       "7                         NaN  \n",
       "8                         NaN  \n",
       "9                         NaN  \n",
       "10                        NaN  \n",
       "11                        NaN  \n",
       "12                        NaN  \n",
       "13                        NaN  \n",
       "14                        NaN  \n",
       "15                        NaN  \n",
       "16                        NaN  \n",
       "17                        NaN  \n",
       "18                        NaN  \n",
       "19                        NaN  \n",
       "20                        NaN  \n",
       "21                        NaN  \n",
       "22                        NaN  \n",
       "23                        NaN  \n",
       "24                        NaN  \n",
       "25                        NaN  "
      ]
     },
     "execution_count": 113,
     "metadata": {},
     "output_type": "execute_result"
    }
   ],
   "source": [
    "population[1]"
   ]
  },
  {
   "cell_type": "code",
   "execution_count": 114,
   "id": "85f6a96a",
   "metadata": {},
   "outputs": [
    {
     "data": {
      "text/plain": [
       "45"
      ]
     },
     "execution_count": 114,
     "metadata": {},
     "output_type": "execute_result"
    }
   ],
   "source": [
    "len(population)"
   ]
  },
  {
   "cell_type": "code",
   "execution_count": null,
   "id": "dab418f2",
   "metadata": {},
   "outputs": [],
   "source": []
  }
 ],
 "metadata": {
  "kernelspec": {
   "display_name": "Python 3",
   "language": "python",
   "name": "python3"
  },
  "language_info": {
   "codemirror_mode": {
    "name": "ipython",
    "version": 3
   },
   "file_extension": ".py",
   "mimetype": "text/x-python",
   "name": "python",
   "nbconvert_exporter": "python",
   "pygments_lexer": "ipython3",
   "version": "3.8.8"
  }
 },
 "nbformat": 4,
 "nbformat_minor": 5
}
