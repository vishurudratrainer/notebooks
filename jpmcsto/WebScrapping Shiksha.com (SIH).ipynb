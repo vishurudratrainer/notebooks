{
 "cells": [
  {
   "cell_type": "code",
   "execution_count": 1,
   "metadata": {},
   "outputs": [],
   "source": [
    "from bs4 import BeautifulSoup\n",
    "import requests"
   ]
  },
  {
   "cell_type": "code",
   "execution_count": 2,
   "metadata": {},
   "outputs": [],
   "source": [
    "headers={\n",
    "    \"User-Agent\" : \"Mozilla/5.0 (X11; Ubuntu; Linux x86_64; rv:65.0) Gecko/20100101 Firefox/65.\"\n",
    "}\n",
    "\n",
    "r=requests.get(\"https://www.shiksha.com/mba/colleges/mba-colleges-india\",headers=headers)"
   ]
  },
  {
   "cell_type": "code",
   "execution_count": 18,
   "metadata": {},
   "outputs": [
    {
     "name": "stdout",
     "output_type": "stream",
     "text": [
      "<!Doctype html>\n",
      "<html>\n",
      "<head>\n",
      "\t<meta charset=\"utf-8\"/>\n",
      "\t<meta http-equiv=\"X-UA-Compatible\" content=\"IE=edge\"/>\n",
      "\t<title data-reactroot=\"\"> MBA/PGDM Colleges in India - Courses, Admissions, Fees, Placements, Reviews at Shiksha</title><meta name=\"keywords\" content=\"Shiksha, education, colleges,universities, institutes,career, career options, career prospects,engineering, mba, medical, mbbs,study abroad, foreign education, college, university, institute,courses, coaching, technical education, higher\n"
     ]
    }
   ],
   "source": [
    "# Printing some response text\n",
    "print(r.text[:500])"
   ]
  },
  {
   "cell_type": "code",
   "execution_count": 4,
   "metadata": {},
   "outputs": [],
   "source": [
    "soup=BeautifulSoup(r.content)"
   ]
  },
  {
   "cell_type": "code",
   "execution_count": 5,
   "metadata": {},
   "outputs": [
    {
     "name": "stdout",
     "output_type": "stream",
     "text": [
      "JIMS Rohini - Jagan Institute of Management Studies\n",
      "Rohini, Delhi\n",
      "4.0Placements3.9Infrastructure3.7Faculty & Course Curriculum4.4Crowd & Campus Life3.9Worth the Money4.1View all 75 reviews\n",
      "4.0Placements3.9Infrastructure3.7Faculty & Course Curriculum4.4Crowd & Campus Life3.9Worth the Money4.1View all 75 reviews(75) | ₹ 7.15 Lakh | 2 years | Full Time\n",
      "TBS - Taxila Business School Jaipur\n",
      "Jaipur\n",
      "4.7Placements4.8Infrastructure4.5Faculty & Course Curriculum4.8Crowd & Campus Life4.6Worth the Money4.7View all 96 reviews\n",
      "4.7Placements4.8Infrastructure4.5Faculty & Course Curriculum4.8Crowd & Campus Life4.6Worth the Money4.7View all 96 reviews(96) | ₹ 8.50 Lakh | 2 years | Full Time\n",
      "SPM - School Of Petroleum Mangement PDPU\n",
      "Gandhinagar\n",
      "4.2Placements4.0Infrastructure4.3Faculty & Course Curriculum4.2Crowd & Campus Life4.4Worth the Money4.1View all 10 reviews\n",
      "4.2Placements4.0Infrastructure4.3Faculty & Course Curriculum4.2Crowd & Campus Life4.4Worth the Money4.1View all 10 reviews(10) | ₹ 8.20 Lakh | 2 years | Full Time\n",
      "NDIM - New Delhi Institute of Management\n",
      "Tughlakabad, Delhi\n",
      "3.8Placements3.9Infrastructure3.6Faculty & Course Curriculum4.2Crowd & Campus Life3.7Worth the Money3.9View all 58 reviews\n",
      "3.8Placements3.9Infrastructure3.6Faculty & Course Curriculum4.2Crowd & Campus Life3.7Worth the Money3.9View all 58 reviews(58) | ₹ 8.25 Lakh | 2 years | Full Time\n",
      "Jaipuria Institute of Management, Lucknow - (Jaipuri...\n",
      "Lucknow\n",
      "3.9Placements3.8Infrastructure3.7Faculty & Course Curriculum4.4Crowd & Campus Life3.8Worth the Money3.8View all 88 reviews\n",
      "3.9Placements3.8Infrastructure3.7Faculty & Course Curriculum4.4Crowd & Campus Life3.8Worth the Money3.8View all 88 reviews(88) | ₹ 9.65 Lakh | 2 years | Full Time\n",
      "IPE - Institute Of Public Enterprise\n",
      "Shamirpet, Hyderabad\n",
      "3.9Placements3.7Infrastructure4.5Faculty & Course Curriculum4.1Crowd & Campus Life4.1Worth the Money3.5View all 15 reviews\n",
      "3.9Placements3.7Infrastructure4.5Faculty & Course Curriculum4.1Crowd & Campus Life4.1Worth the Money3.5View all 15 reviews(15) | ₹ 8.15 Lakh | 2 years | Full Time\n",
      "BITM - Balaji Institute Of Telecom And Management, S...\n",
      "Tathawade, Pune\n",
      "4.4Placements4.3Infrastructure4.5Faculty & Course Curriculum4.4Crowd & Campus Life4.7Worth the Money4.3View all 11 reviews\n",
      "4.4Placements4.3Infrastructure4.5Faculty & Course Curriculum4.4Crowd & Campus Life4.7Worth the Money4.3View all 11 reviews(11) | ₹ 8.10 Lakh | 2 years | Full Time\n",
      "School of Management, BML Munjal University\n",
      "Gurgaon\n",
      "4.0Placements3.8Infrastructure4.8Faculty & Course Curriculum4.5Crowd & Campus Life3.5Worth the Money3.5View all 5 reviews\n",
      "4.0Placements3.8Infrastructure4.8Faculty & Course Curriculum4.5Crowd & Campus Life3.5Worth the Money3.5View all 5 reviews(5) | ₹ 13.00 Lakh | 2 years | Full Time\n",
      "Empi Business School - EMPI\n",
      "Chattarpur, Delhi\n",
      "3.6Placements3.7Infrastructure3.3Faculty & Course Curriculum4.5Crowd & Campus Life3.8Worth the Money3.0View all 13 reviews\n",
      "3.6Placements3.7Infrastructure3.3Faculty & Course Curriculum4.5Crowd & Campus Life3.8Worth the Money3.0View all 13 reviews(13) | ₹ 7.25 Lakh | 2 years | Full Time\n",
      "GITAM Hyderabad Business School\n",
      "Patancheru, Hyderabad\n",
      "4.0Placements3.3Infrastructure4.3Faculty & Course Curriculum4.5Crowd & Campus Life4.0Worth the Money4.0View all 10 reviews\n",
      "4.0Placements3.3Infrastructure4.3Faculty & Course Curriculum4.5Crowd & Campus Life4.0Worth the Money4.0View all 10 reviews(10) | ₹ 7.20 Lakh | 2 years | Full Time\n",
      "BIMM - Balaji Institute of Modern Management, Sri Ba...\n",
      "Tathawade, Pune\n",
      "4.2Placements4.1Infrastructure4.4Faculty & Course Curriculum4.2Crowd & Campus Life4.2Worth the Money4.2View all 35 reviews\n",
      "4.2Placements4.1Infrastructure4.4Faculty & Course Curriculum4.2Crowd & Campus Life4.2Worth the Money4.2View all 35 reviews(35) | ₹ 8.10 Lakh | 2 years | Full Time\n",
      "AIMS Institute of Management Studies\n",
      "Kondhwa Budruk, Pune\n",
      "4.2Placements4.3Infrastructure4.0Faculty & Course Curriculum4.7Crowd & Campus Life4.0Worth the Money4.0View all 3 reviews\n",
      "4.2Placements4.3Infrastructure4.0Faculty & Course Curriculum4.7Crowd & Campus Life4.0Worth the Money4.0View all 3 reviews(3) | ₹ 3.69 Lakh | 2 years | Full Time\n",
      "VESIM - Vivekanand Education Society Institute Of Ma...\n",
      "Chembur, Mumbai\n",
      "4.0Placements4.1Infrastructure3.6Faculty & Course Curriculum4.1Crowd & Campus Life4.2Worth the Money4.1View all 9 reviews\n",
      "4.0Placements4.1Infrastructure3.6Faculty & Course Curriculum4.1Crowd & Campus Life4.2Worth the Money4.1View all 9 reviews(9) | ₹ 6.70 Lakh | 2 years | Full Time\n",
      "Amity University, Mumbai\n",
      "Panvel, Mumbai\n"
     ]
    },
    {
     "ename": "AttributeError",
     "evalue": "'NoneType' object has no attribute 'text'",
     "output_type": "error",
     "traceback": [
      "\u001b[0;31m---------------------------------------------------------------------------\u001b[0m",
      "\u001b[0;31mAttributeError\u001b[0m                            Traceback (most recent call last)",
      "\u001b[0;32m<ipython-input-5-4d9e6cf83ac5>\u001b[0m in \u001b[0;36m<module>\u001b[0;34m()\u001b[0m\n\u001b[1;32m     20\u001b[0m \u001b[0;34m\u001b[0m\u001b[0m\n\u001b[1;32m     21\u001b[0m         \u001b[0mrating\u001b[0m\u001b[0;34m=\u001b[0m\u001b[0mc\u001b[0m\u001b[0;34m.\u001b[0m\u001b[0mfind\u001b[0m\u001b[0;34m(\u001b[0m\u001b[0;34m'span'\u001b[0m\u001b[0;34m,\u001b[0m \u001b[0mattrs\u001b[0m\u001b[0;34m=\u001b[0m\u001b[0;34m{\u001b[0m\u001b[0;34m\"class\"\u001b[0m\u001b[0;34m:\u001b[0m\u001b[0;34m\"rating-block rvw-lyr\"\u001b[0m\u001b[0;34m}\u001b[0m\u001b[0;34m)\u001b[0m\u001b[0;34m\u001b[0m\u001b[0;34m\u001b[0m\u001b[0m\n\u001b[0;32m---> 22\u001b[0;31m         \u001b[0mratings\u001b[0m\u001b[0;34m.\u001b[0m\u001b[0mappend\u001b[0m\u001b[0;34m(\u001b[0m\u001b[0mrating\u001b[0m\u001b[0;34m.\u001b[0m\u001b[0mtext\u001b[0m\u001b[0;34m)\u001b[0m\u001b[0;34m\u001b[0m\u001b[0;34m\u001b[0m\u001b[0m\n\u001b[0m\u001b[1;32m     23\u001b[0m         \u001b[0mprint\u001b[0m\u001b[0;34m(\u001b[0m\u001b[0mrating\u001b[0m\u001b[0;34m.\u001b[0m\u001b[0mtext\u001b[0m\u001b[0;34m)\u001b[0m\u001b[0;34m\u001b[0m\u001b[0;34m\u001b[0m\u001b[0m\n\u001b[1;32m     24\u001b[0m         \u001b[0md\u001b[0m\u001b[0;34m=\u001b[0m\u001b[0mc\u001b[0m\u001b[0;34m.\u001b[0m\u001b[0mfind\u001b[0m\u001b[0;34m(\u001b[0m\u001b[0;34m'div'\u001b[0m\u001b[0;34m,\u001b[0m \u001b[0mattrs\u001b[0m\u001b[0;34m=\u001b[0m\u001b[0;34m{\u001b[0m\u001b[0;34m\"class\"\u001b[0m\u001b[0;34m:\u001b[0m\u001b[0;34m\"ctp-detail\"\u001b[0m\u001b[0;34m}\u001b[0m\u001b[0;34m)\u001b[0m\u001b[0;34m\u001b[0m\u001b[0;34m\u001b[0m\u001b[0m\n",
      "\u001b[0;31mAttributeError\u001b[0m: 'NoneType' object has no attribute 'text'"
     ]
    }
   ],
   "source": [
    "count=0\n",
    "College_name=[]\n",
    "location=[]\n",
    "ratings=[]\n",
    "other_details=[]\n",
    "for section in soup.findAll('section', attrs={\"class\":'ctp_container'}):\n",
    "    college= section.findAll('div',attrs={'class':\"ctpSrp-tuple\"})\n",
    "    \n",
    "#     rating= find('span',attrs={'class':'rating-block rvw-lyr'})\n",
    "    \n",
    "#     print(college.text)\n",
    "    for c in college:\n",
    "        count= count+1\n",
    "        name=c.find('p', attrs={\"class\":\"ctpIns-tl\"})\n",
    "        College_name.append(name.text)\n",
    "        print(name.text)\n",
    "        loc=c.find('p', attrs={\"class\":\"ctp-cty\"})\n",
    "        print(loc.text)\n",
    "        location.append(loc.text)\n",
    "        \n",
    "        rating=c.find('span', attrs={\"class\":\"rating-block rvw-lyr\"})\n",
    "        ratings.append(rating.text)\n",
    "        print(rating.text)\n",
    "        d=c.find('div', attrs={\"class\":\"ctp-detail\"})\n",
    "        other_details.append(d.text)\n",
    "        print(d.text)\n",
    "#         div=c.find('div',attrs={\"class\": \"ctpSrp-Lft\"})\n",
    "#         s=div.find('img')\n",
    "#         print(s.attrs['src'])\n",
    "        \n"
   ]
  },
  {
   "cell_type": "code",
   "execution_count": 6,
   "metadata": {},
   "outputs": [
    {
     "name": "stdout",
     "output_type": "stream",
     "text": [
      "14\n",
      "14\n",
      "14\n",
      "13\n",
      "13\n"
     ]
    }
   ],
   "source": [
    "print(count)\n",
    "print(len(College_name))\n",
    "print(len(location))\n",
    "print(len(ratings))\n",
    "print(len(other_details))\n",
    "del College_name[-1]\n",
    "del location[-1]\n",
    "\n"
   ]
  },
  {
   "cell_type": "markdown",
   "metadata": {},
   "source": [
    "# Combining Data together in one table"
   ]
  },
  {
   "cell_type": "code",
   "execution_count": 7,
   "metadata": {},
   "outputs": [],
   "source": [
    "import pandas as pd"
   ]
  },
  {
   "cell_type": "code",
   "execution_count": 14,
   "metadata": {},
   "outputs": [],
   "source": [
    "data=pd.DataFrame({\n",
    "           'Institution_Name':College_name,\n",
    "           'Location': location,\n",
    "           'Ratings':ratings,\n",
    "           'other_details':other_details\n",
    "    \n",
    "}, columns = ['Institution_Name','Location','Ratings','other_details'])"
   ]
  },
  {
   "cell_type": "code",
   "execution_count": 15,
   "metadata": {},
   "outputs": [
    {
     "name": "stdout",
     "output_type": "stream",
     "text": [
      "                                    Institution_Name            Location  \\\n",
      "0  JIMS Rohini - Jagan Institute of Management St...       Rohini, Delhi   \n",
      "1                TBS - Taxila Business School Jaipur              Jaipur   \n",
      "2           SPM - School Of Petroleum Mangement PDPU         Gandhinagar   \n",
      "3           NDIM - New Delhi Institute of Management  Tughlakabad, Delhi   \n",
      "4  Jaipuria Institute of Management, Lucknow - (J...             Lucknow   \n",
      "\n",
      "                                             Ratings  \\\n",
      "0  4.0Placements3.9Infrastructure3.7Faculty & Cou...   \n",
      "1  4.7Placements4.8Infrastructure4.5Faculty & Cou...   \n",
      "2  4.2Placements4.0Infrastructure4.3Faculty & Cou...   \n",
      "3  3.8Placements3.9Infrastructure3.6Faculty & Cou...   \n",
      "4  3.9Placements3.8Infrastructure3.7Faculty & Cou...   \n",
      "\n",
      "                                       other_details  \n",
      "0  4.0Placements3.9Infrastructure3.7Faculty & Cou...  \n",
      "1  4.7Placements4.8Infrastructure4.5Faculty & Cou...  \n",
      "2  4.2Placements4.0Infrastructure4.3Faculty & Cou...  \n",
      "3  3.8Placements3.9Infrastructure3.6Faculty & Cou...  \n",
      "4  3.9Placements3.8Infrastructure3.7Faculty & Cou...  \n"
     ]
    }
   ],
   "source": [
    "# print(data.info)\n",
    "print(data.head())\n",
    "data.to_csv('example.csv', sep='\\t', encoding='utf-8')"
   ]
  },
  {
   "cell_type": "markdown",
   "metadata": {},
   "source": [
    "# image src scrapping"
   ]
  },
  {
   "cell_type": "code",
   "execution_count": null,
   "metadata": {},
   "outputs": [],
   "source": [
    "for section in soup.findAll('section', attrs={\"class\":'ctp_container'}):\n",
    "#     print(section)\n",
    "    college= section.find('div',attrs={'class':\"ctpSrp-tuple\"})\n",
    "    div=college.find('div',attrs={\"class\": \"ctp-SrpDiv\"})\n",
    "    print(div)\n",
    "    s=div.findAll('img')\n",
    "    print(s)\n",
    "#     print(college)\n",
    "    "
   ]
  },
  {
   "cell_type": "code",
   "execution_count": null,
   "metadata": {},
   "outputs": [],
   "source": []
  }
 ],
 "metadata": {
  "kernelspec": {
   "display_name": "Python 3",
   "language": "python",
   "name": "python3"
  },
  "language_info": {
   "codemirror_mode": {
    "name": "ipython",
    "version": 3
   },
   "file_extension": ".py",
   "mimetype": "text/x-python",
   "name": "python",
   "nbconvert_exporter": "python",
   "pygments_lexer": "ipython3",
   "version": "3.6.7"
  }
 },
 "nbformat": 4,
 "nbformat_minor": 2
}
