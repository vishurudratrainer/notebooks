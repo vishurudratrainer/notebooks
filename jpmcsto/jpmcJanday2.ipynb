{
 "cells": [
  {
   "cell_type": "code",
   "execution_count": 1,
   "id": "61c1615e",
   "metadata": {},
   "outputs": [],
   "source": [
    "class Student:\n",
    "    #Constructor--is used to iniliaze variables\n",
    "    def __init__(self,name,rollNo,age):\n",
    "        self.name=name\n",
    "        self.age=age\n",
    "        self.rollNo=rollNo\n",
    "        \n",
    "    def display(self):\n",
    "        print('name',self.name)\n",
    "        print('age',self.age)\n",
    "        print('rollno',self.rollNo)"
   ]
  },
  {
   "cell_type": "code",
   "execution_count": 2,
   "id": "85069990",
   "metadata": {},
   "outputs": [],
   "source": [
    "s1 = Student(\"Rajeev\",1,21)"
   ]
  },
  {
   "cell_type": "code",
   "execution_count": 3,
   "id": "ce16f96f",
   "metadata": {},
   "outputs": [
    {
     "name": "stdout",
     "output_type": "stream",
     "text": [
      "name Rajeev\n",
      "age 21\n",
      "rollno 1\n"
     ]
    }
   ],
   "source": [
    "s1.display()"
   ]
  },
  {
   "cell_type": "code",
   "execution_count": 4,
   "id": "d9a1abba",
   "metadata": {},
   "outputs": [],
   "source": [
    "s2 = Student(\"Rajesh\",2,22)"
   ]
  },
  {
   "cell_type": "code",
   "execution_count": 5,
   "id": "5dd4530c",
   "metadata": {},
   "outputs": [
    {
     "name": "stdout",
     "output_type": "stream",
     "text": [
      "name Rajesh\n",
      "age 22\n",
      "rollno 2\n"
     ]
    }
   ],
   "source": [
    "s2.display()"
   ]
  },
  {
   "cell_type": "code",
   "execution_count": 7,
   "id": "fa37655a",
   "metadata": {},
   "outputs": [],
   "source": [
    "class ClassRoom:\n",
    "    def __init__(self,students=[]):\n",
    "        self.students=students\n",
    "        \n",
    "    def addStudent(self,student):\n",
    "        self.students.append(student)\n",
    "        \n",
    "    def printStudents(self):\n",
    "        print(\"Students are as follows\")\n",
    "        for s in self.students:\n",
    "            s.display()"
   ]
  },
  {
   "cell_type": "code",
   "execution_count": 8,
   "id": "374bd645",
   "metadata": {},
   "outputs": [],
   "source": [
    "c1 = ClassRoom()\n",
    "c1.addStudent(s1)\n",
    "c1.addStudent(s2)"
   ]
  },
  {
   "cell_type": "code",
   "execution_count": 9,
   "id": "09886901",
   "metadata": {},
   "outputs": [
    {
     "name": "stdout",
     "output_type": "stream",
     "text": [
      "Students are as follows\n",
      "name Rajeev\n",
      "age 21\n",
      "rollno 1\n",
      "name Rajesh\n",
      "age 22\n",
      "rollno 2\n"
     ]
    }
   ],
   "source": [
    "c1.printStudents()"
   ]
  },
  {
   "cell_type": "code",
   "execution_count": 10,
   "id": "b5549324",
   "metadata": {},
   "outputs": [],
   "source": [
    "class Account:\n",
    "    def __init__(self,accNum,accType,balance,custId):\n",
    "        self.accNum=accNum\n",
    "        self.accType=accType\n",
    "        self.balance=balance\n",
    "        self.custId=custId\n",
    "        \n",
    "    def withdraw(self,amount):\n",
    "        if self.balance > amount:\n",
    "            self.balance=self.balance -amount\n",
    "            print(\"Withdrawal successfull\")\n",
    "        else:\n",
    "            print(\"Balance Low\")\n",
    "    def deposit(self,amount):\n",
    "        self.balance=self.balance+amount\n",
    "        print(\"amountd eposited\")\n",
    "        \n",
    "    def display(self):\n",
    "        print(\"AccNum\",self.accNum)\n",
    "        print(\"Balance\",self.balance)"
   ]
  },
  {
   "cell_type": "code",
   "execution_count": 11,
   "id": "0c54f7e6",
   "metadata": {},
   "outputs": [],
   "source": [
    "a1 = Account(1,\"SAVING\",1000,1)"
   ]
  },
  {
   "cell_type": "code",
   "execution_count": 12,
   "id": "cdae5eba",
   "metadata": {},
   "outputs": [
    {
     "name": "stdout",
     "output_type": "stream",
     "text": [
      "Balance Low\n"
     ]
    }
   ],
   "source": [
    "a1.withdraw(5000)"
   ]
  },
  {
   "cell_type": "code",
   "execution_count": 13,
   "id": "6a09f06e",
   "metadata": {},
   "outputs": [],
   "source": [
    "a2 = Account(2,\"SAVING\",10000,2)"
   ]
  },
  {
   "cell_type": "code",
   "execution_count": 14,
   "id": "a0acaf39",
   "metadata": {},
   "outputs": [
    {
     "name": "stdout",
     "output_type": "stream",
     "text": [
      "Withdrawal successfull\n"
     ]
    }
   ],
   "source": [
    "a2.withdraw(5000)"
   ]
  },
  {
   "cell_type": "code",
   "execution_count": null,
   "id": "60850390",
   "metadata": {},
   "outputs": [],
   "source": [
    "class Calculator:\n",
    "     def __init__(self,calculatorType=\"MPMode\"):\n",
    "            self.calculatorType=calculatorType\n",
    "            \n",
    "    def add(self,n1,n2):\n",
    "        res = n1 +n2\n",
    "        print(\"Sum\",res)\n",
    "        \n",
    "    def sub(self,n1,n2):\n",
    "        res = n1 - n2\n",
    "        print(\"sub\",res)\n",
    "    "
   ]
  },
  {
   "cell_type": "code",
   "execution_count": 15,
   "id": "313206a1",
   "metadata": {},
   "outputs": [],
   "source": [
    "class Acc:\n",
    "    def __init__(self,accNum,location):\n",
    "        self.accNum=accNum\n",
    "        self.location=location\n",
    "        \n",
    "    def display(self):\n",
    "        print(\"accNum\",self.accNum,'location',self.location)\n",
    "        "
   ]
  },
  {
   "cell_type": "code",
   "execution_count": 16,
   "id": "b028d0bb",
   "metadata": {},
   "outputs": [],
   "source": [
    "class SavingAcc(Acc):\n",
    "    def __init__(self,accNum,location,balance):\n",
    "        Acc.__init__(self,accNum,location)#Calls the base class constructor\n",
    "        self.balance =balance\n",
    "        \n",
    "    def displayBalance(self):\n",
    "        print(\"Balance is\",self.balance)\n",
    "        \n"
   ]
  },
  {
   "cell_type": "code",
   "execution_count": 17,
   "id": "740b8594",
   "metadata": {},
   "outputs": [],
   "source": [
    "sv1 = SavingAcc(1,\"USA\",5000)"
   ]
  },
  {
   "cell_type": "code",
   "execution_count": 18,
   "id": "5c8c3d85",
   "metadata": {},
   "outputs": [
    {
     "name": "stdout",
     "output_type": "stream",
     "text": [
      "accNum 1 location USA\n"
     ]
    }
   ],
   "source": [
    "sv1.display()"
   ]
  },
  {
   "cell_type": "code",
   "execution_count": 19,
   "id": "8e70d9f1",
   "metadata": {},
   "outputs": [
    {
     "name": "stdout",
     "output_type": "stream",
     "text": [
      "Balance is 5000\n"
     ]
    }
   ],
   "source": [
    "sv1.displayBalance()"
   ]
  },
  {
   "cell_type": "code",
   "execution_count": 20,
   "id": "f5f02c43",
   "metadata": {},
   "outputs": [],
   "source": [
    "class Parent1:\n",
    "    \n",
    "    def __init__(self,a):\n",
    "        self.a=a\n",
    "    \n",
    "    def display(self):\n",
    "        print(\"From Parent A\",self.a)\n",
    "        "
   ]
  },
  {
   "cell_type": "code",
   "execution_count": 21,
   "id": "9005d869",
   "metadata": {},
   "outputs": [],
   "source": [
    "class Parent2:\n",
    "    \n",
    "    def __init__(self,b):\n",
    "        self.b=b\n",
    "    \n",
    "    def display(self):\n",
    "        print(\"From Parent B\",self.b)\n",
    "        "
   ]
  },
  {
   "cell_type": "code",
   "execution_count": 22,
   "id": "ec636374",
   "metadata": {},
   "outputs": [],
   "source": [
    "class Child(Parent1,Parent2):\n",
    "    \n",
    "    def __init__(self,a,b):\n",
    "        Parent1.__init__(self,a)\n",
    "        Parent2.__init__(self,b)\n",
    "        \n",
    "   ."
   ]
  },
  {
   "cell_type": "code",
   "execution_count": 23,
   "id": "1cbbfc3f",
   "metadata": {},
   "outputs": [],
   "source": [
    "c1 = Child(1,2)"
   ]
  },
  {
   "cell_type": "code",
   "execution_count": 24,
   "id": "62796b8b",
   "metadata": {},
   "outputs": [
    {
     "name": "stdout",
     "output_type": "stream",
     "text": [
      "From Parent A 1\n"
     ]
    }
   ],
   "source": [
    "c1.display()"
   ]
  },
  {
   "cell_type": "code",
   "execution_count": 25,
   "id": "4efb1bb4",
   "metadata": {},
   "outputs": [],
   "source": [
    "class FunctOverload:\n",
    "    def __init__(self,num):\n",
    "        self.num = num\n",
    "        \n",
    "    def calcPower(self,r=2):\n",
    "        print(self.num**r)\n",
    "        \n",
    "  \n",
    "    "
   ]
  },
  {
   "cell_type": "code",
   "execution_count": 26,
   "id": "38472445",
   "metadata": {},
   "outputs": [],
   "source": [
    "f1 = FunctOverload(9)"
   ]
  },
  {
   "cell_type": "code",
   "execution_count": 27,
   "id": "61b20aeb",
   "metadata": {},
   "outputs": [
    {
     "name": "stdout",
     "output_type": "stream",
     "text": [
      "81\n"
     ]
    }
   ],
   "source": [
    "f1.calcPower()"
   ]
  },
  {
   "cell_type": "code",
   "execution_count": 28,
   "id": "e9d51c14",
   "metadata": {},
   "outputs": [
    {
     "name": "stdout",
     "output_type": "stream",
     "text": [
      "6561\n"
     ]
    }
   ],
   "source": [
    "f1.calcPower(4)"
   ]
  },
  {
   "cell_type": "code",
   "execution_count": 29,
   "id": "7843cbb5",
   "metadata": {},
   "outputs": [],
   "source": [
    "class FunctOverload1:\n",
    "    def __init__(self,num):\n",
    "        self.num = num\n",
    "        \n",
    "    def calcPower(self):\n",
    "        print(self.num)\n",
    "    def calcPower(self,r):\n",
    "        print(self.num**r)\n",
    " "
   ]
  },
  {
   "cell_type": "code",
   "execution_count": 31,
   "id": "8e7bc363",
   "metadata": {},
   "outputs": [],
   "source": [
    "f2 = FunctOverload1(2)"
   ]
  },
  {
   "cell_type": "code",
   "execution_count": 32,
   "id": "61b14e30",
   "metadata": {},
   "outputs": [
    {
     "ename": "TypeError",
     "evalue": "calcPower() missing 1 required positional argument: 'r'",
     "output_type": "error",
     "traceback": [
      "\u001b[1;31m---------------------------------------------------------------------------\u001b[0m",
      "\u001b[1;31mTypeError\u001b[0m                                 Traceback (most recent call last)",
      "\u001b[1;32m<ipython-input-32-7ef425021bae>\u001b[0m in \u001b[0;36m<module>\u001b[1;34m\u001b[0m\n\u001b[1;32m----> 1\u001b[1;33m \u001b[0mf2\u001b[0m\u001b[1;33m.\u001b[0m\u001b[0mcalcPower\u001b[0m\u001b[1;33m(\u001b[0m\u001b[1;33m)\u001b[0m\u001b[1;33m\u001b[0m\u001b[1;33m\u001b[0m\u001b[0m\n\u001b[0m",
      "\u001b[1;31mTypeError\u001b[0m: calcPower() missing 1 required positional argument: 'r'"
     ]
    }
   ],
   "source": [
    "f2.calcPower()"
   ]
  },
  {
   "cell_type": "code",
   "execution_count": null,
   "id": "dcf73ab4",
   "metadata": {},
   "outputs": [],
   "source": []
  }
 ],
 "metadata": {
  "kernelspec": {
   "display_name": "Python 3",
   "language": "python",
   "name": "python3"
  },
  "language_info": {
   "codemirror_mode": {
    "name": "ipython",
    "version": 3
   },
   "file_extension": ".py",
   "mimetype": "text/x-python",
   "name": "python",
   "nbconvert_exporter": "python",
   "pygments_lexer": "ipython3",
   "version": "3.8.8"
  }
 },
 "nbformat": 4,
 "nbformat_minor": 5
}
