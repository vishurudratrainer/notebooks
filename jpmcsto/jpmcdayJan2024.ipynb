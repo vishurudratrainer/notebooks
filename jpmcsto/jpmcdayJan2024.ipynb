{
 "cells": [
  {
   "cell_type": "code",
   "execution_count": null,
   "id": "462949df",
   "metadata": {},
   "outputs": [],
   "source": [
    "#Python OOP \n",
    "#Python 2\n",
    "#Python 3\n",
    "#Case sensitive \n",
    "#Interpeter\n",
    "#Loosely typed programming language\n",
    "\n"
   ]
  },
  {
   "cell_type": "code",
   "execution_count": 1,
   "id": "79b4048d",
   "metadata": {},
   "outputs": [
    {
     "name": "stdout",
     "output_type": "stream",
     "text": [
      "Hello World\n"
     ]
    }
   ],
   "source": [
    "print(\"Hello World\")\n",
    "\n",
    "# print \"Hello World\""
   ]
  },
  {
   "cell_type": "code",
   "execution_count": 2,
   "id": "641e2c53",
   "metadata": {},
   "outputs": [
    {
     "name": "stdout",
     "output_type": "stream",
     "text": [
      "Hello World\n"
     ]
    }
   ],
   "source": [
    "print(\"Hello\",\"World\")"
   ]
  },
  {
   "cell_type": "code",
   "execution_count": null,
   "id": "ebd19745",
   "metadata": {},
   "outputs": [],
   "source": [
    "#Store data\n",
    "#Variables ---> use to store data\n",
    " "
   ]
  },
  {
   "cell_type": "code",
   "execution_count": 3,
   "id": "0e750982",
   "metadata": {},
   "outputs": [],
   "source": [
    "n1 = 10\n",
    "n2 = 20"
   ]
  },
  {
   "cell_type": "code",
   "execution_count": 4,
   "id": "89bd6935",
   "metadata": {},
   "outputs": [
    {
     "name": "stdout",
     "output_type": "stream",
     "text": [
      "10 <class 'int'>\n"
     ]
    }
   ],
   "source": [
    "print(n1,type(n1))"
   ]
  },
  {
   "cell_type": "code",
   "execution_count": 5,
   "id": "00bb746b",
   "metadata": {},
   "outputs": [
    {
     "name": "stdout",
     "output_type": "stream",
     "text": [
      "10 <class 'int'>\n",
      "3.14 <class 'float'>\n",
      "True <class 'bool'>\n",
      "Hello  <class 'str'>\n"
     ]
    }
   ],
   "source": [
    "n1 = 10\n",
    "print(n1,type(n1))\n",
    "n1 = 3.14\n",
    "print(n1,type(n1))\n",
    "n1 = True\n",
    "print(n1,type(n1))\n",
    "n1 = \"Hello \"\n",
    "print(n1,type(n1))"
   ]
  },
  {
   "cell_type": "code",
   "execution_count": 6,
   "id": "e03d09a4",
   "metadata": {},
   "outputs": [
    {
     "name": "stdout",
     "output_type": "stream",
     "text": [
      "12\n",
      "8\n",
      "20\n",
      "5.0\n",
      "0\n",
      "100\n"
     ]
    }
   ],
   "source": [
    "n1 = 10\n",
    "n2 = 2\n",
    "print(n1 + n2)\n",
    "print(n1 - n2)\n",
    "print( n1 * n2)\n",
    "print(n1/n2)\n",
    "print(n1 % n2)\n",
    "print(n1 ** n2)"
   ]
  },
  {
   "cell_type": "code",
   "execution_count": 7,
   "id": "c7ad4ca3",
   "metadata": {},
   "outputs": [
    {
     "name": "stdout",
     "output_type": "stream",
     "text": [
      "Enter age23\n",
      "23 <class 'str'>\n"
     ]
    }
   ],
   "source": [
    "n1 = input(\"Enter age\")\n",
    "print(n1,type(n1))"
   ]
  },
  {
   "cell_type": "code",
   "execution_count": null,
   "id": "bf8daa03",
   "metadata": {},
   "outputs": [],
   "source": [
    "#Typecasting from one ata type to another"
   ]
  },
  {
   "cell_type": "code",
   "execution_count": 8,
   "id": "e66675ab",
   "metadata": {},
   "outputs": [
    {
     "name": "stdout",
     "output_type": "stream",
     "text": [
      "Enter age23\n",
      "23 <class 'int'>\n"
     ]
    }
   ],
   "source": [
    "n1 = int(input(\"Enter age\"))\n",
    "print(n1,type(n1))"
   ]
  },
  {
   "cell_type": "code",
   "execution_count": null,
   "id": "0525a73c",
   "metadata": {},
   "outputs": [],
   "source": [
    "#Resuable \n",
    "#Function reusable unit"
   ]
  },
  {
   "cell_type": "code",
   "execution_count": 9,
   "id": "e5ed0550",
   "metadata": {},
   "outputs": [],
   "source": [
    "def hw():\n",
    "    print(\"Hello World\")\n",
    "    print(\"Hello again\")"
   ]
  },
  {
   "cell_type": "code",
   "execution_count": 10,
   "id": "de5e22b2",
   "metadata": {},
   "outputs": [
    {
     "name": "stdout",
     "output_type": "stream",
     "text": [
      "Hello World\n",
      "Hello again\n"
     ]
    }
   ],
   "source": [
    "hw()"
   ]
  },
  {
   "cell_type": "code",
   "execution_count": 11,
   "id": "02e028ee",
   "metadata": {},
   "outputs": [],
   "source": [
    "def add(a,b):#a and b are parameters\n",
    "    print(a+b)"
   ]
  },
  {
   "cell_type": "code",
   "execution_count": 12,
   "id": "e56a4544",
   "metadata": {},
   "outputs": [
    {
     "name": "stdout",
     "output_type": "stream",
     "text": [
      "47\n"
     ]
    }
   ],
   "source": [
    "add(23,24)"
   ]
  },
  {
   "cell_type": "code",
   "execution_count": 13,
   "id": "09a7418d",
   "metadata": {},
   "outputs": [],
   "source": [
    "#return --Fruithfull \n",
    "\n",
    "def addition(a,b):\n",
    "    return a+b\n"
   ]
  },
  {
   "cell_type": "code",
   "execution_count": 15,
   "id": "df3a7b55",
   "metadata": {},
   "outputs": [
    {
     "name": "stdout",
     "output_type": "stream",
     "text": [
      "43\n"
     ]
    }
   ],
   "source": [
    "r1 = addition(20,23)\n",
    "print(r1)"
   ]
  },
  {
   "cell_type": "code",
   "execution_count": 18,
   "id": "05a2d286",
   "metadata": {},
   "outputs": [
    {
     "data": {
      "text/plain": [
       "'HelloWorld'"
      ]
     },
     "execution_count": 18,
     "metadata": {},
     "output_type": "execute_result"
    }
   ],
   "source": [
    "addition(\"Hello\",\"World\")"
   ]
  },
  {
   "cell_type": "code",
   "execution_count": 23,
   "id": "0c1b9b7e",
   "metadata": {},
   "outputs": [
    {
     "name": "stdout",
     "output_type": "stream",
     "text": [
      "Enter age45\n",
      "Young/Middle\n"
     ]
    }
   ],
   "source": [
    "\n",
    "age = int(input(\"Enter age\"))\n",
    "if age <= 17:\n",
    "    print(\"Child\")\n",
    "elif age <=58:\n",
    "    print(\"Young/Middle\")\n",
    "else:\n",
    "    print(\"Old\")"
   ]
  },
  {
   "cell_type": "code",
   "execution_count": 24,
   "id": "ee6d70df",
   "metadata": {},
   "outputs": [
    {
     "name": "stdout",
     "output_type": "stream",
     "text": [
      "0\n",
      "1\n",
      "2\n",
      "3\n",
      "4\n"
     ]
    }
   ],
   "source": [
    "for i in range(5):\n",
    "    print(i)"
   ]
  },
  {
   "cell_type": "code",
   "execution_count": 25,
   "id": "48b07f15",
   "metadata": {},
   "outputs": [
    {
     "name": "stdout",
     "output_type": "stream",
     "text": [
      "1\n",
      "2\n",
      "3\n",
      "4\n"
     ]
    }
   ],
   "source": [
    "for i in range(1,5):\n",
    "    print(i)"
   ]
  },
  {
   "cell_type": "code",
   "execution_count": 26,
   "id": "5b3f10bc",
   "metadata": {},
   "outputs": [
    {
     "name": "stdout",
     "output_type": "stream",
     "text": [
      "1\n",
      "3\n",
      "5\n",
      "7\n",
      "9\n"
     ]
    }
   ],
   "source": [
    "for i in range(1,10,2):\n",
    "    print(i)"
   ]
  },
  {
   "cell_type": "code",
   "execution_count": 27,
   "id": "c462a498",
   "metadata": {},
   "outputs": [
    {
     "name": "stdout",
     "output_type": "stream",
     "text": [
      "1\n",
      "2\n",
      "3\n",
      "4\n",
      "5\n",
      "6\n",
      "7\n",
      "8\n",
      "9\n"
     ]
    }
   ],
   "source": [
    "i= 1\n",
    "while i < 10:\n",
    "    print(i)\n",
    "    i = i+ 1"
   ]
  },
  {
   "cell_type": "code",
   "execution_count": 28,
   "id": "4c45e213",
   "metadata": {},
   "outputs": [
    {
     "name": "stdout",
     "output_type": "stream",
     "text": [
      "Help on class range in module builtins:\n",
      "\n",
      "class range(object)\n",
      " |  range(stop) -> range object\n",
      " |  range(start, stop[, step]) -> range object\n",
      " |  \n",
      " |  Return an object that produces a sequence of integers from start (inclusive)\n",
      " |  to stop (exclusive) by step.  range(i, j) produces i, i+1, i+2, ..., j-1.\n",
      " |  start defaults to 0, and stop is omitted!  range(4) produces 0, 1, 2, 3.\n",
      " |  These are exactly the valid indices for a list of 4 elements.\n",
      " |  When step is given, it specifies the increment (or decrement).\n",
      " |  \n",
      " |  Methods defined here:\n",
      " |  \n",
      " |  __bool__(self, /)\n",
      " |      self != 0\n",
      " |  \n",
      " |  __contains__(self, key, /)\n",
      " |      Return key in self.\n",
      " |  \n",
      " |  __eq__(self, value, /)\n",
      " |      Return self==value.\n",
      " |  \n",
      " |  __ge__(self, value, /)\n",
      " |      Return self>=value.\n",
      " |  \n",
      " |  __getattribute__(self, name, /)\n",
      " |      Return getattr(self, name).\n",
      " |  \n",
      " |  __getitem__(self, key, /)\n",
      " |      Return self[key].\n",
      " |  \n",
      " |  __gt__(self, value, /)\n",
      " |      Return self>value.\n",
      " |  \n",
      " |  __hash__(self, /)\n",
      " |      Return hash(self).\n",
      " |  \n",
      " |  __iter__(self, /)\n",
      " |      Implement iter(self).\n",
      " |  \n",
      " |  __le__(self, value, /)\n",
      " |      Return self<=value.\n",
      " |  \n",
      " |  __len__(self, /)\n",
      " |      Return len(self).\n",
      " |  \n",
      " |  __lt__(self, value, /)\n",
      " |      Return self<value.\n",
      " |  \n",
      " |  __ne__(self, value, /)\n",
      " |      Return self!=value.\n",
      " |  \n",
      " |  __reduce__(...)\n",
      " |      Helper for pickle.\n",
      " |  \n",
      " |  __repr__(self, /)\n",
      " |      Return repr(self).\n",
      " |  \n",
      " |  __reversed__(...)\n",
      " |      Return a reverse iterator.\n",
      " |  \n",
      " |  count(...)\n",
      " |      rangeobject.count(value) -> integer -- return number of occurrences of value\n",
      " |  \n",
      " |  index(...)\n",
      " |      rangeobject.index(value) -> integer -- return index of value.\n",
      " |      Raise ValueError if the value is not present.\n",
      " |  \n",
      " |  ----------------------------------------------------------------------\n",
      " |  Static methods defined here:\n",
      " |  \n",
      " |  __new__(*args, **kwargs) from builtins.type\n",
      " |      Create and return a new object.  See help(type) for accurate signature.\n",
      " |  \n",
      " |  ----------------------------------------------------------------------\n",
      " |  Data descriptors defined here:\n",
      " |  \n",
      " |  start\n",
      " |  \n",
      " |  step\n",
      " |  \n",
      " |  stop\n",
      "\n"
     ]
    }
   ],
   "source": [
    "help(range)"
   ]
  },
  {
   "cell_type": "code",
   "execution_count": 30,
   "id": "3f030a6e",
   "metadata": {},
   "outputs": [
    {
     "name": "stdout",
     "output_type": "stream",
     "text": [
      "1.5\n",
      "2.5\n",
      "3.5\n",
      "4.5\n"
     ]
    }
   ],
   "source": [
    "i = 1\n",
    "while i < 5:\n",
    "    print(i+0.5)\n",
    "    i = i+1"
   ]
  },
  {
   "cell_type": "code",
   "execution_count": 32,
   "id": "25aadc84",
   "metadata": {},
   "outputs": [],
   "source": [
    "def floatrange(start,stop,step=0.5):\n",
    "    i = start\n",
    "    while i < stop:\n",
    "        print(i+step)\n",
    "        i = i+step"
   ]
  },
  {
   "cell_type": "code",
   "execution_count": 34,
   "id": "9b28333b",
   "metadata": {},
   "outputs": [
    {
     "name": "stdout",
     "output_type": "stream",
     "text": [
      "1.75\n",
      "2.5\n",
      "3.25\n",
      "4.0\n",
      "4.75\n",
      "5.5\n"
     ]
    }
   ],
   "source": [
    "floatrange(1,5,0.75)"
   ]
  },
  {
   "cell_type": "code",
   "execution_count": null,
   "id": "2eaa852b",
   "metadata": {},
   "outputs": [],
   "source": [
    "#Data structure ---> allows u to store effectively\n",
    "#Mutable--->Change---> insert/update/delete\n",
    "#List, Set, Dictionary\n",
    "\n",
    "#Immutable---> once assigned cannot change--Tuples"
   ]
  },
  {
   "cell_type": "code",
   "execution_count": null,
   "id": "6aa057dd",
   "metadata": {},
   "outputs": [],
   "source": [
    "#List --- store any number\n",
    "#-----> store duplicates\n",
    "# [], list()"
   ]
  },
  {
   "cell_type": "code",
   "execution_count": 35,
   "id": "2abae38d",
   "metadata": {},
   "outputs": [
    {
     "name": "stdout",
     "output_type": "stream",
     "text": [
      "[]\n"
     ]
    }
   ],
   "source": [
    "l1 = []\n",
    "#l1 = list()\n",
    "print(l1)"
   ]
  },
  {
   "cell_type": "code",
   "execution_count": 36,
   "id": "335d0e95",
   "metadata": {},
   "outputs": [],
   "source": [
    "l1.append(34)\n",
    "l1.append(45)"
   ]
  },
  {
   "cell_type": "code",
   "execution_count": 37,
   "id": "f22c6b23",
   "metadata": {},
   "outputs": [
    {
     "name": "stdout",
     "output_type": "stream",
     "text": [
      "[34, 45]\n"
     ]
    }
   ],
   "source": [
    "print(l1)"
   ]
  },
  {
   "cell_type": "code",
   "execution_count": 38,
   "id": "ef3eac4b",
   "metadata": {},
   "outputs": [],
   "source": [
    "l2 = [10,20,30]\n",
    "#     0, 1  ,2"
   ]
  },
  {
   "cell_type": "code",
   "execution_count": 39,
   "id": "db413ca8",
   "metadata": {},
   "outputs": [
    {
     "name": "stdout",
     "output_type": "stream",
     "text": [
      "3\n"
     ]
    }
   ],
   "source": [
    "print(len(l2))"
   ]
  },
  {
   "cell_type": "code",
   "execution_count": 40,
   "id": "d7a7b8a1",
   "metadata": {},
   "outputs": [
    {
     "data": {
      "text/plain": [
       "10"
      ]
     },
     "execution_count": 40,
     "metadata": {},
     "output_type": "execute_result"
    }
   ],
   "source": [
    "l2[0]"
   ]
  },
  {
   "cell_type": "code",
   "execution_count": 41,
   "id": "a1209c1b",
   "metadata": {},
   "outputs": [
    {
     "data": {
      "text/plain": [
       "20"
      ]
     },
     "execution_count": 41,
     "metadata": {},
     "output_type": "execute_result"
    }
   ],
   "source": [
    "l2[1]"
   ]
  },
  {
   "cell_type": "code",
   "execution_count": 42,
   "id": "1c9ecf8e",
   "metadata": {},
   "outputs": [
    {
     "data": {
      "text/plain": [
       "30"
      ]
     },
     "execution_count": 42,
     "metadata": {},
     "output_type": "execute_result"
    }
   ],
   "source": [
    "l2[-1]#reverse indexing moving from right to left"
   ]
  },
  {
   "cell_type": "code",
   "execution_count": 43,
   "id": "7e94a5d3",
   "metadata": {},
   "outputs": [
    {
     "name": "stdout",
     "output_type": "stream",
     "text": [
      "10\n",
      "20\n",
      "30\n"
     ]
    }
   ],
   "source": [
    "for i in l2:\n",
    "    print(i)"
   ]
  },
  {
   "cell_type": "code",
   "execution_count": 44,
   "id": "055c13af",
   "metadata": {},
   "outputs": [
    {
     "name": "stdout",
     "output_type": "stream",
     "text": [
      "0 10\n",
      "1 20\n",
      "2 30\n"
     ]
    }
   ],
   "source": [
    "for index,value in enumerate(l2):\n",
    "    print(index,value)"
   ]
  },
  {
   "cell_type": "code",
   "execution_count": 45,
   "id": "13e67c2e",
   "metadata": {},
   "outputs": [],
   "source": [
    "l1 = [10,20,30]\n",
    "l2 = [40,50,60]"
   ]
  },
  {
   "cell_type": "code",
   "execution_count": 46,
   "id": "edbf12e8",
   "metadata": {},
   "outputs": [],
   "source": [
    "l1.extend(l2)"
   ]
  },
  {
   "cell_type": "code",
   "execution_count": 47,
   "id": "d73fb077",
   "metadata": {},
   "outputs": [
    {
     "name": "stdout",
     "output_type": "stream",
     "text": [
      "[10, 20, 30, 40, 50, 60]\n"
     ]
    }
   ],
   "source": [
    "print(l1)"
   ]
  },
  {
   "cell_type": "code",
   "execution_count": 49,
   "id": "5938d700",
   "metadata": {},
   "outputs": [],
   "source": [
    "l3 = [10,20,30]\n",
    "l4 = [40,50,60]\n",
    "l5 = []\n",
    "\n",
    "l5.extend(l3)\n",
    "l5.extend(l4)"
   ]
  },
  {
   "cell_type": "code",
   "execution_count": 50,
   "id": "d3ac4c47",
   "metadata": {},
   "outputs": [
    {
     "name": "stdout",
     "output_type": "stream",
     "text": [
      "[10, 20, 30, 40, 50, 60]\n"
     ]
    }
   ],
   "source": [
    "print(l5)"
   ]
  },
  {
   "cell_type": "code",
   "execution_count": 51,
   "id": "82ce0a0b",
   "metadata": {},
   "outputs": [
    {
     "data": {
      "text/plain": [
       "True"
      ]
     },
     "execution_count": 51,
     "metadata": {},
     "output_type": "execute_result"
    }
   ],
   "source": [
    "40 in l5"
   ]
  },
  {
   "cell_type": "code",
   "execution_count": 52,
   "id": "ae081752",
   "metadata": {},
   "outputs": [
    {
     "data": {
      "text/plain": [
       "False"
      ]
     },
     "execution_count": 52,
     "metadata": {},
     "output_type": "execute_result"
    }
   ],
   "source": [
    "100 in l5"
   ]
  },
  {
   "cell_type": "code",
   "execution_count": 53,
   "id": "13e68115",
   "metadata": {},
   "outputs": [],
   "source": [
    "l6 = [10,20,30]"
   ]
  },
  {
   "cell_type": "code",
   "execution_count": 54,
   "id": "b1680bae",
   "metadata": {},
   "outputs": [
    {
     "name": "stdout",
     "output_type": "stream",
     "text": [
      "[10, 22, 30]\n"
     ]
    }
   ],
   "source": [
    "l6[1] =22\n",
    "print(l6)"
   ]
  },
  {
   "cell_type": "code",
   "execution_count": 55,
   "id": "20adb66d",
   "metadata": {},
   "outputs": [],
   "source": [
    "l6 = [10,20,30]"
   ]
  },
  {
   "cell_type": "code",
   "execution_count": 57,
   "id": "bdbc8980",
   "metadata": {},
   "outputs": [],
   "source": [
    "l6.insert(1,22)"
   ]
  },
  {
   "cell_type": "code",
   "execution_count": 56,
   "id": "33835596",
   "metadata": {},
   "outputs": [
    {
     "name": "stdout",
     "output_type": "stream",
     "text": [
      "Help on built-in function insert:\n",
      "\n",
      "insert(index, object, /) method of builtins.list instance\n",
      "    Insert object before index.\n",
      "\n"
     ]
    }
   ],
   "source": [
    "help(l6.insert)"
   ]
  },
  {
   "cell_type": "code",
   "execution_count": 58,
   "id": "1ef4ae74",
   "metadata": {},
   "outputs": [
    {
     "name": "stdout",
     "output_type": "stream",
     "text": [
      "[10, 22, 20, 30]\n"
     ]
    }
   ],
   "source": [
    "print(l6)"
   ]
  },
  {
   "cell_type": "code",
   "execution_count": 59,
   "id": "8fce4bc7",
   "metadata": {},
   "outputs": [],
   "source": [
    "l6 = [10,20,30]"
   ]
  },
  {
   "cell_type": "code",
   "execution_count": 60,
   "id": "3225f2df",
   "metadata": {},
   "outputs": [],
   "source": [
    "del l6[1]"
   ]
  },
  {
   "cell_type": "code",
   "execution_count": 61,
   "id": "d283e42e",
   "metadata": {},
   "outputs": [
    {
     "name": "stdout",
     "output_type": "stream",
     "text": [
      "[10, 30]\n"
     ]
    }
   ],
   "source": [
    "print(l6)"
   ]
  },
  {
   "cell_type": "code",
   "execution_count": 62,
   "id": "915b2465",
   "metadata": {},
   "outputs": [],
   "source": [
    "l6.remove(30)"
   ]
  },
  {
   "cell_type": "code",
   "execution_count": 63,
   "id": "86ce639d",
   "metadata": {},
   "outputs": [
    {
     "name": "stdout",
     "output_type": "stream",
     "text": [
      "[10]\n"
     ]
    }
   ],
   "source": [
    "print(l6)"
   ]
  },
  {
   "cell_type": "code",
   "execution_count": 64,
   "id": "99f9172c",
   "metadata": {},
   "outputs": [],
   "source": [
    "l7 = [10,10,20,10]\n",
    "while 10 in l7:\n",
    "    l7.remove(10)"
   ]
  },
  {
   "cell_type": "code",
   "execution_count": 65,
   "id": "a2caac77",
   "metadata": {},
   "outputs": [
    {
     "name": "stdout",
     "output_type": "stream",
     "text": [
      "[20]\n"
     ]
    }
   ],
   "source": [
    "print(l7)"
   ]
  },
  {
   "cell_type": "code",
   "execution_count": 66,
   "id": "e72efa03",
   "metadata": {},
   "outputs": [
    {
     "name": "stdout",
     "output_type": "stream",
     "text": [
      "[30, 20, 10]\n"
     ]
    }
   ],
   "source": [
    "l8 = [10,20,30]\n",
    "l8.reverse()\n",
    "print(l8)"
   ]
  },
  {
   "cell_type": "code",
   "execution_count": 67,
   "id": "7a26c3c2",
   "metadata": {},
   "outputs": [],
   "source": [
    "l8.clear()"
   ]
  },
  {
   "cell_type": "code",
   "execution_count": 68,
   "id": "8f1e7f98",
   "metadata": {},
   "outputs": [
    {
     "name": "stdout",
     "output_type": "stream",
     "text": [
      "[]\n"
     ]
    }
   ],
   "source": [
    "print(l8)"
   ]
  },
  {
   "cell_type": "code",
   "execution_count": 69,
   "id": "1fdf2c51",
   "metadata": {},
   "outputs": [],
   "source": [
    "l9 = [44,20,10,55]"
   ]
  },
  {
   "cell_type": "code",
   "execution_count": 71,
   "id": "173190fb",
   "metadata": {},
   "outputs": [],
   "source": [
    "l9.sort()"
   ]
  },
  {
   "cell_type": "code",
   "execution_count": 72,
   "id": "6694e078",
   "metadata": {},
   "outputs": [
    {
     "name": "stdout",
     "output_type": "stream",
     "text": [
      "[10, 20, 44, 55]\n"
     ]
    }
   ],
   "source": [
    "print(l9)"
   ]
  },
  {
   "cell_type": "code",
   "execution_count": 73,
   "id": "9f311ba8",
   "metadata": {},
   "outputs": [],
   "source": [
    "l9 = [44,20,10,55]"
   ]
  },
  {
   "cell_type": "code",
   "execution_count": 74,
   "id": "efb37604",
   "metadata": {},
   "outputs": [
    {
     "name": "stdout",
     "output_type": "stream",
     "text": [
      "[55, 44, 20, 10]\n"
     ]
    }
   ],
   "source": [
    "l9.sort(reverse=True)\n",
    "print(l9)"
   ]
  },
  {
   "cell_type": "code",
   "execution_count": 75,
   "id": "14a3d98e",
   "metadata": {},
   "outputs": [],
   "source": [
    "#Set which doesnot allow duplicates\n",
    "#Set theory"
   ]
  },
  {
   "cell_type": "code",
   "execution_count": 76,
   "id": "587a5889",
   "metadata": {},
   "outputs": [],
   "source": [
    "s1 = set()"
   ]
  },
  {
   "cell_type": "code",
   "execution_count": 77,
   "id": "f28e52bb",
   "metadata": {},
   "outputs": [
    {
     "name": "stdout",
     "output_type": "stream",
     "text": [
      "set()\n"
     ]
    }
   ],
   "source": [
    "print(s1)"
   ]
  },
  {
   "cell_type": "code",
   "execution_count": 78,
   "id": "bad946b3",
   "metadata": {},
   "outputs": [],
   "source": [
    "s1.add(23)\n",
    "s1.add(23)"
   ]
  },
  {
   "cell_type": "code",
   "execution_count": 79,
   "id": "6dee0fb1",
   "metadata": {},
   "outputs": [
    {
     "name": "stdout",
     "output_type": "stream",
     "text": [
      "{23}\n"
     ]
    }
   ],
   "source": [
    "print(s1)"
   ]
  },
  {
   "cell_type": "code",
   "execution_count": 80,
   "id": "aedb7f33",
   "metadata": {},
   "outputs": [],
   "source": [
    "s2 = {10,20,30}\n",
    "s3 = {40,50,60}"
   ]
  },
  {
   "cell_type": "code",
   "execution_count": 82,
   "id": "cd740def",
   "metadata": {},
   "outputs": [
    {
     "name": "stdout",
     "output_type": "stream",
     "text": [
      "{10, 20, 30}\n"
     ]
    }
   ],
   "source": [
    "print(s2)"
   ]
  },
  {
   "cell_type": "code",
   "execution_count": 83,
   "id": "a50d81cc",
   "metadata": {},
   "outputs": [],
   "source": [
    "s1 = {10,20,30}\n",
    "s2 = {10,20}\n",
    "s3 = {40,50}"
   ]
  },
  {
   "cell_type": "code",
   "execution_count": 84,
   "id": "fc3d6759",
   "metadata": {},
   "outputs": [
    {
     "name": "stdout",
     "output_type": "stream",
     "text": [
      "{10, 20}\n"
     ]
    }
   ],
   "source": [
    "print(s1.intersection(s2))"
   ]
  },
  {
   "cell_type": "code",
   "execution_count": 85,
   "id": "d5222dc3",
   "metadata": {},
   "outputs": [
    {
     "name": "stdout",
     "output_type": "stream",
     "text": [
      "{30}\n"
     ]
    }
   ],
   "source": [
    "print(s1-s2)"
   ]
  },
  {
   "cell_type": "code",
   "execution_count": 90,
   "id": "3d87320e",
   "metadata": {},
   "outputs": [
    {
     "name": "stdout",
     "output_type": "stream",
     "text": [
      "True\n",
      "Help on built-in function issuperset:\n",
      "\n",
      "issuperset(...) method of builtins.set instance\n",
      "    Report whether this set contains another set.\n",
      "\n"
     ]
    }
   ],
   "source": [
    "print(s1.issuperset(s2))\n",
    "\n",
    "help(s1.issuperset)"
   ]
  },
  {
   "cell_type": "code",
   "execution_count": 87,
   "id": "30ffcfdd",
   "metadata": {},
   "outputs": [
    {
     "name": "stdout",
     "output_type": "stream",
     "text": [
      "True\n"
     ]
    }
   ],
   "source": [
    "print(s2.issubset(s1))"
   ]
  },
  {
   "cell_type": "code",
   "execution_count": 88,
   "id": "c7cdaa5d",
   "metadata": {},
   "outputs": [
    {
     "name": "stdout",
     "output_type": "stream",
     "text": [
      "False\n"
     ]
    }
   ],
   "source": [
    "print(s1.issubset(s3))"
   ]
  },
  {
   "cell_type": "code",
   "execution_count": 89,
   "id": "3dca63c3",
   "metadata": {},
   "outputs": [
    {
     "name": "stdout",
     "output_type": "stream",
     "text": [
      "True\n"
     ]
    }
   ],
   "source": [
    "print(s1.isdisjoint(s3))"
   ]
  },
  {
   "cell_type": "code",
   "execution_count": 91,
   "id": "15fded24",
   "metadata": {},
   "outputs": [],
   "source": [
    "del s1"
   ]
  },
  {
   "cell_type": "code",
   "execution_count": 92,
   "id": "988717ce",
   "metadata": {},
   "outputs": [
    {
     "ename": "NameError",
     "evalue": "name 's1' is not defined",
     "output_type": "error",
     "traceback": [
      "\u001b[1;31m---------------------------------------------------------------------------\u001b[0m",
      "\u001b[1;31mNameError\u001b[0m                                 Traceback (most recent call last)",
      "\u001b[1;32m<ipython-input-92-230e0263beec>\u001b[0m in \u001b[0;36m<module>\u001b[1;34m\u001b[0m\n\u001b[1;32m----> 1\u001b[1;33m \u001b[0mprint\u001b[0m\u001b[1;33m(\u001b[0m\u001b[0ms1\u001b[0m\u001b[1;33m)\u001b[0m\u001b[1;33m\u001b[0m\u001b[1;33m\u001b[0m\u001b[0m\n\u001b[0m",
      "\u001b[1;31mNameError\u001b[0m: name 's1' is not defined"
     ]
    }
   ],
   "source": [
    "print(s1)"
   ]
  },
  {
   "cell_type": "code",
   "execution_count": null,
   "id": "5345ca6e",
   "metadata": {},
   "outputs": [],
   "source": [
    "#Dictinory is mapping\n",
    "# Key: value\n",
    "#dict()\n",
    "#{}"
   ]
  },
  {
   "cell_type": "code",
   "execution_count": 93,
   "id": "6d7134d1",
   "metadata": {},
   "outputs": [],
   "source": [
    "c1 = {}\n",
    "c1 = dict()"
   ]
  },
  {
   "cell_type": "code",
   "execution_count": 94,
   "id": "c87107b9",
   "metadata": {},
   "outputs": [
    {
     "name": "stdout",
     "output_type": "stream",
     "text": [
      "{'UK': 'United kingdom'}\n"
     ]
    }
   ],
   "source": [
    "c1['UK']='United kingdom'\n",
    "print(c1)"
   ]
  },
  {
   "cell_type": "code",
   "execution_count": 95,
   "id": "2f2278cd",
   "metadata": {},
   "outputs": [],
   "source": [
    "c1['US'] = 'United states'"
   ]
  },
  {
   "cell_type": "code",
   "execution_count": 96,
   "id": "6d9d1196",
   "metadata": {},
   "outputs": [
    {
     "name": "stdout",
     "output_type": "stream",
     "text": [
      "{'UK': 'United kingdom', 'US': 'United states'}\n"
     ]
    }
   ],
   "source": [
    "print(c1)"
   ]
  },
  {
   "cell_type": "code",
   "execution_count": 97,
   "id": "e1c5f0d1",
   "metadata": {},
   "outputs": [
    {
     "data": {
      "text/plain": [
       "'United kingdom'"
      ]
     },
     "execution_count": 97,
     "metadata": {},
     "output_type": "execute_result"
    }
   ],
   "source": [
    "c1['UK']#Lookup on key"
   ]
  },
  {
   "cell_type": "code",
   "execution_count": 98,
   "id": "97de4d32",
   "metadata": {},
   "outputs": [
    {
     "ename": "KeyError",
     "evalue": "'CN'",
     "output_type": "error",
     "traceback": [
      "\u001b[1;31m---------------------------------------------------------------------------\u001b[0m",
      "\u001b[1;31mKeyError\u001b[0m                                  Traceback (most recent call last)",
      "\u001b[1;32m<ipython-input-98-27470488707d>\u001b[0m in \u001b[0;36m<module>\u001b[1;34m\u001b[0m\n\u001b[1;32m----> 1\u001b[1;33m \u001b[0mc1\u001b[0m\u001b[1;33m[\u001b[0m\u001b[1;34m'CN'\u001b[0m\u001b[1;33m]\u001b[0m\u001b[1;33m\u001b[0m\u001b[1;33m\u001b[0m\u001b[0m\n\u001b[0m",
      "\u001b[1;31mKeyError\u001b[0m: 'CN'"
     ]
    }
   ],
   "source": [
    "c1['CN']"
   ]
  },
  {
   "cell_type": "code",
   "execution_count": 99,
   "id": "b60dcd6d",
   "metadata": {},
   "outputs": [
    {
     "data": {
      "text/plain": [
       "'United states'"
      ]
     },
     "execution_count": 99,
     "metadata": {},
     "output_type": "execute_result"
    }
   ],
   "source": [
    "c1.get('US')"
   ]
  },
  {
   "cell_type": "code",
   "execution_count": 100,
   "id": "988ff5a1",
   "metadata": {},
   "outputs": [],
   "source": [
    "c1.get('CN')"
   ]
  },
  {
   "cell_type": "code",
   "execution_count": 101,
   "id": "827a4eec",
   "metadata": {},
   "outputs": [
    {
     "data": {
      "text/plain": [
       "'Country not present'"
      ]
     },
     "execution_count": 101,
     "metadata": {},
     "output_type": "execute_result"
    }
   ],
   "source": [
    "c1.get('CN','Country not present')"
   ]
  },
  {
   "cell_type": "code",
   "execution_count": 102,
   "id": "231e9235",
   "metadata": {},
   "outputs": [
    {
     "data": {
      "text/plain": [
       "'United states'"
      ]
     },
     "execution_count": 102,
     "metadata": {},
     "output_type": "execute_result"
    }
   ],
   "source": [
    "c1.get('US','Country not present')"
   ]
  },
  {
   "cell_type": "code",
   "execution_count": 103,
   "id": "b50f7915",
   "metadata": {},
   "outputs": [
    {
     "name": "stdout",
     "output_type": "stream",
     "text": [
      "{'UK': 'United kingdom', 'US': 'United states'}\n"
     ]
    }
   ],
   "source": [
    "print(c1)"
   ]
  },
  {
   "cell_type": "code",
   "execution_count": 104,
   "id": "5608c8e1",
   "metadata": {},
   "outputs": [
    {
     "name": "stdout",
     "output_type": "stream",
     "text": [
      "{'UK': 'United kingdom', 'US': 'United states of America'}\n"
     ]
    }
   ],
   "source": [
    "c1['US']='United states of America'\n",
    "print(c1)"
   ]
  },
  {
   "cell_type": "code",
   "execution_count": 105,
   "id": "4c811732",
   "metadata": {},
   "outputs": [],
   "source": [
    "del c1[\"US\"]"
   ]
  },
  {
   "cell_type": "code",
   "execution_count": 106,
   "id": "8eedaa71",
   "metadata": {},
   "outputs": [
    {
     "name": "stdout",
     "output_type": "stream",
     "text": [
      "{'UK': 'United kingdom'}\n"
     ]
    }
   ],
   "source": [
    "print(c1)"
   ]
  },
  {
   "cell_type": "code",
   "execution_count": 107,
   "id": "ed983e8f",
   "metadata": {},
   "outputs": [],
   "source": [
    "c3 = {\"US\":\"United states\",\"IN\":\"India\"}\n",
    "c4 = {\"US\":\"United states of America\",\"UK\":\"United kingdom\"}"
   ]
  },
  {
   "cell_type": "code",
   "execution_count": 108,
   "id": "d7f87b2b",
   "metadata": {},
   "outputs": [],
   "source": [
    "c3.update(c4)"
   ]
  },
  {
   "cell_type": "code",
   "execution_count": 109,
   "id": "cf2a4535",
   "metadata": {},
   "outputs": [
    {
     "name": "stdout",
     "output_type": "stream",
     "text": [
      "{'US': 'United states of America', 'IN': 'India', 'UK': 'United kingdom'}\n"
     ]
    }
   ],
   "source": [
    "print(c3)"
   ]
  },
  {
   "cell_type": "code",
   "execution_count": 110,
   "id": "8f7afa65",
   "metadata": {},
   "outputs": [
    {
     "name": "stdout",
     "output_type": "stream",
     "text": [
      "US United states of America\n",
      "IN India\n",
      "UK United kingdom\n"
     ]
    }
   ],
   "source": [
    "for k,v in c3.items():\n",
    "    print(k,v)"
   ]
  },
  {
   "cell_type": "code",
   "execution_count": 111,
   "id": "8fe20d57",
   "metadata": {},
   "outputs": [
    {
     "data": {
      "text/plain": [
       "dict_keys(['US', 'IN', 'UK'])"
      ]
     },
     "execution_count": 111,
     "metadata": {},
     "output_type": "execute_result"
    }
   ],
   "source": [
    "c3.keys()"
   ]
  },
  {
   "cell_type": "code",
   "execution_count": 112,
   "id": "42b627ab",
   "metadata": {},
   "outputs": [
    {
     "data": {
      "text/plain": [
       "dict_values(['United states of America', 'India', 'United kingdom'])"
      ]
     },
     "execution_count": 112,
     "metadata": {},
     "output_type": "execute_result"
    }
   ],
   "source": [
    "c3.values()"
   ]
  },
  {
   "cell_type": "code",
   "execution_count": 115,
   "id": "7afb2137",
   "metadata": {},
   "outputs": [
    {
     "name": "stdout",
     "output_type": "stream",
     "text": [
      "US\n",
      "IN\n",
      "UK\n"
     ]
    }
   ],
   "source": [
    "for k in c3.keys():\n",
    "    print(k)"
   ]
  },
  {
   "cell_type": "code",
   "execution_count": 116,
   "id": "d53745f0",
   "metadata": {},
   "outputs": [],
   "source": [
    "c3.clear()"
   ]
  },
  {
   "cell_type": "code",
   "execution_count": 117,
   "id": "4d852ea4",
   "metadata": {},
   "outputs": [
    {
     "name": "stdout",
     "output_type": "stream",
     "text": [
      "{}\n"
     ]
    }
   ],
   "source": [
    "print(c3)"
   ]
  },
  {
   "cell_type": "code",
   "execution_count": 118,
   "id": "a7ad0e87",
   "metadata": {},
   "outputs": [],
   "source": [
    "c3 = {\"US\":\"United states\",\"IN\":\"India\"}"
   ]
  },
  {
   "cell_type": "code",
   "execution_count": 119,
   "id": "f0779fd0",
   "metadata": {},
   "outputs": [
    {
     "data": {
      "text/plain": [
       "True"
      ]
     },
     "execution_count": 119,
     "metadata": {},
     "output_type": "execute_result"
    }
   ],
   "source": [
    "\"US\" in c3"
   ]
  },
  {
   "cell_type": "code",
   "execution_count": null,
   "id": "30dc5a32",
   "metadata": {},
   "outputs": [],
   "source": [
    "c3 = {\"US\":\"United states\",\"IN\":\"India\"}"
   ]
  },
  {
   "cell_type": "code",
   "execution_count": 120,
   "id": "31635607",
   "metadata": {},
   "outputs": [
    {
     "name": "stdout",
     "output_type": "stream",
     "text": [
      "{'United states': 'US', 'India': 'IN'}\n"
     ]
    }
   ],
   "source": [
    "c4 = {}\n",
    "for k,v in c3.items():\n",
    "    c4[v] = k\n",
    "print(c4)"
   ]
  },
  {
   "cell_type": "code",
   "execution_count": 121,
   "id": "f82daaf9",
   "metadata": {},
   "outputs": [],
   "source": [
    "c5 = {v:k for k,v in c3.items()}"
   ]
  },
  {
   "cell_type": "code",
   "execution_count": 122,
   "id": "ffb63a83",
   "metadata": {},
   "outputs": [
    {
     "name": "stdout",
     "output_type": "stream",
     "text": [
      "{'United states': 'US', 'India': 'IN'}\n"
     ]
    }
   ],
   "source": [
    "print(c5)"
   ]
  },
  {
   "cell_type": "code",
   "execution_count": 123,
   "id": "fb1abc3c",
   "metadata": {},
   "outputs": [
    {
     "name": "stdout",
     "output_type": "stream",
     "text": [
      "US\n",
      "=== United states\n",
      "IN\n",
      "=== India\n"
     ]
    }
   ],
   "source": [
    "for k,v in c3.items():\n",
    "    print(k)\n",
    "    print(\"===\",v)"
   ]
  },
  {
   "cell_type": "code",
   "execution_count": null,
   "id": "ffd9ea8d",
   "metadata": {},
   "outputs": [],
   "source": [
    "c6 = { v:k  for k,v in c3.items()}"
   ]
  },
  {
   "cell_type": "code",
   "execution_count": null,
   "id": "57148a70",
   "metadata": {},
   "outputs": [],
   "source": [
    "k1 = 'US'\n",
    "v1 = \"United states\"\n",
    "c8 ={}\n",
    "c8[v1]=k1"
   ]
  },
  {
   "cell_type": "code",
   "execution_count": null,
   "id": "02930eba",
   "metadata": {},
   "outputs": [],
   "source": [
    "t1= tuple()\n",
    "t1 = ()"
   ]
  },
  {
   "cell_type": "code",
   "execution_count": 124,
   "id": "569fdb66",
   "metadata": {},
   "outputs": [],
   "source": [
    "t1=(1,2,3)"
   ]
  },
  {
   "cell_type": "code",
   "execution_count": 125,
   "id": "da4479a0",
   "metadata": {},
   "outputs": [
    {
     "data": {
      "text/plain": [
       "1"
      ]
     },
     "execution_count": 125,
     "metadata": {},
     "output_type": "execute_result"
    }
   ],
   "source": [
    "t1[0]"
   ]
  },
  {
   "cell_type": "code",
   "execution_count": 126,
   "id": "9688dfb8",
   "metadata": {},
   "outputs": [
    {
     "data": {
      "text/plain": [
       "3"
      ]
     },
     "execution_count": 126,
     "metadata": {},
     "output_type": "execute_result"
    }
   ],
   "source": [
    "t1[2]"
   ]
  },
  {
   "cell_type": "code",
   "execution_count": 127,
   "id": "7f12f986",
   "metadata": {},
   "outputs": [
    {
     "ename": "TypeError",
     "evalue": "'tuple' object does not support item assignment",
     "output_type": "error",
     "traceback": [
      "\u001b[1;31m---------------------------------------------------------------------------\u001b[0m",
      "\u001b[1;31mTypeError\u001b[0m                                 Traceback (most recent call last)",
      "\u001b[1;32m<ipython-input-127-3c0587c6d55c>\u001b[0m in \u001b[0;36m<module>\u001b[1;34m\u001b[0m\n\u001b[1;32m----> 1\u001b[1;33m \u001b[0mt1\u001b[0m\u001b[1;33m[\u001b[0m\u001b[1;36m1\u001b[0m\u001b[1;33m]\u001b[0m\u001b[1;33m=\u001b[0m\u001b[1;36m22\u001b[0m\u001b[1;33m\u001b[0m\u001b[1;33m\u001b[0m\u001b[0m\n\u001b[0m",
      "\u001b[1;31mTypeError\u001b[0m: 'tuple' object does not support item assignment"
     ]
    }
   ],
   "source": [
    "t1[1]=22"
   ]
  },
  {
   "cell_type": "code",
   "execution_count": 128,
   "id": "7286c344",
   "metadata": {},
   "outputs": [],
   "source": [
    "def divquo(a,b):\n",
    "    return (a/b,a%b)"
   ]
  },
  {
   "cell_type": "code",
   "execution_count": 129,
   "id": "da1720ae",
   "metadata": {},
   "outputs": [],
   "source": [
    "res = divquo(10,5)"
   ]
  },
  {
   "cell_type": "code",
   "execution_count": 130,
   "id": "7d2ae1a9",
   "metadata": {},
   "outputs": [
    {
     "name": "stdout",
     "output_type": "stream",
     "text": [
      "(2.0, 0)\n"
     ]
    }
   ],
   "source": [
    "print(res)"
   ]
  },
  {
   "cell_type": "code",
   "execution_count": 131,
   "id": "ca4ef92a",
   "metadata": {},
   "outputs": [
    {
     "data": {
      "text/plain": [
       "2.0"
      ]
     },
     "execution_count": 131,
     "metadata": {},
     "output_type": "execute_result"
    }
   ],
   "source": [
    "res[0]"
   ]
  },
  {
   "cell_type": "code",
   "execution_count": 132,
   "id": "77bebe81",
   "metadata": {},
   "outputs": [
    {
     "data": {
      "text/plain": [
       "0"
      ]
     },
     "execution_count": 132,
     "metadata": {},
     "output_type": "execute_result"
    }
   ],
   "source": [
    "res[1]"
   ]
  },
  {
   "cell_type": "code",
   "execution_count": 133,
   "id": "b7b72295",
   "metadata": {},
   "outputs": [
    {
     "name": "stdout",
     "output_type": "stream",
     "text": [
      "Help on built-in function isinstance in module builtins:\n",
      "\n",
      "isinstance(obj, class_or_tuple, /)\n",
      "    Return whether an object is an instance of a class or of a subclass thereof.\n",
      "    \n",
      "    A tuple, as in ``isinstance(x, (A, B, ...))``, may be given as the target to\n",
      "    check against. This is equivalent to ``isinstance(x, A) or isinstance(x, B)\n",
      "    or ...`` etc.\n",
      "\n"
     ]
    }
   ],
   "source": [
    "help(isinstance)"
   ]
  },
  {
   "cell_type": "code",
   "execution_count": 137,
   "id": "bbda1d5f",
   "metadata": {},
   "outputs": [
    {
     "data": {
      "text/plain": [
       "True"
      ]
     },
     "execution_count": 137,
     "metadata": {},
     "output_type": "execute_result"
    }
   ],
   "source": [
    "isinstance(res,(tuple))"
   ]
  },
  {
   "cell_type": "code",
   "execution_count": 138,
   "id": "926fe848",
   "metadata": {},
   "outputs": [],
   "source": [
    "def processRes(obj):\n",
    "    if isinstance(obj,(tuple)):\n",
    "        print(obj,' is tuple')\n",
    "    elif isinstance(obj,(list)):\n",
    "        print(obj,'is list')"
   ]
  },
  {
   "cell_type": "code",
   "execution_count": 139,
   "id": "6e705d53",
   "metadata": {},
   "outputs": [
    {
     "name": "stdout",
     "output_type": "stream",
     "text": [
      "[10, 20, 30] is list\n"
     ]
    }
   ],
   "source": [
    "processRes([10,20,30])"
   ]
  },
  {
   "cell_type": "code",
   "execution_count": 140,
   "id": "48f9e651",
   "metadata": {},
   "outputs": [
    {
     "name": "stdout",
     "output_type": "stream",
     "text": [
      "(2.0, 0)  is tuple\n"
     ]
    }
   ],
   "source": [
    "processRes(res)"
   ]
  },
  {
   "cell_type": "code",
   "execution_count": 141,
   "id": "459d5c15",
   "metadata": {},
   "outputs": [],
   "source": [
    "import os"
   ]
  },
  {
   "cell_type": "code",
   "execution_count": 142,
   "id": "75847629",
   "metadata": {},
   "outputs": [
    {
     "data": {
      "text/plain": [
       "'C:\\\\Users\\\\ASUS'"
      ]
     },
     "execution_count": 142,
     "metadata": {},
     "output_type": "execute_result"
    }
   ],
   "source": [
    "os.getcwd()"
   ]
  },
  {
   "cell_type": "code",
   "execution_count": null,
   "id": "4670be07",
   "metadata": {},
   "outputs": [],
   "source": []
  }
 ],
 "metadata": {
  "kernelspec": {
   "display_name": "Python 3",
   "language": "python",
   "name": "python3"
  },
  "language_info": {
   "codemirror_mode": {
    "name": "ipython",
    "version": 3
   },
   "file_extension": ".py",
   "mimetype": "text/x-python",
   "name": "python",
   "nbconvert_exporter": "python",
   "pygments_lexer": "ipython3",
   "version": "3.8.8"
  }
 },
 "nbformat": 4,
 "nbformat_minor": 5
}
