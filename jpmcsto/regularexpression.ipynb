{
 "cells": [
  {
   "cell_type": "markdown",
   "id": "701d8e52",
   "metadata": {},
   "source": [
    "A Regular Expression (RegEx) is a sequence of characters that defines a search pattern. For example,\n",
    "\n",
    "^a...s$\n",
    "The above code defines a RegEx pattern. The pattern is: any five letter string starting with a and ending with s.\n",
    "\n",
    "A pattern defined using RegEx can be used to match against a string.\n",
    "\n",
    "Expression\tString\tMatched?\n",
    "^a...s$\t\n",
    "        abs\tNo match\n",
    "        alias\tMatch\n",
    "        abyss\tMatch\n",
    "        Alias\tNo match\n",
    "        An abacus\tNo match\n"
   ]
  },
  {
   "cell_type": "code",
   "execution_count": 1,
   "id": "5b3504c8",
   "metadata": {},
   "outputs": [
    {
     "name": "stdout",
     "output_type": "stream",
     "text": [
      "Search successful.\n"
     ]
    }
   ],
   "source": [
    "import re\n",
    "\n",
    "pattern = '^a...s$'\n",
    "test_string = 'abyss'\n",
    "result = re.match(pattern, test_string)\n",
    "\n",
    "if result:\n",
    "  print(\"Search successful.\")\n",
    "else:\n",
    "  print(\"Search unsuccessful.\")\t"
   ]
  },
  {
   "cell_type": "markdown",
   "id": "c4fb69fc",
   "metadata": {},
   "source": [
    "MetaCharacters\n",
    "Metacharacters are characters that are interpreted in a special way by a RegEx engine. Here's a list of metacharacters:\n",
    "\n",
    "[] . ^ $ * + ? {} () \\ |\n",
    "\n"
   ]
  },
  {
   "cell_type": "markdown",
   "id": "cb6a46b2",
   "metadata": {},
   "source": [
    "[] - Square brackets\n",
    "\n",
    "Square brackets specifies a set of characters you wish to match.\n",
    "\n",
    "Expression\tString\tMatched?\n",
    "[abc]\t\n",
    "a\t1 match\n",
    "ac\t2 matches\n",
    "Hey Jude\tNo match\n",
    "abc de ca\t5 matches\n",
    "Here, [abc] will match if the string you are trying to match contains any of the a, b or c.\n",
    "\n",
    "You can also specify a range of characters using - inside square brackets.\n",
    "\n",
    "[a-e] is the same as [abcde].\n",
    "[1-4] is the same as [1234].\n",
    "[0-39] is the same as [01239].\n",
    "You can complement (invert) the character set by using caret ^ symbol at the start of a square-bracket.\n",
    "\n",
    "[^abc] means any character except a or b or c.\n",
    "[^0-9] means any non-digit character.\n",
    ". - Period"
   ]
  },
  {
   "cell_type": "markdown",
   "id": "f957b339",
   "metadata": {},
   "source": [
    ". - Period\n",
    "\n",
    "A period matches any single character (except newline '\\n').\n",
    "\n",
    "Expression\tString\tMatched?\n",
    "..\ta\tNo match\n",
    "ac\t1 match\n",
    "acd\t1 match\n",
    "acde\t2 matches (contains 4 characters)\n",
    "^ - Caret\n",
    "\n",
    "The caret symbol ^ is used to check if a string starts with a certain character.\n",
    "\n",
    "Expression\tString\tMatched?\n",
    "^a\ta\t1 match\n",
    "abc\t1 match\n",
    "bac\tNo match\n",
    "^ab\tabc\t1 match\n",
    "acb\tNo match (starts with a but not followed by b)\n",
    "$ - Dollar\n",
    "\n",
    "The dollar symbol $ is used to check if a string ends with a certain character.\n",
    "\n",
    "Expression\tString\tMatched?\n",
    "a$\ta\t1 match\n",
    "formula\t1 match\n",
    "cab\tNo match\n",
    "* - Star\n",
    "\n",
    "The star symbol * matches zero or more occurrences of the pattern left to it.\n",
    "\n",
    "Expression\tString\tMatched?\n",
    "ma*n\t\n",
    "mn\t1 match\n",
    "man\t1 match\n",
    "maaan\t1 match\n",
    "main\tNo match (a is not followed by n)\n",
    "woman\t1 match\n",
    "+ - Plus\n",
    "\n",
    "The plus symbol + matches one or more occurrences of the pattern left to it.\n",
    "\n",
    "Expression\tString\tMatched?\n",
    "ma+n\tmn\tNo match (no a character)\n",
    "man\t1 match\n",
    "maaan\t1 match\n",
    "main\tNo match (a is not followed by n)\n",
    "woman\t1 match\n",
    "? - Question Mark\n",
    "\n",
    "The question mark symbol ? matches zero or one occurrence of the pattern left to it.\n",
    "\n",
    "Expression\tString\tMatched?\n",
    "ma?n\t\n",
    "mn\t1 match\n",
    "man\t1 match\n",
    "maaan\tNo match (more than one a character)\n",
    "main\tNo match (a is not followed by n)\n",
    "woman\t1 match\n",
    "{} - Braces\n",
    "\n",
    "Consider this code: {n,m}. This means at least n, and at most m repetitions of the pattern left to it.\n",
    "\n",
    "Expression\tString\tMatched?\n",
    "a{2,3}\n",
    "abc dat\tNo match\n",
    "abc daat\t1 match (at daat)\n",
    "aabc daaat\t2 matches (at aabc and daaat)\n",
    "aabc daaaat\t2 matches (at aabc and daaaat)\n",
    "Let's try one more example. This RegEx [0-9]{2, 4} matches at least 2 digits but not more than 4 digits\n",
    "\n",
    "Expression\tString\tMatched?\n",
    "[0-9]{2,4}\tab123csde\t1 match (match at ab123csde)\n",
    "12 and 345673\t3 matches (12, 3456, 73)\n",
    "1 and 2\tNo match\n",
    "| - Alternation\n",
    "\n",
    "Vertical bar | is used for alternation (or operator).\n",
    "\n",
    "Expression\tString\tMatched?\n",
    "a|b\tcde\tNo match\n",
    "ade\t1 match (match at ade)\n",
    "acdbea\t3 matches (at acdbea)\n",
    "Here, a|b match any string that contains either a or b\n",
    "\n",
    "() - Group\n",
    "\n",
    "Parentheses () is used to group sub-patterns. For example, (a|b|c)xz match any string that matches either a or b or c followed by xz\n",
    "\n",
    "Expression\tString\tMatched?\n",
    "(a|b|c)xz\tab xz\tNo match\n",
    "abxz\t1 match (match at abxz)\n",
    "axz cabxz\t2 matches (at axzbc cabxz)\n",
    "\\ - Backslash\n",
    "\n",
    "Backlash \\ is used to escape various characters including all metacharacters. For example,\n",
    "\n",
    "\\$a match if a string contains $ followed by a. Here, $ is not interpreted by a RegEx engine in a special way.\n",
    "\n",
    "If you are unsure if a character has special meaning or not, you can put \\ in front of it. This makes sure the character is not treated in a special way.\n",
    "\n",
    "Special Sequences\n",
    "\n",
    "Special sequences make commonly used patterns easier to write. Here's a list of special sequences:\n",
    "\n",
    "Ad\n",
    "\\A - Matches if the specified characters are at the start of a string.\n",
    "\n",
    "Expression\tString\tMatched?\n",
    "\\Athe\tthe sun\tMatch\n",
    "In the sun\tNo match\n"
   ]
  },
  {
   "cell_type": "markdown",
   "id": "9d1b4006",
   "metadata": {},
   "source": [
    "\\b - Matches if the specified characters are at the beginning or end of a word.\n",
    "\n",
    "Expression\tString\tMatched?\n",
    "\\bfoo\tfootball\tMatch\n",
    "a football\tMatch\n",
    "afootball\tNo match\n",
    "foo\\b\tthe foo\tMatch\n",
    "the afoo test\tMatch\n",
    "the afootest\tNo match\n",
    "\\B - Opposite of \\b. Matches if the specified characters are not at the beginning or end of a word.\n",
    "\n",
    "Expression\tString\tMatched?\n",
    "\\Bfoo\tfootball\tNo match\n",
    "a football\tNo match\n",
    "afootball\tMatch\n",
    "foo\\B\tthe foo\tNo match\n",
    "the afoo test\tNo match\n",
    "the afootest\tMatch\n",
    "\\d - Matches any decimal digit. Equivalent to [0-9]\n",
    "\n",
    "Expression\tString\tMatched?\n",
    "\\d\t12abc3\t3 matches (at 12abc3)\n",
    "Python\tNo match"
   ]
  },
  {
   "cell_type": "code",
   "execution_count": null,
   "id": "d4aee0f7",
   "metadata": {},
   "outputs": [],
   "source": [
    "\\s - Matches where a string contains any whitespace character. Equivalent to [ \\t\\n\\r\\f\\v].\n",
    "\n",
    "Expression\tString\tMatched?\n",
    "\\s\tPython RegEx\t1 match\n",
    "PythonRegEx\tNo match\n",
    "\\S - Matches where a string contains any non-whitespace character. Equivalent to [^ \\t\\n\\r\\f\\v].\n",
    "\n",
    "Expression\tString\tMatched?\n",
    "\\S\ta b\t2 matches (at  a b)"
   ]
  },
  {
   "cell_type": "code",
   "execution_count": null,
   "id": "0e36a950",
   "metadata": {},
   "outputs": [],
   "source": [
    "\\w - Matches any alphanumeric character (digits and alphabets). Equivalent to [a-zA-Z0-9_]. By the way, underscore _ is also considered an alphanumeric character.\n",
    "\n",
    "Expression\tString\tMatched?\n",
    "\\w\t12&\": ;c \t3 matches (at 12&\": ;c)\n",
    "%\"> !\tNo match\n",
    "\\W - Matches any non-alphanumeric character. Equivalent to [^a-zA-Z0-9_]\n",
    "\n",
    "Expression\tString\tMatched?\n",
    "\\W\t1a2%c\t1 match (at 1a2%c)\n",
    "Python\tNo match\n",
    "\\Z - Matches if the specified characters are at the end of a string.\n",
    "\n",
    "Expression\tString\tMatched?\n",
    "Python\\Z\tI like Python\t1 match\n",
    "I like Python Programming\tNo match\n",
    "Python is fun.\tNo match\n"
   ]
  },
  {
   "cell_type": "code",
   "execution_count": 3,
   "id": "5d196d0b",
   "metadata": {},
   "outputs": [
    {
     "name": "stdout",
     "output_type": "stream",
     "text": [
      "['12', '89', '34']\n"
     ]
    }
   ],
   "source": [
    "\n",
    "# Program to extract numbers from a string\n",
    "\n",
    "import re\n",
    "\n",
    "string = 'hello 12 hi 89. Howdy 34'\n",
    "pattern = '\\d+'\n",
    "\n",
    "result = re.findall(pattern, string) \n",
    "print(result)\n",
    "\n",
    "# Output: ['12', '89', '34']"
   ]
  },
  {
   "cell_type": "code",
   "execution_count": null,
   "id": "f6237d4e",
   "metadata": {},
   "outputs": [],
   "source": [
    "re.split()\n",
    "The re.split method splits the string where there is a match and returns a list of strings where the splits have occurred."
   ]
  },
  {
   "cell_type": "code",
   "execution_count": 4,
   "id": "3353fc6b",
   "metadata": {},
   "outputs": [
    {
     "name": "stdout",
     "output_type": "stream",
     "text": [
      "['Twelve:', ' Eighty nine:', '.']\n"
     ]
    }
   ],
   "source": [
    "\n",
    "import re\n",
    "\n",
    "string = 'Twelve:12 Eighty nine:89.'\n",
    "pattern = '\\d+'\n",
    "\n",
    "result = re.split(pattern, string) \n",
    "print(result)\n",
    "\n",
    "# Output: ['Twelve:', ' Eighty nine:', '.']"
   ]
  },
  {
   "cell_type": "markdown",
   "id": "e7c41695",
   "metadata": {},
   "source": [
    "re.sub()\n",
    "The syntax of re.sub() is:\n",
    "\n",
    "re.sub(pattern, replace, string)\n",
    "The method returns a string where matched occurrences are replaced with the content of replace variable.\n",
    "\n"
   ]
  },
  {
   "cell_type": "code",
   "execution_count": 5,
   "id": "e7cfe0d4",
   "metadata": {},
   "outputs": [
    {
     "name": "stdout",
     "output_type": "stream",
     "text": [
      "abc12de23f456\n"
     ]
    }
   ],
   "source": [
    "\n",
    "# Program to remove all whitespaces\n",
    "import re\n",
    "\n",
    "# multiline string\n",
    "string = 'abc 12\\\n",
    "de 23 \\n f45 6'\n",
    "\n",
    "# matches all whitespace characters\n",
    "pattern = '\\s+'\n",
    "\n",
    "# empty string\n",
    "replace = ''\n",
    "\n",
    "new_string = re.sub(pattern, replace, string) \n",
    "print(new_string)\n",
    "\n",
    "# Output: abc12de23f456"
   ]
  },
  {
   "cell_type": "code",
   "execution_count": 6,
   "id": "6482f53d",
   "metadata": {},
   "outputs": [
    {
     "name": "stdout",
     "output_type": "stream",
     "text": [
      "abc12de 23 \n",
      " f45 6\n"
     ]
    }
   ],
   "source": [
    "\n",
    "import re\n",
    "\n",
    "# multiline string\n",
    "string = 'abc 12\\\n",
    "de 23 \\n f45 6'\n",
    "\n",
    "# matches all whitespace characters\n",
    "pattern = '\\s+'\n",
    "replace = ''\n",
    "\n",
    "new_string = re.sub(r'\\s+', replace, string, 1) \n",
    "print(new_string)\n",
    "\n",
    "# Output:\n",
    "# abc12de 23\n",
    "# f45 6\n"
   ]
  },
  {
   "cell_type": "code",
   "execution_count": 7,
   "id": "cb84857f",
   "metadata": {},
   "outputs": [
    {
     "name": "stdout",
     "output_type": "stream",
     "text": [
      "pattern found inside the string\n"
     ]
    }
   ],
   "source": [
    "import re\n",
    "\n",
    "string = \"Python is fun\"\n",
    "\n",
    "# check if 'Python' is at the beginning\n",
    "match = re.search('\\APython', string)\n",
    "\n",
    "if match:\n",
    "  print(\"pattern found inside the string\")\n",
    "else:\n",
    "  print(\"pattern not found\")  \n",
    "\n",
    "# Output: pattern found inside the string"
   ]
  },
  {
   "cell_type": "code",
   "execution_count": 5,
   "id": "eaa04dda",
   "metadata": {},
   "outputs": [
    {
     "name": "stdout",
     "output_type": "stream",
     "text": [
      "801 35\n",
      "801\n",
      "35\n"
     ]
    }
   ],
   "source": [
    "\n",
    "import re\n",
    "\n",
    "string = '39801 356 2102 1111'\n",
    "\n",
    "# Three digit number followed by space followed by two digit number\n",
    "pattern = '(\\d{3}) (\\d{2})'\n",
    "\n",
    "# match variable contains a Match object.\n",
    "match = re.search(pattern, string) \n",
    "\n",
    "if match:\n",
    "  print(match.group())\n",
    "else:\n",
    "  print(\"pattern not found\")\n",
    "\n",
    "print(match.group(1))\n",
    "print(match.group(2))\n",
    "\n",
    "\n",
    "# Output: 801 35"
   ]
  },
  {
   "cell_type": "code",
   "execution_count": 9,
   "id": "6deace7d",
   "metadata": {},
   "outputs": [
    {
     "name": "stdout",
     "output_type": "stream",
     "text": [
      "['\\n', '\\r']\n"
     ]
    }
   ],
   "source": [
    "\n",
    "import re\n",
    "\n",
    "string = '\\n and \\r are escape sequences.'\n",
    "\n",
    "result = re.findall(r'[\\n\\r]', string) \n",
    "print(result)\n",
    "\n",
    "# Output: ['\\n', '\\r']"
   ]
  },
  {
   "cell_type": "code",
   "execution_count": null,
   "id": "6f32a912",
   "metadata": {},
   "outputs": [],
   "source": []
  },
  {
   "cell_type": "code",
   "execution_count": 6,
   "id": "5c5c1cf4",
   "metadata": {},
   "outputs": [
    {
     "name": "stdout",
     "output_type": "stream",
     "text": [
      "[('801', '35'), ('102', '11')]\n"
     ]
    }
   ],
   "source": [
    "\n",
    "import re\n",
    "\n",
    "string = '39801 356 2102 1111'\n",
    "\n",
    "# Three digit number followed by space followed by two digit number\n",
    "pattern = '(\\d{3}) (\\d{2})'\n",
    "\n",
    "# match variable contains a Match object.\n",
    "match = re.findall(pattern, string) \n",
    "\n",
    "print(match)"
   ]
  },
  {
   "cell_type": "code",
   "execution_count": 11,
   "id": "5c3d1e70",
   "metadata": {},
   "outputs": [
    {
     "name": "stdout",
     "output_type": "stream",
     "text": [
      "801 35\n"
     ]
    }
   ],
   "source": [
    "\n",
    "import re\n",
    "\n",
    "string = '39801 356 2102 1111'\n",
    "\n",
    "# Three digit number followed by space followed by two digit number\n",
    "pattern = r'\\d{3} \\d{2}'\n",
    "\n",
    "# match variable contains a Match object.\n",
    "match = re.search(pattern, string) \n",
    "print(match.group())\n"
   ]
  },
  {
   "cell_type": "code",
   "execution_count": 7,
   "id": "73897e2c",
   "metadata": {},
   "outputs": [
    {
     "name": "stdout",
     "output_type": "stream",
     "text": [
      "Help on function search in module re:\n",
      "\n",
      "search(pattern, string, flags=0)\n",
      "    Scan through string looking for a match to the pattern, returning\n",
      "    a Match object, or None if no match was found.\n",
      "\n"
     ]
    }
   ],
   "source": [
    "help(re.search)"
   ]
  },
  {
   "cell_type": "code",
   "execution_count": 9,
   "id": "5442f1bf",
   "metadata": {},
   "outputs": [
    {
     "data": {
      "text/plain": [
       "<re.Match object; span=(2, 8), match='801 35'>"
      ]
     },
     "execution_count": 9,
     "metadata": {},
     "output_type": "execute_result"
    }
   ],
   "source": [
    "match"
   ]
  },
  {
   "cell_type": "code",
   "execution_count": 10,
   "id": "de0de5f7",
   "metadata": {},
   "outputs": [
    {
     "data": {
      "text/plain": [
       "{}"
      ]
     },
     "execution_count": 10,
     "metadata": {},
     "output_type": "execute_result"
    }
   ],
   "source": [
    "match."
   ]
  },
  {
   "cell_type": "code",
   "execution_count": null,
   "id": "3c7b392d",
   "metadata": {},
   "outputs": [],
   "source": []
  }
 ],
 "metadata": {
  "kernelspec": {
   "display_name": "Python 3",
   "language": "python",
   "name": "python3"
  },
  "language_info": {
   "codemirror_mode": {
    "name": "ipython",
    "version": 3
   },
   "file_extension": ".py",
   "mimetype": "text/x-python",
   "name": "python",
   "nbconvert_exporter": "python",
   "pygments_lexer": "ipython3",
   "version": "3.8.8"
  }
 },
 "nbformat": 4,
 "nbformat_minor": 5
}
